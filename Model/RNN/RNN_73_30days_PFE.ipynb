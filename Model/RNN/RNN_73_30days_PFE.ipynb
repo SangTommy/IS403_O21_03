{
 "cells": [
  {
   "cell_type": "markdown",
   "id": "b3590e55-56b7-4e45-92f2-fac63d95ec46",
   "metadata": {},
   "source": [
    "## Import the necessary libraries"
   ]
  },
  {
   "cell_type": "code",
   "execution_count": 1,
   "id": "faf16d27-2172-480e-acc1-751d05760686",
   "metadata": {},
   "outputs": [],
   "source": [
    "import pandas as pd\n",
    "import numpy as np\n",
    "\n",
    "from tensorflow.keras.models import Sequential\n",
    "from tensorflow.keras.layers import Dense, Dropout, LSTM\n",
    "\n",
    "from sklearn.metrics import mean_squared_error, mean_absolute_percentage_error, mean_squared_log_error\n",
    "from sklearn.preprocessing import MinMaxScaler\n",
    "\n",
    "import matplotlib.pyplot as plt\n",
    "%matplotlib inline"
   ]
  },
  {
   "cell_type": "markdown",
   "id": "84c82d77-1118-43f2-9139-c43b959ce250",
   "metadata": {},
   "source": [
    "## Load data"
   ]
  },
  {
   "cell_type": "code",
   "execution_count": 2,
   "id": "d251b15a-2334-4318-84c3-d7ee92347a70",
   "metadata": {},
   "outputs": [],
   "source": [
    "# Load data\n",
    "df = pd.read_csv('PFE-Pfizer.csv')"
   ]
  },
  {
   "cell_type": "markdown",
   "id": "75ca0040-7269-48c5-ae1f-6f0dc1346daf",
   "metadata": {},
   "source": [
    "## Data preprocessing"
   ]
  },
  {
   "cell_type": "code",
   "execution_count": 3,
   "id": "326e1974-065d-4e76-b43b-c864f4aa1792",
   "metadata": {},
   "outputs": [
    {
     "data": {
      "text/html": [
       "<div>\n",
       "<style scoped>\n",
       "    .dataframe tbody tr th:only-of-type {\n",
       "        vertical-align: middle;\n",
       "    }\n",
       "\n",
       "    .dataframe tbody tr th {\n",
       "        vertical-align: top;\n",
       "    }\n",
       "\n",
       "    .dataframe thead th {\n",
       "        text-align: right;\n",
       "    }\n",
       "</style>\n",
       "<table border=\"1\" class=\"dataframe\">\n",
       "  <thead>\n",
       "    <tr style=\"text-align: right;\">\n",
       "      <th></th>\n",
       "      <th>Open</th>\n",
       "      <th>High</th>\n",
       "      <th>Low</th>\n",
       "      <th>Close</th>\n",
       "      <th>Adj Close</th>\n",
       "      <th>Volume</th>\n",
       "    </tr>\n",
       "    <tr>\n",
       "      <th>Date</th>\n",
       "      <th></th>\n",
       "      <th></th>\n",
       "      <th></th>\n",
       "      <th></th>\n",
       "      <th></th>\n",
       "      <th></th>\n",
       "    </tr>\n",
       "  </thead>\n",
       "  <tbody>\n",
       "    <tr>\n",
       "      <th>2019-03-01</th>\n",
       "      <td>41.375713</td>\n",
       "      <td>41.546490</td>\n",
       "      <td>41.072105</td>\n",
       "      <td>41.138519</td>\n",
       "      <td>33.265743</td>\n",
       "      <td>26667781</td>\n",
       "    </tr>\n",
       "    <tr>\n",
       "      <th>2019-03-04</th>\n",
       "      <td>41.214420</td>\n",
       "      <td>41.356735</td>\n",
       "      <td>40.683113</td>\n",
       "      <td>40.863377</td>\n",
       "      <td>33.043259</td>\n",
       "      <td>22805820</td>\n",
       "    </tr>\n",
       "    <tr>\n",
       "      <th>2019-03-05</th>\n",
       "      <td>40.882355</td>\n",
       "      <td>41.034157</td>\n",
       "      <td>40.654648</td>\n",
       "      <td>40.692600</td>\n",
       "      <td>32.905163</td>\n",
       "      <td>26529812</td>\n",
       "    </tr>\n",
       "    <tr>\n",
       "      <th>2019-03-06</th>\n",
       "      <td>40.626186</td>\n",
       "      <td>40.673622</td>\n",
       "      <td>39.487667</td>\n",
       "      <td>39.715370</td>\n",
       "      <td>32.114948</td>\n",
       "      <td>22410359</td>\n",
       "    </tr>\n",
       "    <tr>\n",
       "      <th>2019-03-07</th>\n",
       "      <td>39.715370</td>\n",
       "      <td>39.743832</td>\n",
       "      <td>39.136623</td>\n",
       "      <td>39.269451</td>\n",
       "      <td>31.754372</td>\n",
       "      <td>29046132</td>\n",
       "    </tr>\n",
       "    <tr>\n",
       "      <th>...</th>\n",
       "      <td>...</td>\n",
       "      <td>...</td>\n",
       "      <td>...</td>\n",
       "      <td>...</td>\n",
       "      <td>...</td>\n",
       "      <td>...</td>\n",
       "    </tr>\n",
       "    <tr>\n",
       "      <th>2024-05-24</th>\n",
       "      <td>28.670000</td>\n",
       "      <td>28.990000</td>\n",
       "      <td>28.549999</td>\n",
       "      <td>28.879999</td>\n",
       "      <td>28.879999</td>\n",
       "      <td>22576300</td>\n",
       "    </tr>\n",
       "    <tr>\n",
       "      <th>2024-05-28</th>\n",
       "      <td>28.799999</td>\n",
       "      <td>28.879999</td>\n",
       "      <td>28.129999</td>\n",
       "      <td>28.299999</td>\n",
       "      <td>28.299999</td>\n",
       "      <td>32371200</td>\n",
       "    </tr>\n",
       "    <tr>\n",
       "      <th>2024-05-29</th>\n",
       "      <td>28.160000</td>\n",
       "      <td>28.170000</td>\n",
       "      <td>27.690001</td>\n",
       "      <td>27.820000</td>\n",
       "      <td>27.820000</td>\n",
       "      <td>24241700</td>\n",
       "    </tr>\n",
       "    <tr>\n",
       "      <th>2024-05-30</th>\n",
       "      <td>27.910000</td>\n",
       "      <td>28.200001</td>\n",
       "      <td>27.790001</td>\n",
       "      <td>28.200001</td>\n",
       "      <td>28.200001</td>\n",
       "      <td>23330700</td>\n",
       "    </tr>\n",
       "    <tr>\n",
       "      <th>2024-05-31</th>\n",
       "      <td>28.340000</td>\n",
       "      <td>28.750000</td>\n",
       "      <td>28.240000</td>\n",
       "      <td>28.660000</td>\n",
       "      <td>28.660000</td>\n",
       "      <td>78290100</td>\n",
       "    </tr>\n",
       "  </tbody>\n",
       "</table>\n",
       "<p>1323 rows × 6 columns</p>\n",
       "</div>"
      ],
      "text/plain": [
       "                 Open       High        Low      Close  Adj Close    Volume\n",
       "Date                                                                       \n",
       "2019-03-01  41.375713  41.546490  41.072105  41.138519  33.265743  26667781\n",
       "2019-03-04  41.214420  41.356735  40.683113  40.863377  33.043259  22805820\n",
       "2019-03-05  40.882355  41.034157  40.654648  40.692600  32.905163  26529812\n",
       "2019-03-06  40.626186  40.673622  39.487667  39.715370  32.114948  22410359\n",
       "2019-03-07  39.715370  39.743832  39.136623  39.269451  31.754372  29046132\n",
       "...               ...        ...        ...        ...        ...       ...\n",
       "2024-05-24  28.670000  28.990000  28.549999  28.879999  28.879999  22576300\n",
       "2024-05-28  28.799999  28.879999  28.129999  28.299999  28.299999  32371200\n",
       "2024-05-29  28.160000  28.170000  27.690001  27.820000  27.820000  24241700\n",
       "2024-05-30  27.910000  28.200001  27.790001  28.200001  28.200001  23330700\n",
       "2024-05-31  28.340000  28.750000  28.240000  28.660000  28.660000  78290100\n",
       "\n",
       "[1323 rows x 6 columns]"
      ]
     },
     "execution_count": 3,
     "metadata": {},
     "output_type": "execute_result"
    }
   ],
   "source": [
    "# Convert the 'Date' column to datetime format\n",
    "df['Date'] = pd.to_datetime(df['Date'])\n",
    "\n",
    "# Set the 'Date' column as the index value\n",
    "df.set_index('Date', inplace=True)\n",
    "df"
   ]
  },
  {
   "cell_type": "markdown",
   "id": "25b8da82-7b9e-46ae-8984-6ee73e2aa562",
   "metadata": {},
   "source": [
    "## Scale Data"
   ]
  },
  {
   "cell_type": "code",
   "execution_count": 4,
   "id": "57c62923-a537-47c0-9e25-faaf1fca4b69",
   "metadata": {},
   "outputs": [],
   "source": [
    "# Select 'Close' column\n",
    "data = df['Close'].values"
   ]
  },
  {
   "cell_type": "code",
   "execution_count": 5,
   "id": "1d47b141-90cf-4467-8491-8375ffbcc663",
   "metadata": {},
   "outputs": [],
   "source": [
    "# Scale data\n",
    "scaler = MinMaxScaler(feature_range=(0,1))\n",
    "data_scaled = scaler.fit_transform(data.reshape(-1, 1))"
   ]
  },
  {
   "cell_type": "markdown",
   "id": "8eb6c3df-3ccd-44df-a573-6976ae3ec316",
   "metadata": {},
   "source": [
    "## Split the data into train and test"
   ]
  },
  {
   "cell_type": "code",
   "execution_count": 6,
   "id": "d83443aa-d3fc-4536-bc0e-79ab44e69b6c",
   "metadata": {},
   "outputs": [],
   "source": [
    "# Define the size of train and test\n",
    "train_size = int(len(data_scaled) * 0.7)\n",
    "test_size = len(data_scaled) - train_size\n",
    "\n",
    "# Split the data into train and test set\n",
    "train_data = data_scaled[0 : train_size, :]\n",
    "test_data = data_scaled[train_size : len(data_scaled), :]"
   ]
  },
  {
   "cell_type": "markdown",
   "id": "b33a9ae4-1b8d-45e4-93bb-7c7f993e258f",
   "metadata": {},
   "source": [
    "## Create and add data into X, y"
   ]
  },
  {
   "cell_type": "code",
   "execution_count": 7,
   "id": "6826a4e3-0976-4ce7-842d-6944d16c0752",
   "metadata": {},
   "outputs": [],
   "source": [
    "def add_data(data, sequence_length=1):\n",
    "    X, Y = [], []\n",
    "    for i in range(len(data) - sequence_length):\n",
    "        X.append(data[i : (i + sequence_length), 0])\n",
    "        Y.append(data[i + sequence_length, 0])\n",
    "    return np.array(X), np.array(Y)"
   ]
  },
  {
   "cell_type": "code",
   "execution_count": 8,
   "id": "22057145-3553-4424-a7c9-28ff007a7dd1",
   "metadata": {},
   "outputs": [],
   "source": [
    "# Reshape into X=t,t+1,t+2..t+60 and Y=t+60\n",
    "sequence_length = 60\n",
    "\n",
    "# Get last data for test\n",
    "train_last_windowsize = train_data[-sequence_length:]\n",
    "\n",
    "test_data_extended = np.concatenate((train_last_windowsize, test_data), axis=0)\n",
    "\n",
    "X_train, y_train = add_data(train_data, sequence_length)\n",
    "X_test, y_test = add_data(test_data_extended, sequence_length)\n",
    "\n",
    "# Reshape inputs to [samples, time steps, features]\n",
    "X_train = X_train.reshape(X_train.shape[0], X_train.shape[1], 1)\n",
    "X_test = X_test.reshape(X_test.shape[0], X_test.shape[1], 1)"
   ]
  },
  {
   "cell_type": "markdown",
   "id": "15ad19e9-de1c-4790-83fc-0180ee944536",
   "metadata": {},
   "source": [
    "## Build Model"
   ]
  },
  {
   "cell_type": "code",
   "execution_count": 9,
   "id": "2ad9e126-4933-46a9-ac5a-ae3b0a8bd497",
   "metadata": {},
   "outputs": [
    {
     "name": "stderr",
     "output_type": "stream",
     "text": [
      "D:\\Anaconda\\Anaconda3\\Lib\\site-packages\\keras\\src\\layers\\rnn\\rnn.py:204: UserWarning: Do not pass an `input_shape`/`input_dim` argument to a layer. When using Sequential models, prefer using an `Input(shape)` object as the first layer in the model instead.\n",
      "  super().__init__(**kwargs)\n"
     ]
    }
   ],
   "source": [
    "model = Sequential() # Encapsulate the sequence of the inner layers\n",
    "\n",
    "# 4 LSTM layers\n",
    "model.add(LSTM(units = 50, return_sequences=True, input_shape=(X_train.shape[1],1)))\n",
    "model.add(Dropout(0.2))\n",
    "model.add(LSTM(units = 50, return_sequences=True))\n",
    "model.add(Dropout(0.2))\n",
    "model.add(LSTM(units = 50, return_sequences=True))\n",
    "model.add(Dropout(0.2))\n",
    "model.add(LSTM(units=50))\n",
    "model.add(Dropout(0.2))\n",
    "\n",
    "# 1 Dense layer\n",
    "model.add(Dense(units=1)) \n",
    "\n",
    "# Optimizer\n",
    "model.compile(optimizer = 'adam', loss='mean_squared_error')"
   ]
  },
  {
   "cell_type": "markdown",
   "id": "d6806dde-a2c9-404c-acd0-e487aae94129",
   "metadata": {},
   "source": [
    "## Training Model"
   ]
  },
  {
   "cell_type": "code",
   "execution_count": 10,
   "id": "94f9ce8d-3419-4130-b547-f424ee6e447f",
   "metadata": {},
   "outputs": [
    {
     "name": "stdout",
     "output_type": "stream",
     "text": [
      "Epoch 1/50\n",
      "28/28 - 12s - 444ms/step - loss: 0.0366\n",
      "Epoch 2/50\n",
      "28/28 - 2s - 82ms/step - loss: 0.0095\n",
      "Epoch 3/50\n",
      "28/28 - 2s - 80ms/step - loss: 0.0075\n",
      "Epoch 4/50\n",
      "28/28 - 3s - 116ms/step - loss: 0.0071\n",
      "Epoch 5/50\n",
      "28/28 - 3s - 102ms/step - loss: 0.0064\n",
      "Epoch 6/50\n",
      "28/28 - 3s - 106ms/step - loss: 0.0068\n",
      "Epoch 7/50\n",
      "28/28 - 6s - 204ms/step - loss: 0.0067\n",
      "Epoch 8/50\n",
      "28/28 - 3s - 102ms/step - loss: 0.0062\n",
      "Epoch 9/50\n",
      "28/28 - 3s - 119ms/step - loss: 0.0068\n",
      "Epoch 10/50\n",
      "28/28 - 3s - 113ms/step - loss: 0.0057\n",
      "Epoch 11/50\n",
      "28/28 - 3s - 109ms/step - loss: 0.0053\n",
      "Epoch 12/50\n",
      "28/28 - 3s - 110ms/step - loss: 0.0057\n",
      "Epoch 13/50\n",
      "28/28 - 3s - 105ms/step - loss: 0.0048\n",
      "Epoch 14/50\n",
      "28/28 - 3s - 103ms/step - loss: 0.0054\n",
      "Epoch 15/50\n",
      "28/28 - 3s - 124ms/step - loss: 0.0050\n",
      "Epoch 16/50\n",
      "28/28 - 3s - 108ms/step - loss: 0.0047\n",
      "Epoch 17/50\n",
      "28/28 - 3s - 108ms/step - loss: 0.0045\n",
      "Epoch 18/50\n",
      "28/28 - 3s - 113ms/step - loss: 0.0044\n",
      "Epoch 19/50\n",
      "28/28 - 3s - 109ms/step - loss: 0.0042\n",
      "Epoch 20/50\n",
      "28/28 - 3s - 115ms/step - loss: 0.0043\n",
      "Epoch 21/50\n",
      "28/28 - 3s - 106ms/step - loss: 0.0045\n",
      "Epoch 22/50\n",
      "28/28 - 3s - 107ms/step - loss: 0.0037\n",
      "Epoch 23/50\n",
      "28/28 - 3s - 106ms/step - loss: 0.0036\n",
      "Epoch 24/50\n",
      "28/28 - 3s - 108ms/step - loss: 0.0038\n",
      "Epoch 25/50\n",
      "28/28 - 3s - 114ms/step - loss: 0.0038\n",
      "Epoch 26/50\n",
      "28/28 - 3s - 109ms/step - loss: 0.0034\n",
      "Epoch 27/50\n",
      "28/28 - 3s - 117ms/step - loss: 0.0037\n",
      "Epoch 28/50\n",
      "28/28 - 3s - 116ms/step - loss: 0.0037\n",
      "Epoch 29/50\n",
      "28/28 - 5s - 191ms/step - loss: 0.0040\n",
      "Epoch 30/50\n",
      "28/28 - 5s - 181ms/step - loss: 0.0077\n",
      "Epoch 31/50\n",
      "28/28 - 3s - 108ms/step - loss: 0.0040\n",
      "Epoch 32/50\n",
      "28/28 - 3s - 105ms/step - loss: 0.0031\n",
      "Epoch 33/50\n",
      "28/28 - 3s - 104ms/step - loss: 0.0031\n",
      "Epoch 34/50\n",
      "28/28 - 3s - 105ms/step - loss: 0.0029\n",
      "Epoch 35/50\n",
      "28/28 - 5s - 181ms/step - loss: 0.0032\n",
      "Epoch 36/50\n",
      "28/28 - 3s - 92ms/step - loss: 0.0027\n",
      "Epoch 37/50\n",
      "28/28 - 3s - 103ms/step - loss: 0.0032\n",
      "Epoch 38/50\n",
      "28/28 - 3s - 106ms/step - loss: 0.0026\n",
      "Epoch 39/50\n",
      "28/28 - 3s - 102ms/step - loss: 0.0030\n",
      "Epoch 40/50\n",
      "28/28 - 3s - 102ms/step - loss: 0.0031\n",
      "Epoch 41/50\n",
      "28/28 - 3s - 111ms/step - loss: 0.0033\n",
      "Epoch 42/50\n",
      "28/28 - 3s - 98ms/step - loss: 0.0026\n",
      "Epoch 43/50\n",
      "28/28 - 3s - 100ms/step - loss: 0.0028\n",
      "Epoch 44/50\n",
      "28/28 - 3s - 92ms/step - loss: 0.0028\n",
      "Epoch 45/50\n",
      "28/28 - 3s - 107ms/step - loss: 0.0028\n",
      "Epoch 46/50\n",
      "28/28 - 3s - 105ms/step - loss: 0.0026\n",
      "Epoch 47/50\n",
      "28/28 - 3s - 104ms/step - loss: 0.0024\n",
      "Epoch 48/50\n",
      "28/28 - 3s - 92ms/step - loss: 0.0028\n",
      "Epoch 49/50\n",
      "28/28 - 2s - 85ms/step - loss: 0.0025\n",
      "Epoch 50/50\n",
      "28/28 - 3s - 102ms/step - loss: 0.0024\n"
     ]
    }
   ],
   "source": [
    "history = model.fit(X_train, y_train, epochs=50, batch_size=32, verbose=2)"
   ]
  },
  {
   "cell_type": "markdown",
   "id": "f42e8f27-b970-4800-8efa-386f8397c7d5",
   "metadata": {},
   "source": [
    "## Predict and Inverse Transform the Predictions"
   ]
  },
  {
   "cell_type": "code",
   "execution_count": 11,
   "id": "fd46526b-98ce-4507-a83a-44e7217d11b4",
   "metadata": {},
   "outputs": [
    {
     "name": "stdout",
     "output_type": "stream",
     "text": [
      "\u001b[1m13/13\u001b[0m \u001b[32m━━━━━━━━━━━━━━━━━━━━\u001b[0m\u001b[37m\u001b[0m \u001b[1m4s\u001b[0m 226ms/step\n"
     ]
    }
   ],
   "source": [
    "y_pred = model.predict(X_test)\n",
    "\n",
    "# Inverse transform the predictions\n",
    "y_pred = scaler.inverse_transform(y_pred)\n",
    "y_test = scaler.inverse_transform(y_test.reshape(-1, 1))\n",
    "train_data = scaler.inverse_transform(train_data)\n",
    "test_data = scaler.inverse_transform(test_data)"
   ]
  },
  {
   "cell_type": "markdown",
   "id": "1409b5dd-51b7-4f78-ad03-8728be7c8f8f",
   "metadata": {},
   "source": [
    "## Calculate the error of the model"
   ]
  },
  {
   "cell_type": "code",
   "execution_count": 12,
   "id": "a13a24cb-1ff4-4fca-a037-cfe5c147f4d1",
   "metadata": {},
   "outputs": [
    {
     "name": "stdout",
     "output_type": "stream",
     "text": [
      "MAPE on Test dataset:  0.024025398099452477\n",
      "RMSE on Test dataset:  1.1716857037812318\n",
      "MSLE on Test dataset:  0.0008556376944713778\n",
      "MAE on Test dataset:  0.8908109151605181\n"
     ]
    }
   ],
   "source": [
    "from sklearn.metrics import mean_squared_error, mean_absolute_percentage_error, mean_squared_log_error, mean_absolute_error\n",
    "# Evaluate the accuracy of test\n",
    "\n",
    "test_mape = mean_absolute_percentage_error(y_test, y_pred)\n",
    "test_mse = mean_squared_error(y_test, y_pred)\n",
    "test_rmse = np.sqrt(test_mse)\n",
    "test_mae = mean_absolute_error(y_test, y_pred)\n",
    "test_msle = mean_squared_log_error(y_test, y_pred)\n",
    "\n",
    "\n",
    "print(f\"MAPE on Test dataset: \", test_mape)\n",
    "print(f\"RMSE on Test dataset: \", test_rmse)\n",
    "print(f\"MSLE on Test dataset: \", test_msle)\n",
    "print(f\"MAE on Test dataset: \", test_mae)"
   ]
  },
  {
   "cell_type": "markdown",
   "id": "826e9db4-0d68-4595-ae76-2daddb872e8d",
   "metadata": {},
   "source": [
    "## Predict Close price for 30 next days"
   ]
  },
  {
   "cell_type": "code",
   "execution_count": 13,
   "id": "a155c9f6-fee8-4075-ba0c-869d8828e959",
   "metadata": {},
   "outputs": [
    {
     "name": "stdout",
     "output_type": "stream",
     "text": [
      "\u001b[1m1/1\u001b[0m \u001b[32m━━━━━━━━━━━━━━━━━━━━\u001b[0m\u001b[37m\u001b[0m \u001b[1m0s\u001b[0m 120ms/step\n",
      "\u001b[1m1/1\u001b[0m \u001b[32m━━━━━━━━━━━━━━━━━━━━\u001b[0m\u001b[37m\u001b[0m \u001b[1m0s\u001b[0m 141ms/step\n",
      "\u001b[1m1/1\u001b[0m \u001b[32m━━━━━━━━━━━━━━━━━━━━\u001b[0m\u001b[37m\u001b[0m \u001b[1m0s\u001b[0m 168ms/step\n",
      "\u001b[1m1/1\u001b[0m \u001b[32m━━━━━━━━━━━━━━━━━━━━\u001b[0m\u001b[37m\u001b[0m \u001b[1m0s\u001b[0m 91ms/step\n",
      "\u001b[1m1/1\u001b[0m \u001b[32m━━━━━━━━━━━━━━━━━━━━\u001b[0m\u001b[37m\u001b[0m \u001b[1m0s\u001b[0m 87ms/step\n",
      "\u001b[1m1/1\u001b[0m \u001b[32m━━━━━━━━━━━━━━━━━━━━\u001b[0m\u001b[37m\u001b[0m \u001b[1m0s\u001b[0m 66ms/step\n",
      "\u001b[1m1/1\u001b[0m \u001b[32m━━━━━━━━━━━━━━━━━━━━\u001b[0m\u001b[37m\u001b[0m \u001b[1m0s\u001b[0m 86ms/step\n",
      "\u001b[1m1/1\u001b[0m \u001b[32m━━━━━━━━━━━━━━━━━━━━\u001b[0m\u001b[37m\u001b[0m \u001b[1m0s\u001b[0m 166ms/step\n",
      "\u001b[1m1/1\u001b[0m \u001b[32m━━━━━━━━━━━━━━━━━━━━\u001b[0m\u001b[37m\u001b[0m \u001b[1m0s\u001b[0m 90ms/step\n",
      "\u001b[1m1/1\u001b[0m \u001b[32m━━━━━━━━━━━━━━━━━━━━\u001b[0m\u001b[37m\u001b[0m \u001b[1m0s\u001b[0m 76ms/step\n",
      "\u001b[1m1/1\u001b[0m \u001b[32m━━━━━━━━━━━━━━━━━━━━\u001b[0m\u001b[37m\u001b[0m \u001b[1m0s\u001b[0m 56ms/step\n",
      "\u001b[1m1/1\u001b[0m \u001b[32m━━━━━━━━━━━━━━━━━━━━\u001b[0m\u001b[37m\u001b[0m \u001b[1m0s\u001b[0m 55ms/step\n",
      "\u001b[1m1/1\u001b[0m \u001b[32m━━━━━━━━━━━━━━━━━━━━\u001b[0m\u001b[37m\u001b[0m \u001b[1m0s\u001b[0m 64ms/step\n",
      "\u001b[1m1/1\u001b[0m \u001b[32m━━━━━━━━━━━━━━━━━━━━\u001b[0m\u001b[37m\u001b[0m \u001b[1m0s\u001b[0m 69ms/step\n",
      "\u001b[1m1/1\u001b[0m \u001b[32m━━━━━━━━━━━━━━━━━━━━\u001b[0m\u001b[37m\u001b[0m \u001b[1m0s\u001b[0m 72ms/step\n",
      "\u001b[1m1/1\u001b[0m \u001b[32m━━━━━━━━━━━━━━━━━━━━\u001b[0m\u001b[37m\u001b[0m \u001b[1m0s\u001b[0m 70ms/step\n",
      "\u001b[1m1/1\u001b[0m \u001b[32m━━━━━━━━━━━━━━━━━━━━\u001b[0m\u001b[37m\u001b[0m \u001b[1m0s\u001b[0m 57ms/step\n",
      "\u001b[1m1/1\u001b[0m \u001b[32m━━━━━━━━━━━━━━━━━━━━\u001b[0m\u001b[37m\u001b[0m \u001b[1m0s\u001b[0m 79ms/step\n",
      "\u001b[1m1/1\u001b[0m \u001b[32m━━━━━━━━━━━━━━━━━━━━\u001b[0m\u001b[37m\u001b[0m \u001b[1m0s\u001b[0m 68ms/step\n",
      "\u001b[1m1/1\u001b[0m \u001b[32m━━━━━━━━━━━━━━━━━━━━\u001b[0m\u001b[37m\u001b[0m \u001b[1m0s\u001b[0m 65ms/step\n",
      "\u001b[1m1/1\u001b[0m \u001b[32m━━━━━━━━━━━━━━━━━━━━\u001b[0m\u001b[37m\u001b[0m \u001b[1m0s\u001b[0m 62ms/step\n",
      "\u001b[1m1/1\u001b[0m \u001b[32m━━━━━━━━━━━━━━━━━━━━\u001b[0m\u001b[37m\u001b[0m \u001b[1m0s\u001b[0m 68ms/step\n",
      "\u001b[1m1/1\u001b[0m \u001b[32m━━━━━━━━━━━━━━━━━━━━\u001b[0m\u001b[37m\u001b[0m \u001b[1m0s\u001b[0m 71ms/step\n",
      "\u001b[1m1/1\u001b[0m \u001b[32m━━━━━━━━━━━━━━━━━━━━\u001b[0m\u001b[37m\u001b[0m \u001b[1m0s\u001b[0m 52ms/step\n",
      "\u001b[1m1/1\u001b[0m \u001b[32m━━━━━━━━━━━━━━━━━━━━\u001b[0m\u001b[37m\u001b[0m \u001b[1m0s\u001b[0m 67ms/step\n",
      "\u001b[1m1/1\u001b[0m \u001b[32m━━━━━━━━━━━━━━━━━━━━\u001b[0m\u001b[37m\u001b[0m \u001b[1m0s\u001b[0m 74ms/step\n",
      "\u001b[1m1/1\u001b[0m \u001b[32m━━━━━━━━━━━━━━━━━━━━\u001b[0m\u001b[37m\u001b[0m \u001b[1m0s\u001b[0m 69ms/step\n",
      "\u001b[1m1/1\u001b[0m \u001b[32m━━━━━━━━━━━━━━━━━━━━\u001b[0m\u001b[37m\u001b[0m \u001b[1m0s\u001b[0m 59ms/step\n",
      "\u001b[1m1/1\u001b[0m \u001b[32m━━━━━━━━━━━━━━━━━━━━\u001b[0m\u001b[37m\u001b[0m \u001b[1m0s\u001b[0m 67ms/step\n",
      "\u001b[1m1/1\u001b[0m \u001b[32m━━━━━━━━━━━━━━━━━━━━\u001b[0m\u001b[37m\u001b[0m \u001b[1m0s\u001b[0m 64ms/step\n"
     ]
    }
   ],
   "source": [
    "# Select the last day of current index\n",
    "last_date = df.index[-1]\n",
    "\n",
    "# Add a new day after the last day\n",
    "next_date = last_date + pd.DateOffset(days=1)\n",
    "\n",
    "# Generate a list of index only starting from the next day in 30 days\n",
    "index_next_30_days = pd.date_range(start=next_date, periods=30).tolist()\n",
    "\n",
    "# Predict Close price for 30 next days\n",
    "last_sequence_days = data_scaled[-sequence_length:].reshape(1, -1, 1)\n",
    "\n",
    "y_next_30_days = []\n",
    "\n",
    "for i in range(30):\n",
    "    # Predict Close price for next day\n",
    "    next_day_pred = model.predict(last_sequence_days)\n",
    "    \n",
    "    # Save the predict value\n",
    "    y_next_30_days.append(next_day_pred[0][0])\n",
    "    \n",
    "    # Update information of the next day\n",
    "    last_sequence_days = np.concatenate([last_sequence_days[:, 1:, :], next_day_pred.reshape(1, 1, 1)], axis=1)"
   ]
  },
  {
   "cell_type": "code",
   "execution_count": 14,
   "id": "31e664ea-12e2-4edc-a161-d9f8c3dd4d44",
   "metadata": {},
   "outputs": [
    {
     "name": "stdout",
     "output_type": "stream",
     "text": [
      "[28.42403  28.305695 28.220135 28.166355 28.135918 28.119354 28.109581\n",
      " 28.102688 28.097279 28.093346 28.091345 28.09161  28.09417  28.098772\n",
      " 28.105    28.112392 28.120543 28.129105 28.137823 28.146507 28.155014\n",
      " 28.163237 28.171095 28.178532 28.185501 28.19198  28.197962 28.203445\n",
      " 28.208445 28.212982]\n"
     ]
    }
   ],
   "source": [
    "# Show the result of predict 30 next days \n",
    "y_next_30_days = scaler.inverse_transform(np.array(y_next_30_days).reshape(-1, 1))\n",
    "print(y_next_30_days.flatten())"
   ]
  },
  {
   "cell_type": "markdown",
   "id": "8786906f-caf8-415a-a3fb-cf5f8270b0f8",
   "metadata": {},
   "source": [
    "## Model visualization"
   ]
  },
  {
   "cell_type": "code",
   "execution_count": 15,
   "id": "fcea2a4d-3499-47dc-80a7-7fbcee6e6927",
   "metadata": {},
   "outputs": [
    {
     "data": {
      "image/png": "[encoded data removed]",
      "text/plain": [
       "<Figure size 1200x500 with 1 Axes>"
      ]
     },
     "metadata": {},
     "output_type": "display_data"
    }
   ],
   "source": [
    "plt.figure(figsize=(12, 5))\n",
    "\n",
    "# Train set\n",
    "plt.plot(df[:train_size].index, train_data)\n",
    "\n",
    "# Test set\n",
    "plt.plot(df[train_size:].index, test_data)\n",
    "\n",
    "# Predict in test set\n",
    "plt.plot(df[train_size:].index, y_pred)\n",
    "\n",
    "# Predict 30 next days\n",
    "plt.plot(index_next_30_days, y_next_30_days)\n",
    "\n",
    "plt.legend(['Train', 'Test', 'Predict Test', 'Predict30days'])\n",
    "plt.grid()\n",
    "plt.title(\"PFE Closing Price Data With Ratio 7_3\")\n",
    "plt.xlabel(\"Date\")\n",
    "plt.ylabel(\"Close value\")\n",
    "plt.savefig('Image/RNN_73_30days_PFE.png')\n",
    "plt.show()"
   ]
  },
  {
   "cell_type": "code",
   "execution_count": null,
   "id": "f399ed86-7370-47ce-bb6e-53cc76338705",
   "metadata": {},
   "outputs": [],
   "source": []
  }
 ],
 "metadata": {
  "kernelspec": {
   "display_name": "Python 3 (ipykernel)",
   "language": "python",
   "name": "python3"
  },
  "language_info": {
   "codemirror_mode": {
    "name": "ipython",
    "version": 3
   },
   "file_extension": ".py",
   "mimetype": "text/x-python",
   "name": "python",
   "nbconvert_exporter": "python",
   "pygments_lexer": "ipython3",
   "version": "3.11.5"
  }
 },
 "nbformat": 4,
 "nbformat_minor": 5
}
