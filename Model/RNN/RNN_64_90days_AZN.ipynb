{
 "cells": [
  {
   "cell_type": "markdown",
   "id": "b3590e55-56b7-4e45-92f2-fac63d95ec46",
   "metadata": {},
   "source": [
    "## Import the necessary libraries"
   ]
  },
  {
   "cell_type": "code",
   "execution_count": 1,
   "id": "faf16d27-2172-480e-acc1-751d05760686",
   "metadata": {},
   "outputs": [],
   "source": [
    "import pandas as pd\n",
    "import numpy as np\n",
    "\n",
    "from tensorflow.keras.models import Sequential\n",
    "from tensorflow.keras.layers import Dense, Dropout, LSTM\n",
    "\n",
    "from sklearn.metrics import mean_squared_error, mean_absolute_percentage_error, mean_squared_log_error\n",
    "from sklearn.preprocessing import MinMaxScaler\n",
    "\n",
    "import matplotlib.pyplot as plt\n",
    "%matplotlib inline"
   ]
  },
  {
   "cell_type": "markdown",
   "id": "84c82d77-1118-43f2-9139-c43b959ce250",
   "metadata": {},
   "source": [
    "## Load data"
   ]
  },
  {
   "cell_type": "code",
   "execution_count": 2,
   "id": "d251b15a-2334-4318-84c3-d7ee92347a70",
   "metadata": {},
   "outputs": [],
   "source": [
    "# Load data\n",
    "df = pd.read_csv('AZN-AstraZeneca.csv')"
   ]
  },
  {
   "cell_type": "markdown",
   "id": "75ca0040-7269-48c5-ae1f-6f0dc1346daf",
   "metadata": {},
   "source": [
    "## Data preprocessing"
   ]
  },
  {
   "cell_type": "code",
   "execution_count": 3,
   "id": "326e1974-065d-4e76-b43b-c864f4aa1792",
   "metadata": {},
   "outputs": [
    {
     "data": {
      "text/html": [
       "<div>\n",
       "<style scoped>\n",
       "    .dataframe tbody tr th:only-of-type {\n",
       "        vertical-align: middle;\n",
       "    }\n",
       "\n",
       "    .dataframe tbody tr th {\n",
       "        vertical-align: top;\n",
       "    }\n",
       "\n",
       "    .dataframe thead th {\n",
       "        text-align: right;\n",
       "    }\n",
       "</style>\n",
       "<table border=\"1\" class=\"dataframe\">\n",
       "  <thead>\n",
       "    <tr style=\"text-align: right;\">\n",
       "      <th></th>\n",
       "      <th>Open</th>\n",
       "      <th>High</th>\n",
       "      <th>Low</th>\n",
       "      <th>Close</th>\n",
       "      <th>Adj Close</th>\n",
       "      <th>Volume</th>\n",
       "    </tr>\n",
       "    <tr>\n",
       "      <th>Date</th>\n",
       "      <th></th>\n",
       "      <th></th>\n",
       "      <th></th>\n",
       "      <th></th>\n",
       "      <th></th>\n",
       "      <th></th>\n",
       "    </tr>\n",
       "  </thead>\n",
       "  <tbody>\n",
       "    <tr>\n",
       "      <th>2019-03-01</th>\n",
       "      <td>41.610001</td>\n",
       "      <td>41.759998</td>\n",
       "      <td>41.480000</td>\n",
       "      <td>41.759998</td>\n",
       "      <td>36.845531</td>\n",
       "      <td>4590000</td>\n",
       "    </tr>\n",
       "    <tr>\n",
       "      <th>2019-03-04</th>\n",
       "      <td>41.730000</td>\n",
       "      <td>41.810001</td>\n",
       "      <td>41.389999</td>\n",
       "      <td>41.689999</td>\n",
       "      <td>36.783772</td>\n",
       "      <td>3948200</td>\n",
       "    </tr>\n",
       "    <tr>\n",
       "      <th>2019-03-05</th>\n",
       "      <td>41.560001</td>\n",
       "      <td>42.610001</td>\n",
       "      <td>41.560001</td>\n",
       "      <td>42.310001</td>\n",
       "      <td>37.330799</td>\n",
       "      <td>5668200</td>\n",
       "    </tr>\n",
       "    <tr>\n",
       "      <th>2019-03-06</th>\n",
       "      <td>42.360001</td>\n",
       "      <td>42.389999</td>\n",
       "      <td>41.930000</td>\n",
       "      <td>42.029999</td>\n",
       "      <td>37.083755</td>\n",
       "      <td>2490000</td>\n",
       "    </tr>\n",
       "    <tr>\n",
       "      <th>2019-03-07</th>\n",
       "      <td>41.610001</td>\n",
       "      <td>41.770000</td>\n",
       "      <td>41.330002</td>\n",
       "      <td>41.660000</td>\n",
       "      <td>36.757294</td>\n",
       "      <td>5283900</td>\n",
       "    </tr>\n",
       "    <tr>\n",
       "      <th>...</th>\n",
       "      <td>...</td>\n",
       "      <td>...</td>\n",
       "      <td>...</td>\n",
       "      <td>...</td>\n",
       "      <td>...</td>\n",
       "      <td>...</td>\n",
       "    </tr>\n",
       "    <tr>\n",
       "      <th>2024-05-24</th>\n",
       "      <td>78.129997</td>\n",
       "      <td>78.889999</td>\n",
       "      <td>78.080002</td>\n",
       "      <td>78.540001</td>\n",
       "      <td>78.540001</td>\n",
       "      <td>3566600</td>\n",
       "    </tr>\n",
       "    <tr>\n",
       "      <th>2024-05-28</th>\n",
       "      <td>77.779999</td>\n",
       "      <td>77.820000</td>\n",
       "      <td>76.489998</td>\n",
       "      <td>76.620003</td>\n",
       "      <td>76.620003</td>\n",
       "      <td>4199000</td>\n",
       "    </tr>\n",
       "    <tr>\n",
       "      <th>2024-05-29</th>\n",
       "      <td>76.129997</td>\n",
       "      <td>76.510002</td>\n",
       "      <td>75.800003</td>\n",
       "      <td>76.080002</td>\n",
       "      <td>76.080002</td>\n",
       "      <td>4653800</td>\n",
       "    </tr>\n",
       "    <tr>\n",
       "      <th>2024-05-30</th>\n",
       "      <td>76.620003</td>\n",
       "      <td>76.980003</td>\n",
       "      <td>76.459999</td>\n",
       "      <td>76.769997</td>\n",
       "      <td>76.769997</td>\n",
       "      <td>3274400</td>\n",
       "    </tr>\n",
       "    <tr>\n",
       "      <th>2024-05-31</th>\n",
       "      <td>77.309998</td>\n",
       "      <td>78.120003</td>\n",
       "      <td>77.089996</td>\n",
       "      <td>78.019997</td>\n",
       "      <td>78.019997</td>\n",
       "      <td>4782800</td>\n",
       "    </tr>\n",
       "  </tbody>\n",
       "</table>\n",
       "<p>1323 rows × 6 columns</p>\n",
       "</div>"
      ],
      "text/plain": [
       "                 Open       High        Low      Close  Adj Close   Volume\n",
       "Date                                                                      \n",
       "2019-03-01  41.610001  41.759998  41.480000  41.759998  36.845531  4590000\n",
       "2019-03-04  41.730000  41.810001  41.389999  41.689999  36.783772  3948200\n",
       "2019-03-05  41.560001  42.610001  41.560001  42.310001  37.330799  5668200\n",
       "2019-03-06  42.360001  42.389999  41.930000  42.029999  37.083755  2490000\n",
       "2019-03-07  41.610001  41.770000  41.330002  41.660000  36.757294  5283900\n",
       "...               ...        ...        ...        ...        ...      ...\n",
       "2024-05-24  78.129997  78.889999  78.080002  78.540001  78.540001  3566600\n",
       "2024-05-28  77.779999  77.820000  76.489998  76.620003  76.620003  4199000\n",
       "2024-05-29  76.129997  76.510002  75.800003  76.080002  76.080002  4653800\n",
       "2024-05-30  76.620003  76.980003  76.459999  76.769997  76.769997  3274400\n",
       "2024-05-31  77.309998  78.120003  77.089996  78.019997  78.019997  4782800\n",
       "\n",
       "[1323 rows x 6 columns]"
      ]
     },
     "execution_count": 3,
     "metadata": {},
     "output_type": "execute_result"
    }
   ],
   "source": [
    "# Convert the 'Date' column to datetime format\n",
    "df['Date'] = pd.to_datetime(df['Date'])\n",
    "\n",
    "# Set the 'Date' column as the index value\n",
    "df.set_index('Date', inplace=True)\n",
    "df"
   ]
  },
  {
   "cell_type": "markdown",
   "id": "25b8da82-7b9e-46ae-8984-6ee73e2aa562",
   "metadata": {},
   "source": [
    "## Scale Data"
   ]
  },
  {
   "cell_type": "code",
   "execution_count": 4,
   "id": "57c62923-a537-47c0-9e25-faaf1fca4b69",
   "metadata": {},
   "outputs": [],
   "source": [
    "# Select 'Close' column\n",
    "data = df['Close'].values"
   ]
  },
  {
   "cell_type": "code",
   "execution_count": 5,
   "id": "1d47b141-90cf-4467-8491-8375ffbcc663",
   "metadata": {},
   "outputs": [],
   "source": [
    "# Scale data\n",
    "scaler = MinMaxScaler(feature_range=(0,1))\n",
    "data_scaled = scaler.fit_transform(data.reshape(-1, 1))"
   ]
  },
  {
   "cell_type": "markdown",
   "id": "8eb6c3df-3ccd-44df-a573-6976ae3ec316",
   "metadata": {},
   "source": [
    "## Split the data into train and test"
   ]
  },
  {
   "cell_type": "code",
   "execution_count": 6,
   "id": "d83443aa-d3fc-4536-bc0e-79ab44e69b6c",
   "metadata": {},
   "outputs": [],
   "source": [
    "# Define the size of train and test\n",
    "train_size = int(len(data_scaled) * 0.6)\n",
    "test_size = len(data_scaled) - train_size\n",
    "\n",
    "# Split the data into train and test set\n",
    "train_data = data_scaled[0 : train_size, :]\n",
    "test_data = data_scaled[train_size : len(data_scaled), :]"
   ]
  },
  {
   "cell_type": "markdown",
   "id": "b33a9ae4-1b8d-45e4-93bb-7c7f993e258f",
   "metadata": {},
   "source": [
    "## Create and add data into X, y"
   ]
  },
  {
   "cell_type": "code",
   "execution_count": 7,
   "id": "6826a4e3-0976-4ce7-842d-6944d16c0752",
   "metadata": {},
   "outputs": [],
   "source": [
    "def add_data(data, sequence_length=1):\n",
    "    X, Y = [], []\n",
    "    for i in range(len(data) - sequence_length):\n",
    "        X.append(data[i : (i + sequence_length), 0])\n",
    "        Y.append(data[i + sequence_length, 0])\n",
    "    return np.array(X), np.array(Y)"
   ]
  },
  {
   "cell_type": "code",
   "execution_count": 8,
   "id": "22057145-3553-4424-a7c9-28ff007a7dd1",
   "metadata": {},
   "outputs": [],
   "source": [
    "# Reshape into X=t,t+1,t+2..t+60 and Y=t+60\n",
    "sequence_length = 60\n",
    "\n",
    "# Get last data for test\n",
    "train_last_windowsize = train_data[-sequence_length:]\n",
    "\n",
    "test_data_extended = np.concatenate((train_last_windowsize, test_data), axis=0)\n",
    "\n",
    "X_train, y_train = add_data(train_data, sequence_length)\n",
    "X_test, y_test = add_data(test_data_extended, sequence_length)\n",
    "\n",
    "# Reshape inputs to [samples, time steps, features]\n",
    "X_train = X_train.reshape(X_train.shape[0], X_train.shape[1], 1)\n",
    "X_test = X_test.reshape(X_test.shape[0], X_test.shape[1], 1)"
   ]
  },
  {
   "cell_type": "markdown",
   "id": "15ad19e9-de1c-4790-83fc-0180ee944536",
   "metadata": {},
   "source": [
    "## Build Model"
   ]
  },
  {
   "cell_type": "code",
   "execution_count": 9,
   "id": "2ad9e126-4933-46a9-ac5a-ae3b0a8bd497",
   "metadata": {},
   "outputs": [
    {
     "name": "stderr",
     "output_type": "stream",
     "text": [
      "D:\\Anaconda\\Anaconda3\\Lib\\site-packages\\keras\\src\\layers\\rnn\\rnn.py:204: UserWarning: Do not pass an `input_shape`/`input_dim` argument to a layer. When using Sequential models, prefer using an `Input(shape)` object as the first layer in the model instead.\n",
      "  super().__init__(**kwargs)\n"
     ]
    }
   ],
   "source": [
    "model = Sequential() # Encapsulate the sequence of the inner layers\n",
    "\n",
    "# 4 LSTM layers\n",
    "model.add(LSTM(units = 50, return_sequences=True, input_shape=(X_train.shape[1],1)))\n",
    "model.add(Dropout(0.2))\n",
    "model.add(LSTM(units = 50, return_sequences=True))\n",
    "model.add(Dropout(0.2))\n",
    "model.add(LSTM(units = 50, return_sequences=True))\n",
    "model.add(Dropout(0.2))\n",
    "model.add(LSTM(units=50))\n",
    "model.add(Dropout(0.2))\n",
    "\n",
    "# 1 Dense layer\n",
    "model.add(Dense(units=1)) \n",
    "\n",
    "# Optimizer\n",
    "model.compile(optimizer = 'adam', loss='mean_squared_error')"
   ]
  },
  {
   "cell_type": "markdown",
   "id": "d6806dde-a2c9-404c-acd0-e487aae94129",
   "metadata": {},
   "source": [
    "## Training Model"
   ]
  },
  {
   "cell_type": "code",
   "execution_count": 10,
   "id": "94f9ce8d-3419-4130-b547-f424ee6e447f",
   "metadata": {},
   "outputs": [
    {
     "name": "stdout",
     "output_type": "stream",
     "text": [
      "Epoch 1/50\n",
      "23/23 - 10s - 435ms/step - loss: 0.0271\n",
      "Epoch 2/50\n",
      "23/23 - 2s - 91ms/step - loss: 0.0070\n",
      "Epoch 3/50\n",
      "23/23 - 2s - 94ms/step - loss: 0.0054\n",
      "Epoch 4/50\n",
      "23/23 - 2s - 93ms/step - loss: 0.0047\n",
      "Epoch 5/50\n",
      "23/23 - 2s - 92ms/step - loss: 0.0045\n",
      "Epoch 6/50\n",
      "23/23 - 2s - 94ms/step - loss: 0.0044\n",
      "Epoch 7/50\n",
      "23/23 - 2s - 95ms/step - loss: 0.0045\n",
      "Epoch 8/50\n",
      "23/23 - 3s - 112ms/step - loss: 0.0049\n",
      "Epoch 9/50\n",
      "23/23 - 3s - 143ms/step - loss: 0.0046\n",
      "Epoch 10/50\n",
      "23/23 - 4s - 168ms/step - loss: 0.0042\n",
      "Epoch 11/50\n",
      "23/23 - 3s - 128ms/step - loss: 0.0038\n",
      "Epoch 12/50\n",
      "23/23 - 4s - 159ms/step - loss: 0.0035\n",
      "Epoch 13/50\n",
      "23/23 - 4s - 154ms/step - loss: 0.0036\n",
      "Epoch 14/50\n",
      "23/23 - 3s - 110ms/step - loss: 0.0036\n",
      "Epoch 15/50\n",
      "23/23 - 5s - 232ms/step - loss: 0.0033\n",
      "Epoch 16/50\n",
      "23/23 - 3s - 121ms/step - loss: 0.0032\n",
      "Epoch 17/50\n",
      "23/23 - 3s - 119ms/step - loss: 0.0030\n",
      "Epoch 18/50\n",
      "23/23 - 3s - 112ms/step - loss: 0.0034\n",
      "Epoch 19/50\n",
      "23/23 - 2s - 99ms/step - loss: 0.0031\n",
      "Epoch 20/50\n",
      "23/23 - 3s - 124ms/step - loss: 0.0036\n",
      "Epoch 21/50\n",
      "23/23 - 3s - 113ms/step - loss: 0.0030\n",
      "Epoch 22/50\n",
      "23/23 - 3s - 118ms/step - loss: 0.0032\n",
      "Epoch 23/50\n",
      "23/23 - 3s - 115ms/step - loss: 0.0032\n",
      "Epoch 24/50\n",
      "23/23 - 3s - 121ms/step - loss: 0.0030\n",
      "Epoch 25/50\n",
      "23/23 - 3s - 129ms/step - loss: 0.0028\n",
      "Epoch 26/50\n",
      "23/23 - 4s - 152ms/step - loss: 0.0027\n",
      "Epoch 27/50\n",
      "23/23 - 4s - 169ms/step - loss: 0.0028\n",
      "Epoch 28/50\n",
      "23/23 - 3s - 142ms/step - loss: 0.0028\n",
      "Epoch 29/50\n",
      "23/23 - 4s - 154ms/step - loss: 0.0033\n",
      "Epoch 30/50\n",
      "23/23 - 5s - 209ms/step - loss: 0.0028\n",
      "Epoch 31/50\n",
      "23/23 - 3s - 116ms/step - loss: 0.0025\n",
      "Epoch 32/50\n",
      "23/23 - 3s - 124ms/step - loss: 0.0026\n",
      "Epoch 33/50\n",
      "23/23 - 3s - 111ms/step - loss: 0.0026\n",
      "Epoch 34/50\n",
      "23/23 - 3s - 118ms/step - loss: 0.0029\n",
      "Epoch 35/50\n",
      "23/23 - 3s - 116ms/step - loss: 0.0026\n",
      "Epoch 36/50\n",
      "23/23 - 3s - 124ms/step - loss: 0.0027\n",
      "Epoch 37/50\n",
      "23/23 - 3s - 131ms/step - loss: 0.0024\n",
      "Epoch 38/50\n",
      "23/23 - 5s - 203ms/step - loss: 0.0022\n",
      "Epoch 39/50\n",
      "23/23 - 2s - 107ms/step - loss: 0.0022\n",
      "Epoch 40/50\n",
      "23/23 - 3s - 112ms/step - loss: 0.0024\n",
      "Epoch 41/50\n",
      "23/23 - 3s - 118ms/step - loss: 0.0024\n",
      "Epoch 42/50\n",
      "23/23 - 2s - 105ms/step - loss: 0.0022\n",
      "Epoch 43/50\n",
      "23/23 - 2s - 107ms/step - loss: 0.0020\n",
      "Epoch 44/50\n",
      "23/23 - 2s - 108ms/step - loss: 0.0021\n",
      "Epoch 45/50\n",
      "23/23 - 3s - 110ms/step - loss: 0.0022\n",
      "Epoch 46/50\n",
      "23/23 - 2s - 106ms/step - loss: 0.0025\n",
      "Epoch 47/50\n",
      "23/23 - 3s - 115ms/step - loss: 0.0022\n",
      "Epoch 48/50\n",
      "23/23 - 3s - 111ms/step - loss: 0.0020\n",
      "Epoch 49/50\n",
      "23/23 - 2s - 103ms/step - loss: 0.0020\n",
      "Epoch 50/50\n",
      "23/23 - 2s - 103ms/step - loss: 0.0020\n"
     ]
    }
   ],
   "source": [
    "history = model.fit(X_train, y_train, epochs=50, batch_size=32, verbose=2)"
   ]
  },
  {
   "cell_type": "markdown",
   "id": "f42e8f27-b970-4800-8efa-386f8397c7d5",
   "metadata": {},
   "source": [
    "## Predict and Inverse Transform the Predictions"
   ]
  },
  {
   "cell_type": "code",
   "execution_count": 11,
   "id": "fd46526b-98ce-4507-a83a-44e7217d11b4",
   "metadata": {},
   "outputs": [
    {
     "name": "stdout",
     "output_type": "stream",
     "text": [
      "\u001b[1m17/17\u001b[0m \u001b[32m━━━━━━━━━━━━━━━━━━━━\u001b[0m\u001b[37m\u001b[0m \u001b[1m3s\u001b[0m 109ms/step\n"
     ]
    }
   ],
   "source": [
    "y_pred = model.predict(X_test)\n",
    "\n",
    "# Inverse transform the predictions\n",
    "y_pred = scaler.inverse_transform(y_pred)\n",
    "y_test = scaler.inverse_transform(y_test.reshape(-1, 1))\n",
    "train_data = scaler.inverse_transform(train_data)\n",
    "test_data = scaler.inverse_transform(test_data)"
   ]
  },
  {
   "cell_type": "markdown",
   "id": "1409b5dd-51b7-4f78-ad03-8728be7c8f8f",
   "metadata": {},
   "source": [
    "## Calculate the error of the model"
   ]
  },
  {
   "cell_type": "code",
   "execution_count": 12,
   "id": "a13a24cb-1ff4-4fca-a037-cfe5c147f4d1",
   "metadata": {},
   "outputs": [
    {
     "name": "stdout",
     "output_type": "stream",
     "text": [
      "MAPE on Test dataset:  0.018918666410023887\n",
      "RMSE on Test dataset:  1.5845319054055373\n",
      "MSLE on Test dataset:  0.0005636344075741821\n",
      "MAE on Test dataset:  1.2562935855533242\n"
     ]
    }
   ],
   "source": [
    "from sklearn.metrics import mean_squared_error, mean_absolute_percentage_error, mean_squared_log_error, mean_absolute_error\n",
    "# Evaluate the accuracy of test\n",
    "\n",
    "test_mape = mean_absolute_percentage_error(y_test, y_pred)\n",
    "test_mse = mean_squared_error(y_test, y_pred)\n",
    "test_rmse = np.sqrt(test_mse)\n",
    "test_mae = mean_absolute_error(y_test, y_pred)\n",
    "test_msle = mean_squared_log_error(y_test, y_pred)\n",
    "\n",
    "\n",
    "print(f\"MAPE on Test dataset: \", test_mape)\n",
    "print(f\"RMSE on Test dataset: \", test_rmse)\n",
    "print(f\"MSLE on Test dataset: \", test_msle)\n",
    "print(f\"MAE on Test dataset: \", test_mae)"
   ]
  },
  {
   "cell_type": "markdown",
   "id": "826e9db4-0d68-4595-ae76-2daddb872e8d",
   "metadata": {},
   "source": [
    "## Predict Close price for 90 next days"
   ]
  },
  {
   "cell_type": "code",
   "execution_count": 13,
   "id": "a155c9f6-fee8-4075-ba0c-869d8828e959",
   "metadata": {},
   "outputs": [
    {
     "name": "stdout",
     "output_type": "stream",
     "text": [
      "\u001b[1m1/1\u001b[0m \u001b[32m━━━━━━━━━━━━━━━━━━━━\u001b[0m\u001b[37m\u001b[0m \u001b[1m0s\u001b[0m 60ms/step\n",
      "\u001b[1m1/1\u001b[0m \u001b[32m━━━━━━━━━━━━━━━━━━━━\u001b[0m\u001b[37m\u001b[0m \u001b[1m0s\u001b[0m 52ms/step\n",
      "\u001b[1m1/1\u001b[0m \u001b[32m━━━━━━━━━━━━━━━━━━━━\u001b[0m\u001b[37m\u001b[0m \u001b[1m0s\u001b[0m 57ms/step\n",
      "\u001b[1m1/1\u001b[0m \u001b[32m━━━━━━━━━━━━━━━━━━━━\u001b[0m\u001b[37m\u001b[0m \u001b[1m0s\u001b[0m 53ms/step\n",
      "\u001b[1m1/1\u001b[0m \u001b[32m━━━━━━━━━━━━━━━━━━━━\u001b[0m\u001b[37m\u001b[0m \u001b[1m0s\u001b[0m 50ms/step\n",
      "\u001b[1m1/1\u001b[0m \u001b[32m━━━━━━━━━━━━━━━━━━━━\u001b[0m\u001b[37m\u001b[0m \u001b[1m0s\u001b[0m 39ms/step\n",
      "\u001b[1m1/1\u001b[0m \u001b[32m━━━━━━━━━━━━━━━━━━━━\u001b[0m\u001b[37m\u001b[0m \u001b[1m0s\u001b[0m 65ms/step\n",
      "\u001b[1m1/1\u001b[0m \u001b[32m━━━━━━━━━━━━━━━━━━━━\u001b[0m\u001b[37m\u001b[0m \u001b[1m0s\u001b[0m 47ms/step\n",
      "\u001b[1m1/1\u001b[0m \u001b[32m━━━━━━━━━━━━━━━━━━━━\u001b[0m\u001b[37m\u001b[0m \u001b[1m0s\u001b[0m 59ms/step\n",
      "\u001b[1m1/1\u001b[0m \u001b[32m━━━━━━━━━━━━━━━━━━━━\u001b[0m\u001b[37m\u001b[0m \u001b[1m0s\u001b[0m 61ms/step\n",
      "\u001b[1m1/1\u001b[0m \u001b[32m━━━━━━━━━━━━━━━━━━━━\u001b[0m\u001b[37m\u001b[0m \u001b[1m0s\u001b[0m 55ms/step\n",
      "\u001b[1m1/1\u001b[0m \u001b[32m━━━━━━━━━━━━━━━━━━━━\u001b[0m\u001b[37m\u001b[0m \u001b[1m0s\u001b[0m 49ms/step\n",
      "\u001b[1m1/1\u001b[0m \u001b[32m━━━━━━━━━━━━━━━━━━━━\u001b[0m\u001b[37m\u001b[0m \u001b[1m0s\u001b[0m 206ms/step\n",
      "\u001b[1m1/1\u001b[0m \u001b[32m━━━━━━━━━━━━━━━━━━━━\u001b[0m\u001b[37m\u001b[0m \u001b[1m0s\u001b[0m 57ms/step\n",
      "\u001b[1m1/1\u001b[0m \u001b[32m━━━━━━━━━━━━━━━━━━━━\u001b[0m\u001b[37m\u001b[0m \u001b[1m0s\u001b[0m 59ms/step\n",
      "\u001b[1m1/1\u001b[0m \u001b[32m━━━━━━━━━━━━━━━━━━━━\u001b[0m\u001b[37m\u001b[0m \u001b[1m0s\u001b[0m 63ms/step\n",
      "\u001b[1m1/1\u001b[0m \u001b[32m━━━━━━━━━━━━━━━━━━━━\u001b[0m\u001b[37m\u001b[0m \u001b[1m0s\u001b[0m 61ms/step\n",
      "\u001b[1m1/1\u001b[0m \u001b[32m━━━━━━━━━━━━━━━━━━━━\u001b[0m\u001b[37m\u001b[0m \u001b[1m0s\u001b[0m 69ms/step\n",
      "\u001b[1m1/1\u001b[0m \u001b[32m━━━━━━━━━━━━━━━━━━━━\u001b[0m\u001b[37m\u001b[0m \u001b[1m0s\u001b[0m 51ms/step\n",
      "\u001b[1m1/1\u001b[0m \u001b[32m━━━━━━━━━━━━━━━━━━━━\u001b[0m\u001b[37m\u001b[0m \u001b[1m0s\u001b[0m 47ms/step\n",
      "\u001b[1m1/1\u001b[0m \u001b[32m━━━━━━━━━━━━━━━━━━━━\u001b[0m\u001b[37m\u001b[0m \u001b[1m0s\u001b[0m 59ms/step\n",
      "\u001b[1m1/1\u001b[0m \u001b[32m━━━━━━━━━━━━━━━━━━━━\u001b[0m\u001b[37m\u001b[0m \u001b[1m0s\u001b[0m 77ms/step\n",
      "\u001b[1m1/1\u001b[0m \u001b[32m━━━━━━━━━━━━━━━━━━━━\u001b[0m\u001b[37m\u001b[0m \u001b[1m0s\u001b[0m 54ms/step\n",
      "\u001b[1m1/1\u001b[0m \u001b[32m━━━━━━━━━━━━━━━━━━━━\u001b[0m\u001b[37m\u001b[0m \u001b[1m0s\u001b[0m 75ms/step\n",
      "\u001b[1m1/1\u001b[0m \u001b[32m━━━━━━━━━━━━━━━━━━━━\u001b[0m\u001b[37m\u001b[0m \u001b[1m0s\u001b[0m 77ms/step\n",
      "\u001b[1m1/1\u001b[0m \u001b[32m━━━━━━━━━━━━━━━━━━━━\u001b[0m\u001b[37m\u001b[0m \u001b[1m0s\u001b[0m 74ms/step\n",
      "\u001b[1m1/1\u001b[0m \u001b[32m━━━━━━━━━━━━━━━━━━━━\u001b[0m\u001b[37m\u001b[0m \u001b[1m0s\u001b[0m 77ms/step\n",
      "\u001b[1m1/1\u001b[0m \u001b[32m━━━━━━━━━━━━━━━━━━━━\u001b[0m\u001b[37m\u001b[0m \u001b[1m0s\u001b[0m 89ms/step\n",
      "\u001b[1m1/1\u001b[0m \u001b[32m━━━━━━━━━━━━━━━━━━━━\u001b[0m\u001b[37m\u001b[0m \u001b[1m0s\u001b[0m 79ms/step\n",
      "\u001b[1m1/1\u001b[0m \u001b[32m━━━━━━━━━━━━━━━━━━━━\u001b[0m\u001b[37m\u001b[0m \u001b[1m0s\u001b[0m 59ms/step\n",
      "\u001b[1m1/1\u001b[0m \u001b[32m━━━━━━━━━━━━━━━━━━━━\u001b[0m\u001b[37m\u001b[0m \u001b[1m0s\u001b[0m 70ms/step\n",
      "\u001b[1m1/1\u001b[0m \u001b[32m━━━━━━━━━━━━━━━━━━━━\u001b[0m\u001b[37m\u001b[0m \u001b[1m0s\u001b[0m 56ms/step\n",
      "\u001b[1m1/1\u001b[0m \u001b[32m━━━━━━━━━━━━━━━━━━━━\u001b[0m\u001b[37m\u001b[0m \u001b[1m0s\u001b[0m 59ms/step\n",
      "\u001b[1m1/1\u001b[0m \u001b[32m━━━━━━━━━━━━━━━━━━━━\u001b[0m\u001b[37m\u001b[0m \u001b[1m0s\u001b[0m 58ms/step\n",
      "\u001b[1m1/1\u001b[0m \u001b[32m━━━━━━━━━━━━━━━━━━━━\u001b[0m\u001b[37m\u001b[0m \u001b[1m0s\u001b[0m 64ms/step\n",
      "\u001b[1m1/1\u001b[0m \u001b[32m━━━━━━━━━━━━━━━━━━━━\u001b[0m\u001b[37m\u001b[0m \u001b[1m0s\u001b[0m 70ms/step\n",
      "\u001b[1m1/1\u001b[0m \u001b[32m━━━━━━━━━━━━━━━━━━━━\u001b[0m\u001b[37m\u001b[0m \u001b[1m0s\u001b[0m 65ms/step\n",
      "\u001b[1m1/1\u001b[0m \u001b[32m━━━━━━━━━━━━━━━━━━━━\u001b[0m\u001b[37m\u001b[0m \u001b[1m0s\u001b[0m 49ms/step\n",
      "\u001b[1m1/1\u001b[0m \u001b[32m━━━━━━━━━━━━━━━━━━━━\u001b[0m\u001b[37m\u001b[0m \u001b[1m0s\u001b[0m 71ms/step\n",
      "\u001b[1m1/1\u001b[0m \u001b[32m━━━━━━━━━━━━━━━━━━━━\u001b[0m\u001b[37m\u001b[0m \u001b[1m0s\u001b[0m 58ms/step\n",
      "\u001b[1m1/1\u001b[0m \u001b[32m━━━━━━━━━━━━━━━━━━━━\u001b[0m\u001b[37m\u001b[0m \u001b[1m0s\u001b[0m 65ms/step\n",
      "\u001b[1m1/1\u001b[0m \u001b[32m━━━━━━━━━━━━━━━━━━━━\u001b[0m\u001b[37m\u001b[0m \u001b[1m0s\u001b[0m 65ms/step\n",
      "\u001b[1m1/1\u001b[0m \u001b[32m━━━━━━━━━━━━━━━━━━━━\u001b[0m\u001b[37m\u001b[0m \u001b[1m0s\u001b[0m 71ms/step\n",
      "\u001b[1m1/1\u001b[0m \u001b[32m━━━━━━━━━━━━━━━━━━━━\u001b[0m\u001b[37m\u001b[0m \u001b[1m0s\u001b[0m 58ms/step\n",
      "\u001b[1m1/1\u001b[0m \u001b[32m━━━━━━━━━━━━━━━━━━━━\u001b[0m\u001b[37m\u001b[0m \u001b[1m0s\u001b[0m 59ms/step\n",
      "\u001b[1m1/1\u001b[0m \u001b[32m━━━━━━━━━━━━━━━━━━━━\u001b[0m\u001b[37m\u001b[0m \u001b[1m0s\u001b[0m 46ms/step\n",
      "\u001b[1m1/1\u001b[0m \u001b[32m━━━━━━━━━━━━━━━━━━━━\u001b[0m\u001b[37m\u001b[0m \u001b[1m0s\u001b[0m 40ms/step\n",
      "\u001b[1m1/1\u001b[0m \u001b[32m━━━━━━━━━━━━━━━━━━━━\u001b[0m\u001b[37m\u001b[0m \u001b[1m0s\u001b[0m 37ms/step\n",
      "\u001b[1m1/1\u001b[0m \u001b[32m━━━━━━━━━━━━━━━━━━━━\u001b[0m\u001b[37m\u001b[0m \u001b[1m0s\u001b[0m 45ms/step\n",
      "\u001b[1m1/1\u001b[0m \u001b[32m━━━━━━━━━━━━━━━━━━━━\u001b[0m\u001b[37m\u001b[0m \u001b[1m0s\u001b[0m 42ms/step\n",
      "\u001b[1m1/1\u001b[0m \u001b[32m━━━━━━━━━━━━━━━━━━━━\u001b[0m\u001b[37m\u001b[0m \u001b[1m0s\u001b[0m 53ms/step\n",
      "\u001b[1m1/1\u001b[0m \u001b[32m━━━━━━━━━━━━━━━━━━━━\u001b[0m\u001b[37m\u001b[0m \u001b[1m0s\u001b[0m 48ms/step\n",
      "\u001b[1m1/1\u001b[0m \u001b[32m━━━━━━━━━━━━━━━━━━━━\u001b[0m\u001b[37m\u001b[0m \u001b[1m0s\u001b[0m 64ms/step\n",
      "\u001b[1m1/1\u001b[0m \u001b[32m━━━━━━━━━━━━━━━━━━━━\u001b[0m\u001b[37m\u001b[0m \u001b[1m0s\u001b[0m 52ms/step\n",
      "\u001b[1m1/1\u001b[0m \u001b[32m━━━━━━━━━━━━━━━━━━━━\u001b[0m\u001b[37m\u001b[0m \u001b[1m0s\u001b[0m 54ms/step\n",
      "\u001b[1m1/1\u001b[0m \u001b[32m━━━━━━━━━━━━━━━━━━━━\u001b[0m\u001b[37m\u001b[0m \u001b[1m0s\u001b[0m 65ms/step\n",
      "\u001b[1m1/1\u001b[0m \u001b[32m━━━━━━━━━━━━━━━━━━━━\u001b[0m\u001b[37m\u001b[0m \u001b[1m0s\u001b[0m 60ms/step\n",
      "\u001b[1m1/1\u001b[0m \u001b[32m━━━━━━━━━━━━━━━━━━━━\u001b[0m\u001b[37m\u001b[0m \u001b[1m0s\u001b[0m 52ms/step\n",
      "\u001b[1m1/1\u001b[0m \u001b[32m━━━━━━━━━━━━━━━━━━━━\u001b[0m\u001b[37m\u001b[0m \u001b[1m0s\u001b[0m 53ms/step\n",
      "\u001b[1m1/1\u001b[0m \u001b[32m━━━━━━━━━━━━━━━━━━━━\u001b[0m\u001b[37m\u001b[0m \u001b[1m0s\u001b[0m 68ms/step\n",
      "\u001b[1m1/1\u001b[0m \u001b[32m━━━━━━━━━━━━━━━━━━━━\u001b[0m\u001b[37m\u001b[0m \u001b[1m0s\u001b[0m 51ms/step\n",
      "\u001b[1m1/1\u001b[0m \u001b[32m━━━━━━━━━━━━━━━━━━━━\u001b[0m\u001b[37m\u001b[0m \u001b[1m0s\u001b[0m 60ms/step\n",
      "\u001b[1m1/1\u001b[0m \u001b[32m━━━━━━━━━━━━━━━━━━━━\u001b[0m\u001b[37m\u001b[0m \u001b[1m0s\u001b[0m 46ms/step\n",
      "\u001b[1m1/1\u001b[0m \u001b[32m━━━━━━━━━━━━━━━━━━━━\u001b[0m\u001b[37m\u001b[0m \u001b[1m0s\u001b[0m 52ms/step\n",
      "\u001b[1m1/1\u001b[0m \u001b[32m━━━━━━━━━━━━━━━━━━━━\u001b[0m\u001b[37m\u001b[0m \u001b[1m0s\u001b[0m 44ms/step\n",
      "\u001b[1m1/1\u001b[0m \u001b[32m━━━━━━━━━━━━━━━━━━━━\u001b[0m\u001b[37m\u001b[0m \u001b[1m0s\u001b[0m 59ms/step\n",
      "\u001b[1m1/1\u001b[0m \u001b[32m━━━━━━━━━━━━━━━━━━━━\u001b[0m\u001b[37m\u001b[0m \u001b[1m0s\u001b[0m 49ms/step\n",
      "\u001b[1m1/1\u001b[0m \u001b[32m━━━━━━━━━━━━━━━━━━━━\u001b[0m\u001b[37m\u001b[0m \u001b[1m0s\u001b[0m 61ms/step\n",
      "\u001b[1m1/1\u001b[0m \u001b[32m━━━━━━━━━━━━━━━━━━━━\u001b[0m\u001b[37m\u001b[0m \u001b[1m0s\u001b[0m 57ms/step\n",
      "\u001b[1m1/1\u001b[0m \u001b[32m━━━━━━━━━━━━━━━━━━━━\u001b[0m\u001b[37m\u001b[0m \u001b[1m0s\u001b[0m 48ms/step\n",
      "\u001b[1m1/1\u001b[0m \u001b[32m━━━━━━━━━━━━━━━━━━━━\u001b[0m\u001b[37m\u001b[0m \u001b[1m0s\u001b[0m 47ms/step\n",
      "\u001b[1m1/1\u001b[0m \u001b[32m━━━━━━━━━━━━━━━━━━━━\u001b[0m\u001b[37m\u001b[0m \u001b[1m0s\u001b[0m 62ms/step\n",
      "\u001b[1m1/1\u001b[0m \u001b[32m━━━━━━━━━━━━━━━━━━━━\u001b[0m\u001b[37m\u001b[0m \u001b[1m0s\u001b[0m 46ms/step\n",
      "\u001b[1m1/1\u001b[0m \u001b[32m━━━━━━━━━━━━━━━━━━━━\u001b[0m\u001b[37m\u001b[0m \u001b[1m0s\u001b[0m 59ms/step\n",
      "\u001b[1m1/1\u001b[0m \u001b[32m━━━━━━━━━━━━━━━━━━━━\u001b[0m\u001b[37m\u001b[0m \u001b[1m0s\u001b[0m 52ms/step\n",
      "\u001b[1m1/1\u001b[0m \u001b[32m━━━━━━━━━━━━━━━━━━━━\u001b[0m\u001b[37m\u001b[0m \u001b[1m0s\u001b[0m 54ms/step\n",
      "\u001b[1m1/1\u001b[0m \u001b[32m━━━━━━━━━━━━━━━━━━━━\u001b[0m\u001b[37m\u001b[0m \u001b[1m0s\u001b[0m 48ms/step\n",
      "\u001b[1m1/1\u001b[0m \u001b[32m━━━━━━━━━━━━━━━━━━━━\u001b[0m\u001b[37m\u001b[0m \u001b[1m0s\u001b[0m 48ms/step\n",
      "\u001b[1m1/1\u001b[0m \u001b[32m━━━━━━━━━━━━━━━━━━━━\u001b[0m\u001b[37m\u001b[0m \u001b[1m0s\u001b[0m 34ms/step\n",
      "\u001b[1m1/1\u001b[0m \u001b[32m━━━━━━━━━━━━━━━━━━━━\u001b[0m\u001b[37m\u001b[0m \u001b[1m0s\u001b[0m 34ms/step\n",
      "\u001b[1m1/1\u001b[0m \u001b[32m━━━━━━━━━━━━━━━━━━━━\u001b[0m\u001b[37m\u001b[0m \u001b[1m0s\u001b[0m 33ms/step\n",
      "\u001b[1m1/1\u001b[0m \u001b[32m━━━━━━━━━━━━━━━━━━━━\u001b[0m\u001b[37m\u001b[0m \u001b[1m0s\u001b[0m 34ms/step\n",
      "\u001b[1m1/1\u001b[0m \u001b[32m━━━━━━━━━━━━━━━━━━━━\u001b[0m\u001b[37m\u001b[0m \u001b[1m0s\u001b[0m 36ms/step\n",
      "\u001b[1m1/1\u001b[0m \u001b[32m━━━━━━━━━━━━━━━━━━━━\u001b[0m\u001b[37m\u001b[0m \u001b[1m0s\u001b[0m 29ms/step\n",
      "\u001b[1m1/1\u001b[0m \u001b[32m━━━━━━━━━━━━━━━━━━━━\u001b[0m\u001b[37m\u001b[0m \u001b[1m0s\u001b[0m 36ms/step\n",
      "\u001b[1m1/1\u001b[0m \u001b[32m━━━━━━━━━━━━━━━━━━━━\u001b[0m\u001b[37m\u001b[0m \u001b[1m0s\u001b[0m 37ms/step\n",
      "\u001b[1m1/1\u001b[0m \u001b[32m━━━━━━━━━━━━━━━━━━━━\u001b[0m\u001b[37m\u001b[0m \u001b[1m0s\u001b[0m 45ms/step\n",
      "\u001b[1m1/1\u001b[0m \u001b[32m━━━━━━━━━━━━━━━━━━━━\u001b[0m\u001b[37m\u001b[0m \u001b[1m0s\u001b[0m 34ms/step\n",
      "\u001b[1m1/1\u001b[0m \u001b[32m━━━━━━━━━━━━━━━━━━━━\u001b[0m\u001b[37m\u001b[0m \u001b[1m0s\u001b[0m 32ms/step\n",
      "\u001b[1m1/1\u001b[0m \u001b[32m━━━━━━━━━━━━━━━━━━━━\u001b[0m\u001b[37m\u001b[0m \u001b[1m0s\u001b[0m 29ms/step\n"
     ]
    }
   ],
   "source": [
    "# Select the last day of current index\n",
    "last_date = df.index[-1]\n",
    "\n",
    "# Add a new day after the last day\n",
    "next_date = last_date + pd.DateOffset(days=1)\n",
    "\n",
    "# Generate a list of index only starting from the next day in 90 days\n",
    "index_next_90_days = pd.date_range(start=next_date, periods=90).tolist()\n",
    "\n",
    "# Predict Close price for 90 next days\n",
    "last_sequence_days = data_scaled[-sequence_length:].reshape(1, -1, 1)\n",
    "\n",
    "y_next_90_days = []\n",
    "\n",
    "for i in range(90):\n",
    "    # Predict Close price for next day\n",
    "    next_day_pred = model.predict(last_sequence_days)\n",
    "    \n",
    "    # Save the predict value\n",
    "    y_next_90_days.append(next_day_pred[0][0])\n",
    "    \n",
    "    # Update information of the next day\n",
    "    last_sequence_days = np.concatenate([last_sequence_days[:, 1:, :], next_day_pred.reshape(1, 1, 1)], axis=1)"
   ]
  },
  {
   "cell_type": "code",
   "execution_count": 14,
   "id": "31e664ea-12e2-4edc-a161-d9f8c3dd4d44",
   "metadata": {},
   "outputs": [
    {
     "name": "stdout",
     "output_type": "stream",
     "text": [
      "[75.99897  75.831696 75.5983   75.3133   75.013306 74.72314  74.4537\n",
      " 74.20801  73.98601  73.78679  73.60927  73.45211  73.31384  73.19276\n",
      " 73.08696  72.994446 72.9134   72.84188  72.77807  72.72026  72.66684\n",
      " 72.61644  72.56776  72.51972  72.471405 72.42198  72.37092  72.31772\n",
      " 72.26205  72.20367  72.142494 72.07848  72.01163  71.94212  71.87015\n",
      " 71.79576  71.71941  71.64133  71.56181  71.48113  71.39966  71.31757\n",
      " 71.23523  71.15282  71.07054  70.988625 70.90726  70.82657  70.746704\n",
      " 70.66773  70.58971  70.51271  70.43674  70.36171  70.28775  70.21484\n",
      " 70.14289  70.07198  70.002    69.932816 69.864395 69.79684  69.729965\n",
      " 69.66374  69.59812  69.53306  69.4685   69.404396 69.340706 69.27741\n",
      " 69.214455 69.15182  69.089485 69.02741  68.9656   68.90404  68.8427\n",
      " 68.781586 68.72069  68.66001  68.59953  68.53929  68.47925  68.419426\n",
      " 68.35983  68.30046  68.24132  68.1824   68.123726 68.0653  ]\n"
     ]
    }
   ],
   "source": [
    "# Show the result of predict 90 next days \n",
    "y_next_90_days = scaler.inverse_transform(np.array(y_next_90_days).reshape(-1, 1))\n",
    "print(y_next_90_days.flatten())"
   ]
  },
  {
   "cell_type": "markdown",
   "id": "8786906f-caf8-415a-a3fb-cf5f8270b0f8",
   "metadata": {},
   "source": [
    "## Model visualization"
   ]
  },
  {
   "cell_type": "code",
   "execution_count": 15,
   "id": "fcea2a4d-3499-47dc-80a7-7fbcee6e6927",
   "metadata": {},
   "outputs": [
    {
     "data": {
      "image/png": "[encoded data removed]",
      "text/plain": [
       "<Figure size 1200x500 with 1 Axes>"
      ]
     },
     "metadata": {},
     "output_type": "display_data"
    }
   ],
   "source": [
    "plt.figure(figsize=(12, 5))\n",
    "\n",
    "# Train set\n",
    "plt.plot(df[:train_size].index, train_data)\n",
    "\n",
    "# Test set\n",
    "plt.plot(df[train_size:].index, test_data)\n",
    "\n",
    "# Predict in test set\n",
    "plt.plot(df[train_size:].index, y_pred)\n",
    "\n",
    "# Predict 90 next days\n",
    "plt.plot(index_next_90_days, y_next_90_days)\n",
    "\n",
    "plt.legend(['Train', 'Test', 'Predict Test', 'Predict90days'])\n",
    "plt.grid()\n",
    "plt.title(\"AZN Closing Price Data With Ratio 6_4\")\n",
    "plt.xlabel(\"Date\")\n",
    "plt.ylabel(\"Close value\")\n",
    "plt.savefig('Image/RNN_64_90days_AZN.png')\n",
    "plt.show()"
   ]
  },
  {
   "cell_type": "code",
   "execution_count": null,
   "id": "f399ed86-7370-47ce-bb6e-53cc76338705",
   "metadata": {},
   "outputs": [],
   "source": []
  }
 ],
 "metadata": {
  "kernelspec": {
   "display_name": "Python 3 (ipykernel)",
   "language": "python",
   "name": "python3"
  },
  "language_info": {
   "codemirror_mode": {
    "name": "ipython",
    "version": 3
   },
   "file_extension": ".py",
   "mimetype": "text/x-python",
   "name": "python",
   "nbconvert_exporter": "python",
   "pygments_lexer": "ipython3",
   "version": "3.11.5"
  }
 },
 "nbformat": 4,
 "nbformat_minor": 5
}
