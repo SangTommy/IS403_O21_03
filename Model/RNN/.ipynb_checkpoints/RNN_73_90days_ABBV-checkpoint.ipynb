{
 "cells": [
  {
   "cell_type": "markdown",
   "id": "b3590e55-56b7-4e45-92f2-fac63d95ec46",
   "metadata": {},
   "source": [
    "## Import the necessary libraries"
   ]
  },
  {
   "cell_type": "code",
   "execution_count": 1,
   "id": "faf16d27-2172-480e-acc1-751d05760686",
   "metadata": {},
   "outputs": [],
   "source": [
    "import pandas as pd\n",
    "import numpy as np\n",
    "\n",
    "from tensorflow.keras.models import Sequential\n",
    "from tensorflow.keras.layers import Dense, Dropout, LSTM\n",
    "\n",
    "from sklearn.metrics import mean_squared_error, mean_absolute_percentage_error, mean_squared_log_error\n",
    "from sklearn.preprocessing import MinMaxScaler\n",
    "\n",
    "import matplotlib.pyplot as plt\n",
    "%matplotlib inline"
   ]
  },
  {
   "cell_type": "markdown",
   "id": "84c82d77-1118-43f2-9139-c43b959ce250",
   "metadata": {},
   "source": [
    "## Load data"
   ]
  },
  {
   "cell_type": "code",
   "execution_count": 2,
   "id": "d251b15a-2334-4318-84c3-d7ee92347a70",
   "metadata": {},
   "outputs": [],
   "source": [
    "# Load data\n",
    "df = pd.read_csv('ABBV-AbbVie.csv')"
   ]
  },
  {
   "cell_type": "markdown",
   "id": "75ca0040-7269-48c5-ae1f-6f0dc1346daf",
   "metadata": {},
   "source": [
    "## Data preprocessing"
   ]
  },
  {
   "cell_type": "code",
   "execution_count": 3,
   "id": "326e1974-065d-4e76-b43b-c864f4aa1792",
   "metadata": {},
   "outputs": [
    {
     "data": {
      "text/html": [
       "<div>\n",
       "<style scoped>\n",
       "    .dataframe tbody tr th:only-of-type {\n",
       "        vertical-align: middle;\n",
       "    }\n",
       "\n",
       "    .dataframe tbody tr th {\n",
       "        vertical-align: top;\n",
       "    }\n",
       "\n",
       "    .dataframe thead th {\n",
       "        text-align: right;\n",
       "    }\n",
       "</style>\n",
       "<table border=\"1\" class=\"dataframe\">\n",
       "  <thead>\n",
       "    <tr style=\"text-align: right;\">\n",
       "      <th></th>\n",
       "      <th>Open</th>\n",
       "      <th>High</th>\n",
       "      <th>Low</th>\n",
       "      <th>Close</th>\n",
       "      <th>Adj Close</th>\n",
       "      <th>Volume</th>\n",
       "    </tr>\n",
       "    <tr>\n",
       "      <th>Date</th>\n",
       "      <th></th>\n",
       "      <th></th>\n",
       "      <th></th>\n",
       "      <th></th>\n",
       "      <th></th>\n",
       "      <th></th>\n",
       "    </tr>\n",
       "  </thead>\n",
       "  <tbody>\n",
       "    <tr>\n",
       "      <th>2019-03-01</th>\n",
       "      <td>79.769997</td>\n",
       "      <td>80.849998</td>\n",
       "      <td>79.279999</td>\n",
       "      <td>80.099998</td>\n",
       "      <td>62.999912</td>\n",
       "      <td>8567900</td>\n",
       "    </tr>\n",
       "    <tr>\n",
       "      <th>2019-03-04</th>\n",
       "      <td>80.400002</td>\n",
       "      <td>80.730003</td>\n",
       "      <td>79.110001</td>\n",
       "      <td>79.459999</td>\n",
       "      <td>62.496529</td>\n",
       "      <td>5872500</td>\n",
       "    </tr>\n",
       "    <tr>\n",
       "      <th>2019-03-05</th>\n",
       "      <td>79.379997</td>\n",
       "      <td>79.900002</td>\n",
       "      <td>78.720001</td>\n",
       "      <td>78.910004</td>\n",
       "      <td>62.063969</td>\n",
       "      <td>5933100</td>\n",
       "    </tr>\n",
       "    <tr>\n",
       "      <th>2019-03-06</th>\n",
       "      <td>79.129997</td>\n",
       "      <td>79.129997</td>\n",
       "      <td>77.559998</td>\n",
       "      <td>78.089996</td>\n",
       "      <td>61.419025</td>\n",
       "      <td>5293200</td>\n",
       "    </tr>\n",
       "    <tr>\n",
       "      <th>2019-03-07</th>\n",
       "      <td>77.769997</td>\n",
       "      <td>79.120003</td>\n",
       "      <td>77.440002</td>\n",
       "      <td>78.239998</td>\n",
       "      <td>61.537003</td>\n",
       "      <td>6642500</td>\n",
       "    </tr>\n",
       "    <tr>\n",
       "      <th>...</th>\n",
       "      <td>...</td>\n",
       "      <td>...</td>\n",
       "      <td>...</td>\n",
       "      <td>...</td>\n",
       "      <td>...</td>\n",
       "      <td>...</td>\n",
       "    </tr>\n",
       "    <tr>\n",
       "      <th>2024-02-23</th>\n",
       "      <td>177.259995</td>\n",
       "      <td>178.910004</td>\n",
       "      <td>177.009995</td>\n",
       "      <td>178.089996</td>\n",
       "      <td>176.442200</td>\n",
       "      <td>3941800</td>\n",
       "    </tr>\n",
       "    <tr>\n",
       "      <th>2024-02-26</th>\n",
       "      <td>178.839996</td>\n",
       "      <td>179.789993</td>\n",
       "      <td>178.000000</td>\n",
       "      <td>178.809998</td>\n",
       "      <td>177.155533</td>\n",
       "      <td>4327400</td>\n",
       "    </tr>\n",
       "    <tr>\n",
       "      <th>2024-02-27</th>\n",
       "      <td>178.770004</td>\n",
       "      <td>179.529999</td>\n",
       "      <td>176.979996</td>\n",
       "      <td>178.990005</td>\n",
       "      <td>177.333878</td>\n",
       "      <td>3888500</td>\n",
       "    </tr>\n",
       "    <tr>\n",
       "      <th>2024-02-28</th>\n",
       "      <td>179.850006</td>\n",
       "      <td>179.889999</td>\n",
       "      <td>176.889999</td>\n",
       "      <td>178.000000</td>\n",
       "      <td>176.353043</td>\n",
       "      <td>4331300</td>\n",
       "    </tr>\n",
       "    <tr>\n",
       "      <th>2024-02-29</th>\n",
       "      <td>177.869995</td>\n",
       "      <td>178.020004</td>\n",
       "      <td>175.389999</td>\n",
       "      <td>176.050003</td>\n",
       "      <td>174.421082</td>\n",
       "      <td>7485700</td>\n",
       "    </tr>\n",
       "  </tbody>\n",
       "</table>\n",
       "<p>1259 rows × 6 columns</p>\n",
       "</div>"
      ],
      "text/plain": [
       "                  Open        High         Low       Close   Adj Close  \\\n",
       "Date                                                                     \n",
       "2019-03-01   79.769997   80.849998   79.279999   80.099998   62.999912   \n",
       "2019-03-04   80.400002   80.730003   79.110001   79.459999   62.496529   \n",
       "2019-03-05   79.379997   79.900002   78.720001   78.910004   62.063969   \n",
       "2019-03-06   79.129997   79.129997   77.559998   78.089996   61.419025   \n",
       "2019-03-07   77.769997   79.120003   77.440002   78.239998   61.537003   \n",
       "...                ...         ...         ...         ...         ...   \n",
       "2024-02-23  177.259995  178.910004  177.009995  178.089996  176.442200   \n",
       "2024-02-26  178.839996  179.789993  178.000000  178.809998  177.155533   \n",
       "2024-02-27  178.770004  179.529999  176.979996  178.990005  177.333878   \n",
       "2024-02-28  179.850006  179.889999  176.889999  178.000000  176.353043   \n",
       "2024-02-29  177.869995  178.020004  175.389999  176.050003  174.421082   \n",
       "\n",
       "             Volume  \n",
       "Date                 \n",
       "2019-03-01  8567900  \n",
       "2019-03-04  5872500  \n",
       "2019-03-05  5933100  \n",
       "2019-03-06  5293200  \n",
       "2019-03-07  6642500  \n",
       "...             ...  \n",
       "2024-02-23  3941800  \n",
       "2024-02-26  4327400  \n",
       "2024-02-27  3888500  \n",
       "2024-02-28  4331300  \n",
       "2024-02-29  7485700  \n",
       "\n",
       "[1259 rows x 6 columns]"
      ]
     },
     "execution_count": 3,
     "metadata": {},
     "output_type": "execute_result"
    }
   ],
   "source": [
    "# Convert the 'Date' column to datetime format\n",
    "df['Date'] = pd.to_datetime(df['Date'])\n",
    "\n",
    "# Set the 'Date' column as the index value\n",
    "df.set_index('Date', inplace=True)\n",
    "df"
   ]
  },
  {
   "cell_type": "markdown",
   "id": "25b8da82-7b9e-46ae-8984-6ee73e2aa562",
   "metadata": {},
   "source": [
    "## Scale Data"
   ]
  },
  {
   "cell_type": "code",
   "execution_count": 4,
   "id": "57c62923-a537-47c0-9e25-faaf1fca4b69",
   "metadata": {},
   "outputs": [],
   "source": [
    "# Select 'Close' column\n",
    "data = df['Close'].values"
   ]
  },
  {
   "cell_type": "code",
   "execution_count": 5,
   "id": "1d47b141-90cf-4467-8491-8375ffbcc663",
   "metadata": {},
   "outputs": [],
   "source": [
    "# Scale data\n",
    "scaler = MinMaxScaler(feature_range=(0,1))\n",
    "data_scaled = scaler.fit_transform(data.reshape(-1, 1))"
   ]
  },
  {
   "cell_type": "markdown",
   "id": "8eb6c3df-3ccd-44df-a573-6976ae3ec316",
   "metadata": {},
   "source": [
    "## Split the data into train and test"
   ]
  },
  {
   "cell_type": "code",
   "execution_count": 6,
   "id": "d83443aa-d3fc-4536-bc0e-79ab44e69b6c",
   "metadata": {},
   "outputs": [],
   "source": [
    "# Define the size of train and test\n",
    "train_size = int(len(data_scaled) * 0.7)\n",
    "test_size = len(data_scaled) - train_size\n",
    "\n",
    "# Split the data into train and test set\n",
    "train_data = data_scaled[0 : train_size, :]\n",
    "test_data = data_scaled[train_size : len(data_scaled), :]"
   ]
  },
  {
   "cell_type": "markdown",
   "id": "b33a9ae4-1b8d-45e4-93bb-7c7f993e258f",
   "metadata": {},
   "source": [
    "## Create and add data into X, y"
   ]
  },
  {
   "cell_type": "code",
   "execution_count": 7,
   "id": "6826a4e3-0976-4ce7-842d-6944d16c0752",
   "metadata": {},
   "outputs": [],
   "source": [
    "def add_data(data, sequence_length=1):\n",
    "    X, Y = [], []\n",
    "    for i in range(len(data) - sequence_length):\n",
    "        X.append(data[i : (i + sequence_length), 0])\n",
    "        Y.append(data[i + sequence_length, 0])\n",
    "    return np.array(X), np.array(Y)"
   ]
  },
  {
   "cell_type": "code",
   "execution_count": 8,
   "id": "22057145-3553-4424-a7c9-28ff007a7dd1",
   "metadata": {},
   "outputs": [],
   "source": [
    "# Reshape into X=t,t+1,t+2..t+60 and Y=t+60\n",
    "sequence_length = 60\n",
    "\n",
    "# Get last data for test\n",
    "train_last_windowsize = train_data[-sequence_length:]\n",
    "\n",
    "test_data_extended = np.concatenate((train_last_windowsize, test_data), axis=0)\n",
    "\n",
    "X_train, y_train = add_data(train_data, sequence_length)\n",
    "X_test, y_test = add_data(test_data_extended, sequence_length)\n",
    "\n",
    "# Reshape inputs to [samples, time steps, features]\n",
    "X_train = X_train.reshape(X_train.shape[0], X_train.shape[1], 1)\n",
    "X_test = X_test.reshape(X_test.shape[0], X_test.shape[1], 1)"
   ]
  },
  {
   "cell_type": "markdown",
   "id": "15ad19e9-de1c-4790-83fc-0180ee944536",
   "metadata": {},
   "source": [
    "## Build Model"
   ]
  },
  {
   "cell_type": "code",
   "execution_count": 9,
   "id": "2ad9e126-4933-46a9-ac5a-ae3b0a8bd497",
   "metadata": {},
   "outputs": [
    {
     "name": "stderr",
     "output_type": "stream",
     "text": [
      "D:\\Anaconda\\Anaconda3\\Lib\\site-packages\\keras\\src\\layers\\rnn\\rnn.py:204: UserWarning: Do not pass an `input_shape`/`input_dim` argument to a layer. When using Sequential models, prefer using an `Input(shape)` object as the first layer in the model instead.\n",
      "  super().__init__(**kwargs)\n"
     ]
    }
   ],
   "source": [
    "model = Sequential() # Encapsulate the sequence of the inner layers\n",
    "\n",
    "# 4 LSTM layers\n",
    "model.add(LSTM(units = 50, return_sequences=True, input_shape=(X_train.shape[1],1)))\n",
    "model.add(Dropout(0.2))\n",
    "model.add(LSTM(units = 50, return_sequences=True))\n",
    "model.add(Dropout(0.2))\n",
    "model.add(LSTM(units = 50, return_sequences=True))\n",
    "model.add(Dropout(0.2))\n",
    "model.add(LSTM(units=50))\n",
    "model.add(Dropout(0.2))\n",
    "\n",
    "# 1 Dense layer\n",
    "model.add(Dense(units=1)) \n",
    "\n",
    "# Optimizer\n",
    "model.compile(optimizer = 'adam', loss='mean_squared_error')"
   ]
  },
  {
   "cell_type": "markdown",
   "id": "d6806dde-a2c9-404c-acd0-e487aae94129",
   "metadata": {},
   "source": [
    "## Training Model"
   ]
  },
  {
   "cell_type": "code",
   "execution_count": 10,
   "id": "94f9ce8d-3419-4130-b547-f424ee6e447f",
   "metadata": {},
   "outputs": [
    {
     "name": "stdout",
     "output_type": "stream",
     "text": [
      "Epoch 1/50\n",
      "26/26 - 14s - 534ms/step - loss: 0.0335\n",
      "Epoch 2/50\n",
      "26/26 - 2s - 83ms/step - loss: 0.0070\n",
      "Epoch 3/50\n",
      "26/26 - 2s - 81ms/step - loss: 0.0046\n",
      "Epoch 4/50\n",
      "26/26 - 2s - 92ms/step - loss: 0.0043\n",
      "Epoch 5/50\n",
      "26/26 - 2s - 95ms/step - loss: 0.0039\n",
      "Epoch 6/50\n",
      "26/26 - 3s - 99ms/step - loss: 0.0042\n",
      "Epoch 7/50\n",
      "26/26 - 3s - 103ms/step - loss: 0.0045\n",
      "Epoch 8/50\n",
      "26/26 - 3s - 98ms/step - loss: 0.0040\n",
      "Epoch 9/50\n",
      "26/26 - 3s - 112ms/step - loss: 0.0039\n",
      "Epoch 10/50\n",
      "26/26 - 3s - 96ms/step - loss: 0.0036\n",
      "Epoch 11/50\n",
      "26/26 - 2s - 96ms/step - loss: 0.0041\n",
      "Epoch 12/50\n",
      "26/26 - 2s - 93ms/step - loss: 0.0032\n",
      "Epoch 13/50\n",
      "26/26 - 3s - 107ms/step - loss: 0.0035\n",
      "Epoch 14/50\n",
      "26/26 - 2s - 95ms/step - loss: 0.0035\n",
      "Epoch 15/50\n",
      "26/26 - 2s - 93ms/step - loss: 0.0036\n",
      "Epoch 16/50\n",
      "26/26 - 2s - 77ms/step - loss: 0.0029\n",
      "Epoch 17/50\n",
      "26/26 - 2s - 86ms/step - loss: 0.0034\n",
      "Epoch 18/50\n",
      "26/26 - 2s - 87ms/step - loss: 0.0031\n",
      "Epoch 19/50\n",
      "26/26 - 2s - 87ms/step - loss: 0.0028\n",
      "Epoch 20/50\n",
      "26/26 - 2s - 79ms/step - loss: 0.0037\n",
      "Epoch 21/50\n",
      "26/26 - 2s - 79ms/step - loss: 0.0038\n",
      "Epoch 22/50\n",
      "26/26 - 2s - 84ms/step - loss: 0.0033\n",
      "Epoch 23/50\n",
      "26/26 - 2s - 80ms/step - loss: 0.0025\n",
      "Epoch 24/50\n",
      "26/26 - 2s - 91ms/step - loss: 0.0027\n",
      "Epoch 25/50\n",
      "26/26 - 3s - 99ms/step - loss: 0.0027\n",
      "Epoch 26/50\n",
      "26/26 - 2s - 94ms/step - loss: 0.0029\n",
      "Epoch 27/50\n",
      "26/26 - 3s - 106ms/step - loss: 0.0028\n",
      "Epoch 28/50\n",
      "26/26 - 3s - 99ms/step - loss: 0.0027\n",
      "Epoch 29/50\n",
      "26/26 - 3s - 112ms/step - loss: 0.0025\n",
      "Epoch 30/50\n",
      "26/26 - 2s - 96ms/step - loss: 0.0025\n",
      "Epoch 31/50\n",
      "26/26 - 3s - 102ms/step - loss: 0.0022\n",
      "Epoch 32/50\n",
      "26/26 - 3s - 98ms/step - loss: 0.0026\n",
      "Epoch 33/50\n",
      "26/26 - 3s - 97ms/step - loss: 0.0029\n",
      "Epoch 34/50\n",
      "26/26 - 2s - 91ms/step - loss: 0.0026\n",
      "Epoch 35/50\n",
      "26/26 - 3s - 97ms/step - loss: 0.0023\n",
      "Epoch 36/50\n",
      "26/26 - 2s - 88ms/step - loss: 0.0022\n",
      "Epoch 37/50\n",
      "26/26 - 3s - 99ms/step - loss: 0.0022\n",
      "Epoch 38/50\n",
      "26/26 - 2s - 92ms/step - loss: 0.0021\n",
      "Epoch 39/50\n",
      "26/26 - 3s - 99ms/step - loss: 0.0021\n",
      "Epoch 40/50\n",
      "26/26 - 3s - 99ms/step - loss: 0.0019\n",
      "Epoch 41/50\n",
      "26/26 - 2s - 93ms/step - loss: 0.0020\n",
      "Epoch 42/50\n",
      "26/26 - 2s - 94ms/step - loss: 0.0020\n",
      "Epoch 43/50\n",
      "26/26 - 2s - 93ms/step - loss: 0.0020\n",
      "Epoch 44/50\n",
      "26/26 - 3s - 112ms/step - loss: 0.0019\n",
      "Epoch 45/50\n",
      "26/26 - 6s - 221ms/step - loss: 0.0019\n",
      "Epoch 46/50\n",
      "26/26 - 5s - 198ms/step - loss: 0.0020\n",
      "Epoch 47/50\n",
      "26/26 - 3s - 106ms/step - loss: 0.0021\n",
      "Epoch 48/50\n",
      "26/26 - 3s - 107ms/step - loss: 0.0020\n",
      "Epoch 49/50\n",
      "26/26 - 3s - 118ms/step - loss: 0.0021\n",
      "Epoch 50/50\n",
      "26/26 - 6s - 222ms/step - loss: 0.0020\n"
     ]
    }
   ],
   "source": [
    "history = model.fit(X_train, y_train, epochs=50, batch_size=32, verbose=2)"
   ]
  },
  {
   "cell_type": "markdown",
   "id": "f42e8f27-b970-4800-8efa-386f8397c7d5",
   "metadata": {},
   "source": [
    "## Predict and Inverse Transform the Predictions"
   ]
  },
  {
   "cell_type": "code",
   "execution_count": 11,
   "id": "fd46526b-98ce-4507-a83a-44e7217d11b4",
   "metadata": {},
   "outputs": [
    {
     "name": "stdout",
     "output_type": "stream",
     "text": [
      "\u001b[1m12/12\u001b[0m \u001b[32m━━━━━━━━━━━━━━━━━━━━\u001b[0m\u001b[37m\u001b[0m \u001b[1m7s\u001b[0m 320ms/step\n"
     ]
    }
   ],
   "source": [
    "y_pred = model.predict(X_test)\n",
    "\n",
    "# Inverse transform the predictions\n",
    "y_pred = scaler.inverse_transform(y_pred)\n",
    "y_test = scaler.inverse_transform(y_test.reshape(-1, 1))\n",
    "train_data = scaler.inverse_transform(train_data)\n",
    "test_data = scaler.inverse_transform(test_data)"
   ]
  },
  {
   "cell_type": "markdown",
   "id": "1409b5dd-51b7-4f78-ad03-8728be7c8f8f",
   "metadata": {},
   "source": [
    "## Calculate the error of the model"
   ]
  },
  {
   "cell_type": "code",
   "execution_count": 12,
   "id": "a13a24cb-1ff4-4fca-a037-cfe5c147f4d1",
   "metadata": {},
   "outputs": [
    {
     "name": "stdout",
     "output_type": "stream",
     "text": [
      "MAPE on Test set:  0.03973712561690949\n",
      "RMSE on Test set:  6.748925244478782\n",
      "MSLE on Test set:  0.0019400130528528623\n"
     ]
    }
   ],
   "source": [
    "# The error in test set\n",
    "test_mape = mean_absolute_percentage_error(y_pred, y_test)\n",
    "test_mse = mean_squared_error(y_test, y_pred)\n",
    "test_rmse = np.sqrt(test_mse)\n",
    "test_msle = mean_squared_log_error(y_test, y_pred)\n",
    "\n",
    "print(f\"MAPE on Test set: \", test_mape)\n",
    "print(f\"RMSE on Test set: \", test_rmse)\n",
    "print(f\"MSLE on Test set: \", test_msle)"
   ]
  },
  {
   "cell_type": "markdown",
   "id": "826e9db4-0d68-4595-ae76-2daddb872e8d",
   "metadata": {},
   "source": [
    "## Predict Close price for 90 next days"
   ]
  },
  {
   "cell_type": "code",
   "execution_count": 13,
   "id": "a155c9f6-fee8-4075-ba0c-869d8828e959",
   "metadata": {},
   "outputs": [
    {
     "name": "stdout",
     "output_type": "stream",
     "text": [
      "\u001b[1m1/1\u001b[0m \u001b[32m━━━━━━━━━━━━━━━━━━━━\u001b[0m\u001b[37m\u001b[0m \u001b[1m0s\u001b[0m 143ms/step\n",
      "\u001b[1m1/1\u001b[0m \u001b[32m━━━━━━━━━━━━━━━━━━━━\u001b[0m\u001b[37m\u001b[0m \u001b[1m0s\u001b[0m 220ms/step\n",
      "\u001b[1m1/1\u001b[0m \u001b[32m━━━━━━━━━━━━━━━━━━━━\u001b[0m\u001b[37m\u001b[0m \u001b[1m0s\u001b[0m 213ms/step\n",
      "\u001b[1m1/1\u001b[0m \u001b[32m━━━━━━━━━━━━━━━━━━━━\u001b[0m\u001b[37m\u001b[0m \u001b[1m0s\u001b[0m 228ms/step\n",
      "\u001b[1m1/1\u001b[0m \u001b[32m━━━━━━━━━━━━━━━━━━━━\u001b[0m\u001b[37m\u001b[0m \u001b[1m1s\u001b[0m 506ms/step\n",
      "\u001b[1m1/1\u001b[0m \u001b[32m━━━━━━━━━━━━━━━━━━━━\u001b[0m\u001b[37m\u001b[0m \u001b[1m0s\u001b[0m 114ms/step\n",
      "\u001b[1m1/1\u001b[0m \u001b[32m━━━━━━━━━━━━━━━━━━━━\u001b[0m\u001b[37m\u001b[0m \u001b[1m2s\u001b[0m 2s/step\n",
      "\u001b[1m1/1\u001b[0m \u001b[32m━━━━━━━━━━━━━━━━━━━━\u001b[0m\u001b[37m\u001b[0m \u001b[1m1s\u001b[0m 588ms/step\n",
      "\u001b[1m1/1\u001b[0m \u001b[32m━━━━━━━━━━━━━━━━━━━━\u001b[0m\u001b[37m\u001b[0m \u001b[1m0s\u001b[0m 200ms/step\n",
      "\u001b[1m1/1\u001b[0m \u001b[32m━━━━━━━━━━━━━━━━━━━━\u001b[0m\u001b[37m\u001b[0m \u001b[1m0s\u001b[0m 343ms/step\n",
      "\u001b[1m1/1\u001b[0m \u001b[32m━━━━━━━━━━━━━━━━━━━━\u001b[0m\u001b[37m\u001b[0m \u001b[1m0s\u001b[0m 193ms/step\n",
      "\u001b[1m1/1\u001b[0m \u001b[32m━━━━━━━━━━━━━━━━━━━━\u001b[0m\u001b[37m\u001b[0m \u001b[1m0s\u001b[0m 474ms/step\n",
      "\u001b[1m1/1\u001b[0m \u001b[32m━━━━━━━━━━━━━━━━━━━━\u001b[0m\u001b[37m\u001b[0m \u001b[1m0s\u001b[0m 231ms/step\n",
      "\u001b[1m1/1\u001b[0m \u001b[32m━━━━━━━━━━━━━━━━━━━━\u001b[0m\u001b[37m\u001b[0m \u001b[1m0s\u001b[0m 178ms/step\n",
      "\u001b[1m1/1\u001b[0m \u001b[32m━━━━━━━━━━━━━━━━━━━━\u001b[0m\u001b[37m\u001b[0m \u001b[1m0s\u001b[0m 211ms/step\n",
      "\u001b[1m1/1\u001b[0m \u001b[32m━━━━━━━━━━━━━━━━━━━━\u001b[0m\u001b[37m\u001b[0m \u001b[1m0s\u001b[0m 120ms/step\n",
      "\u001b[1m1/1\u001b[0m \u001b[32m━━━━━━━━━━━━━━━━━━━━\u001b[0m\u001b[37m\u001b[0m \u001b[1m0s\u001b[0m 217ms/step\n",
      "\u001b[1m1/1\u001b[0m \u001b[32m━━━━━━━━━━━━━━━━━━━━\u001b[0m\u001b[37m\u001b[0m \u001b[1m0s\u001b[0m 167ms/step\n",
      "\u001b[1m1/1\u001b[0m \u001b[32m━━━━━━━━━━━━━━━━━━━━\u001b[0m\u001b[37m\u001b[0m \u001b[1m0s\u001b[0m 219ms/step\n",
      "\u001b[1m1/1\u001b[0m \u001b[32m━━━━━━━━━━━━━━━━━━━━\u001b[0m\u001b[37m\u001b[0m \u001b[1m0s\u001b[0m 205ms/step\n",
      "\u001b[1m1/1\u001b[0m \u001b[32m━━━━━━━━━━━━━━━━━━━━\u001b[0m\u001b[37m\u001b[0m \u001b[1m0s\u001b[0m 286ms/step\n",
      "\u001b[1m1/1\u001b[0m \u001b[32m━━━━━━━━━━━━━━━━━━━━\u001b[0m\u001b[37m\u001b[0m \u001b[1m0s\u001b[0m 138ms/step\n",
      "\u001b[1m1/1\u001b[0m \u001b[32m━━━━━━━━━━━━━━━━━━━━\u001b[0m\u001b[37m\u001b[0m \u001b[1m0s\u001b[0m 139ms/step\n",
      "\u001b[1m1/1\u001b[0m \u001b[32m━━━━━━━━━━━━━━━━━━━━\u001b[0m\u001b[37m\u001b[0m \u001b[1m0s\u001b[0m 104ms/step\n",
      "\u001b[1m1/1\u001b[0m \u001b[32m━━━━━━━━━━━━━━━━━━━━\u001b[0m\u001b[37m\u001b[0m \u001b[1m0s\u001b[0m 123ms/step\n",
      "\u001b[1m1/1\u001b[0m \u001b[32m━━━━━━━━━━━━━━━━━━━━\u001b[0m\u001b[37m\u001b[0m \u001b[1m0s\u001b[0m 102ms/step\n",
      "\u001b[1m1/1\u001b[0m \u001b[32m━━━━━━━━━━━━━━━━━━━━\u001b[0m\u001b[37m\u001b[0m \u001b[1m0s\u001b[0m 98ms/step\n",
      "\u001b[1m1/1\u001b[0m \u001b[32m━━━━━━━━━━━━━━━━━━━━\u001b[0m\u001b[37m\u001b[0m \u001b[1m0s\u001b[0m 73ms/step\n",
      "\u001b[1m1/1\u001b[0m \u001b[32m━━━━━━━━━━━━━━━━━━━━\u001b[0m\u001b[37m\u001b[0m \u001b[1m0s\u001b[0m 103ms/step\n",
      "\u001b[1m1/1\u001b[0m \u001b[32m━━━━━━━━━━━━━━━━━━━━\u001b[0m\u001b[37m\u001b[0m \u001b[1m0s\u001b[0m 96ms/step\n",
      "\u001b[1m1/1\u001b[0m \u001b[32m━━━━━━━━━━━━━━━━━━━━\u001b[0m\u001b[37m\u001b[0m \u001b[1m0s\u001b[0m 90ms/step\n",
      "\u001b[1m1/1\u001b[0m \u001b[32m━━━━━━━━━━━━━━━━━━━━\u001b[0m\u001b[37m\u001b[0m \u001b[1m0s\u001b[0m 91ms/step\n",
      "\u001b[1m1/1\u001b[0m \u001b[32m━━━━━━━━━━━━━━━━━━━━\u001b[0m\u001b[37m\u001b[0m \u001b[1m0s\u001b[0m 140ms/step\n",
      "\u001b[1m1/1\u001b[0m \u001b[32m━━━━━━━━━━━━━━━━━━━━\u001b[0m\u001b[37m\u001b[0m \u001b[1m0s\u001b[0m 245ms/step\n",
      "\u001b[1m1/1\u001b[0m \u001b[32m━━━━━━━━━━━━━━━━━━━━\u001b[0m\u001b[37m\u001b[0m \u001b[1m0s\u001b[0m 207ms/step\n",
      "\u001b[1m1/1\u001b[0m \u001b[32m━━━━━━━━━━━━━━━━━━━━\u001b[0m\u001b[37m\u001b[0m \u001b[1m0s\u001b[0m 143ms/step\n",
      "\u001b[1m1/1\u001b[0m \u001b[32m━━━━━━━━━━━━━━━━━━━━\u001b[0m\u001b[37m\u001b[0m \u001b[1m0s\u001b[0m 309ms/step\n",
      "\u001b[1m1/1\u001b[0m \u001b[32m━━━━━━━━━━━━━━━━━━━━\u001b[0m\u001b[37m\u001b[0m \u001b[1m0s\u001b[0m 218ms/step\n",
      "\u001b[1m1/1\u001b[0m \u001b[32m━━━━━━━━━━━━━━━━━━━━\u001b[0m\u001b[37m\u001b[0m \u001b[1m0s\u001b[0m 194ms/step\n",
      "\u001b[1m1/1\u001b[0m \u001b[32m━━━━━━━━━━━━━━━━━━━━\u001b[0m\u001b[37m\u001b[0m \u001b[1m0s\u001b[0m 268ms/step\n",
      "\u001b[1m1/1\u001b[0m \u001b[32m━━━━━━━━━━━━━━━━━━━━\u001b[0m\u001b[37m\u001b[0m \u001b[1m0s\u001b[0m 204ms/step\n",
      "\u001b[1m1/1\u001b[0m \u001b[32m━━━━━━━━━━━━━━━━━━━━\u001b[0m\u001b[37m\u001b[0m \u001b[1m0s\u001b[0m 215ms/step\n",
      "\u001b[1m1/1\u001b[0m \u001b[32m━━━━━━━━━━━━━━━━━━━━\u001b[0m\u001b[37m\u001b[0m \u001b[1m0s\u001b[0m 159ms/step\n",
      "\u001b[1m1/1\u001b[0m \u001b[32m━━━━━━━━━━━━━━━━━━━━\u001b[0m\u001b[37m\u001b[0m \u001b[1m0s\u001b[0m 127ms/step\n",
      "\u001b[1m1/1\u001b[0m \u001b[32m━━━━━━━━━━━━━━━━━━━━\u001b[0m\u001b[37m\u001b[0m \u001b[1m0s\u001b[0m 160ms/step\n",
      "\u001b[1m1/1\u001b[0m \u001b[32m━━━━━━━━━━━━━━━━━━━━\u001b[0m\u001b[37m\u001b[0m \u001b[1m0s\u001b[0m 187ms/step\n",
      "\u001b[1m1/1\u001b[0m \u001b[32m━━━━━━━━━━━━━━━━━━━━\u001b[0m\u001b[37m\u001b[0m \u001b[1m0s\u001b[0m 239ms/step\n",
      "\u001b[1m1/1\u001b[0m \u001b[32m━━━━━━━━━━━━━━━━━━━━\u001b[0m\u001b[37m\u001b[0m \u001b[1m0s\u001b[0m 303ms/step\n",
      "\u001b[1m1/1\u001b[0m \u001b[32m━━━━━━━━━━━━━━━━━━━━\u001b[0m\u001b[37m\u001b[0m \u001b[1m0s\u001b[0m 97ms/step\n",
      "\u001b[1m1/1\u001b[0m \u001b[32m━━━━━━━━━━━━━━━━━━━━\u001b[0m\u001b[37m\u001b[0m \u001b[1m0s\u001b[0m 111ms/step\n",
      "\u001b[1m1/1\u001b[0m \u001b[32m━━━━━━━━━━━━━━━━━━━━\u001b[0m\u001b[37m\u001b[0m \u001b[1m0s\u001b[0m 108ms/step\n",
      "\u001b[1m1/1\u001b[0m \u001b[32m━━━━━━━━━━━━━━━━━━━━\u001b[0m\u001b[37m\u001b[0m \u001b[1m0s\u001b[0m 113ms/step\n",
      "\u001b[1m1/1\u001b[0m \u001b[32m━━━━━━━━━━━━━━━━━━━━\u001b[0m\u001b[37m\u001b[0m \u001b[1m0s\u001b[0m 81ms/step\n",
      "\u001b[1m1/1\u001b[0m \u001b[32m━━━━━━━━━━━━━━━━━━━━\u001b[0m\u001b[37m\u001b[0m \u001b[1m0s\u001b[0m 67ms/step\n",
      "\u001b[1m1/1\u001b[0m \u001b[32m━━━━━━━━━━━━━━━━━━━━\u001b[0m\u001b[37m\u001b[0m \u001b[1m0s\u001b[0m 97ms/step\n",
      "\u001b[1m1/1\u001b[0m \u001b[32m━━━━━━━━━━━━━━━━━━━━\u001b[0m\u001b[37m\u001b[0m \u001b[1m0s\u001b[0m 94ms/step\n",
      "\u001b[1m1/1\u001b[0m \u001b[32m━━━━━━━━━━━━━━━━━━━━\u001b[0m\u001b[37m\u001b[0m \u001b[1m0s\u001b[0m 78ms/step\n",
      "\u001b[1m1/1\u001b[0m \u001b[32m━━━━━━━━━━━━━━━━━━━━\u001b[0m\u001b[37m\u001b[0m \u001b[1m0s\u001b[0m 63ms/step\n",
      "\u001b[1m1/1\u001b[0m \u001b[32m━━━━━━━━━━━━━━━━━━━━\u001b[0m\u001b[37m\u001b[0m \u001b[1m0s\u001b[0m 72ms/step\n",
      "\u001b[1m1/1\u001b[0m \u001b[32m━━━━━━━━━━━━━━━━━━━━\u001b[0m\u001b[37m\u001b[0m \u001b[1m0s\u001b[0m 69ms/step\n",
      "\u001b[1m1/1\u001b[0m \u001b[32m━━━━━━━━━━━━━━━━━━━━\u001b[0m\u001b[37m\u001b[0m \u001b[1m0s\u001b[0m 241ms/step\n",
      "\u001b[1m1/1\u001b[0m \u001b[32m━━━━━━━━━━━━━━━━━━━━\u001b[0m\u001b[37m\u001b[0m \u001b[1m0s\u001b[0m 231ms/step\n",
      "\u001b[1m1/1\u001b[0m \u001b[32m━━━━━━━━━━━━━━━━━━━━\u001b[0m\u001b[37m\u001b[0m \u001b[1m0s\u001b[0m 127ms/step\n",
      "\u001b[1m1/1\u001b[0m \u001b[32m━━━━━━━━━━━━━━━━━━━━\u001b[0m\u001b[37m\u001b[0m \u001b[1m0s\u001b[0m 361ms/step\n",
      "\u001b[1m1/1\u001b[0m \u001b[32m━━━━━━━━━━━━━━━━━━━━\u001b[0m\u001b[37m\u001b[0m \u001b[1m1s\u001b[0m 572ms/step\n",
      "\u001b[1m1/1\u001b[0m \u001b[32m━━━━━━━━━━━━━━━━━━━━\u001b[0m\u001b[37m\u001b[0m \u001b[1m0s\u001b[0m 75ms/step\n",
      "\u001b[1m1/1\u001b[0m \u001b[32m━━━━━━━━━━━━━━━━━━━━\u001b[0m\u001b[37m\u001b[0m \u001b[1m0s\u001b[0m 371ms/step\n",
      "\u001b[1m1/1\u001b[0m \u001b[32m━━━━━━━━━━━━━━━━━━━━\u001b[0m\u001b[37m\u001b[0m \u001b[1m0s\u001b[0m 161ms/step\n",
      "\u001b[1m1/1\u001b[0m \u001b[32m━━━━━━━━━━━━━━━━━━━━\u001b[0m\u001b[37m\u001b[0m \u001b[1m0s\u001b[0m 397ms/step\n",
      "\u001b[1m1/1\u001b[0m \u001b[32m━━━━━━━━━━━━━━━━━━━━\u001b[0m\u001b[37m\u001b[0m \u001b[1m1s\u001b[0m 837ms/step\n",
      "\u001b[1m1/1\u001b[0m \u001b[32m━━━━━━━━━━━━━━━━━━━━\u001b[0m\u001b[37m\u001b[0m \u001b[1m0s\u001b[0m 421ms/step\n",
      "\u001b[1m1/1\u001b[0m \u001b[32m━━━━━━━━━━━━━━━━━━━━\u001b[0m\u001b[37m\u001b[0m \u001b[1m0s\u001b[0m 232ms/step\n",
      "\u001b[1m1/1\u001b[0m \u001b[32m━━━━━━━━━━━━━━━━━━━━\u001b[0m\u001b[37m\u001b[0m \u001b[1m0s\u001b[0m 374ms/step\n",
      "\u001b[1m1/1\u001b[0m \u001b[32m━━━━━━━━━━━━━━━━━━━━\u001b[0m\u001b[37m\u001b[0m \u001b[1m0s\u001b[0m 104ms/step\n",
      "\u001b[1m1/1\u001b[0m \u001b[32m━━━━━━━━━━━━━━━━━━━━\u001b[0m\u001b[37m\u001b[0m \u001b[1m1s\u001b[0m 754ms/step\n",
      "\u001b[1m1/1\u001b[0m \u001b[32m━━━━━━━━━━━━━━━━━━━━\u001b[0m\u001b[37m\u001b[0m \u001b[1m0s\u001b[0m 485ms/step\n",
      "\u001b[1m1/1\u001b[0m \u001b[32m━━━━━━━━━━━━━━━━━━━━\u001b[0m\u001b[37m\u001b[0m \u001b[1m0s\u001b[0m 227ms/step\n",
      "\u001b[1m1/1\u001b[0m \u001b[32m━━━━━━━━━━━━━━━━━━━━\u001b[0m\u001b[37m\u001b[0m \u001b[1m0s\u001b[0m 470ms/step\n",
      "\u001b[1m1/1\u001b[0m \u001b[32m━━━━━━━━━━━━━━━━━━━━\u001b[0m\u001b[37m\u001b[0m \u001b[1m0s\u001b[0m 330ms/step\n",
      "\u001b[1m1/1\u001b[0m \u001b[32m━━━━━━━━━━━━━━━━━━━━\u001b[0m\u001b[37m\u001b[0m \u001b[1m0s\u001b[0m 218ms/step\n",
      "\u001b[1m1/1\u001b[0m \u001b[32m━━━━━━━━━━━━━━━━━━━━\u001b[0m\u001b[37m\u001b[0m \u001b[1m0s\u001b[0m 157ms/step\n",
      "\u001b[1m1/1\u001b[0m \u001b[32m━━━━━━━━━━━━━━━━━━━━\u001b[0m\u001b[37m\u001b[0m \u001b[1m0s\u001b[0m 224ms/step\n",
      "\u001b[1m1/1\u001b[0m \u001b[32m━━━━━━━━━━━━━━━━━━━━\u001b[0m\u001b[37m\u001b[0m \u001b[1m0s\u001b[0m 285ms/step\n",
      "\u001b[1m1/1\u001b[0m \u001b[32m━━━━━━━━━━━━━━━━━━━━\u001b[0m\u001b[37m\u001b[0m \u001b[1m0s\u001b[0m 425ms/step\n",
      "\u001b[1m1/1\u001b[0m \u001b[32m━━━━━━━━━━━━━━━━━━━━\u001b[0m\u001b[37m\u001b[0m \u001b[1m0s\u001b[0m 136ms/step\n",
      "\u001b[1m1/1\u001b[0m \u001b[32m━━━━━━━━━━━━━━━━━━━━\u001b[0m\u001b[37m\u001b[0m \u001b[1m0s\u001b[0m 148ms/step\n",
      "\u001b[1m1/1\u001b[0m \u001b[32m━━━━━━━━━━━━━━━━━━━━\u001b[0m\u001b[37m\u001b[0m \u001b[1m0s\u001b[0m 489ms/step\n",
      "\u001b[1m1/1\u001b[0m \u001b[32m━━━━━━━━━━━━━━━━━━━━\u001b[0m\u001b[37m\u001b[0m \u001b[1m0s\u001b[0m 79ms/step\n",
      "\u001b[1m1/1\u001b[0m \u001b[32m━━━━━━━━━━━━━━━━━━━━\u001b[0m\u001b[37m\u001b[0m \u001b[1m0s\u001b[0m 64ms/step\n",
      "\u001b[1m1/1\u001b[0m \u001b[32m━━━━━━━━━━━━━━━━━━━━\u001b[0m\u001b[37m\u001b[0m \u001b[1m0s\u001b[0m 71ms/step\n"
     ]
    }
   ],
   "source": [
    "# Select the last day of current index\n",
    "last_date = df.index[-1]\n",
    "\n",
    "# Add a new day after the last day\n",
    "next_date = last_date + pd.DateOffset(days=1)\n",
    "\n",
    "# Generate a list of index only starting from the next day in 90 days\n",
    "index_next_90_days = pd.date_range(start=next_date, periods=90).tolist()\n",
    "\n",
    "# Predict Close price for 90 next days\n",
    "last_sequence_days = data_scaled[-sequence_length:].reshape(1, -1, 1)\n",
    "\n",
    "y_next_90_days = []\n",
    "\n",
    "for i in range(90):\n",
    "    # Predict Close price for next day\n",
    "    next_day_pred = model.predict(last_sequence_days)\n",
    "    \n",
    "    # Save the predict value\n",
    "    y_next_90_days.append(next_day_pred[0][0])\n",
    "    \n",
    "    # Update information of the next day\n",
    "    last_sequence_days = np.concatenate([last_sequence_days[:, 1:, :], next_day_pred.reshape(1, 1, 1)], axis=1)"
   ]
  },
  {
   "cell_type": "code",
   "execution_count": 14,
   "id": "31e664ea-12e2-4edc-a161-d9f8c3dd4d44",
   "metadata": {},
   "outputs": [
    {
     "name": "stdout",
     "output_type": "stream",
     "text": [
      "[167.47707  167.17365  166.20374  164.69966  162.87982  160.94925\n",
      " 159.05565  157.2843   155.6713   154.22134  152.92319  151.75938\n",
      " 150.7118   149.76358  148.89949  148.10556  147.36911  146.67809\n",
      " 146.0217   145.39018  144.77515  144.16962  143.56812  142.96657\n",
      " 142.36215  141.7532   141.13904  140.51978  139.89609  139.2691\n",
      " 138.64029  138.01123  137.38356  136.75896  136.1389   135.52484\n",
      " 134.91791  134.31914  133.72925  133.14885  132.57831  132.01778\n",
      " 131.46727  130.9267   130.39583  129.87436  129.3619   128.85803\n",
      " 128.3624   127.87449  127.39386  126.92013  126.4529   125.99183\n",
      " 125.5366   125.08691  124.6425   124.20319  123.76875  123.339096\n",
      " 122.91405  122.493576 122.077545 121.66591  121.258606 120.855606\n",
      " 120.456856 120.06233  119.672    119.285805 118.90376  118.52583\n",
      " 118.15194  117.782074 117.4162   117.05427  116.69622  116.342026\n",
      " 115.99164  115.64499  115.30206  114.962776 114.6271   114.294975\n",
      " 113.966354 113.641205 113.31946  113.001076 112.686035 112.374275]\n"
     ]
    }
   ],
   "source": [
    "# Show the result of predict 90 next days \n",
    "y_next_90_days = scaler.inverse_transform(np.array(y_next_90_days).reshape(-1, 1))\n",
    "print(y_next_90_days.flatten())"
   ]
  },
  {
   "cell_type": "markdown",
   "id": "8786906f-caf8-415a-a3fb-cf5f8270b0f8",
   "metadata": {},
   "source": [
    "## Model visualization"
   ]
  },
  {
   "cell_type": "code",
   "execution_count": 15,
   "id": "fcea2a4d-3499-47dc-80a7-7fbcee6e6927",
   "metadata": {},
   "outputs": [
    {
     "data": {
      "image/png": "[encoded data removed]",
      "text/plain": [
       "<Figure size 1200x500 with 1 Axes>"
      ]
     },
     "metadata": {},
     "output_type": "display_data"
    }
   ],
   "source": [
    "plt.figure(figsize=(12, 5))\n",
    "\n",
    "# Train set\n",
    "plt.plot(df[:train_size].index, train_data)\n",
    "\n",
    "# Test set\n",
    "plt.plot(df[train_size:].index, test_data)\n",
    "\n",
    "# Predict in test set\n",
    "plt.plot(df[train_size:].index, y_pred)\n",
    "\n",
    "# Predict 90 next days\n",
    "plt.plot(index_next_90_days, y_next_90_days)\n",
    "\n",
    "plt.legend(['Train', 'Test', 'Predict Test', 'Predict90days'])\n",
    "plt.grid()\n",
    "plt.title(\"ABBV Closing Price Data With Ratio 7_3\")\n",
    "plt.xlabel(\"Date\")\n",
    "plt.ylabel(\"Close value\")\n",
    "plt.savefig('Image/RNN_73_90days_ABBV.png')\n",
    "plt.show()"
   ]
  },
  {
   "cell_type": "code",
   "execution_count": null,
   "id": "f399ed86-7370-47ce-bb6e-53cc76338705",
   "metadata": {},
   "outputs": [],
   "source": []
  }
 ],
 "metadata": {
  "kernelspec": {
   "display_name": "Python 3 (ipykernel)",
   "language": "python",
   "name": "python3"
  },
  "language_info": {
   "codemirror_mode": {
    "name": "ipython",
    "version": 3
   },
   "file_extension": ".py",
   "mimetype": "text/x-python",
   "name": "python",
   "nbconvert_exporter": "python",
   "pygments_lexer": "ipython3",
   "version": "3.11.5"
  }
 },
 "nbformat": 4,
 "nbformat_minor": 5
}
