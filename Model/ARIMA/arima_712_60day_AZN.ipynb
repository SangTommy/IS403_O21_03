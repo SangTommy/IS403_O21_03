{
 "cells": [
  {
   "cell_type": "markdown",
   "id": "d6139965-a3fb-4a90-80e8-7a8799a94072",
   "metadata": {},
   "source": [
    "## Import Libraries"
   ]
  },
  {
   "cell_type": "code",
   "execution_count": 1,
   "id": "ea3dda81-40b9-4e37-838b-f0c4bcf5d6ff",
   "metadata": {},
   "outputs": [],
   "source": [
    "# Library to support working with data\n",
    "import pandas as pd\n",
    "import numpy as np\n",
    "\n",
    "# Data Normalization Support Library\n",
    "from sklearn.preprocessing import MinMaxScaler\n",
    "\n",
    "# Performance metrics calculation support library\n",
    "from sklearn.metrics import r2_score, explained_variance_score, mean_squared_error, mean_absolute_percentage_error, mean_absolute_error, mean_squared_log_error\n",
    "\n",
    "# Graphing support library\n",
    "from matplotlib import ticker\n",
    "import matplotlib.pyplot as plt"
   ]
  },
  {
   "cell_type": "code",
   "execution_count": 2,
   "id": "2e5b437b-5462-4c38-b8fd-db3099a592a9",
   "metadata": {},
   "outputs": [
    {
     "data": {
      "text/html": [
       "<div>\n",
       "<style scoped>\n",
       "    .dataframe tbody tr th:only-of-type {\n",
       "        vertical-align: middle;\n",
       "    }\n",
       "\n",
       "    .dataframe tbody tr th {\n",
       "        vertical-align: top;\n",
       "    }\n",
       "\n",
       "    .dataframe thead th {\n",
       "        text-align: right;\n",
       "    }\n",
       "</style>\n",
       "<table border=\"1\" class=\"dataframe\">\n",
       "  <thead>\n",
       "    <tr style=\"text-align: right;\">\n",
       "      <th></th>\n",
       "      <th>Date</th>\n",
       "      <th>Open</th>\n",
       "      <th>High</th>\n",
       "      <th>Low</th>\n",
       "      <th>Close</th>\n",
       "      <th>Adj Close</th>\n",
       "      <th>Volume</th>\n",
       "    </tr>\n",
       "  </thead>\n",
       "  <tbody>\n",
       "    <tr>\n",
       "      <th>0</th>\n",
       "      <td>2019-03-01</td>\n",
       "      <td>41.610001</td>\n",
       "      <td>41.759998</td>\n",
       "      <td>41.480000</td>\n",
       "      <td>41.759998</td>\n",
       "      <td>36.845528</td>\n",
       "      <td>4590000</td>\n",
       "    </tr>\n",
       "    <tr>\n",
       "      <th>1</th>\n",
       "      <td>2019-03-04</td>\n",
       "      <td>41.730000</td>\n",
       "      <td>41.810001</td>\n",
       "      <td>41.389999</td>\n",
       "      <td>41.689999</td>\n",
       "      <td>36.783760</td>\n",
       "      <td>3948200</td>\n",
       "    </tr>\n",
       "    <tr>\n",
       "      <th>2</th>\n",
       "      <td>2019-03-05</td>\n",
       "      <td>41.560001</td>\n",
       "      <td>42.610001</td>\n",
       "      <td>41.560001</td>\n",
       "      <td>42.310001</td>\n",
       "      <td>37.330803</td>\n",
       "      <td>5668200</td>\n",
       "    </tr>\n",
       "    <tr>\n",
       "      <th>3</th>\n",
       "      <td>2019-03-06</td>\n",
       "      <td>42.360001</td>\n",
       "      <td>42.389999</td>\n",
       "      <td>41.930000</td>\n",
       "      <td>42.029999</td>\n",
       "      <td>37.083748</td>\n",
       "      <td>2490000</td>\n",
       "    </tr>\n",
       "    <tr>\n",
       "      <th>4</th>\n",
       "      <td>2019-03-07</td>\n",
       "      <td>41.610001</td>\n",
       "      <td>41.770000</td>\n",
       "      <td>41.330002</td>\n",
       "      <td>41.660000</td>\n",
       "      <td>36.757298</td>\n",
       "      <td>5283900</td>\n",
       "    </tr>\n",
       "    <tr>\n",
       "      <th>...</th>\n",
       "      <td>...</td>\n",
       "      <td>...</td>\n",
       "      <td>...</td>\n",
       "      <td>...</td>\n",
       "      <td>...</td>\n",
       "      <td>...</td>\n",
       "      <td>...</td>\n",
       "    </tr>\n",
       "    <tr>\n",
       "      <th>1254</th>\n",
       "      <td>2024-02-23</td>\n",
       "      <td>64.959999</td>\n",
       "      <td>65.930000</td>\n",
       "      <td>64.949997</td>\n",
       "      <td>65.830002</td>\n",
       "      <td>65.830002</td>\n",
       "      <td>7388200</td>\n",
       "    </tr>\n",
       "    <tr>\n",
       "      <th>1255</th>\n",
       "      <td>2024-02-26</td>\n",
       "      <td>66.080002</td>\n",
       "      <td>66.370003</td>\n",
       "      <td>65.750000</td>\n",
       "      <td>65.930000</td>\n",
       "      <td>65.930000</td>\n",
       "      <td>4597900</td>\n",
       "    </tr>\n",
       "    <tr>\n",
       "      <th>1256</th>\n",
       "      <td>2024-02-27</td>\n",
       "      <td>65.940002</td>\n",
       "      <td>66.459999</td>\n",
       "      <td>65.769997</td>\n",
       "      <td>66.330002</td>\n",
       "      <td>66.330002</td>\n",
       "      <td>4433500</td>\n",
       "    </tr>\n",
       "    <tr>\n",
       "      <th>1257</th>\n",
       "      <td>2024-02-28</td>\n",
       "      <td>65.459999</td>\n",
       "      <td>65.779999</td>\n",
       "      <td>65.160004</td>\n",
       "      <td>65.349998</td>\n",
       "      <td>65.349998</td>\n",
       "      <td>6030600</td>\n",
       "    </tr>\n",
       "    <tr>\n",
       "      <th>1258</th>\n",
       "      <td>2024-02-29</td>\n",
       "      <td>65.169998</td>\n",
       "      <td>65.209999</td>\n",
       "      <td>63.740002</td>\n",
       "      <td>64.160004</td>\n",
       "      <td>64.160004</td>\n",
       "      <td>6084500</td>\n",
       "    </tr>\n",
       "  </tbody>\n",
       "</table>\n",
       "<p>1259 rows × 7 columns</p>\n",
       "</div>"
      ],
      "text/plain": [
       "            Date       Open       High        Low      Close  Adj Close  \\\n",
       "0     2019-03-01  41.610001  41.759998  41.480000  41.759998  36.845528   \n",
       "1     2019-03-04  41.730000  41.810001  41.389999  41.689999  36.783760   \n",
       "2     2019-03-05  41.560001  42.610001  41.560001  42.310001  37.330803   \n",
       "3     2019-03-06  42.360001  42.389999  41.930000  42.029999  37.083748   \n",
       "4     2019-03-07  41.610001  41.770000  41.330002  41.660000  36.757298   \n",
       "...          ...        ...        ...        ...        ...        ...   \n",
       "1254  2024-02-23  64.959999  65.930000  64.949997  65.830002  65.830002   \n",
       "1255  2024-02-26  66.080002  66.370003  65.750000  65.930000  65.930000   \n",
       "1256  2024-02-27  65.940002  66.459999  65.769997  66.330002  66.330002   \n",
       "1257  2024-02-28  65.459999  65.779999  65.160004  65.349998  65.349998   \n",
       "1258  2024-02-29  65.169998  65.209999  63.740002  64.160004  64.160004   \n",
       "\n",
       "       Volume  \n",
       "0     4590000  \n",
       "1     3948200  \n",
       "2     5668200  \n",
       "3     2490000  \n",
       "4     5283900  \n",
       "...       ...  \n",
       "1254  7388200  \n",
       "1255  4597900  \n",
       "1256  4433500  \n",
       "1257  6030600  \n",
       "1258  6084500  \n",
       "\n",
       "[1259 rows x 7 columns]"
      ]
     },
     "execution_count": 2,
     "metadata": {},
     "output_type": "execute_result"
    }
   ],
   "source": [
    "df = pd.read_csv(\"AZN-AstraZeneca.csv\")\n",
    "df"
   ]
  },
  {
   "cell_type": "markdown",
   "id": "9e018a41-4f24-4611-a918-baa94f7c51bd",
   "metadata": {},
   "source": [
    "## Reset index"
   ]
  },
  {
   "cell_type": "code",
   "execution_count": 3,
   "id": "ae4d1e2b-9aae-4c6b-9a00-67cc6df0b8db",
   "metadata": {},
   "outputs": [],
   "source": [
    "# Convert the 'Date' column to datetime format\n",
    "df['Date'] = pd.to_datetime(df['Date'])\n",
    "\n",
    "# Set the 'Date' column as the index value\n",
    "df.set_index('Date', inplace=True)"
   ]
  },
  {
   "cell_type": "code",
   "execution_count": 4,
   "id": "c61efcd4-ad1f-4675-bf1d-6234c898d378",
   "metadata": {},
   "outputs": [],
   "source": [
    "# Select the Close column as the dependent variable\n",
    "df_Close = df[['Close']]\n",
    "df_Close = df_Close.reset_index(drop=True)"
   ]
  },
  {
   "cell_type": "markdown",
   "id": "d5e7cf94-c543-4a14-b393-6f975222501f",
   "metadata": {},
   "source": [
    "## Data normalization"
   ]
  },
  {
   "cell_type": "code",
   "execution_count": 5,
   "id": "57949cff-0319-4ffc-a45c-0bef3ddab0eb",
   "metadata": {},
   "outputs": [],
   "source": [
    "# Min-max normalization\n",
    "scaler = MinMaxScaler(feature_range=(0, 1))\n",
    "data_scaled = scaler.fit_transform(np.array(df_Close))"
   ]
  },
  {
   "cell_type": "markdown",
   "id": "1a035aed-6c03-4994-9345-103ba6889ddd",
   "metadata": {},
   "source": [
    "## Data splitting"
   ]
  },
  {
   "cell_type": "code",
   "execution_count": 6,
   "id": "7fb3fd6c-32e4-47f6-b038-8b773f63338e",
   "metadata": {},
   "outputs": [],
   "source": [
    "# Split the data into training, validation and test dataset in a ratio of 6:2:2\n",
    "train_size = int(0.7 * len(data_scaled))\n",
    "val_size = int(0.1 * len(data_scaled))\n",
    "test_size = len(data_scaled) - train_size - val_size\n",
    "\n",
    "train_data = data_scaled[: train_size]\n",
    "val_data = data_scaled[train_size : train_size + val_size]\n",
    "test_data = data_scaled[train_size + val_size :]"
   ]
  },
  {
   "cell_type": "markdown",
   "id": "016a6fae-5e3f-4f90-9274-64e4eecc15df",
   "metadata": {},
   "source": [
    "## Model training and testing"
   ]
  },
  {
   "cell_type": "code",
   "execution_count": 7,
   "id": "a6d228c1-280c-41c1-95eb-794802e748be",
   "metadata": {
    "scrolled": true
   },
   "outputs": [
    {
     "name": "stdout",
     "output_type": "stream",
     "text": [
      "Requirement already satisfied: blosc2~=2.0.0 in d:\\anaconda\\anaconda3\\lib\\site-packages (2.0.0)\n",
      "Requirement already satisfied: msgpack in d:\\anaconda\\anaconda3\\lib\\site-packages (from blosc2~=2.0.0) (1.0.3)\n",
      "Note: you may need to restart the kernel to use updated packages.\n"
     ]
    }
   ],
   "source": [
    "pip install blosc2~=2.0.0"
   ]
  },
  {
   "cell_type": "code",
   "execution_count": 8,
   "id": "03481ec7-0b5a-43fe-8a94-1b56cf0928e9",
   "metadata": {},
   "outputs": [
    {
     "name": "stdout",
     "output_type": "stream",
     "text": [
      "Requirement already satisfied: pmdarima in d:\\anaconda\\anaconda3\\lib\\site-packages (2.0.4)\n",
      "Requirement already satisfied: joblib>=0.11 in d:\\anaconda\\anaconda3\\lib\\site-packages (from pmdarima) (1.2.0)\n",
      "Requirement already satisfied: Cython!=0.29.18,!=0.29.31,>=0.29 in d:\\anaconda\\anaconda3\\lib\\site-packages (from pmdarima) (3.0.10)\n",
      "Requirement already satisfied: numpy>=1.21.2 in d:\\anaconda\\anaconda3\\lib\\site-packages (from pmdarima) (1.24.3)\n",
      "Requirement already satisfied: pandas>=0.19 in d:\\anaconda\\anaconda3\\lib\\site-packages (from pmdarima) (2.0.3)\n",
      "Requirement already satisfied: scikit-learn>=0.22 in d:\\anaconda\\anaconda3\\lib\\site-packages (from pmdarima) (1.3.0)\n",
      "Requirement already satisfied: scipy>=1.3.2 in d:\\anaconda\\anaconda3\\lib\\site-packages (from pmdarima) (1.11.1)\n",
      "Requirement already satisfied: statsmodels>=0.13.2 in d:\\anaconda\\anaconda3\\lib\\site-packages (from pmdarima) (0.14.0)\n",
      "Requirement already satisfied: urllib3 in d:\\anaconda\\anaconda3\\lib\\site-packages (from pmdarima) (1.26.16)\n",
      "Requirement already satisfied: setuptools!=50.0.0,>=38.6.0 in d:\\anaconda\\anaconda3\\lib\\site-packages (from pmdarima) (68.0.0)\n",
      "Requirement already satisfied: packaging>=17.1 in d:\\anaconda\\anaconda3\\lib\\site-packages (from pmdarima) (23.1)\n",
      "Requirement already satisfied: python-dateutil>=2.8.2 in d:\\anaconda\\anaconda3\\lib\\site-packages (from pandas>=0.19->pmdarima) (2.8.2)\n",
      "Requirement already satisfied: pytz>=2020.1 in d:\\anaconda\\anaconda3\\lib\\site-packages (from pandas>=0.19->pmdarima) (2023.3.post1)\n",
      "Requirement already satisfied: tzdata>=2022.1 in d:\\anaconda\\anaconda3\\lib\\site-packages (from pandas>=0.19->pmdarima) (2023.3)\n",
      "Requirement already satisfied: threadpoolctl>=2.0.0 in d:\\anaconda\\anaconda3\\lib\\site-packages (from scikit-learn>=0.22->pmdarima) (2.2.0)\n",
      "Requirement already satisfied: patsy>=0.5.2 in d:\\anaconda\\anaconda3\\lib\\site-packages (from statsmodels>=0.13.2->pmdarima) (0.5.3)\n",
      "Requirement already satisfied: six in d:\\anaconda\\anaconda3\\lib\\site-packages (from patsy>=0.5.2->statsmodels>=0.13.2->pmdarima) (1.16.0)\n"
     ]
    }
   ],
   "source": [
    "# Install library pmdarima\n",
    "!pip install pmdarima"
   ]
  },
  {
   "cell_type": "markdown",
   "id": "3ff30cc8-9d3f-4f9b-8ec0-6be60a17cc1e",
   "metadata": {},
   "source": [
    "## Training process"
   ]
  },
  {
   "cell_type": "code",
   "execution_count": 9,
   "id": "6b9d1d9c-525c-4555-baf6-adff46f42120",
   "metadata": {},
   "outputs": [],
   "source": [
    "# Preparing training data\n",
    "x_train = np.arange(train_size).reshape(-1, 1)\n",
    "y_train = train_data.reshape(-1)"
   ]
  },
  {
   "cell_type": "code",
   "execution_count": 10,
   "id": "018b8b51-3d50-4d5c-978e-b53e8872a640",
   "metadata": {},
   "outputs": [
    {
     "name": "stdout",
     "output_type": "stream",
     "text": [
      "Performing stepwise search to minimize aic\n",
      " ARIMA(2,1,2)(0,0,0)[0] intercept   : AIC=-4075.778, Time=0.72 sec\n",
      " ARIMA(0,1,0)(0,0,0)[0] intercept   : AIC=-4075.052, Time=0.10 sec\n",
      " ARIMA(1,1,0)(0,0,0)[0] intercept   : AIC=-4082.531, Time=0.11 sec\n",
      " ARIMA(0,1,1)(0,0,0)[0] intercept   : AIC=-4082.291, Time=0.09 sec\n",
      " ARIMA(0,1,0)(0,0,0)[0]             : AIC=-4076.240, Time=0.10 sec\n",
      " ARIMA(2,1,0)(0,0,0)[0] intercept   : AIC=-4080.599, Time=0.08 sec\n",
      " ARIMA(1,1,1)(0,0,0)[0] intercept   : AIC=-4080.597, Time=0.12 sec\n",
      " ARIMA(2,1,1)(0,0,0)[0] intercept   : AIC=-4078.655, Time=0.32 sec\n",
      " ARIMA(1,1,0)(0,0,0)[0]             : AIC=-4083.516, Time=0.05 sec\n",
      " ARIMA(2,1,0)(0,0,0)[0]             : AIC=-4081.603, Time=0.08 sec\n",
      " ARIMA(1,1,1)(0,0,0)[0]             : AIC=-4081.598, Time=0.07 sec\n",
      " ARIMA(0,1,1)(0,0,0)[0]             : AIC=-4083.260, Time=0.07 sec\n",
      " ARIMA(2,1,1)(0,0,0)[0]             : AIC=-4079.397, Time=0.05 sec\n",
      "\n",
      "Best model:  ARIMA(1,1,0)(0,0,0)[0]          \n",
      "Total fit time: 1.959 seconds\n"
     ]
    }
   ],
   "source": [
    "# Find the best ARIMA model using auto_arima\n",
    "from pmdarima.arima import auto_arima\n",
    "model = auto_arima(y_train, trace=True, error_action='ignore', suppress_warnings=True)"
   ]
  },
  {
   "cell_type": "code",
   "execution_count": 11,
   "id": "58030a70-5db5-4359-9a0f-06d3898803e5",
   "metadata": {},
   "outputs": [
    {
     "data": {
      "text/html": [
       "<style>#sk-container-id-1 {color: black;}#sk-container-id-1 pre{padding: 0;}#sk-container-id-1 div.sk-toggleable {background-color: white;}#sk-container-id-1 label.sk-toggleable__label {cursor: pointer;display: block;width: 100%;margin-bottom: 0;padding: 0.3em;box-sizing: border-box;text-align: center;}#sk-container-id-1 label.sk-toggleable__label-arrow:before {content: \"▸\";float: left;margin-right: 0.25em;color: #696969;}#sk-container-id-1 label.sk-toggleable__label-arrow:hover:before {color: black;}#sk-container-id-1 div.sk-estimator:hover label.sk-toggleable__label-arrow:before {color: black;}#sk-container-id-1 div.sk-toggleable__content {max-height: 0;max-width: 0;overflow: hidden;text-align: left;background-color: #f0f8ff;}#sk-container-id-1 div.sk-toggleable__content pre {margin: 0.2em;color: black;border-radius: 0.25em;background-color: #f0f8ff;}#sk-container-id-1 input.sk-toggleable__control:checked~div.sk-toggleable__content {max-height: 200px;max-width: 100%;overflow: auto;}#sk-container-id-1 input.sk-toggleable__control:checked~label.sk-toggleable__label-arrow:before {content: \"▾\";}#sk-container-id-1 div.sk-estimator input.sk-toggleable__control:checked~label.sk-toggleable__label {background-color: #d4ebff;}#sk-container-id-1 div.sk-label input.sk-toggleable__control:checked~label.sk-toggleable__label {background-color: #d4ebff;}#sk-container-id-1 input.sk-hidden--visually {border: 0;clip: rect(1px 1px 1px 1px);clip: rect(1px, 1px, 1px, 1px);height: 1px;margin: -1px;overflow: hidden;padding: 0;position: absolute;width: 1px;}#sk-container-id-1 div.sk-estimator {font-family: monospace;background-color: #f0f8ff;border: 1px dotted black;border-radius: 0.25em;box-sizing: border-box;margin-bottom: 0.5em;}#sk-container-id-1 div.sk-estimator:hover {background-color: #d4ebff;}#sk-container-id-1 div.sk-parallel-item::after {content: \"\";width: 100%;border-bottom: 1px solid gray;flex-grow: 1;}#sk-container-id-1 div.sk-label:hover label.sk-toggleable__label {background-color: #d4ebff;}#sk-container-id-1 div.sk-serial::before {content: \"\";position: absolute;border-left: 1px solid gray;box-sizing: border-box;top: 0;bottom: 0;left: 50%;z-index: 0;}#sk-container-id-1 div.sk-serial {display: flex;flex-direction: column;align-items: center;background-color: white;padding-right: 0.2em;padding-left: 0.2em;position: relative;}#sk-container-id-1 div.sk-item {position: relative;z-index: 1;}#sk-container-id-1 div.sk-parallel {display: flex;align-items: stretch;justify-content: center;background-color: white;position: relative;}#sk-container-id-1 div.sk-item::before, #sk-container-id-1 div.sk-parallel-item::before {content: \"\";position: absolute;border-left: 1px solid gray;box-sizing: border-box;top: 0;bottom: 0;left: 50%;z-index: -1;}#sk-container-id-1 div.sk-parallel-item {display: flex;flex-direction: column;z-index: 1;position: relative;background-color: white;}#sk-container-id-1 div.sk-parallel-item:first-child::after {align-self: flex-end;width: 50%;}#sk-container-id-1 div.sk-parallel-item:last-child::after {align-self: flex-start;width: 50%;}#sk-container-id-1 div.sk-parallel-item:only-child::after {width: 0;}#sk-container-id-1 div.sk-dashed-wrapped {border: 1px dashed gray;margin: 0 0.4em 0.5em 0.4em;box-sizing: border-box;padding-bottom: 0.4em;background-color: white;}#sk-container-id-1 div.sk-label label {font-family: monospace;font-weight: bold;display: inline-block;line-height: 1.2em;}#sk-container-id-1 div.sk-label-container {text-align: center;}#sk-container-id-1 div.sk-container {/* jupyter's `normalize.less` sets `[hidden] { display: none; }` but bootstrap.min.css set `[hidden] { display: none !important; }` so we also need the `!important` here to be able to override the default hidden behavior on the sphinx rendered scikit-learn.org. See: https://github.com/scikit-learn/scikit-learn/issues/21755 */display: inline-block !important;position: relative;}#sk-container-id-1 div.sk-text-repr-fallback {display: none;}</style><div id=\"sk-container-id-1\" class=\"sk-top-container\"><div class=\"sk-text-repr-fallback\"><pre> ARIMA(1,1,0)(0,0,0)[0]          </pre><b>In a Jupyter environment, please rerun this cell to show the HTML representation or trust the notebook. <br />On GitHub, the HTML representation is unable to render, please try loading this page with nbviewer.org.</b></div><div class=\"sk-container\" hidden><div class=\"sk-item\"><div class=\"sk-estimator sk-toggleable\"><input class=\"sk-toggleable__control sk-hidden--visually\" id=\"sk-estimator-id-1\" type=\"checkbox\" checked><label for=\"sk-estimator-id-1\" class=\"sk-toggleable__label sk-toggleable__label-arrow\">ARIMA</label><div class=\"sk-toggleable__content\"><pre> ARIMA(1,1,0)(0,0,0)[0]          </pre></div></div></div></div></div>"
      ],
      "text/plain": [
       "ARIMA(order=(1, 1, 0), scoring_args={}, suppress_warnings=True,\n",
       "      with_intercept=False)"
      ]
     },
     "execution_count": 11,
     "metadata": {},
     "output_type": "execute_result"
    }
   ],
   "source": [
    "# Fit the model\n",
    "model.fit(y_train)"
   ]
  },
  {
   "cell_type": "markdown",
   "id": "8bc6e451-ecea-433a-b753-ed172f4a552d",
   "metadata": {},
   "source": [
    "## Validate Processing"
   ]
  },
  {
   "cell_type": "code",
   "execution_count": 12,
   "id": "147ac147-ea52-4f51-908a-dddb2060ec89",
   "metadata": {},
   "outputs": [],
   "source": [
    "# Preparing validation data\n",
    "x_val = np.array(range(train_size, train_size + val_size)).reshape(-1, 1)\n",
    "y_val = np.array(val_data).reshape(-1)\n",
    "y_pred_val = model.predict(n_periods = len(y_val))"
   ]
  },
  {
   "cell_type": "markdown",
   "id": "53429de9-203e-4733-9d64-02bc2ca9c81d",
   "metadata": {},
   "source": [
    "## Testing Processing"
   ]
  },
  {
   "cell_type": "code",
   "execution_count": 13,
   "id": "e555630a-2a41-47dc-a032-22a3716c5392",
   "metadata": {},
   "outputs": [],
   "source": [
    "x_test = np.array(range(test_size, train_size + val_size + test_size)).reshape(-1, 1)\n",
    "y_test = np.array(test_data).reshape(-1)\n",
    "y_pred = model.predict(n_periods=len(y_test))"
   ]
  },
  {
   "cell_type": "markdown",
   "id": "f7021f81-b08b-4edf-b158-790897f90b8e",
   "metadata": {},
   "source": [
    "## Evaluate Model"
   ]
  },
  {
   "cell_type": "code",
   "execution_count": 14,
   "id": "416eb901-2dd6-4e49-bd74-5087593fe599",
   "metadata": {},
   "outputs": [
    {
     "name": "stdout",
     "output_type": "stream",
     "text": [
      "MAPE on Validate set:  0.08291661643204967\n",
      "RMSE on Validate set:  6.247449331905818\n",
      "MSLE on Validate set:  0.00993222650643317\n"
     ]
    }
   ],
   "source": [
    "# Evaluate the accuracy of validation\n",
    "y_val = scaler.inverse_transform(np.array([y_val]).reshape(-1, 1))\n",
    "y_pred_val = scaler.inverse_transform(np.array([y_pred_val]).reshape(-1, 1))\n",
    "\n",
    "val_mape = mean_absolute_percentage_error(y_val, y_pred_val)\n",
    "val_mse = mean_squared_error(y_val, y_pred_val)\n",
    "val_rmse = np.sqrt(val_mse)\n",
    "val_msle = mean_squared_log_error(y_val, y_pred_val)\n",
    "\n",
    "print(f\"MAPE on Validate set: \", val_mape)\n",
    "print(f\"RMSE on Validate set: \", val_rmse)\n",
    "print(f\"MSLE on Validate set: \", val_msle)"
   ]
  },
  {
   "cell_type": "code",
   "execution_count": 15,
   "id": "5b185380-9a1e-4a99-bc34-ab153bcb5adf",
   "metadata": {},
   "outputs": [
    {
     "name": "stdout",
     "output_type": "stream",
     "text": [
      "MAPE on Test dataset:  0.044674404602489524\n",
      "RMSE on Test dataset:  4.061099526002309\n",
      "MSLE on Test dataset:  0.003339438883219318\n"
     ]
    }
   ],
   "source": [
    "# Evaluate the accuracy of test\n",
    "y_test = scaler.inverse_transform(np.array([y_test]).reshape(-1, 1))\n",
    "y_pred = scaler.inverse_transform(np.array([y_pred]).reshape(-1, 1))\n",
    "\n",
    "test_mape = mean_absolute_percentage_error(y_test, y_pred)\n",
    "test_mse = mean_squared_error(y_test, y_pred)\n",
    "test_rmse = np.sqrt(test_mse)\n",
    "test_msle = mean_squared_log_error(y_test, y_pred)\n",
    "\n",
    "print(f\"MAPE on Test dataset: \", test_mape)\n",
    "print(f\"RMSE on Test dataset: \", test_rmse)\n",
    "print(f\"MSLE on Test dataset: \", test_msle)"
   ]
  },
  {
   "cell_type": "markdown",
   "id": "9b0afdec-cafc-4133-8b2c-6dd5e12a0c0b",
   "metadata": {},
   "source": [
    "# Predicting the next 60 days"
   ]
  },
  {
   "cell_type": "markdown",
   "id": "aa7b1780-ce18-472a-9020-68dda63f8f28",
   "metadata": {},
   "source": [
    "## Preparing the prediction data"
   ]
  },
  {
   "cell_type": "code",
   "execution_count": 16,
   "id": "d3d7fd06-ed5a-464f-83ca-176b17c9b47d",
   "metadata": {},
   "outputs": [],
   "source": [
    "# The process of creating index predict next 60 days\n",
    "last_index =  df_Close.index[-1]\n",
    "\n",
    "# Create an array of 60 consecutive integers starting from last_index\n",
    "x_next_60_days = np.array(range(last_index + 1, last_index + 61)).reshape(-1, 1)"
   ]
  },
  {
   "cell_type": "markdown",
   "id": "4c3337ea-9137-4e60-a948-af6b4ab34dd3",
   "metadata": {},
   "source": [
    "## Prediction process"
   ]
  },
  {
   "cell_type": "code",
   "execution_count": 17,
   "id": "8e2cc8f9-7057-4b11-ac40-af0bded4bd56",
   "metadata": {},
   "outputs": [
    {
     "name": "stdout",
     "output_type": "stream",
     "text": [
      "Predicted closing prices for the next 60 days:\n",
      "[66.51927683 66.49880713 66.50090978 66.50069379 66.50071598 66.5007137\n",
      " 66.50071393 66.50071391 66.50071391 66.50071391 66.50071391 66.50071391\n",
      " 66.50071391 66.50071391 66.50071391 66.50071391 66.50071391 66.50071391\n",
      " 66.50071391 66.50071391 66.50071391 66.50071391 66.50071391 66.50071391\n",
      " 66.50071391 66.50071391 66.50071391 66.50071391 66.50071391 66.50071391\n",
      " 66.50071391 66.50071391 66.50071391 66.50071391 66.50071391 66.50071391\n",
      " 66.50071391 66.50071391 66.50071391 66.50071391 66.50071391 66.50071391\n",
      " 66.50071391 66.50071391 66.50071391 66.50071391 66.50071391 66.50071391\n",
      " 66.50071391 66.50071391 66.50071391 66.50071391 66.50071391 66.50071391\n",
      " 66.50071391 66.50071391 66.50071391 66.50071391 66.50071391 66.50071391]\n"
     ]
    }
   ],
   "source": [
    "# Predict the closing prices for the next 60 days\n",
    "y_next_60_days = model.predict(n_periods=len(x_next_60_days))\n",
    "y_next_60_days = scaler.inverse_transform(np.array([y_next_60_days]).reshape(-1, 1))\n",
    "\n",
    "# Print the predicted closing prices for the next 60 days\n",
    "print('Predicted closing prices for the next 60 days:')\n",
    "print(y_next_60_days.flatten())"
   ]
  },
  {
   "cell_type": "markdown",
   "id": "94fbe81b-b811-4bf6-8558-9a9cae17fe82",
   "metadata": {},
   "source": [
    "## Preparing the forecast date index"
   ]
  },
  {
   "cell_type": "code",
   "execution_count": 18,
   "id": "d2821c01-7917-4753-a08a-417b653a7a6f",
   "metadata": {},
   "outputs": [],
   "source": [
    "# Get the last date from the current index\n",
    "last_date = df.index[-1]\n",
    "\n",
    "# Add one day to the last date\n",
    "next_date = last_date + pd.DateOffset(days=1)\n",
    "\n",
    "# Create a list of indices starting from the next date for 60 days\n",
    "index_next_60_days = pd.date_range(start=next_date, periods=60).tolist()"
   ]
  },
  {
   "cell_type": "markdown",
   "id": "f9056084-ebae-4407-bbee-43fa8158638d",
   "metadata": {},
   "source": [
    "## Visualization"
   ]
  },
  {
   "cell_type": "code",
   "execution_count": 19,
   "id": "ff1a4a1a-31fc-4a73-a544-4ecb3f2b66d5",
   "metadata": {},
   "outputs": [
    {
     "data": {
      "image/png": "[encoded data removed]",
      "text/plain": [
       "<Figure size 1600x500 with 1 Axes>"
      ]
     },
     "metadata": {},
     "output_type": "display_data"
    }
   ],
   "source": [
    "# Drawing\n",
    "plt.figure(figsize=(16, 5))\n",
    "\n",
    "plt.plot(df.index[:train_size], scaler.inverse_transform(np.array([y_train]).reshape(-1, 1)))\n",
    "\n",
    "plt.plot(df.index[train_size : train_size + val_size], y_val)\n",
    "\n",
    "plt.plot(df.index[train_size : train_size + val_size], y_pred_val)\n",
    "\n",
    "plt.plot(df.index[train_size + val_size :], y_test)\n",
    "\n",
    "plt.plot(df.index[train_size + val_size :], y_pred)\n",
    "\n",
    "plt.plot(index_next_60_days, y_next_60_days)\n",
    "\n",
    "plt.legend(['Train', 'Validate', 'PredictValidate', 'Test', 'PredictTest', 'Next60Day'])\n",
    "\n",
    "plt.grid()\n",
    "plt.title(f\"Catalent Closing Price Data from {df.index[0].strftime('%Y-%m-%d')} to {index_next_60_days[-1].strftime('%Y-%m-%d')}\")\n",
    "plt.xlabel(\"Date\")\n",
    "plt.ylabel(\"Close value\")\n",
    "plt.savefig('image/ARIMA_712_60day_AZN.png')\n",
    "plt.show()"
   ]
  },
  {
   "cell_type": "code",
   "execution_count": null,
   "id": "7c3793a8-1fa1-4a6d-a2c1-d7e9d7623ef6",
   "metadata": {},
   "outputs": [],
   "source": []
  }
 ],
 "metadata": {
  "kernelspec": {
   "display_name": "Python 3 (ipykernel)",
   "language": "python",
   "name": "python3"
  },
  "language_info": {
   "codemirror_mode": {
    "name": "ipython",
    "version": 3
   },
   "file_extension": ".py",
   "mimetype": "text/x-python",
   "name": "python",
   "nbconvert_exporter": "python",
   "pygments_lexer": "ipython3",
   "version": "3.11.5"
  }
 },
 "nbformat": 4,
 "nbformat_minor": 5
}
