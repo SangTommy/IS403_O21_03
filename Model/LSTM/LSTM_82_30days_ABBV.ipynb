{
 "cells": [
  {
   "cell_type": "markdown",
   "id": "35220b11-31db-4eeb-995d-293eb4e84592",
   "metadata": {},
   "source": [
    "## Thêm thư viện"
   ]
  },
  {
   "cell_type": "code",
   "execution_count": 1,
   "id": "f2701e5e-f6d3-4f42-a81c-14bbf285c4ba",
   "metadata": {},
   "outputs": [],
   "source": [
    "import numpy as np\n",
    "import pandas as pd\n",
    "import matplotlib.pyplot as plt\n",
    "from keras.models import Sequential\n",
    "from keras.layers import Dense, LSTM, Dropout\n",
    "from keras.callbacks import EarlyStopping\n",
    "from sklearn.preprocessing import MinMaxScaler\n",
    "from sklearn.metrics import mean_squared_error, mean_absolute_percentage_error, mean_squared_log_error\n"
   ]
  },
  {
   "cell_type": "markdown",
   "id": "93023385-798c-4fea-b649-345e166bfea1",
   "metadata": {},
   "source": [
    "## Tiền xử lý"
   ]
  },
  {
   "cell_type": "markdown",
   "id": "92fe2483-5193-49f3-97d7-d9c168b87f62",
   "metadata": {},
   "source": [
    "### read data"
   ]
  },
  {
   "cell_type": "code",
   "execution_count": 2,
   "id": "f020aaa0-259f-42ee-8046-16b17e96752c",
   "metadata": {},
   "outputs": [
    {
     "data": {
      "text/html": [
       "<div>\n",
       "<style scoped>\n",
       "    .dataframe tbody tr th:only-of-type {\n",
       "        vertical-align: middle;\n",
       "    }\n",
       "\n",
       "    .dataframe tbody tr th {\n",
       "        vertical-align: top;\n",
       "    }\n",
       "\n",
       "    .dataframe thead th {\n",
       "        text-align: right;\n",
       "    }\n",
       "</style>\n",
       "<table border=\"1\" class=\"dataframe\">\n",
       "  <thead>\n",
       "    <tr style=\"text-align: right;\">\n",
       "      <th></th>\n",
       "      <th>Date</th>\n",
       "      <th>Open</th>\n",
       "      <th>High</th>\n",
       "      <th>Low</th>\n",
       "      <th>Close</th>\n",
       "      <th>Adj Close</th>\n",
       "      <th>Volume</th>\n",
       "    </tr>\n",
       "  </thead>\n",
       "  <tbody>\n",
       "    <tr>\n",
       "      <th>0</th>\n",
       "      <td>2019-03-01</td>\n",
       "      <td>79.769997</td>\n",
       "      <td>80.849998</td>\n",
       "      <td>79.279999</td>\n",
       "      <td>80.099998</td>\n",
       "      <td>62.999916</td>\n",
       "      <td>8567900</td>\n",
       "    </tr>\n",
       "    <tr>\n",
       "      <th>1</th>\n",
       "      <td>2019-03-04</td>\n",
       "      <td>80.400002</td>\n",
       "      <td>80.730003</td>\n",
       "      <td>79.110001</td>\n",
       "      <td>79.459999</td>\n",
       "      <td>62.496544</td>\n",
       "      <td>5872500</td>\n",
       "    </tr>\n",
       "    <tr>\n",
       "      <th>2</th>\n",
       "      <td>2019-03-05</td>\n",
       "      <td>79.379997</td>\n",
       "      <td>79.900002</td>\n",
       "      <td>78.720001</td>\n",
       "      <td>78.910004</td>\n",
       "      <td>62.063961</td>\n",
       "      <td>5933100</td>\n",
       "    </tr>\n",
       "    <tr>\n",
       "      <th>3</th>\n",
       "      <td>2019-03-06</td>\n",
       "      <td>79.129997</td>\n",
       "      <td>79.129997</td>\n",
       "      <td>77.559998</td>\n",
       "      <td>78.089996</td>\n",
       "      <td>61.419022</td>\n",
       "      <td>5293200</td>\n",
       "    </tr>\n",
       "    <tr>\n",
       "      <th>4</th>\n",
       "      <td>2019-03-07</td>\n",
       "      <td>77.769997</td>\n",
       "      <td>79.120003</td>\n",
       "      <td>77.440002</td>\n",
       "      <td>78.239998</td>\n",
       "      <td>61.537010</td>\n",
       "      <td>6642500</td>\n",
       "    </tr>\n",
       "    <tr>\n",
       "      <th>...</th>\n",
       "      <td>...</td>\n",
       "      <td>...</td>\n",
       "      <td>...</td>\n",
       "      <td>...</td>\n",
       "      <td>...</td>\n",
       "      <td>...</td>\n",
       "      <td>...</td>\n",
       "    </tr>\n",
       "    <tr>\n",
       "      <th>1318</th>\n",
       "      <td>2024-05-24</td>\n",
       "      <td>158.360001</td>\n",
       "      <td>158.779999</td>\n",
       "      <td>156.360001</td>\n",
       "      <td>157.059998</td>\n",
       "      <td>157.059998</td>\n",
       "      <td>3689900</td>\n",
       "    </tr>\n",
       "    <tr>\n",
       "      <th>1319</th>\n",
       "      <td>2024-05-28</td>\n",
       "      <td>156.350006</td>\n",
       "      <td>156.350006</td>\n",
       "      <td>153.949997</td>\n",
       "      <td>155.339996</td>\n",
       "      <td>155.339996</td>\n",
       "      <td>5533500</td>\n",
       "    </tr>\n",
       "    <tr>\n",
       "      <th>1320</th>\n",
       "      <td>2024-05-29</td>\n",
       "      <td>154.889999</td>\n",
       "      <td>156.380005</td>\n",
       "      <td>153.679993</td>\n",
       "      <td>154.789993</td>\n",
       "      <td>154.789993</td>\n",
       "      <td>4254500</td>\n",
       "    </tr>\n",
       "    <tr>\n",
       "      <th>1321</th>\n",
       "      <td>2024-05-30</td>\n",
       "      <td>154.649994</td>\n",
       "      <td>156.429993</td>\n",
       "      <td>153.580002</td>\n",
       "      <td>156.309998</td>\n",
       "      <td>156.309998</td>\n",
       "      <td>4311100</td>\n",
       "    </tr>\n",
       "    <tr>\n",
       "      <th>1322</th>\n",
       "      <td>2024-05-31</td>\n",
       "      <td>156.649994</td>\n",
       "      <td>161.639999</td>\n",
       "      <td>156.199997</td>\n",
       "      <td>161.240005</td>\n",
       "      <td>161.240005</td>\n",
       "      <td>15664400</td>\n",
       "    </tr>\n",
       "  </tbody>\n",
       "</table>\n",
       "<p>1323 rows × 7 columns</p>\n",
       "</div>"
      ],
      "text/plain": [
       "            Date        Open        High         Low       Close   Adj Close  \\\n",
       "0     2019-03-01   79.769997   80.849998   79.279999   80.099998   62.999916   \n",
       "1     2019-03-04   80.400002   80.730003   79.110001   79.459999   62.496544   \n",
       "2     2019-03-05   79.379997   79.900002   78.720001   78.910004   62.063961   \n",
       "3     2019-03-06   79.129997   79.129997   77.559998   78.089996   61.419022   \n",
       "4     2019-03-07   77.769997   79.120003   77.440002   78.239998   61.537010   \n",
       "...          ...         ...         ...         ...         ...         ...   \n",
       "1318  2024-05-24  158.360001  158.779999  156.360001  157.059998  157.059998   \n",
       "1319  2024-05-28  156.350006  156.350006  153.949997  155.339996  155.339996   \n",
       "1320  2024-05-29  154.889999  156.380005  153.679993  154.789993  154.789993   \n",
       "1321  2024-05-30  154.649994  156.429993  153.580002  156.309998  156.309998   \n",
       "1322  2024-05-31  156.649994  161.639999  156.199997  161.240005  161.240005   \n",
       "\n",
       "        Volume  \n",
       "0      8567900  \n",
       "1      5872500  \n",
       "2      5933100  \n",
       "3      5293200  \n",
       "4      6642500  \n",
       "...        ...  \n",
       "1318   3689900  \n",
       "1319   5533500  \n",
       "1320   4254500  \n",
       "1321   4311100  \n",
       "1322  15664400  \n",
       "\n",
       "[1323 rows x 7 columns]"
      ]
     },
     "execution_count": 2,
     "metadata": {},
     "output_type": "execute_result"
    }
   ],
   "source": [
    "# Load the data\n",
    "df = pd.read_csv('ABBV-AbbVie.csv')\n",
    "df"
   ]
  },
  {
   "cell_type": "markdown",
   "id": "db66e55e-d672-46aa-a806-e64e10c41d84",
   "metadata": {},
   "source": [
    "### Reset index"
   ]
  },
  {
   "cell_type": "code",
   "execution_count": 3,
   "id": "ab598c86-6639-47b2-8fe5-85376d67302d",
   "metadata": {},
   "outputs": [],
   "source": [
    "# Convert the 'Date' column to datetime format\n",
    "df['Date'] = pd.to_datetime(df['Date'])\n",
    "\n",
    "# Set the 'Date' column as the index value\n",
    "df = df.set_index(pd.DatetimeIndex(df['Date'].values))\n",
    "\n",
    "# Create new dataframe with Date and Close\n",
    "df_close = pd.DataFrame(df, columns=['Close'])"
   ]
  },
  {
   "cell_type": "markdown",
   "id": "0ab504a3-ac2f-40ca-b6a2-fe20ad1c384b",
   "metadata": {},
   "source": [
    "### Data normalization"
   ]
  },
  {
   "cell_type": "code",
   "execution_count": 4,
   "id": "3ffd8e05-1a3f-4656-bf0b-8cd76f8242d2",
   "metadata": {},
   "outputs": [],
   "source": [
    "# Scale the data\n",
    "scaler = MinMaxScaler(feature_range=(0, 1))\n",
    "df_close = scaler.fit_transform(np.array(df_close).reshape(-1, 1))"
   ]
  },
  {
   "cell_type": "markdown",
   "id": "4984257b-5c2f-4174-8cb9-10f1c21168b3",
   "metadata": {},
   "source": [
    "### Data splitting"
   ]
  },
  {
   "cell_type": "code",
   "execution_count": 5,
   "id": "00c81cbe-91b4-41da-bacd-60ba26466d66",
   "metadata": {},
   "outputs": [],
   "source": [
    "# Split the data into training and test sets\n",
    "train_size = int(len(df_close) * 0.8)\n",
    "test_size = len(df_close) - train_size\n",
    "\n",
    "train_data = df_close[:train_size]\n",
    "test_data = df_close[train_size:]"
   ]
  },
  {
   "cell_type": "code",
   "execution_count": 6,
   "id": "d7447af0-ad15-4848-a420-1d1f1ae9b04c",
   "metadata": {},
   "outputs": [],
   "source": [
    "# Create dataset\n",
    "def create_dataset(dataset, time_step=1):\n",
    "    dataX, dataY = [], []\n",
    "    for i in range(len(dataset) - time_step):\n",
    "        a = dataset[i:(i + time_step), 0]\n",
    "        dataX.append(a)\n",
    "        dataY.append(dataset[i + time_step, 0])\n",
    "    return np.array(dataX), np.array(dataY)\n",
    "\t\n",
    "time_step = 100\n",
    "\n",
    "# Get lost data for test\n",
    "train_last_windowsize = train_data[-time_step:]\n",
    "test_data_extended = np.concatenate((train_last_windowsize, test_data), axis=0)\n",
    "\n",
    "X_train, y_train = create_dataset(train_data, time_step)\n",
    "X_test, y_test = create_dataset(test_data_extended, time_step)\n",
    "\n",
    "# Reshape input to be [samples, time steps, features] which is required for LSTM\n",
    "X_train = X_train.reshape(X_train.shape[0], X_train.shape[1], 1)\n",
    "X_test = X_test.reshape(X_test.shape[0], X_test.shape[1], 1)"
   ]
  },
  {
   "cell_type": "markdown",
   "id": "340b354a-d844-4dae-8a92-904e0626ab54",
   "metadata": {},
   "source": [
    "### Model training and testing"
   ]
  },
  {
   "cell_type": "code",
   "execution_count": 7,
   "id": "d749f34c-1c17-4e9f-893d-d8d90dc4603a",
   "metadata": {},
   "outputs": [
    {
     "name": "stderr",
     "output_type": "stream",
     "text": [
      "D:\\Anaconda\\Anaconda3\\Lib\\site-packages\\keras\\src\\layers\\rnn\\rnn.py:204: UserWarning: Do not pass an `input_shape`/`input_dim` argument to a layer. When using Sequential models, prefer using an `Input(shape)` object as the first layer in the model instead.\n",
      "  super().__init__(**kwargs)\n"
     ]
    }
   ],
   "source": [
    "# Define the LSTM model\n",
    "model = Sequential()\n",
    "model.add(LSTM(64, return_sequences=True, input_shape=(time_step, 1)))\n",
    "model.add(LSTM(64, return_sequences=False))\n",
    "model.add(Dropout(0.2))\n",
    "model.add(Dense(1, activation='relu'))\n",
    "model.compile(loss='mean_squared_error', optimizer='adam')"
   ]
  },
  {
   "cell_type": "code",
   "execution_count": 8,
   "id": "a4797e98-543e-4e83-aeb2-13245bdf3b09",
   "metadata": {},
   "outputs": [
    {
     "name": "stdout",
     "output_type": "stream",
     "text": [
      "Epoch 1/100\n",
      "\u001b[1m15/15\u001b[0m \u001b[32m━━━━━━━━━━━━━━━━━━━━\u001b[0m\u001b[37m\u001b[0m \u001b[1m4s\u001b[0m 70ms/step - loss: 0.1370\n",
      "Epoch 2/100\n",
      "\u001b[1m15/15\u001b[0m \u001b[32m━━━━━━━━━━━━━━━━━━━━\u001b[0m\u001b[37m\u001b[0m \u001b[1m1s\u001b[0m 84ms/step - loss: 0.0120\n",
      "Epoch 3/100\n",
      "\u001b[1m15/15\u001b[0m \u001b[32m━━━━━━━━━━━━━━━━━━━━\u001b[0m\u001b[37m\u001b[0m \u001b[1m1s\u001b[0m 86ms/step - loss: 0.0046\n",
      "Epoch 4/100\n",
      "\u001b[1m15/15\u001b[0m \u001b[32m━━━━━━━━━━━━━━━━━━━━\u001b[0m\u001b[37m\u001b[0m \u001b[1m2s\u001b[0m 104ms/step - loss: 0.0040\n",
      "Epoch 5/100\n",
      "\u001b[1m15/15\u001b[0m \u001b[32m━━━━━━━━━━━━━━━━━━━━\u001b[0m\u001b[37m\u001b[0m \u001b[1m2s\u001b[0m 99ms/step - loss: 0.0034\n",
      "Epoch 6/100\n",
      "\u001b[1m15/15\u001b[0m \u001b[32m━━━━━━━━━━━━━━━━━━━━\u001b[0m\u001b[37m\u001b[0m \u001b[1m2s\u001b[0m 106ms/step - loss: 0.0030\n",
      "Epoch 7/100\n",
      "\u001b[1m15/15\u001b[0m \u001b[32m━━━━━━━━━━━━━━━━━━━━\u001b[0m\u001b[37m\u001b[0m \u001b[1m3s\u001b[0m 114ms/step - loss: 0.0027\n",
      "Epoch 8/100\n",
      "\u001b[1m15/15\u001b[0m \u001b[32m━━━━━━━━━━━━━━━━━━━━\u001b[0m\u001b[37m\u001b[0m \u001b[1m2s\u001b[0m 136ms/step - loss: 0.0027\n",
      "Epoch 9/100\n",
      "\u001b[1m15/15\u001b[0m \u001b[32m━━━━━━━━━━━━━━━━━━━━\u001b[0m\u001b[37m\u001b[0m \u001b[1m3s\u001b[0m 170ms/step - loss: 0.0024\n",
      "Epoch 10/100\n",
      "\u001b[1m15/15\u001b[0m \u001b[32m━━━━━━━━━━━━━━━━━━━━\u001b[0m\u001b[37m\u001b[0m \u001b[1m3s\u001b[0m 159ms/step - loss: 0.0029\n",
      "Epoch 11/100\n",
      "\u001b[1m15/15\u001b[0m \u001b[32m━━━━━━━━━━━━━━━━━━━━\u001b[0m\u001b[37m\u001b[0m \u001b[1m3s\u001b[0m 215ms/step - loss: 0.0026\n",
      "Epoch 12/100\n",
      "\u001b[1m15/15\u001b[0m \u001b[32m━━━━━━━━━━━━━━━━━━━━\u001b[0m\u001b[37m\u001b[0m \u001b[1m4s\u001b[0m 218ms/step - loss: 0.0022\n",
      "Epoch 13/100\n",
      "\u001b[1m15/15\u001b[0m \u001b[32m━━━━━━━━━━━━━━━━━━━━\u001b[0m\u001b[37m\u001b[0m \u001b[1m5s\u001b[0m 224ms/step - loss: 0.0020\n",
      "Epoch 14/100\n",
      "\u001b[1m15/15\u001b[0m \u001b[32m━━━━━━━━━━━━━━━━━━━━\u001b[0m\u001b[37m\u001b[0m \u001b[1m4s\u001b[0m 262ms/step - loss: 0.0022\n",
      "Epoch 15/100\n",
      "\u001b[1m15/15\u001b[0m \u001b[32m━━━━━━━━━━━━━━━━━━━━\u001b[0m\u001b[37m\u001b[0m \u001b[1m4s\u001b[0m 190ms/step - loss: 0.0025\n",
      "Epoch 16/100\n",
      "\u001b[1m15/15\u001b[0m \u001b[32m━━━━━━━━━━━━━━━━━━━━\u001b[0m\u001b[37m\u001b[0m \u001b[1m3s\u001b[0m 187ms/step - loss: 0.0023\n",
      "Epoch 17/100\n",
      "\u001b[1m15/15\u001b[0m \u001b[32m━━━━━━━━━━━━━━━━━━━━\u001b[0m\u001b[37m\u001b[0m \u001b[1m2s\u001b[0m 160ms/step - loss: 0.0021\n",
      "Epoch 18/100\n",
      "\u001b[1m15/15\u001b[0m \u001b[32m━━━━━━━━━━━━━━━━━━━━\u001b[0m\u001b[37m\u001b[0m \u001b[1m3s\u001b[0m 152ms/step - loss: 0.0023\n",
      "Epoch 19/100\n",
      "\u001b[1m15/15\u001b[0m \u001b[32m━━━━━━━━━━━━━━━━━━━━\u001b[0m\u001b[37m\u001b[0m \u001b[1m2s\u001b[0m 149ms/step - loss: 0.0025\n",
      "Epoch 20/100\n",
      "\u001b[1m15/15\u001b[0m \u001b[32m━━━━━━━━━━━━━━━━━━━━\u001b[0m\u001b[37m\u001b[0m \u001b[1m3s\u001b[0m 195ms/step - loss: 0.0025\n",
      "Epoch 21/100\n",
      "\u001b[1m15/15\u001b[0m \u001b[32m━━━━━━━━━━━━━━━━━━━━\u001b[0m\u001b[37m\u001b[0m \u001b[1m3s\u001b[0m 176ms/step - loss: 0.0021\n",
      "Epoch 22/100\n",
      "\u001b[1m15/15\u001b[0m \u001b[32m━━━━━━━━━━━━━━━━━━━━\u001b[0m\u001b[37m\u001b[0m \u001b[1m2s\u001b[0m 147ms/step - loss: 0.0023\n",
      "Epoch 23/100\n",
      "\u001b[1m15/15\u001b[0m \u001b[32m━━━━━━━━━━━━━━━━━━━━\u001b[0m\u001b[37m\u001b[0m \u001b[1m3s\u001b[0m 138ms/step - loss: 0.0023\n"
     ]
    },
    {
     "data": {
      "text/plain": [
       "<keras.src.callbacks.history.History at 0x26248955ed0>"
      ]
     },
     "execution_count": 8,
     "metadata": {},
     "output_type": "execute_result"
    }
   ],
   "source": [
    "# Using early stopping to prevent overfitting\n",
    "earlystop = EarlyStopping(monitor='loss', patience=10, restore_best_weights=True)\n",
    "\n",
    "# Train the LSTM model\n",
    "model.fit(X_train, y_train, epochs=100, batch_size=64, verbose=1, callbacks=earlystop)"
   ]
  },
  {
   "cell_type": "markdown",
   "id": "2ccf8949-2979-4c84-92df-d50aa692a225",
   "metadata": {},
   "source": [
    "### Testing process"
   ]
  },
  {
   "cell_type": "code",
   "execution_count": 9,
   "id": "6fc7483d-b74d-4d52-8ae5-6bb9cf98718c",
   "metadata": {},
   "outputs": [
    {
     "name": "stdout",
     "output_type": "stream",
     "text": [
      "\u001b[1m9/9\u001b[0m \u001b[32m━━━━━━━━━━━━━━━━━━━━\u001b[0m\u001b[37m\u001b[0m \u001b[1m5s\u001b[0m 354ms/step\n"
     ]
    }
   ],
   "source": [
    "# Predict\n",
    "y_pred = model.predict(X_test)"
   ]
  },
  {
   "cell_type": "markdown",
   "id": "856e8b0a-e6f9-40a5-a1c9-4a4c70cecf19",
   "metadata": {},
   "source": [
    "### Evaluate model"
   ]
  },
  {
   "cell_type": "code",
   "execution_count": 10,
   "id": "33bc835d-68c2-45ad-8831-ffde8e88a039",
   "metadata": {},
   "outputs": [
    {
     "name": "stdout",
     "output_type": "stream",
     "text": [
      "MAPE on Test dataset:  0.03572251872899811\n",
      "RMSE on Test dataset:  0.033968906525873616\n",
      "MSLE on Test dataset:  0.00036868066892796546\n",
      "MAE on Test dataset:  0.02734276447452172\n"
     ]
    }
   ],
   "source": [
    "from sklearn.metrics import mean_squared_error, mean_absolute_percentage_error, mean_squared_log_error, mean_absolute_error\n",
    "# Evaluate the accuracy of test\n",
    "\n",
    "test_mape = mean_absolute_percentage_error(y_test, y_pred)\n",
    "test_mse = mean_squared_error(y_test, y_pred)\n",
    "test_rmse = np.sqrt(test_mse)\n",
    "test_mae = mean_absolute_error(y_test, y_pred)\n",
    "test_msle = mean_squared_log_error(y_test, y_pred)\n",
    "\n",
    "\n",
    "print(f\"MAPE on Test dataset: \", test_mape)\n",
    "print(f\"RMSE on Test dataset: \", test_rmse)\n",
    "print(f\"MSLE on Test dataset: \", test_msle)\n",
    "print(f\"MAE on Test dataset: \", test_mae)"
   ]
  },
  {
   "cell_type": "markdown",
   "id": "1ae4bc2a-6276-4ba7-b6fb-bfb5f410bfa2",
   "metadata": {},
   "source": [
    "## Predicting the next 30 days"
   ]
  },
  {
   "cell_type": "markdown",
   "id": "1482c74e-bb68-47db-a099-53bace49b9f5",
   "metadata": {},
   "source": [
    "### Preparing the prediction data"
   ]
  },
  {
   "cell_type": "code",
   "execution_count": 11,
   "id": "70292321-092c-419a-b19b-d098565c765b",
   "metadata": {},
   "outputs": [
    {
     "name": "stdout",
     "output_type": "stream",
     "text": [
      "[[0.8050779104232788], [0.8022183775901794], [0.8000394105911255], [0.7983366250991821], [0.7969632744789124], [0.7958143949508667], [0.7948160171508789], [0.7939175963401794], [0.7930848002433777], [0.7922948002815247], [0.7915332913398743], [0.7907907962799072], [0.790061354637146], [0.7893418669700623], [0.788629949092865], [0.7879248857498169], [0.7872260212898254], [0.7865327596664429], [0.7858452796936035], [0.7851630449295044], [0.7844865918159485], [0.7838153839111328], [0.7831496000289917], [0.7824888229370117], [0.7818333506584167], [0.7811828851699829], [0.7805371284484863], [0.7798961400985718], [0.7792598605155945], [0.7786279916763306]]\n"
     ]
    }
   ],
   "source": [
    "# Predict the next 30 days\n",
    "x_input = test_data[-time_step:].reshape(1, -1)\n",
    "temp_input = list(x_input[0])\n",
    "prediction_next30_days = []\n",
    "\n",
    "for i in range(30):\n",
    "    if len(temp_input) > time_step:\n",
    "        x_input = np.array(temp_input[-time_step:])\n",
    "        x_input = x_input.reshape((1, time_step, 1))\n",
    "        y_hat = model.predict(x_input, verbose=0)\n",
    "        temp_input.extend(y_hat[0].tolist())\n",
    "        temp_input = temp_input[1:]\n",
    "        prediction_next30_days.extend(y_hat.tolist())\n",
    "    else:\n",
    "        x_input = x_input.reshape((1, time_step, 1))\n",
    "        y_hat = model.predict(x_input, verbose=0)\n",
    "        temp_input.extend(y_hat[0].tolist())\n",
    "        prediction_next30_days.extend(y_hat.tolist())\n",
    "\n",
    "# Print predictions for the next 30 days\n",
    "print(prediction_next30_days)"
   ]
  },
  {
   "cell_type": "markdown",
   "id": "9669f475-1266-406a-a7ba-4b060661e5da",
   "metadata": {},
   "source": [
    "### Preparing the forecast date index"
   ]
  },
  {
   "cell_type": "code",
   "execution_count": 12,
   "id": "b7cc97a5-822b-4775-ac56-7b0ea6711611",
   "metadata": {},
   "outputs": [
    {
     "name": "stdout",
     "output_type": "stream",
     "text": [
      "[[0.8050779104232788], [0.8022183775901794], [0.8000394105911255], [0.7983366250991821], [0.7969632744789124], [0.7958143949508667], [0.7948160171508789], [0.7939175963401794], [0.7930848002433777], [0.7922948002815247], [0.7915332913398743], [0.7907907962799072], [0.790061354637146], [0.7893418669700623], [0.788629949092865], [0.7879248857498169], [0.7872260212898254], [0.7865327596664429], [0.7858452796936035], [0.7851630449295044], [0.7844865918159485], [0.7838153839111328], [0.7831496000289917], [0.7824888229370117], [0.7818333506584167], [0.7811828851699829], [0.7805371284484863], [0.7798961400985718], [0.7792598605155945], [0.7786279916763306]]\n"
     ]
    }
   ],
   "source": [
    "# Print predictions for the next 30 days\n",
    "print(prediction_next30_days)\n",
    "\n",
    "# Get the last date from the current index\n",
    "last_date = df.index.max()\n",
    "\n",
    "# Create a list of indices starting from the next date for 30 days\n",
    "future_dates = pd.date_range(start=last_date + pd.DateOffset(days=1), periods=30, freq='D')\n",
    "\n",
    "# Convert predictions back to original scale\n",
    "prediction_next30_days = scaler.inverse_transform(prediction_next30_days).reshape(-1)\n",
    "y_pred = scaler.inverse_transform(y_pred)\n",
    "train_data = scaler.inverse_transform(train_data)\n",
    "test_data = scaler.inverse_transform(test_data)"
   ]
  },
  {
   "cell_type": "markdown",
   "id": "bfea920b-2912-4cbc-9530-8250a82aadef",
   "metadata": {},
   "source": [
    "## Visualization"
   ]
  },
  {
   "cell_type": "code",
   "execution_count": 13,
   "id": "9514ab45-9348-4679-9095-ccf7487c25b2",
   "metadata": {},
   "outputs": [
    {
     "data": {
      "image/png": "[encoded data removed]",
      "text/plain": [
       "<Figure size 1600x500 with 1 Axes>"
      ]
     },
     "metadata": {},
     "output_type": "display_data"
    }
   ],
   "source": [
    "# Plotting\n",
    "plt.figure(figsize=(16, 5))\n",
    "\n",
    "plt.plot(df.index[:train_size], train_data, label='Train')\n",
    "plt.plot(df.index[train_size:], test_data, label='Test')\n",
    "plt.plot(df.index[train_size:], y_pred, label='PredictTest')\n",
    "plt.plot(future_dates, prediction_next30_days, label='Next30days')\n",
    "\n",
    "plt.xlabel('Date')\n",
    "plt.ylabel('Close Value')\n",
    "plt.title(f\"AbbVie Closing Price Data from {df.index[0].strftime('%Y-%m-%d')} to {future_dates[-1].strftime('%Y-%m-%d')}\")\n",
    "plt.legend()\n",
    "plt.grid()\n",
    "plt.savefig('Image/LSTM_82_30days_ABBV.png')\n",
    "plt.show()"
   ]
  },
  {
   "cell_type": "code",
   "execution_count": null,
   "id": "0aef3390-370a-48fb-82ab-55896b9015fe",
   "metadata": {},
   "outputs": [],
   "source": []
  }
 ],
 "metadata": {
  "kernelspec": {
   "display_name": "Python 3 (ipykernel)",
   "language": "python",
   "name": "python3"
  },
  "language_info": {
   "codemirror_mode": {
    "name": "ipython",
    "version": 3
   },
   "file_extension": ".py",
   "mimetype": "text/x-python",
   "name": "python",
   "nbconvert_exporter": "python",
   "pygments_lexer": "ipython3",
   "version": "3.11.5"
  }
 },
 "nbformat": 4,
 "nbformat_minor": 5
}
