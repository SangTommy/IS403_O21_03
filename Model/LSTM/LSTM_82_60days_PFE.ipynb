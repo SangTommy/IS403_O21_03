{
 "cells": [
  {
   "cell_type": "markdown",
   "id": "35220b11-31db-4eeb-995d-293eb4e84592",
   "metadata": {},
   "source": [
    "## Thêm thư viện"
   ]
  },
  {
   "cell_type": "code",
   "execution_count": 1,
   "id": "f2701e5e-f6d3-4f42-a81c-14bbf285c4ba",
   "metadata": {},
   "outputs": [
    {
     "name": "stdout",
     "output_type": "stream",
     "text": [
      "WARNING:tensorflow:From D:\\Anaconda\\Anaconda3\\Lib\\site-packages\\keras\\src\\losses.py:2976: The name tf.losses.sparse_softmax_cross_entropy is deprecated. Please use tf.compat.v1.losses.sparse_softmax_cross_entropy instead.\n",
      "\n"
     ]
    }
   ],
   "source": [
    "import numpy as np\n",
    "import pandas as pd\n",
    "import matplotlib.pyplot as plt\n",
    "from keras.models import Sequential\n",
    "from keras.layers import Dense, LSTM, Dropout\n",
    "from keras.callbacks import EarlyStopping\n",
    "from sklearn.preprocessing import MinMaxScaler\n",
    "from sklearn.metrics import mean_squared_error, mean_absolute_percentage_error, mean_squared_log_error\n"
   ]
  },
  {
   "cell_type": "markdown",
   "id": "93023385-798c-4fea-b649-345e166bfea1",
   "metadata": {},
   "source": [
    "## Tiền xử lý"
   ]
  },
  {
   "cell_type": "markdown",
   "id": "92fe2483-5193-49f3-97d7-d9c168b87f62",
   "metadata": {},
   "source": [
    "### read data"
   ]
  },
  {
   "cell_type": "code",
   "execution_count": 2,
   "id": "f020aaa0-259f-42ee-8046-16b17e96752c",
   "metadata": {},
   "outputs": [
    {
     "data": {
      "text/html": [
       "<div>\n",
       "<style scoped>\n",
       "    .dataframe tbody tr th:only-of-type {\n",
       "        vertical-align: middle;\n",
       "    }\n",
       "\n",
       "    .dataframe tbody tr th {\n",
       "        vertical-align: top;\n",
       "    }\n",
       "\n",
       "    .dataframe thead th {\n",
       "        text-align: right;\n",
       "    }\n",
       "</style>\n",
       "<table border=\"1\" class=\"dataframe\">\n",
       "  <thead>\n",
       "    <tr style=\"text-align: right;\">\n",
       "      <th></th>\n",
       "      <th>Date</th>\n",
       "      <th>Open</th>\n",
       "      <th>High</th>\n",
       "      <th>Low</th>\n",
       "      <th>Close</th>\n",
       "      <th>Adj Close</th>\n",
       "      <th>Volume</th>\n",
       "    </tr>\n",
       "  </thead>\n",
       "  <tbody>\n",
       "    <tr>\n",
       "      <th>0</th>\n",
       "      <td>2019-03-01</td>\n",
       "      <td>41.375713</td>\n",
       "      <td>41.546490</td>\n",
       "      <td>41.072105</td>\n",
       "      <td>41.138519</td>\n",
       "      <td>33.767422</td>\n",
       "      <td>26667781</td>\n",
       "    </tr>\n",
       "    <tr>\n",
       "      <th>1</th>\n",
       "      <td>2019-03-04</td>\n",
       "      <td>41.214420</td>\n",
       "      <td>41.356735</td>\n",
       "      <td>40.683113</td>\n",
       "      <td>40.863377</td>\n",
       "      <td>33.541576</td>\n",
       "      <td>22805820</td>\n",
       "    </tr>\n",
       "    <tr>\n",
       "      <th>2</th>\n",
       "      <td>2019-03-05</td>\n",
       "      <td>40.882355</td>\n",
       "      <td>41.034157</td>\n",
       "      <td>40.654648</td>\n",
       "      <td>40.692600</td>\n",
       "      <td>33.401398</td>\n",
       "      <td>26529812</td>\n",
       "    </tr>\n",
       "    <tr>\n",
       "      <th>3</th>\n",
       "      <td>2019-03-06</td>\n",
       "      <td>40.626186</td>\n",
       "      <td>40.673622</td>\n",
       "      <td>39.487667</td>\n",
       "      <td>39.715370</td>\n",
       "      <td>32.599270</td>\n",
       "      <td>22410359</td>\n",
       "    </tr>\n",
       "    <tr>\n",
       "      <th>4</th>\n",
       "      <td>2019-03-07</td>\n",
       "      <td>39.715370</td>\n",
       "      <td>39.743832</td>\n",
       "      <td>39.136623</td>\n",
       "      <td>39.269451</td>\n",
       "      <td>32.233242</td>\n",
       "      <td>29046132</td>\n",
       "    </tr>\n",
       "    <tr>\n",
       "      <th>...</th>\n",
       "      <td>...</td>\n",
       "      <td>...</td>\n",
       "      <td>...</td>\n",
       "      <td>...</td>\n",
       "      <td>...</td>\n",
       "      <td>...</td>\n",
       "      <td>...</td>\n",
       "    </tr>\n",
       "    <tr>\n",
       "      <th>1254</th>\n",
       "      <td>2024-02-23</td>\n",
       "      <td>27.750000</td>\n",
       "      <td>28.090000</td>\n",
       "      <td>27.690001</td>\n",
       "      <td>27.760000</td>\n",
       "      <td>27.760000</td>\n",
       "      <td>33182600</td>\n",
       "    </tr>\n",
       "    <tr>\n",
       "      <th>1255</th>\n",
       "      <td>2024-02-26</td>\n",
       "      <td>27.670000</td>\n",
       "      <td>27.670000</td>\n",
       "      <td>27.070000</td>\n",
       "      <td>27.180000</td>\n",
       "      <td>27.180000</td>\n",
       "      <td>45685500</td>\n",
       "    </tr>\n",
       "    <tr>\n",
       "      <th>1256</th>\n",
       "      <td>2024-02-27</td>\n",
       "      <td>27.120001</td>\n",
       "      <td>27.200001</td>\n",
       "      <td>26.809999</td>\n",
       "      <td>26.889999</td>\n",
       "      <td>26.889999</td>\n",
       "      <td>38598400</td>\n",
       "    </tr>\n",
       "    <tr>\n",
       "      <th>1257</th>\n",
       "      <td>2024-02-28</td>\n",
       "      <td>26.959999</td>\n",
       "      <td>27.240000</td>\n",
       "      <td>26.820000</td>\n",
       "      <td>27.040001</td>\n",
       "      <td>27.040001</td>\n",
       "      <td>31010200</td>\n",
       "    </tr>\n",
       "    <tr>\n",
       "      <th>1258</th>\n",
       "      <td>2024-02-29</td>\n",
       "      <td>27.070000</td>\n",
       "      <td>27.190001</td>\n",
       "      <td>26.549999</td>\n",
       "      <td>26.559999</td>\n",
       "      <td>26.559999</td>\n",
       "      <td>54643200</td>\n",
       "    </tr>\n",
       "  </tbody>\n",
       "</table>\n",
       "<p>1259 rows × 7 columns</p>\n",
       "</div>"
      ],
      "text/plain": [
       "            Date       Open       High        Low      Close  Adj Close  \\\n",
       "0     2019-03-01  41.375713  41.546490  41.072105  41.138519  33.767422   \n",
       "1     2019-03-04  41.214420  41.356735  40.683113  40.863377  33.541576   \n",
       "2     2019-03-05  40.882355  41.034157  40.654648  40.692600  33.401398   \n",
       "3     2019-03-06  40.626186  40.673622  39.487667  39.715370  32.599270   \n",
       "4     2019-03-07  39.715370  39.743832  39.136623  39.269451  32.233242   \n",
       "...          ...        ...        ...        ...        ...        ...   \n",
       "1254  2024-02-23  27.750000  28.090000  27.690001  27.760000  27.760000   \n",
       "1255  2024-02-26  27.670000  27.670000  27.070000  27.180000  27.180000   \n",
       "1256  2024-02-27  27.120001  27.200001  26.809999  26.889999  26.889999   \n",
       "1257  2024-02-28  26.959999  27.240000  26.820000  27.040001  27.040001   \n",
       "1258  2024-02-29  27.070000  27.190001  26.549999  26.559999  26.559999   \n",
       "\n",
       "        Volume  \n",
       "0     26667781  \n",
       "1     22805820  \n",
       "2     26529812  \n",
       "3     22410359  \n",
       "4     29046132  \n",
       "...        ...  \n",
       "1254  33182600  \n",
       "1255  45685500  \n",
       "1256  38598400  \n",
       "1257  31010200  \n",
       "1258  54643200  \n",
       "\n",
       "[1259 rows x 7 columns]"
      ]
     },
     "execution_count": 2,
     "metadata": {},
     "output_type": "execute_result"
    }
   ],
   "source": [
    "# Load the data\n",
    "df = pd.read_csv('PFE-Pfizer.csv')\n",
    "df"
   ]
  },
  {
   "cell_type": "markdown",
   "id": "db66e55e-d672-46aa-a806-e64e10c41d84",
   "metadata": {},
   "source": [
    "### Reset index"
   ]
  },
  {
   "cell_type": "code",
   "execution_count": 3,
   "id": "ab598c86-6639-47b2-8fe5-85376d67302d",
   "metadata": {},
   "outputs": [],
   "source": [
    "# Convert the 'Date' column to datetime format\n",
    "df['Date'] = pd.to_datetime(df['Date'])\n",
    "\n",
    "# Set the 'Date' column as the index value\n",
    "df = df.set_index(pd.DatetimeIndex(df['Date'].values))\n",
    "\n",
    "# Create new dataframe with Date and Close\n",
    "df_close = pd.DataFrame(df, columns=['Close'])"
   ]
  },
  {
   "cell_type": "markdown",
   "id": "0ab504a3-ac2f-40ca-b6a2-fe20ad1c384b",
   "metadata": {},
   "source": [
    "### Data normalization"
   ]
  },
  {
   "cell_type": "code",
   "execution_count": 4,
   "id": "3ffd8e05-1a3f-4656-bf0b-8cd76f8242d2",
   "metadata": {},
   "outputs": [],
   "source": [
    "# Scale the data\n",
    "scaler = MinMaxScaler(feature_range=(0, 1))\n",
    "df_close = scaler.fit_transform(np.array(df_close).reshape(-1, 1))"
   ]
  },
  {
   "cell_type": "markdown",
   "id": "4984257b-5c2f-4174-8cb9-10f1c21168b3",
   "metadata": {},
   "source": [
    "### Data splitting"
   ]
  },
  {
   "cell_type": "code",
   "execution_count": 5,
   "id": "00c81cbe-91b4-41da-bacd-60ba26466d66",
   "metadata": {},
   "outputs": [],
   "source": [
    "# Split the data into training and test sets\n",
    "train_size = int(len(df_close) * 0.8)\n",
    "test_size = len(df_close) - train_size\n",
    "\n",
    "train_data = df_close[:train_size]\n",
    "test_data = df_close[train_size:]"
   ]
  },
  {
   "cell_type": "code",
   "execution_count": 6,
   "id": "d7447af0-ad15-4848-a420-1d1f1ae9b04c",
   "metadata": {},
   "outputs": [],
   "source": [
    "# Create dataset\n",
    "def create_dataset(dataset, time_step=1):\n",
    "    dataX, dataY = [], []\n",
    "    for i in range(len(dataset) - time_step):\n",
    "        a = dataset[i:(i + time_step), 0]\n",
    "        dataX.append(a)\n",
    "        dataY.append(dataset[i + time_step, 0])\n",
    "    return np.array(dataX), np.array(dataY)\n",
    "\t\n",
    "time_step = 100\n",
    "\n",
    "# Get lost data for test\n",
    "train_last_windowsize = train_data[-time_step:]\n",
    "test_data_extended = np.concatenate((train_last_windowsize, test_data), axis=0)\n",
    "\n",
    "X_train, y_train = create_dataset(train_data, time_step)\n",
    "X_test, y_test = create_dataset(test_data_extended, time_step)\n",
    "\n",
    "# Reshape input to be [samples, time steps, features] which is required for LSTM\n",
    "X_train = X_train.reshape(X_train.shape[0], X_train.shape[1], 1)\n",
    "X_test = X_test.reshape(X_test.shape[0], X_test.shape[1], 1)"
   ]
  },
  {
   "cell_type": "markdown",
   "id": "340b354a-d844-4dae-8a92-904e0626ab54",
   "metadata": {},
   "source": [
    "### Model training and testing"
   ]
  },
  {
   "cell_type": "code",
   "execution_count": 7,
   "id": "d749f34c-1c17-4e9f-893d-d8d90dc4603a",
   "metadata": {},
   "outputs": [
    {
     "name": "stdout",
     "output_type": "stream",
     "text": [
      "WARNING:tensorflow:From D:\\Anaconda\\Anaconda3\\Lib\\site-packages\\keras\\src\\backend.py:873: The name tf.get_default_graph is deprecated. Please use tf.compat.v1.get_default_graph instead.\n",
      "\n",
      "WARNING:tensorflow:From D:\\Anaconda\\Anaconda3\\Lib\\site-packages\\keras\\src\\optimizers\\__init__.py:309: The name tf.train.Optimizer is deprecated. Please use tf.compat.v1.train.Optimizer instead.\n",
      "\n"
     ]
    }
   ],
   "source": [
    "# Define the LSTM model\n",
    "model = Sequential()\n",
    "model.add(LSTM(64, return_sequences=True, input_shape=(time_step, 1)))\n",
    "model.add(LSTM(64, return_sequences=False))\n",
    "model.add(Dropout(0.2))\n",
    "model.add(Dense(1, activation='relu'))\n",
    "model.compile(loss='mean_squared_error', optimizer='adam')"
   ]
  },
  {
   "cell_type": "code",
   "execution_count": 8,
   "id": "a4797e98-543e-4e83-aeb2-13245bdf3b09",
   "metadata": {},
   "outputs": [
    {
     "name": "stdout",
     "output_type": "stream",
     "text": [
      "Epoch 1/100\n",
      "WARNING:tensorflow:From D:\\Anaconda\\Anaconda3\\Lib\\site-packages\\keras\\src\\utils\\tf_utils.py:492: The name tf.ragged.RaggedTensorValue is deprecated. Please use tf.compat.v1.ragged.RaggedTensorValue instead.\n",
      "\n",
      "15/15 [==============================] - 31s 169ms/step - loss: 0.0745\n",
      "Epoch 2/100\n",
      "15/15 [==============================] - 2s 162ms/step - loss: 0.0118\n",
      "Epoch 3/100\n",
      "15/15 [==============================] - 3s 180ms/step - loss: 0.0064\n",
      "Epoch 4/100\n",
      "15/15 [==============================] - 3s 171ms/step - loss: 0.0051\n",
      "Epoch 5/100\n",
      "15/15 [==============================] - 3s 183ms/step - loss: 0.0043\n",
      "Epoch 6/100\n",
      "15/15 [==============================] - 3s 172ms/step - loss: 0.0039\n",
      "Epoch 7/100\n",
      "15/15 [==============================] - 3s 170ms/step - loss: 0.0041\n",
      "Epoch 8/100\n",
      "15/15 [==============================] - 2s 160ms/step - loss: 0.0040\n",
      "Epoch 9/100\n",
      "15/15 [==============================] - 2s 162ms/step - loss: 0.0036\n",
      "Epoch 10/100\n",
      "15/15 [==============================] - 2s 164ms/step - loss: 0.0037\n",
      "Epoch 11/100\n",
      "15/15 [==============================] - 2s 165ms/step - loss: 0.0039\n",
      "Epoch 12/100\n",
      "15/15 [==============================] - 2s 155ms/step - loss: 0.0034\n",
      "Epoch 13/100\n",
      "15/15 [==============================] - 2s 160ms/step - loss: 0.0035\n",
      "Epoch 14/100\n",
      "15/15 [==============================] - 2s 151ms/step - loss: 0.0035\n",
      "Epoch 15/100\n",
      "15/15 [==============================] - 2s 148ms/step - loss: 0.0035\n",
      "Epoch 16/100\n",
      "15/15 [==============================] - 2s 135ms/step - loss: 0.0031\n",
      "Epoch 17/100\n",
      "15/15 [==============================] - 2s 155ms/step - loss: 0.0035\n",
      "Epoch 18/100\n",
      "15/15 [==============================] - 2s 137ms/step - loss: 0.0029\n",
      "Epoch 19/100\n",
      "15/15 [==============================] - 2s 146ms/step - loss: 0.0031\n",
      "Epoch 20/100\n",
      "15/15 [==============================] - 2s 140ms/step - loss: 0.0029\n",
      "Epoch 21/100\n",
      "15/15 [==============================] - 2s 142ms/step - loss: 0.0028\n",
      "Epoch 22/100\n",
      "15/15 [==============================] - 2s 135ms/step - loss: 0.0029\n",
      "Epoch 23/100\n",
      "15/15 [==============================] - 2s 137ms/step - loss: 0.0024\n",
      "Epoch 24/100\n",
      "15/15 [==============================] - 2s 115ms/step - loss: 0.0025\n",
      "Epoch 25/100\n",
      "15/15 [==============================] - 2s 112ms/step - loss: 0.0027\n",
      "Epoch 26/100\n",
      "15/15 [==============================] - 2s 112ms/step - loss: 0.0029\n",
      "Epoch 27/100\n",
      "15/15 [==============================] - 2s 119ms/step - loss: 0.0028\n",
      "Epoch 28/100\n",
      "15/15 [==============================] - 2s 115ms/step - loss: 0.0030\n",
      "Epoch 29/100\n",
      "15/15 [==============================] - 2s 110ms/step - loss: 0.0024\n",
      "Epoch 30/100\n",
      "15/15 [==============================] - 2s 108ms/step - loss: 0.0024\n",
      "Epoch 31/100\n",
      "15/15 [==============================] - 1s 94ms/step - loss: 0.0024\n",
      "Epoch 32/100\n",
      "15/15 [==============================] - 1s 94ms/step - loss: 0.0025\n",
      "Epoch 33/100\n",
      "15/15 [==============================] - 2s 113ms/step - loss: 0.0023\n",
      "Epoch 34/100\n",
      "15/15 [==============================] - 2s 125ms/step - loss: 0.0026\n",
      "Epoch 35/100\n",
      "15/15 [==============================] - 2s 122ms/step - loss: 0.0023\n",
      "Epoch 36/100\n",
      "15/15 [==============================] - 2s 121ms/step - loss: 0.0021\n",
      "Epoch 37/100\n",
      "15/15 [==============================] - 2s 135ms/step - loss: 0.0024\n",
      "Epoch 38/100\n",
      "15/15 [==============================] - 2s 130ms/step - loss: 0.0024\n",
      "Epoch 39/100\n",
      "15/15 [==============================] - 3s 190ms/step - loss: 0.0021\n",
      "Epoch 40/100\n",
      "15/15 [==============================] - 3s 169ms/step - loss: 0.0022\n",
      "Epoch 41/100\n",
      "15/15 [==============================] - 3s 168ms/step - loss: 0.0022\n",
      "Epoch 42/100\n",
      "15/15 [==============================] - 2s 138ms/step - loss: 0.0022\n",
      "Epoch 43/100\n",
      "15/15 [==============================] - 2s 142ms/step - loss: 0.0021\n",
      "Epoch 44/100\n",
      "15/15 [==============================] - 2s 122ms/step - loss: 0.0021\n",
      "Epoch 45/100\n",
      "15/15 [==============================] - 2s 124ms/step - loss: 0.0020\n",
      "Epoch 46/100\n",
      "15/15 [==============================] - 2s 127ms/step - loss: 0.0020\n",
      "Epoch 47/100\n",
      "15/15 [==============================] - 2s 123ms/step - loss: 0.0021\n",
      "Epoch 48/100\n",
      "15/15 [==============================] - 2s 124ms/step - loss: 0.0019\n",
      "Epoch 49/100\n",
      "15/15 [==============================] - 2s 143ms/step - loss: 0.0020\n",
      "Epoch 50/100\n",
      "15/15 [==============================] - 2s 125ms/step - loss: 0.0021\n",
      "Epoch 51/100\n",
      "15/15 [==============================] - 2s 112ms/step - loss: 0.0019\n",
      "Epoch 52/100\n",
      "15/15 [==============================] - 2s 123ms/step - loss: 0.0019\n",
      "Epoch 53/100\n",
      "15/15 [==============================] - 2s 130ms/step - loss: 0.0018\n",
      "Epoch 54/100\n",
      "15/15 [==============================] - 2s 119ms/step - loss: 0.0020\n",
      "Epoch 55/100\n",
      "15/15 [==============================] - 2s 105ms/step - loss: 0.0019\n",
      "Epoch 56/100\n",
      "15/15 [==============================] - 2s 107ms/step - loss: 0.0019\n",
      "Epoch 57/100\n",
      "15/15 [==============================] - 2s 117ms/step - loss: 0.0020\n",
      "Epoch 58/100\n",
      "15/15 [==============================] - 2s 117ms/step - loss: 0.0019\n",
      "Epoch 59/100\n",
      "15/15 [==============================] - 2s 114ms/step - loss: 0.0020\n",
      "Epoch 60/100\n",
      "15/15 [==============================] - 2s 116ms/step - loss: 0.0019\n",
      "Epoch 61/100\n",
      "15/15 [==============================] - 2s 117ms/step - loss: 0.0018\n",
      "Epoch 62/100\n",
      "15/15 [==============================] - 2s 101ms/step - loss: 0.0018\n",
      "Epoch 63/100\n",
      "15/15 [==============================] - 2s 107ms/step - loss: 0.0019\n",
      "Epoch 64/100\n",
      "15/15 [==============================] - 2s 105ms/step - loss: 0.0018\n",
      "Epoch 65/100\n",
      "15/15 [==============================] - 2s 118ms/step - loss: 0.0019\n",
      "Epoch 66/100\n",
      "15/15 [==============================] - 2s 110ms/step - loss: 0.0017\n",
      "Epoch 67/100\n",
      "15/15 [==============================] - 2s 128ms/step - loss: 0.0019\n",
      "Epoch 68/100\n",
      "15/15 [==============================] - 2s 120ms/step - loss: 0.0017\n",
      "Epoch 69/100\n",
      "15/15 [==============================] - 2s 130ms/step - loss: 0.0016\n",
      "Epoch 70/100\n",
      "15/15 [==============================] - 2s 117ms/step - loss: 0.0018\n",
      "Epoch 71/100\n",
      "15/15 [==============================] - 2s 115ms/step - loss: 0.0015\n",
      "Epoch 72/100\n",
      "15/15 [==============================] - 2s 113ms/step - loss: 0.0018\n",
      "Epoch 73/100\n",
      "15/15 [==============================] - 2s 112ms/step - loss: 0.0015\n",
      "Epoch 74/100\n",
      "15/15 [==============================] - 2s 104ms/step - loss: 0.0016\n",
      "Epoch 75/100\n",
      "15/15 [==============================] - 2s 101ms/step - loss: 0.0017\n",
      "Epoch 76/100\n",
      "15/15 [==============================] - 2s 112ms/step - loss: 0.0015\n",
      "Epoch 77/100\n",
      "15/15 [==============================] - 2s 114ms/step - loss: 0.0017\n",
      "Epoch 78/100\n",
      "15/15 [==============================] - 2s 110ms/step - loss: 0.0018\n",
      "Epoch 79/100\n",
      "15/15 [==============================] - 2s 112ms/step - loss: 0.0016\n",
      "Epoch 80/100\n",
      "15/15 [==============================] - 2s 115ms/step - loss: 0.0015\n",
      "Epoch 81/100\n",
      "15/15 [==============================] - 2s 110ms/step - loss: 0.0015\n",
      "Epoch 82/100\n",
      "15/15 [==============================] - 2s 104ms/step - loss: 0.0015\n",
      "Epoch 83/100\n",
      "15/15 [==============================] - 2s 101ms/step - loss: 0.0017\n",
      "Epoch 84/100\n",
      "15/15 [==============================] - 2s 104ms/step - loss: 0.0015\n",
      "Epoch 85/100\n",
      "15/15 [==============================] - 2s 106ms/step - loss: 0.0014\n",
      "Epoch 86/100\n",
      "15/15 [==============================] - 2s 113ms/step - loss: 0.0014\n",
      "Epoch 87/100\n",
      "15/15 [==============================] - 2s 113ms/step - loss: 0.0013\n",
      "Epoch 88/100\n",
      "15/15 [==============================] - 2s 109ms/step - loss: 0.0015\n",
      "Epoch 89/100\n",
      "15/15 [==============================] - 2s 118ms/step - loss: 0.0016\n",
      "Epoch 90/100\n",
      "15/15 [==============================] - 2s 108ms/step - loss: 0.0015\n",
      "Epoch 91/100\n",
      "15/15 [==============================] - 1s 95ms/step - loss: 0.0016\n",
      "Epoch 92/100\n",
      "15/15 [==============================] - 1s 95ms/step - loss: 0.0015\n",
      "Epoch 93/100\n",
      "15/15 [==============================] - 1s 94ms/step - loss: 0.0015\n",
      "Epoch 94/100\n",
      "15/15 [==============================] - 2s 103ms/step - loss: 0.0016\n",
      "Epoch 95/100\n",
      "15/15 [==============================] - 1s 100ms/step - loss: 0.0017\n",
      "Epoch 96/100\n",
      "15/15 [==============================] - 2s 100ms/step - loss: 0.0017\n",
      "Epoch 97/100\n",
      "15/15 [==============================] - 2s 112ms/step - loss: 0.0017\n"
     ]
    },
    {
     "data": {
      "text/plain": [
       "<keras.src.callbacks.History at 0x2be9acd8510>"
      ]
     },
     "execution_count": 8,
     "metadata": {},
     "output_type": "execute_result"
    }
   ],
   "source": [
    "# Using early stopping to prevent overfitting\n",
    "earlystop = EarlyStopping(monitor='loss', patience=10, restore_best_weights=True)\n",
    "\n",
    "# Train the LSTM model\n",
    "model.fit(X_train, y_train, epochs=100, batch_size=64, verbose=1, callbacks=earlystop)"
   ]
  },
  {
   "cell_type": "markdown",
   "id": "2ccf8949-2979-4c84-92df-d50aa692a225",
   "metadata": {},
   "source": [
    "### Testing process"
   ]
  },
  {
   "cell_type": "code",
   "execution_count": 9,
   "id": "6fc7483d-b74d-4d52-8ae5-6bb9cf98718c",
   "metadata": {},
   "outputs": [
    {
     "name": "stdout",
     "output_type": "stream",
     "text": [
      "8/8 [==============================] - 3s 33ms/step\n"
     ]
    }
   ],
   "source": [
    "# Predict\n",
    "y_pred = model.predict(X_test)"
   ]
  },
  {
   "cell_type": "markdown",
   "id": "856e8b0a-e6f9-40a5-a1c9-4a4c70cecf19",
   "metadata": {},
   "source": [
    "### Evaluate model"
   ]
  },
  {
   "cell_type": "code",
   "execution_count": 10,
   "id": "33bc835d-68c2-45ad-8831-ffde8e88a039",
   "metadata": {},
   "outputs": [
    {
     "name": "stdout",
     "output_type": "stream",
     "text": [
      "MAPE on Test dataset: 1058557378300.0819\n",
      "RMSE on Test dataset: 0.019443800539211947\n",
      "MSLE on Test dataset: 0.0002580571133714395\n"
     ]
    }
   ],
   "source": [
    "# Evaluate the accuracy of the test set\n",
    "test_mape = mean_absolute_percentage_error(y_test, y_pred)\n",
    "test_mse = mean_squared_error(y_test, y_pred)\n",
    "test_rmse = np.sqrt(test_mse)\n",
    "test_msle = mean_squared_log_error(y_test, y_pred)\n",
    "\n",
    "print(f\"MAPE on Test dataset: {test_mape}\")\n",
    "print(f\"RMSE on Test dataset: {test_rmse}\")\n",
    "print(f\"MSLE on Test dataset: {test_msle}\")"
   ]
  },
  {
   "cell_type": "markdown",
   "id": "1ae4bc2a-6276-4ba7-b6fb-bfb5f410bfa2",
   "metadata": {},
   "source": [
    "## Predicting the next 60 days"
   ]
  },
  {
   "cell_type": "markdown",
   "id": "1482c74e-bb68-47db-a099-53bace49b9f5",
   "metadata": {},
   "source": [
    "### Preparing the prediction data"
   ]
  },
  {
   "cell_type": "code",
   "execution_count": 11,
   "id": "70292321-092c-419a-b19b-d098565c765b",
   "metadata": {},
   "outputs": [
    {
     "name": "stdout",
     "output_type": "stream",
     "text": [
      "[[0.029820960015058517], [0.027089882642030716], [0.026082731783390045], [0.026026509702205658], [0.026497915387153625], [0.027268391102552414], [0.028214149177074432], [0.02926652505993843], [0.03038526326417923], [0.03154509514570236], [0.03272894024848938], [0.03392462804913521], [0.03512323647737503], [0.03631814941763878], [0.03750458359718323], [0.03867911174893379], [0.039839379489421844], [0.04098380357027054], [0.04211142659187317], [0.04322163015604019], [0.04431406408548355], [0.0453885979950428], [0.04644513875246048], [0.0474836602807045], [0.04850418493151665], [0.04950673133134842], [0.05049131438136101], [0.05145798623561859], [0.05240678787231445], [0.05333779752254486], [0.05425110086798668], [0.05514682084321976], [0.05602508410811424], [0.05688607320189476], [0.05772998183965683], [0.058557018637657166], [0.05936744064092636], [0.06016148626804352], [0.06093945354223251], [0.061701614409685135], [0.062448278069496155], [0.06317973136901855], [0.0638962984085083], [0.06459827721118927], [0.06528596580028534], [0.06595967710018158], [0.06661970913410187], [0.06726634502410889], [0.06789989024400711], [0.06852060556411743], [0.06912878155708313], [0.0697246789932251], [0.07030855119228363], [0.07088068127632141], [0.07144129276275635], [0.07199063152074814], [0.07252893596887589], [0.07305644452571869], [0.07357337325811386], [0.07407994568347931]]\n"
     ]
    }
   ],
   "source": [
    "# Predict the next 60 days\n",
    "x_input = test_data[-time_step:].reshape(1, -1)\n",
    "temp_input = list(x_input[0])\n",
    "prediction_next60_days = []\n",
    "\n",
    "for i in range(60):\n",
    "    if len(temp_input) > time_step:\n",
    "        x_input = np.array(temp_input[-time_step:])\n",
    "        x_input = x_input.reshape((1, time_step, 1))\n",
    "        y_hat = model.predict(x_input, verbose=0)\n",
    "        temp_input.extend(y_hat[0].tolist())\n",
    "        temp_input = temp_input[1:]\n",
    "        prediction_next60_days.extend(y_hat.tolist())\n",
    "    else:\n",
    "        x_input = x_input.reshape((1, time_step, 1))\n",
    "        y_hat = model.predict(x_input, verbose=0)\n",
    "        temp_input.extend(y_hat[0].tolist())\n",
    "        prediction_next60_days.extend(y_hat.tolist())\n",
    "\n",
    "# Print predictions for the next 60 days\n",
    "print(prediction_next60_days)"
   ]
  },
  {
   "cell_type": "markdown",
   "id": "9669f475-1266-406a-a7ba-4b060661e5da",
   "metadata": {},
   "source": [
    "### Preparing the forecast date index"
   ]
  },
  {
   "cell_type": "code",
   "execution_count": 12,
   "id": "b7cc97a5-822b-4775-ac56-7b0ea6711611",
   "metadata": {},
   "outputs": [
    {
     "name": "stdout",
     "output_type": "stream",
     "text": [
      "[[0.029820960015058517], [0.027089882642030716], [0.026082731783390045], [0.026026509702205658], [0.026497915387153625], [0.027268391102552414], [0.028214149177074432], [0.02926652505993843], [0.03038526326417923], [0.03154509514570236], [0.03272894024848938], [0.03392462804913521], [0.03512323647737503], [0.03631814941763878], [0.03750458359718323], [0.03867911174893379], [0.039839379489421844], [0.04098380357027054], [0.04211142659187317], [0.04322163015604019], [0.04431406408548355], [0.0453885979950428], [0.04644513875246048], [0.0474836602807045], [0.04850418493151665], [0.04950673133134842], [0.05049131438136101], [0.05145798623561859], [0.05240678787231445], [0.05333779752254486], [0.05425110086798668], [0.05514682084321976], [0.05602508410811424], [0.05688607320189476], [0.05772998183965683], [0.058557018637657166], [0.05936744064092636], [0.06016148626804352], [0.06093945354223251], [0.061701614409685135], [0.062448278069496155], [0.06317973136901855], [0.0638962984085083], [0.06459827721118927], [0.06528596580028534], [0.06595967710018158], [0.06661970913410187], [0.06726634502410889], [0.06789989024400711], [0.06852060556411743], [0.06912878155708313], [0.0697246789932251], [0.07030855119228363], [0.07088068127632141], [0.07144129276275635], [0.07199063152074814], [0.07252893596887589], [0.07305644452571869], [0.07357337325811386], [0.07407994568347931]]\n"
     ]
    }
   ],
   "source": [
    "# Print predictions for the next 60 days\n",
    "print(prediction_next60_days)\n",
    "\n",
    "# Get the last date from the current index\n",
    "last_date = df.index.max()\n",
    "\n",
    "# Create a list of indices starting from the next date for 60 days\n",
    "future_dates = pd.date_range(start=last_date + pd.DateOffset(days=1), periods=60, freq='D')\n",
    "\n",
    "# Convert predictions back to original scale\n",
    "prediction_next60_days = scaler.inverse_transform(prediction_next60_days).reshape(-1)\n",
    "y_pred = scaler.inverse_transform(y_pred)\n",
    "train_data = scaler.inverse_transform(train_data)\n",
    "test_data = scaler.inverse_transform(test_data)"
   ]
  },
  {
   "cell_type": "markdown",
   "id": "bfea920b-2912-4cbc-9530-8250a82aadef",
   "metadata": {},
   "source": [
    "## Visualization"
   ]
  },
  {
   "cell_type": "code",
   "execution_count": 13,
   "id": "9514ab45-9348-4679-9095-ccf7487c25b2",
   "metadata": {},
   "outputs": [
    {
     "data": {
      "image/png": "[encoded data removed]",
      "text/plain": [
       "<Figure size 1600x500 with 1 Axes>"
      ]
     },
     "metadata": {},
     "output_type": "display_data"
    }
   ],
   "source": [
    "# Plotting\n",
    "plt.figure(figsize=(16, 5))\n",
    "\n",
    "plt.plot(df.index[:train_size], train_data, label='Train')\n",
    "plt.plot(df.index[train_size:], test_data, label='Test')\n",
    "plt.plot(df.index[train_size:], y_pred, label='PredictTest')\n",
    "plt.plot(future_dates, prediction_next60_days, label='Next60days')\n",
    "\n",
    "plt.xlabel('Date')\n",
    "plt.ylabel('Close Value')\n",
    "plt.title(f\"Pfizer Closing Price Data from {df.index[0].strftime('%Y-%m-%d')} to {future_dates[-1].strftime('%Y-%m-%d')}\")\n",
    "plt.legend()\n",
    "plt.grid()\n",
    "plt.savefig('Image/LSTM_82_60days_PFE.png')\n",
    "plt.show()"
   ]
  },
  {
   "cell_type": "code",
   "execution_count": null,
   "id": "0aef3390-370a-48fb-82ab-55896b9015fe",
   "metadata": {},
   "outputs": [],
   "source": []
  }
 ],
 "metadata": {
  "kernelspec": {
   "display_name": "Python 3 (ipykernel)",
   "language": "python",
   "name": "python3"
  },
  "language_info": {
   "codemirror_mode": {
    "name": "ipython",
    "version": 3
   },
   "file_extension": ".py",
   "mimetype": "text/x-python",
   "name": "python",
   "nbconvert_exporter": "python",
   "pygments_lexer": "ipython3",
   "version": "3.11.5"
  }
 },
 "nbformat": 4,
 "nbformat_minor": 5
}
