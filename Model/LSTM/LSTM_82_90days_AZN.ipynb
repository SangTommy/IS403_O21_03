{
 "cells": [
  {
   "cell_type": "markdown",
   "id": "35220b11-31db-4eeb-995d-293eb4e84592",
   "metadata": {},
   "source": [
    "## Thêm thư viện"
   ]
  },
  {
   "cell_type": "code",
   "execution_count": 1,
   "id": "f2701e5e-f6d3-4f42-a81c-14bbf285c4ba",
   "metadata": {},
   "outputs": [
    {
     "name": "stdout",
     "output_type": "stream",
     "text": [
      "WARNING:tensorflow:From D:\\Anaconda\\Anaconda3\\Lib\\site-packages\\keras\\src\\losses.py:2976: The name tf.losses.sparse_softmax_cross_entropy is deprecated. Please use tf.compat.v1.losses.sparse_softmax_cross_entropy instead.\n",
      "\n"
     ]
    }
   ],
   "source": [
    "import numpy as np\n",
    "import pandas as pd\n",
    "import matplotlib.pyplot as plt\n",
    "from keras.models import Sequential\n",
    "from keras.layers import Dense, LSTM, Dropout\n",
    "from keras.callbacks import EarlyStopping\n",
    "from sklearn.preprocessing import MinMaxScaler\n",
    "from sklearn.metrics import mean_squared_error, mean_absolute_percentage_error, mean_squared_log_error\n"
   ]
  },
  {
   "cell_type": "markdown",
   "id": "93023385-798c-4fea-b649-345e166bfea1",
   "metadata": {},
   "source": [
    "## Tiền xử lý"
   ]
  },
  {
   "cell_type": "markdown",
   "id": "92fe2483-5193-49f3-97d7-d9c168b87f62",
   "metadata": {},
   "source": [
    "### read data"
   ]
  },
  {
   "cell_type": "code",
   "execution_count": 2,
   "id": "f020aaa0-259f-42ee-8046-16b17e96752c",
   "metadata": {},
   "outputs": [
    {
     "data": {
      "text/html": [
       "<div>\n",
       "<style scoped>\n",
       "    .dataframe tbody tr th:only-of-type {\n",
       "        vertical-align: middle;\n",
       "    }\n",
       "\n",
       "    .dataframe tbody tr th {\n",
       "        vertical-align: top;\n",
       "    }\n",
       "\n",
       "    .dataframe thead th {\n",
       "        text-align: right;\n",
       "    }\n",
       "</style>\n",
       "<table border=\"1\" class=\"dataframe\">\n",
       "  <thead>\n",
       "    <tr style=\"text-align: right;\">\n",
       "      <th></th>\n",
       "      <th>Date</th>\n",
       "      <th>Open</th>\n",
       "      <th>High</th>\n",
       "      <th>Low</th>\n",
       "      <th>Close</th>\n",
       "      <th>Adj Close</th>\n",
       "      <th>Volume</th>\n",
       "    </tr>\n",
       "  </thead>\n",
       "  <tbody>\n",
       "    <tr>\n",
       "      <th>0</th>\n",
       "      <td>2019-03-01</td>\n",
       "      <td>41.610001</td>\n",
       "      <td>41.759998</td>\n",
       "      <td>41.480000</td>\n",
       "      <td>41.759998</td>\n",
       "      <td>36.845528</td>\n",
       "      <td>4590000</td>\n",
       "    </tr>\n",
       "    <tr>\n",
       "      <th>1</th>\n",
       "      <td>2019-03-04</td>\n",
       "      <td>41.730000</td>\n",
       "      <td>41.810001</td>\n",
       "      <td>41.389999</td>\n",
       "      <td>41.689999</td>\n",
       "      <td>36.783760</td>\n",
       "      <td>3948200</td>\n",
       "    </tr>\n",
       "    <tr>\n",
       "      <th>2</th>\n",
       "      <td>2019-03-05</td>\n",
       "      <td>41.560001</td>\n",
       "      <td>42.610001</td>\n",
       "      <td>41.560001</td>\n",
       "      <td>42.310001</td>\n",
       "      <td>37.330803</td>\n",
       "      <td>5668200</td>\n",
       "    </tr>\n",
       "    <tr>\n",
       "      <th>3</th>\n",
       "      <td>2019-03-06</td>\n",
       "      <td>42.360001</td>\n",
       "      <td>42.389999</td>\n",
       "      <td>41.930000</td>\n",
       "      <td>42.029999</td>\n",
       "      <td>37.083748</td>\n",
       "      <td>2490000</td>\n",
       "    </tr>\n",
       "    <tr>\n",
       "      <th>4</th>\n",
       "      <td>2019-03-07</td>\n",
       "      <td>41.610001</td>\n",
       "      <td>41.770000</td>\n",
       "      <td>41.330002</td>\n",
       "      <td>41.660000</td>\n",
       "      <td>36.757298</td>\n",
       "      <td>5283900</td>\n",
       "    </tr>\n",
       "    <tr>\n",
       "      <th>...</th>\n",
       "      <td>...</td>\n",
       "      <td>...</td>\n",
       "      <td>...</td>\n",
       "      <td>...</td>\n",
       "      <td>...</td>\n",
       "      <td>...</td>\n",
       "      <td>...</td>\n",
       "    </tr>\n",
       "    <tr>\n",
       "      <th>1254</th>\n",
       "      <td>2024-02-23</td>\n",
       "      <td>64.959999</td>\n",
       "      <td>65.930000</td>\n",
       "      <td>64.949997</td>\n",
       "      <td>65.830002</td>\n",
       "      <td>65.830002</td>\n",
       "      <td>7388200</td>\n",
       "    </tr>\n",
       "    <tr>\n",
       "      <th>1255</th>\n",
       "      <td>2024-02-26</td>\n",
       "      <td>66.080002</td>\n",
       "      <td>66.370003</td>\n",
       "      <td>65.750000</td>\n",
       "      <td>65.930000</td>\n",
       "      <td>65.930000</td>\n",
       "      <td>4597900</td>\n",
       "    </tr>\n",
       "    <tr>\n",
       "      <th>1256</th>\n",
       "      <td>2024-02-27</td>\n",
       "      <td>65.940002</td>\n",
       "      <td>66.459999</td>\n",
       "      <td>65.769997</td>\n",
       "      <td>66.330002</td>\n",
       "      <td>66.330002</td>\n",
       "      <td>4433500</td>\n",
       "    </tr>\n",
       "    <tr>\n",
       "      <th>1257</th>\n",
       "      <td>2024-02-28</td>\n",
       "      <td>65.459999</td>\n",
       "      <td>65.779999</td>\n",
       "      <td>65.160004</td>\n",
       "      <td>65.349998</td>\n",
       "      <td>65.349998</td>\n",
       "      <td>6030600</td>\n",
       "    </tr>\n",
       "    <tr>\n",
       "      <th>1258</th>\n",
       "      <td>2024-02-29</td>\n",
       "      <td>65.169998</td>\n",
       "      <td>65.209999</td>\n",
       "      <td>63.740002</td>\n",
       "      <td>64.160004</td>\n",
       "      <td>64.160004</td>\n",
       "      <td>6084500</td>\n",
       "    </tr>\n",
       "  </tbody>\n",
       "</table>\n",
       "<p>1259 rows × 7 columns</p>\n",
       "</div>"
      ],
      "text/plain": [
       "            Date       Open       High        Low      Close  Adj Close  \\\n",
       "0     2019-03-01  41.610001  41.759998  41.480000  41.759998  36.845528   \n",
       "1     2019-03-04  41.730000  41.810001  41.389999  41.689999  36.783760   \n",
       "2     2019-03-05  41.560001  42.610001  41.560001  42.310001  37.330803   \n",
       "3     2019-03-06  42.360001  42.389999  41.930000  42.029999  37.083748   \n",
       "4     2019-03-07  41.610001  41.770000  41.330002  41.660000  36.757298   \n",
       "...          ...        ...        ...        ...        ...        ...   \n",
       "1254  2024-02-23  64.959999  65.930000  64.949997  65.830002  65.830002   \n",
       "1255  2024-02-26  66.080002  66.370003  65.750000  65.930000  65.930000   \n",
       "1256  2024-02-27  65.940002  66.459999  65.769997  66.330002  66.330002   \n",
       "1257  2024-02-28  65.459999  65.779999  65.160004  65.349998  65.349998   \n",
       "1258  2024-02-29  65.169998  65.209999  63.740002  64.160004  64.160004   \n",
       "\n",
       "       Volume  \n",
       "0     4590000  \n",
       "1     3948200  \n",
       "2     5668200  \n",
       "3     2490000  \n",
       "4     5283900  \n",
       "...       ...  \n",
       "1254  7388200  \n",
       "1255  4597900  \n",
       "1256  4433500  \n",
       "1257  6030600  \n",
       "1258  6084500  \n",
       "\n",
       "[1259 rows x 7 columns]"
      ]
     },
     "execution_count": 2,
     "metadata": {},
     "output_type": "execute_result"
    }
   ],
   "source": [
    "# Load the data\n",
    "df = pd.read_csv('AZN-AstraZeneca.csv')\n",
    "df"
   ]
  },
  {
   "cell_type": "markdown",
   "id": "db66e55e-d672-46aa-a806-e64e10c41d84",
   "metadata": {},
   "source": [
    "### Reset index"
   ]
  },
  {
   "cell_type": "code",
   "execution_count": 3,
   "id": "ab598c86-6639-47b2-8fe5-85376d67302d",
   "metadata": {},
   "outputs": [],
   "source": [
    "# Convert the 'Date' column to datetime format\n",
    "df['Date'] = pd.to_datetime(df['Date'])\n",
    "\n",
    "# Set the 'Date' column as the index value\n",
    "df = df.set_index(pd.DatetimeIndex(df['Date'].values))\n",
    "\n",
    "# Create new dataframe with Date and Close\n",
    "df_close = pd.DataFrame(df, columns=['Close'])"
   ]
  },
  {
   "cell_type": "markdown",
   "id": "0ab504a3-ac2f-40ca-b6a2-fe20ad1c384b",
   "metadata": {},
   "source": [
    "### Data normalization"
   ]
  },
  {
   "cell_type": "code",
   "execution_count": 4,
   "id": "3ffd8e05-1a3f-4656-bf0b-8cd76f8242d2",
   "metadata": {},
   "outputs": [],
   "source": [
    "# Scale the data\n",
    "scaler = MinMaxScaler(feature_range=(0, 1))\n",
    "df_close = scaler.fit_transform(np.array(df_close).reshape(-1, 1))"
   ]
  },
  {
   "cell_type": "markdown",
   "id": "4984257b-5c2f-4174-8cb9-10f1c21168b3",
   "metadata": {},
   "source": [
    "### Data splitting"
   ]
  },
  {
   "cell_type": "code",
   "execution_count": 5,
   "id": "00c81cbe-91b4-41da-bacd-60ba26466d66",
   "metadata": {},
   "outputs": [],
   "source": [
    "# Split the data into training and test sets\n",
    "train_size = int(len(df_close) * 0.8)\n",
    "test_size = len(df_close) - train_size\n",
    "\n",
    "train_data = df_close[:train_size]\n",
    "test_data = df_close[train_size:]"
   ]
  },
  {
   "cell_type": "code",
   "execution_count": 6,
   "id": "d7447af0-ad15-4848-a420-1d1f1ae9b04c",
   "metadata": {},
   "outputs": [],
   "source": [
    "# Create dataset\n",
    "def create_dataset(dataset, time_step=1):\n",
    "    dataX, dataY = [], []\n",
    "    for i in range(len(dataset) - time_step):\n",
    "        a = dataset[i:(i + time_step), 0]\n",
    "        dataX.append(a)\n",
    "        dataY.append(dataset[i + time_step, 0])\n",
    "    return np.array(dataX), np.array(dataY)\n",
    "\t\n",
    "time_step = 100\n",
    "\n",
    "# Get lost data for test\n",
    "train_last_windowsize = train_data[-time_step:]\n",
    "test_data_extended = np.concatenate((train_last_windowsize, test_data), axis=0)\n",
    "\n",
    "X_train, y_train = create_dataset(train_data, time_step)\n",
    "X_test, y_test = create_dataset(test_data_extended, time_step)\n",
    "\n",
    "# Reshape input to be [samples, time steps, features] which is required for LSTM\n",
    "X_train = X_train.reshape(X_train.shape[0], X_train.shape[1], 1)\n",
    "X_test = X_test.reshape(X_test.shape[0], X_test.shape[1], 1)"
   ]
  },
  {
   "cell_type": "markdown",
   "id": "340b354a-d844-4dae-8a92-904e0626ab54",
   "metadata": {},
   "source": [
    "### Model training and testing"
   ]
  },
  {
   "cell_type": "code",
   "execution_count": 7,
   "id": "d749f34c-1c17-4e9f-893d-d8d90dc4603a",
   "metadata": {},
   "outputs": [
    {
     "name": "stdout",
     "output_type": "stream",
     "text": [
      "WARNING:tensorflow:From D:\\Anaconda\\Anaconda3\\Lib\\site-packages\\keras\\src\\backend.py:873: The name tf.get_default_graph is deprecated. Please use tf.compat.v1.get_default_graph instead.\n",
      "\n",
      "WARNING:tensorflow:From D:\\Anaconda\\Anaconda3\\Lib\\site-packages\\keras\\src\\optimizers\\__init__.py:309: The name tf.train.Optimizer is deprecated. Please use tf.compat.v1.train.Optimizer instead.\n",
      "\n"
     ]
    }
   ],
   "source": [
    "# Define the LSTM model\n",
    "model = Sequential()\n",
    "model.add(LSTM(64, return_sequences=True, input_shape=(time_step, 1)))\n",
    "model.add(LSTM(64, return_sequences=False))\n",
    "model.add(Dropout(0.2))\n",
    "model.add(Dense(1, activation='relu'))\n",
    "model.compile(loss='mean_squared_error', optimizer='adam')"
   ]
  },
  {
   "cell_type": "code",
   "execution_count": 8,
   "id": "a4797e98-543e-4e83-aeb2-13245bdf3b09",
   "metadata": {},
   "outputs": [
    {
     "name": "stdout",
     "output_type": "stream",
     "text": [
      "Epoch 1/100\n",
      "WARNING:tensorflow:From D:\\Anaconda\\Anaconda3\\Lib\\site-packages\\keras\\src\\utils\\tf_utils.py:492: The name tf.ragged.RaggedTensorValue is deprecated. Please use tf.compat.v1.ragged.RaggedTensorValue instead.\n",
      "\n",
      "15/15 [==============================] - 13s 126ms/step - loss: 0.0697\n",
      "Epoch 2/100\n",
      "15/15 [==============================] - 2s 146ms/step - loss: 0.0123\n",
      "Epoch 3/100\n",
      "15/15 [==============================] - 2s 125ms/step - loss: 0.0071\n",
      "Epoch 4/100\n",
      "15/15 [==============================] - 2s 163ms/step - loss: 0.0053\n",
      "Epoch 5/100\n",
      "15/15 [==============================] - 2s 135ms/step - loss: 0.0051\n",
      "Epoch 6/100\n",
      "15/15 [==============================] - 2s 129ms/step - loss: 0.0044\n",
      "Epoch 7/100\n",
      "15/15 [==============================] - 2s 138ms/step - loss: 0.0043\n",
      "Epoch 8/100\n",
      "15/15 [==============================] - 2s 125ms/step - loss: 0.0044\n",
      "Epoch 9/100\n",
      "15/15 [==============================] - 2s 131ms/step - loss: 0.0039\n",
      "Epoch 10/100\n",
      "15/15 [==============================] - 2s 119ms/step - loss: 0.0041\n",
      "Epoch 11/100\n",
      "15/15 [==============================] - 2s 116ms/step - loss: 0.0040\n",
      "Epoch 12/100\n",
      "15/15 [==============================] - 2s 165ms/step - loss: 0.0036\n",
      "Epoch 13/100\n",
      "15/15 [==============================] - 2s 133ms/step - loss: 0.0036\n",
      "Epoch 14/100\n",
      "15/15 [==============================] - 2s 147ms/step - loss: 0.0035\n",
      "Epoch 15/100\n",
      "15/15 [==============================] - 2s 148ms/step - loss: 0.0034\n",
      "Epoch 16/100\n",
      "15/15 [==============================] - 2s 146ms/step - loss: 0.0038\n",
      "Epoch 17/100\n",
      "15/15 [==============================] - 2s 130ms/step - loss: 0.0034\n",
      "Epoch 18/100\n",
      "15/15 [==============================] - 2s 156ms/step - loss: 0.0033\n",
      "Epoch 19/100\n",
      "15/15 [==============================] - 2s 137ms/step - loss: 0.0034\n",
      "Epoch 20/100\n",
      "15/15 [==============================] - 2s 136ms/step - loss: 0.0033\n",
      "Epoch 21/100\n",
      "15/15 [==============================] - 2s 123ms/step - loss: 0.0030\n",
      "Epoch 22/100\n",
      "15/15 [==============================] - 2s 135ms/step - loss: 0.0033\n",
      "Epoch 23/100\n",
      "15/15 [==============================] - 2s 147ms/step - loss: 0.0031\n",
      "Epoch 24/100\n",
      "15/15 [==============================] - 2s 151ms/step - loss: 0.0032\n",
      "Epoch 25/100\n",
      "15/15 [==============================] - 2s 139ms/step - loss: 0.0030\n",
      "Epoch 26/100\n",
      "15/15 [==============================] - 2s 134ms/step - loss: 0.0032\n",
      "Epoch 27/100\n",
      "15/15 [==============================] - 2s 120ms/step - loss: 0.0030\n",
      "Epoch 28/100\n",
      "15/15 [==============================] - 2s 150ms/step - loss: 0.0031\n",
      "Epoch 29/100\n",
      "15/15 [==============================] - 2s 133ms/step - loss: 0.0031\n",
      "Epoch 30/100\n",
      "15/15 [==============================] - 2s 138ms/step - loss: 0.0032\n",
      "Epoch 31/100\n",
      "15/15 [==============================] - 2s 148ms/step - loss: 0.0029\n",
      "Epoch 32/100\n",
      "15/15 [==============================] - 2s 142ms/step - loss: 0.0029\n",
      "Epoch 33/100\n",
      "15/15 [==============================] - 2s 131ms/step - loss: 0.0027\n",
      "Epoch 34/100\n",
      "15/15 [==============================] - 2s 121ms/step - loss: 0.0027\n",
      "Epoch 35/100\n",
      "15/15 [==============================] - 2s 122ms/step - loss: 0.0027\n",
      "Epoch 36/100\n",
      "15/15 [==============================] - 2s 117ms/step - loss: 0.0027\n",
      "Epoch 37/100\n",
      "15/15 [==============================] - 2s 117ms/step - loss: 0.0025\n",
      "Epoch 38/100\n",
      "15/15 [==============================] - 2s 125ms/step - loss: 0.0028\n",
      "Epoch 39/100\n",
      "15/15 [==============================] - 2s 129ms/step - loss: 0.0027\n",
      "Epoch 40/100\n",
      "15/15 [==============================] - 2s 125ms/step - loss: 0.0027\n",
      "Epoch 41/100\n",
      "15/15 [==============================] - 2s 126ms/step - loss: 0.0025\n",
      "Epoch 42/100\n",
      "15/15 [==============================] - 2s 151ms/step - loss: 0.0025\n",
      "Epoch 43/100\n",
      "15/15 [==============================] - 2s 153ms/step - loss: 0.0025\n",
      "Epoch 44/100\n",
      "15/15 [==============================] - 2s 165ms/step - loss: 0.0026\n",
      "Epoch 45/100\n",
      "15/15 [==============================] - 2s 168ms/step - loss: 0.0025\n",
      "Epoch 46/100\n",
      "15/15 [==============================] - 3s 166ms/step - loss: 0.0026\n",
      "Epoch 47/100\n",
      "15/15 [==============================] - 3s 169ms/step - loss: 0.0027\n",
      "Epoch 48/100\n",
      "15/15 [==============================] - 3s 173ms/step - loss: 0.0025\n",
      "Epoch 49/100\n",
      "15/15 [==============================] - 2s 152ms/step - loss: 0.0022\n",
      "Epoch 50/100\n",
      "15/15 [==============================] - 2s 162ms/step - loss: 0.0021\n",
      "Epoch 51/100\n",
      "15/15 [==============================] - 3s 166ms/step - loss: 0.0024\n",
      "Epoch 52/100\n",
      "15/15 [==============================] - 3s 170ms/step - loss: 0.0021\n",
      "Epoch 53/100\n",
      "15/15 [==============================] - 3s 174ms/step - loss: 0.0022\n",
      "Epoch 54/100\n",
      "15/15 [==============================] - 2s 148ms/step - loss: 0.0022\n",
      "Epoch 55/100\n",
      "15/15 [==============================] - 2s 158ms/step - loss: 0.0021\n",
      "Epoch 56/100\n",
      "15/15 [==============================] - 2s 148ms/step - loss: 0.0022\n",
      "Epoch 57/100\n",
      "15/15 [==============================] - 2s 133ms/step - loss: 0.0021\n",
      "Epoch 58/100\n",
      "15/15 [==============================] - 2s 137ms/step - loss: 0.0022\n",
      "Epoch 59/100\n",
      "15/15 [==============================] - 2s 153ms/step - loss: 0.0021\n",
      "Epoch 60/100\n",
      "15/15 [==============================] - 2s 146ms/step - loss: 0.0022\n",
      "Epoch 61/100\n",
      "15/15 [==============================] - 2s 144ms/step - loss: 0.0022\n",
      "Epoch 62/100\n",
      "15/15 [==============================] - 2s 144ms/step - loss: 0.0021\n",
      "Epoch 63/100\n",
      "15/15 [==============================] - 2s 147ms/step - loss: 0.0022\n",
      "Epoch 64/100\n",
      "15/15 [==============================] - 2s 136ms/step - loss: 0.0022\n",
      "Epoch 65/100\n",
      "15/15 [==============================] - 2s 139ms/step - loss: 0.0021\n"
     ]
    },
    {
     "data": {
      "text/plain": [
       "<keras.src.callbacks.History at 0x2a6e771d050>"
      ]
     },
     "execution_count": 8,
     "metadata": {},
     "output_type": "execute_result"
    }
   ],
   "source": [
    "# Using early stopping to prevent overfitting\n",
    "earlystop = EarlyStopping(monitor='loss', patience=10, restore_best_weights=True)\n",
    "\n",
    "# Train the LSTM model\n",
    "model.fit(X_train, y_train, epochs=100, batch_size=64, verbose=1, callbacks=earlystop)"
   ]
  },
  {
   "cell_type": "markdown",
   "id": "2ccf8949-2979-4c84-92df-d50aa692a225",
   "metadata": {},
   "source": [
    "### Testing process"
   ]
  },
  {
   "cell_type": "code",
   "execution_count": 9,
   "id": "6fc7483d-b74d-4d52-8ae5-6bb9cf98718c",
   "metadata": {},
   "outputs": [
    {
     "name": "stdout",
     "output_type": "stream",
     "text": [
      "8/8 [==============================] - 5s 38ms/step\n"
     ]
    }
   ],
   "source": [
    "# Predict\n",
    "y_pred = model.predict(X_test)"
   ]
  },
  {
   "cell_type": "markdown",
   "id": "856e8b0a-e6f9-40a5-a1c9-4a4c70cecf19",
   "metadata": {},
   "source": [
    "### Evaluate model"
   ]
  },
  {
   "cell_type": "code",
   "execution_count": 10,
   "id": "33bc835d-68c2-45ad-8831-ffde8e88a039",
   "metadata": {},
   "outputs": [
    {
     "name": "stdout",
     "output_type": "stream",
     "text": [
      "MAPE on Test dataset: 0.029278381793477585\n",
      "RMSE on Test dataset: 0.03034747107542678\n",
      "MSLE on Test dataset: 0.00029022099171434535\n"
     ]
    }
   ],
   "source": [
    "# Evaluate the accuracy of the test set\n",
    "test_mape = mean_absolute_percentage_error(y_test, y_pred)\n",
    "test_mse = mean_squared_error(y_test, y_pred)\n",
    "test_rmse = np.sqrt(test_mse)\n",
    "test_msle = mean_squared_log_error(y_test, y_pred)\n",
    "\n",
    "print(f\"MAPE on Test dataset: {test_mape}\")\n",
    "print(f\"RMSE on Test dataset: {test_rmse}\")\n",
    "print(f\"MSLE on Test dataset: {test_msle}\")"
   ]
  },
  {
   "cell_type": "markdown",
   "id": "1ae4bc2a-6276-4ba7-b6fb-bfb5f410bfa2",
   "metadata": {},
   "source": [
    "## Predicting the next 90 days"
   ]
  },
  {
   "cell_type": "markdown",
   "id": "1482c74e-bb68-47db-a099-53bace49b9f5",
   "metadata": {},
   "source": [
    "### Preparing the prediction data"
   ]
  },
  {
   "cell_type": "code",
   "execution_count": 11,
   "id": "70292321-092c-419a-b19b-d098565c765b",
   "metadata": {},
   "outputs": [
    {
     "name": "stdout",
     "output_type": "stream",
     "text": [
      "[[0.7393530607223511], [0.7324272990226746], [0.7272566556930542], [0.7229214310646057], [0.7190331816673279], [0.7154592275619507], [0.7121835947036743], [0.7092348337173462], [0.7066446542739868], [0.7044335007667542], [0.702601432800293], [0.7011310458183289], [0.6999881267547607], [0.699128270149231], [0.6984999179840088], [0.6980490684509277], [0.6977226138114929], [0.6974714398384094], [0.6972520351409912], [0.6970276236534119], [0.6967698335647583], [0.6964576244354248], [0.6960772275924683], [0.6956220269203186], [0.6950907707214355], [0.6944870948791504], [0.6938183307647705], [0.6930941939353943], [0.6923257112503052], [0.6915243268013], [0.6907014846801758], [0.6898680925369263], [0.6890328526496887], [0.6882038712501526], [0.6873870491981506], [0.6865871548652649], [0.6858064532279968], [0.6850466132164001], [0.6843076944351196], [0.6835888624191284], [0.6828884482383728], [0.6822043061256409], [0.6815341711044312], [0.6808754205703735], [0.680225670337677], [0.6795825362205505], [0.6789443492889404], [0.6783090829849243], [0.6776755452156067], [0.6770428419113159], [0.6764102578163147], [0.6757775545120239], [0.6751448512077332], [0.6745120882987976], [0.6738795638084412], [0.6732476353645325], [0.6726170778274536], [0.6719881296157837], [0.6713613867759705], [0.670737087726593], [0.670116126537323], [0.6694982647895813], [0.6688841581344604], [0.6682737469673157], [0.6676670908927917], [0.6670645475387573], [0.6664656400680542], [0.6658708453178406], [0.6652795672416687], [0.6646921634674072], [0.6641080975532532], [0.6635274291038513], [0.6629499793052673], [0.662375807762146], [0.6618046760559082], [0.6612365245819092], [0.660671055316925], [0.6601085662841797], [0.6595489382743835], [0.658991813659668], [0.6584376692771912], [0.6578861474990845], [0.6573373675346375], [0.6567912101745605], [0.6562477946281433], [0.6557072401046753], [0.6551692485809326], [0.6546341776847839], [0.654101550579071], [0.6535719633102417]]\n"
     ]
    }
   ],
   "source": [
    "# Predict the next 90 days\n",
    "x_input = test_data[-time_step:].reshape(1, -1)\n",
    "temp_input = list(x_input[0])\n",
    "prediction_next90_days = []\n",
    "\n",
    "for i in range(90):\n",
    "    if len(temp_input) > time_step:\n",
    "        x_input = np.array(temp_input[-time_step:])\n",
    "        x_input = x_input.reshape((1, time_step, 1))\n",
    "        y_hat = model.predict(x_input, verbose=0)\n",
    "        temp_input.extend(y_hat[0].tolist())\n",
    "        temp_input = temp_input[1:]\n",
    "        prediction_next90_days.extend(y_hat.tolist())\n",
    "    else:\n",
    "        x_input = x_input.reshape((1, time_step, 1))\n",
    "        y_hat = model.predict(x_input, verbose=0)\n",
    "        temp_input.extend(y_hat[0].tolist())\n",
    "        prediction_next90_days.extend(y_hat.tolist())\n",
    "\n",
    "# Print predictions for the next 90 days\n",
    "print(prediction_next90_days)"
   ]
  },
  {
   "cell_type": "markdown",
   "id": "9669f475-1266-406a-a7ba-4b060661e5da",
   "metadata": {},
   "source": [
    "### Preparing the forecast date index"
   ]
  },
  {
   "cell_type": "code",
   "execution_count": 12,
   "id": "b7cc97a5-822b-4775-ac56-7b0ea6711611",
   "metadata": {},
   "outputs": [
    {
     "name": "stdout",
     "output_type": "stream",
     "text": [
      "[[0.7393530607223511], [0.7324272990226746], [0.7272566556930542], [0.7229214310646057], [0.7190331816673279], [0.7154592275619507], [0.7121835947036743], [0.7092348337173462], [0.7066446542739868], [0.7044335007667542], [0.702601432800293], [0.7011310458183289], [0.6999881267547607], [0.699128270149231], [0.6984999179840088], [0.6980490684509277], [0.6977226138114929], [0.6974714398384094], [0.6972520351409912], [0.6970276236534119], [0.6967698335647583], [0.6964576244354248], [0.6960772275924683], [0.6956220269203186], [0.6950907707214355], [0.6944870948791504], [0.6938183307647705], [0.6930941939353943], [0.6923257112503052], [0.6915243268013], [0.6907014846801758], [0.6898680925369263], [0.6890328526496887], [0.6882038712501526], [0.6873870491981506], [0.6865871548652649], [0.6858064532279968], [0.6850466132164001], [0.6843076944351196], [0.6835888624191284], [0.6828884482383728], [0.6822043061256409], [0.6815341711044312], [0.6808754205703735], [0.680225670337677], [0.6795825362205505], [0.6789443492889404], [0.6783090829849243], [0.6776755452156067], [0.6770428419113159], [0.6764102578163147], [0.6757775545120239], [0.6751448512077332], [0.6745120882987976], [0.6738795638084412], [0.6732476353645325], [0.6726170778274536], [0.6719881296157837], [0.6713613867759705], [0.670737087726593], [0.670116126537323], [0.6694982647895813], [0.6688841581344604], [0.6682737469673157], [0.6676670908927917], [0.6670645475387573], [0.6664656400680542], [0.6658708453178406], [0.6652795672416687], [0.6646921634674072], [0.6641080975532532], [0.6635274291038513], [0.6629499793052673], [0.662375807762146], [0.6618046760559082], [0.6612365245819092], [0.660671055316925], [0.6601085662841797], [0.6595489382743835], [0.658991813659668], [0.6584376692771912], [0.6578861474990845], [0.6573373675346375], [0.6567912101745605], [0.6562477946281433], [0.6557072401046753], [0.6551692485809326], [0.6546341776847839], [0.654101550579071], [0.6535719633102417]]\n"
     ]
    }
   ],
   "source": [
    "# Print predictions for the next 90 days\n",
    "print(prediction_next90_days)\n",
    "\n",
    "# Get the last date from the current index\n",
    "last_date = df.index.max()\n",
    "\n",
    "# Create a list of indices starting from the next date for 90 days\n",
    "future_dates = pd.date_range(start=last_date + pd.DateOffset(days=1), periods=90, freq='D')\n",
    "\n",
    "# Convert predictions back to original scale\n",
    "prediction_next90_days = scaler.inverse_transform(prediction_next90_days).reshape(-1)\n",
    "y_pred = scaler.inverse_transform(y_pred)\n",
    "train_data = scaler.inverse_transform(train_data)\n",
    "test_data = scaler.inverse_transform(test_data)"
   ]
  },
  {
   "cell_type": "markdown",
   "id": "bfea920b-2912-4cbc-9530-8250a82aadef",
   "metadata": {},
   "source": [
    "## Visualization"
   ]
  },
  {
   "cell_type": "code",
   "execution_count": 13,
   "id": "9514ab45-9348-4679-9095-ccf7487c25b2",
   "metadata": {},
   "outputs": [
    {
     "data": {
      "image/png": "[encoded data removed]",
      "text/plain": [
       "<Figure size 1600x500 with 1 Axes>"
      ]
     },
     "metadata": {},
     "output_type": "display_data"
    }
   ],
   "source": [
    "# Plotting\n",
    "plt.figure(figsize=(16, 5))\n",
    "\n",
    "plt.plot(df.index[:train_size], train_data, label='Train')\n",
    "plt.plot(df.index[train_size:], test_data, label='Test')\n",
    "plt.plot(df.index[train_size:], y_pred, label='PredictTest')\n",
    "plt.plot(future_dates, prediction_next90_days, label='Next90days')\n",
    "\n",
    "plt.xlabel('Date')\n",
    "plt.ylabel('Close Value')\n",
    "plt.title(f\"AstraZeneca Closing Price Data from {df.index[0].strftime('%Y-%m-%d')} to {future_dates[-1].strftime('%Y-%m-%d')}\")\n",
    "plt.legend()\n",
    "plt.grid()\n",
    "plt.savefig('Image/LSTM_82_90days_AZN.png')\n",
    "plt.show()"
   ]
  },
  {
   "cell_type": "code",
   "execution_count": null,
   "id": "0aef3390-370a-48fb-82ab-55896b9015fe",
   "metadata": {},
   "outputs": [],
   "source": []
  }
 ],
 "metadata": {
  "kernelspec": {
   "display_name": "Python 3 (ipykernel)",
   "language": "python",
   "name": "python3"
  },
  "language_info": {
   "codemirror_mode": {
    "name": "ipython",
    "version": 3
   },
   "file_extension": ".py",
   "mimetype": "text/x-python",
   "name": "python",
   "nbconvert_exporter": "python",
   "pygments_lexer": "ipython3",
   "version": "3.11.5"
  }
 },
 "nbformat": 4,
 "nbformat_minor": 5
}
