{
 "cells": [
  {
   "cell_type": "markdown",
   "id": "35220b11-31db-4eeb-995d-293eb4e84592",
   "metadata": {},
   "source": [
    "## Thêm thư viện"
   ]
  },
  {
   "cell_type": "code",
   "execution_count": 1,
   "id": "f2701e5e-f6d3-4f42-a81c-14bbf285c4ba",
   "metadata": {},
   "outputs": [
    {
     "name": "stdout",
     "output_type": "stream",
     "text": [
      "WARNING:tensorflow:From D:\\Anaconda\\Anaconda3\\Lib\\site-packages\\keras\\src\\losses.py:2976: The name tf.losses.sparse_softmax_cross_entropy is deprecated. Please use tf.compat.v1.losses.sparse_softmax_cross_entropy instead.\n",
      "\n"
     ]
    }
   ],
   "source": [
    "import numpy as np\n",
    "import pandas as pd\n",
    "import matplotlib.pyplot as plt\n",
    "from keras.models import Sequential\n",
    "from keras.layers import Dense, LSTM, Dropout\n",
    "from keras.callbacks import EarlyStopping\n",
    "from sklearn.preprocessing import MinMaxScaler\n",
    "from sklearn.metrics import mean_squared_error, mean_absolute_percentage_error, mean_squared_log_error\n"
   ]
  },
  {
   "cell_type": "markdown",
   "id": "93023385-798c-4fea-b649-345e166bfea1",
   "metadata": {},
   "source": [
    "## Tiền xử lý"
   ]
  },
  {
   "cell_type": "markdown",
   "id": "92fe2483-5193-49f3-97d7-d9c168b87f62",
   "metadata": {},
   "source": [
    "### read data"
   ]
  },
  {
   "cell_type": "code",
   "execution_count": 2,
   "id": "f020aaa0-259f-42ee-8046-16b17e96752c",
   "metadata": {},
   "outputs": [
    {
     "data": {
      "text/html": [
       "<div>\n",
       "<style scoped>\n",
       "    .dataframe tbody tr th:only-of-type {\n",
       "        vertical-align: middle;\n",
       "    }\n",
       "\n",
       "    .dataframe tbody tr th {\n",
       "        vertical-align: top;\n",
       "    }\n",
       "\n",
       "    .dataframe thead th {\n",
       "        text-align: right;\n",
       "    }\n",
       "</style>\n",
       "<table border=\"1\" class=\"dataframe\">\n",
       "  <thead>\n",
       "    <tr style=\"text-align: right;\">\n",
       "      <th></th>\n",
       "      <th>Date</th>\n",
       "      <th>Open</th>\n",
       "      <th>High</th>\n",
       "      <th>Low</th>\n",
       "      <th>Close</th>\n",
       "      <th>Adj Close</th>\n",
       "      <th>Volume</th>\n",
       "    </tr>\n",
       "  </thead>\n",
       "  <tbody>\n",
       "    <tr>\n",
       "      <th>0</th>\n",
       "      <td>2019-03-01</td>\n",
       "      <td>79.769997</td>\n",
       "      <td>80.849998</td>\n",
       "      <td>79.279999</td>\n",
       "      <td>80.099998</td>\n",
       "      <td>62.999912</td>\n",
       "      <td>8567900</td>\n",
       "    </tr>\n",
       "    <tr>\n",
       "      <th>1</th>\n",
       "      <td>2019-03-04</td>\n",
       "      <td>80.400002</td>\n",
       "      <td>80.730003</td>\n",
       "      <td>79.110001</td>\n",
       "      <td>79.459999</td>\n",
       "      <td>62.496529</td>\n",
       "      <td>5872500</td>\n",
       "    </tr>\n",
       "    <tr>\n",
       "      <th>2</th>\n",
       "      <td>2019-03-05</td>\n",
       "      <td>79.379997</td>\n",
       "      <td>79.900002</td>\n",
       "      <td>78.720001</td>\n",
       "      <td>78.910004</td>\n",
       "      <td>62.063969</td>\n",
       "      <td>5933100</td>\n",
       "    </tr>\n",
       "    <tr>\n",
       "      <th>3</th>\n",
       "      <td>2019-03-06</td>\n",
       "      <td>79.129997</td>\n",
       "      <td>79.129997</td>\n",
       "      <td>77.559998</td>\n",
       "      <td>78.089996</td>\n",
       "      <td>61.419025</td>\n",
       "      <td>5293200</td>\n",
       "    </tr>\n",
       "    <tr>\n",
       "      <th>4</th>\n",
       "      <td>2019-03-07</td>\n",
       "      <td>77.769997</td>\n",
       "      <td>79.120003</td>\n",
       "      <td>77.440002</td>\n",
       "      <td>78.239998</td>\n",
       "      <td>61.537003</td>\n",
       "      <td>6642500</td>\n",
       "    </tr>\n",
       "    <tr>\n",
       "      <th>...</th>\n",
       "      <td>...</td>\n",
       "      <td>...</td>\n",
       "      <td>...</td>\n",
       "      <td>...</td>\n",
       "      <td>...</td>\n",
       "      <td>...</td>\n",
       "      <td>...</td>\n",
       "    </tr>\n",
       "    <tr>\n",
       "      <th>1254</th>\n",
       "      <td>2024-02-23</td>\n",
       "      <td>177.259995</td>\n",
       "      <td>178.910004</td>\n",
       "      <td>177.009995</td>\n",
       "      <td>178.089996</td>\n",
       "      <td>176.442200</td>\n",
       "      <td>3941800</td>\n",
       "    </tr>\n",
       "    <tr>\n",
       "      <th>1255</th>\n",
       "      <td>2024-02-26</td>\n",
       "      <td>178.839996</td>\n",
       "      <td>179.789993</td>\n",
       "      <td>178.000000</td>\n",
       "      <td>178.809998</td>\n",
       "      <td>177.155533</td>\n",
       "      <td>4327400</td>\n",
       "    </tr>\n",
       "    <tr>\n",
       "      <th>1256</th>\n",
       "      <td>2024-02-27</td>\n",
       "      <td>178.770004</td>\n",
       "      <td>179.529999</td>\n",
       "      <td>176.979996</td>\n",
       "      <td>178.990005</td>\n",
       "      <td>177.333878</td>\n",
       "      <td>3888500</td>\n",
       "    </tr>\n",
       "    <tr>\n",
       "      <th>1257</th>\n",
       "      <td>2024-02-28</td>\n",
       "      <td>179.850006</td>\n",
       "      <td>179.889999</td>\n",
       "      <td>176.889999</td>\n",
       "      <td>178.000000</td>\n",
       "      <td>176.353043</td>\n",
       "      <td>4331300</td>\n",
       "    </tr>\n",
       "    <tr>\n",
       "      <th>1258</th>\n",
       "      <td>2024-02-29</td>\n",
       "      <td>177.869995</td>\n",
       "      <td>178.020004</td>\n",
       "      <td>175.389999</td>\n",
       "      <td>176.050003</td>\n",
       "      <td>174.421082</td>\n",
       "      <td>7485700</td>\n",
       "    </tr>\n",
       "  </tbody>\n",
       "</table>\n",
       "<p>1259 rows × 7 columns</p>\n",
       "</div>"
      ],
      "text/plain": [
       "            Date        Open        High         Low       Close   Adj Close  \\\n",
       "0     2019-03-01   79.769997   80.849998   79.279999   80.099998   62.999912   \n",
       "1     2019-03-04   80.400002   80.730003   79.110001   79.459999   62.496529   \n",
       "2     2019-03-05   79.379997   79.900002   78.720001   78.910004   62.063969   \n",
       "3     2019-03-06   79.129997   79.129997   77.559998   78.089996   61.419025   \n",
       "4     2019-03-07   77.769997   79.120003   77.440002   78.239998   61.537003   \n",
       "...          ...         ...         ...         ...         ...         ...   \n",
       "1254  2024-02-23  177.259995  178.910004  177.009995  178.089996  176.442200   \n",
       "1255  2024-02-26  178.839996  179.789993  178.000000  178.809998  177.155533   \n",
       "1256  2024-02-27  178.770004  179.529999  176.979996  178.990005  177.333878   \n",
       "1257  2024-02-28  179.850006  179.889999  176.889999  178.000000  176.353043   \n",
       "1258  2024-02-29  177.869995  178.020004  175.389999  176.050003  174.421082   \n",
       "\n",
       "       Volume  \n",
       "0     8567900  \n",
       "1     5872500  \n",
       "2     5933100  \n",
       "3     5293200  \n",
       "4     6642500  \n",
       "...       ...  \n",
       "1254  3941800  \n",
       "1255  4327400  \n",
       "1256  3888500  \n",
       "1257  4331300  \n",
       "1258  7485700  \n",
       "\n",
       "[1259 rows x 7 columns]"
      ]
     },
     "execution_count": 2,
     "metadata": {},
     "output_type": "execute_result"
    }
   ],
   "source": [
    "# Load the data\n",
    "df = pd.read_csv('ABBV-AbbVie.csv')\n",
    "df"
   ]
  },
  {
   "cell_type": "markdown",
   "id": "db66e55e-d672-46aa-a806-e64e10c41d84",
   "metadata": {},
   "source": [
    "### Reset index"
   ]
  },
  {
   "cell_type": "code",
   "execution_count": 3,
   "id": "ab598c86-6639-47b2-8fe5-85376d67302d",
   "metadata": {},
   "outputs": [],
   "source": [
    "# Convert the 'Date' column to datetime format\n",
    "df['Date'] = pd.to_datetime(df['Date'])\n",
    "\n",
    "# Set the 'Date' column as the index value\n",
    "df = df.set_index(pd.DatetimeIndex(df['Date'].values))\n",
    "\n",
    "# Create new dataframe with Date and Close\n",
    "df_close = pd.DataFrame(df, columns=['Close'])"
   ]
  },
  {
   "cell_type": "markdown",
   "id": "0ab504a3-ac2f-40ca-b6a2-fe20ad1c384b",
   "metadata": {},
   "source": [
    "### Data normalization"
   ]
  },
  {
   "cell_type": "code",
   "execution_count": 4,
   "id": "3ffd8e05-1a3f-4656-bf0b-8cd76f8242d2",
   "metadata": {},
   "outputs": [],
   "source": [
    "# Scale the data\n",
    "scaler = MinMaxScaler(feature_range=(0, 1))\n",
    "df_close = scaler.fit_transform(np.array(df_close).reshape(-1, 1))"
   ]
  },
  {
   "cell_type": "markdown",
   "id": "4984257b-5c2f-4174-8cb9-10f1c21168b3",
   "metadata": {},
   "source": [
    "### Data splitting"
   ]
  },
  {
   "cell_type": "code",
   "execution_count": 5,
   "id": "00c81cbe-91b4-41da-bacd-60ba26466d66",
   "metadata": {},
   "outputs": [],
   "source": [
    "# Split the data into training and test sets\n",
    "train_size = int(len(df_close) * 0.6)\n",
    "test_size = len(df_close) - train_size\n",
    "\n",
    "train_data = df_close[:train_size]\n",
    "test_data = df_close[train_size:]"
   ]
  },
  {
   "cell_type": "code",
   "execution_count": 6,
   "id": "d7447af0-ad15-4848-a420-1d1f1ae9b04c",
   "metadata": {},
   "outputs": [],
   "source": [
    "# Create dataset\n",
    "def create_dataset(dataset, time_step=1):\n",
    "    dataX, dataY = [], []\n",
    "    for i in range(len(dataset) - time_step):\n",
    "        a = dataset[i:(i + time_step), 0]\n",
    "        dataX.append(a)\n",
    "        dataY.append(dataset[i + time_step, 0])\n",
    "    return np.array(dataX), np.array(dataY)\n",
    "\t\n",
    "time_step = 100\n",
    "\n",
    "# Get lost data for test\n",
    "train_last_windowsize = train_data[-time_step:]\n",
    "test_data_extended = np.concatenate((train_last_windowsize, test_data), axis=0)\n",
    "\n",
    "X_train, y_train = create_dataset(train_data, time_step)\n",
    "X_test, y_test = create_dataset(test_data_extended, time_step)\n",
    "\n",
    "# Reshape input to be [samples, time steps, features] which is required for LSTM\n",
    "X_train = X_train.reshape(X_train.shape[0], X_train.shape[1], 1)\n",
    "X_test = X_test.reshape(X_test.shape[0], X_test.shape[1], 1)"
   ]
  },
  {
   "cell_type": "markdown",
   "id": "340b354a-d844-4dae-8a92-904e0626ab54",
   "metadata": {},
   "source": [
    "### Model training and testing"
   ]
  },
  {
   "cell_type": "code",
   "execution_count": 7,
   "id": "d749f34c-1c17-4e9f-893d-d8d90dc4603a",
   "metadata": {},
   "outputs": [
    {
     "name": "stdout",
     "output_type": "stream",
     "text": [
      "WARNING:tensorflow:From D:\\Anaconda\\Anaconda3\\Lib\\site-packages\\keras\\src\\backend.py:873: The name tf.get_default_graph is deprecated. Please use tf.compat.v1.get_default_graph instead.\n",
      "\n",
      "WARNING:tensorflow:From D:\\Anaconda\\Anaconda3\\Lib\\site-packages\\keras\\src\\optimizers\\__init__.py:309: The name tf.train.Optimizer is deprecated. Please use tf.compat.v1.train.Optimizer instead.\n",
      "\n"
     ]
    }
   ],
   "source": [
    "# Define the LSTM model\n",
    "model = Sequential()\n",
    "model.add(LSTM(64, return_sequences=True, input_shape=(time_step, 1)))\n",
    "model.add(LSTM(64, return_sequences=False))\n",
    "model.add(Dropout(0.2))\n",
    "model.add(Dense(1, activation='relu'))\n",
    "model.compile(loss='mean_squared_error', optimizer='adam')"
   ]
  },
  {
   "cell_type": "code",
   "execution_count": 8,
   "id": "a4797e98-543e-4e83-aeb2-13245bdf3b09",
   "metadata": {},
   "outputs": [
    {
     "name": "stdout",
     "output_type": "stream",
     "text": [
      "Epoch 1/100\n",
      "WARNING:tensorflow:From D:\\Anaconda\\Anaconda3\\Lib\\site-packages\\keras\\src\\utils\\tf_utils.py:492: The name tf.ragged.RaggedTensorValue is deprecated. Please use tf.compat.v1.ragged.RaggedTensorValue instead.\n",
      "\n",
      "11/11 [==============================] - 9s 199ms/step - loss: 0.0302\n",
      "Epoch 2/100\n",
      "11/11 [==============================] - 2s 170ms/step - loss: 0.0055\n",
      "Epoch 3/100\n",
      "11/11 [==============================] - 2s 164ms/step - loss: 0.0034\n",
      "Epoch 4/100\n",
      "11/11 [==============================] - 2s 160ms/step - loss: 0.0027\n",
      "Epoch 5/100\n",
      "11/11 [==============================] - 2s 136ms/step - loss: 0.0023\n",
      "Epoch 6/100\n",
      "11/11 [==============================] - 1s 130ms/step - loss: 0.0022\n",
      "Epoch 7/100\n",
      "11/11 [==============================] - 1s 101ms/step - loss: 0.0022\n",
      "Epoch 8/100\n",
      "11/11 [==============================] - 1s 84ms/step - loss: 0.0020\n",
      "Epoch 9/100\n",
      "11/11 [==============================] - 1s 83ms/step - loss: 0.0019\n",
      "Epoch 10/100\n",
      "11/11 [==============================] - 1s 106ms/step - loss: 0.0018\n",
      "Epoch 11/100\n",
      "11/11 [==============================] - 1s 95ms/step - loss: 0.0016\n",
      "Epoch 12/100\n",
      "11/11 [==============================] - 1s 128ms/step - loss: 0.0017\n",
      "Epoch 13/100\n",
      "11/11 [==============================] - 2s 143ms/step - loss: 0.0015\n",
      "Epoch 14/100\n",
      "11/11 [==============================] - 2s 139ms/step - loss: 0.0014\n",
      "Epoch 15/100\n",
      "11/11 [==============================] - 2s 150ms/step - loss: 0.0017\n",
      "Epoch 16/100\n",
      "11/11 [==============================] - 2s 135ms/step - loss: 0.0015\n",
      "Epoch 17/100\n",
      "11/11 [==============================] - 1s 123ms/step - loss: 0.0017\n",
      "Epoch 18/100\n",
      "11/11 [==============================] - 1s 94ms/step - loss: 0.0014\n",
      "Epoch 19/100\n",
      "11/11 [==============================] - 1s 91ms/step - loss: 0.0015\n",
      "Epoch 20/100\n",
      "11/11 [==============================] - 1s 123ms/step - loss: 0.0016\n",
      "Epoch 21/100\n",
      "11/11 [==============================] - 2s 140ms/step - loss: 0.0016\n",
      "Epoch 22/100\n",
      "11/11 [==============================] - 2s 151ms/step - loss: 0.0015\n",
      "Epoch 23/100\n",
      "11/11 [==============================] - 2s 141ms/step - loss: 0.0015\n",
      "Epoch 24/100\n",
      "11/11 [==============================] - 1s 85ms/step - loss: 0.0014\n"
     ]
    },
    {
     "data": {
      "text/plain": [
       "<keras.src.callbacks.History at 0x1bad8e4b810>"
      ]
     },
     "execution_count": 8,
     "metadata": {},
     "output_type": "execute_result"
    }
   ],
   "source": [
    "# Using early stopping to prevent overfitting\n",
    "earlystop = EarlyStopping(monitor='loss', patience=10, restore_best_weights=True)\n",
    "\n",
    "# Train the LSTM model\n",
    "model.fit(X_train, y_train, epochs=100, batch_size=64, verbose=1, callbacks=earlystop)"
   ]
  },
  {
   "cell_type": "markdown",
   "id": "2ccf8949-2979-4c84-92df-d50aa692a225",
   "metadata": {},
   "source": [
    "### Testing process"
   ]
  },
  {
   "cell_type": "code",
   "execution_count": 9,
   "id": "6fc7483d-b74d-4d52-8ae5-6bb9cf98718c",
   "metadata": {},
   "outputs": [
    {
     "name": "stdout",
     "output_type": "stream",
     "text": [
      "16/16 [==============================] - 2s 24ms/step\n"
     ]
    }
   ],
   "source": [
    "# Predict\n",
    "y_pred = model.predict(X_test)"
   ]
  },
  {
   "cell_type": "markdown",
   "id": "856e8b0a-e6f9-40a5-a1c9-4a4c70cecf19",
   "metadata": {},
   "source": [
    "### Evaluate model"
   ]
  },
  {
   "cell_type": "code",
   "execution_count": 10,
   "id": "33bc835d-68c2-45ad-8831-ffde8e88a039",
   "metadata": {},
   "outputs": [
    {
     "name": "stdout",
     "output_type": "stream",
     "text": [
      "MAPE on Test dataset: 0.0465047887685003\n",
      "RMSE on Test dataset: 0.0435491640819282\n",
      "MSLE on Test dataset: 0.0006120588778497217\n"
     ]
    }
   ],
   "source": [
    "# Evaluate the accuracy of the test set\n",
    "test_mape = mean_absolute_percentage_error(y_test, y_pred)\n",
    "test_mse = mean_squared_error(y_test, y_pred)\n",
    "test_rmse = np.sqrt(test_mse)\n",
    "test_msle = mean_squared_log_error(y_test, y_pred)\n",
    "\n",
    "print(f\"MAPE on Test dataset: {test_mape}\")\n",
    "print(f\"RMSE on Test dataset: {test_rmse}\")\n",
    "print(f\"MSLE on Test dataset: {test_msle}\")"
   ]
  },
  {
   "cell_type": "markdown",
   "id": "1ae4bc2a-6276-4ba7-b6fb-bfb5f410bfa2",
   "metadata": {},
   "source": [
    "## Predicting the next 90 days"
   ]
  },
  {
   "cell_type": "markdown",
   "id": "1482c74e-bb68-47db-a099-53bace49b9f5",
   "metadata": {},
   "source": [
    "### Preparing the prediction data"
   ]
  },
  {
   "cell_type": "code",
   "execution_count": 11,
   "id": "70292321-092c-419a-b19b-d098565c765b",
   "metadata": {},
   "outputs": [
    {
     "name": "stdout",
     "output_type": "stream",
     "text": [
      "[[0.9650391936302185], [0.9656790494918823], [0.9652028679847717], [0.9639395475387573], [0.9621288776397705], [0.9599452614784241], [0.9575104713439941], [0.9549093246459961], [0.9521995186805725], [0.9494187831878662], [0.946592390537262], [0.9437357187271118], [0.9408592581748962], [0.937968909740448], [0.9350688457489014], [0.9321606159210205], [0.9292467832565308], [0.9263274669647217], [0.9234038591384888], [0.9204761981964111], [0.9175450205802917], [0.9146109223365784], [0.9116735458374023], [0.9087334871292114], [0.9057907462120056], [0.9028455018997192], [0.8998980522155762], [0.8969483971595764], [0.8939963579177856], [0.8910422921180725], [0.8880859613418579], [0.8851274251937866], [0.8821665644645691], [0.8792035579681396], [0.8762379884719849], [0.8732701539993286], [0.8703001737594604], [0.8673275709152222], [0.8643525242805481], [0.86137455701828], [0.8583945631980896], [0.8554120063781738], [0.8524266481399536], [0.8494386076927185], [0.8464478850364685], [0.8434545993804932], [0.8404586911201477], [0.8374596238136292], [0.8344584703445435], [0.8314542174339294], [0.8284474611282349], [0.8254380822181702], [0.8224259614944458], [0.8194109797477722], [0.8163937330245972], [0.8133734464645386], [0.8103508353233337], [0.807325541973114], [0.8042975068092346], [0.8012670278549194], [0.7982343435287476], [0.7951992750167847], [0.792161226272583], [0.789121150970459], [0.7860788702964783], [0.7830342054367065], [0.779987096786499], [0.7769379615783691], [0.7738867998123169], [0.7708333134651184], [0.7677778601646423], [0.7647204399108887], [0.7616610527038574], [0.7585999369621277], [0.7555368542671204], [0.7524722814559937], [0.7494058609008789], [0.7463376522064209], [0.7432684898376465], [0.7401973605155945], [0.737125039100647], [0.7340513467788696], [0.7309765815734863], [0.7279003858566284], [0.7248234748840332], [0.7217452526092529], [0.7186661958694458], [0.7155863642692566], [0.7125058770179749], [0.709424614906311]]\n"
     ]
    }
   ],
   "source": [
    "# Predict the next 90 days\n",
    "x_input = test_data[-time_step:].reshape(1, -1)\n",
    "temp_input = list(x_input[0])\n",
    "prediction_next90_days = []\n",
    "\n",
    "for i in range(90):\n",
    "    if len(temp_input) > time_step:\n",
    "        x_input = np.array(temp_input[-time_step:])\n",
    "        x_input = x_input.reshape((1, time_step, 1))\n",
    "        y_hat = model.predict(x_input, verbose=0)\n",
    "        temp_input.extend(y_hat[0].tolist())\n",
    "        temp_input = temp_input[1:]\n",
    "        prediction_next90_days.extend(y_hat.tolist())\n",
    "    else:\n",
    "        x_input = x_input.reshape((1, time_step, 1))\n",
    "        y_hat = model.predict(x_input, verbose=0)\n",
    "        temp_input.extend(y_hat[0].tolist())\n",
    "        prediction_next90_days.extend(y_hat.tolist())\n",
    "\n",
    "# Print predictions for the next 90 days\n",
    "print(prediction_next90_days)"
   ]
  },
  {
   "cell_type": "markdown",
   "id": "9669f475-1266-406a-a7ba-4b060661e5da",
   "metadata": {},
   "source": [
    "### Preparing the forecast date index"
   ]
  },
  {
   "cell_type": "code",
   "execution_count": 12,
   "id": "b7cc97a5-822b-4775-ac56-7b0ea6711611",
   "metadata": {},
   "outputs": [
    {
     "name": "stdout",
     "output_type": "stream",
     "text": [
      "[[0.9650391936302185], [0.9656790494918823], [0.9652028679847717], [0.9639395475387573], [0.9621288776397705], [0.9599452614784241], [0.9575104713439941], [0.9549093246459961], [0.9521995186805725], [0.9494187831878662], [0.946592390537262], [0.9437357187271118], [0.9408592581748962], [0.937968909740448], [0.9350688457489014], [0.9321606159210205], [0.9292467832565308], [0.9263274669647217], [0.9234038591384888], [0.9204761981964111], [0.9175450205802917], [0.9146109223365784], [0.9116735458374023], [0.9087334871292114], [0.9057907462120056], [0.9028455018997192], [0.8998980522155762], [0.8969483971595764], [0.8939963579177856], [0.8910422921180725], [0.8880859613418579], [0.8851274251937866], [0.8821665644645691], [0.8792035579681396], [0.8762379884719849], [0.8732701539993286], [0.8703001737594604], [0.8673275709152222], [0.8643525242805481], [0.86137455701828], [0.8583945631980896], [0.8554120063781738], [0.8524266481399536], [0.8494386076927185], [0.8464478850364685], [0.8434545993804932], [0.8404586911201477], [0.8374596238136292], [0.8344584703445435], [0.8314542174339294], [0.8284474611282349], [0.8254380822181702], [0.8224259614944458], [0.8194109797477722], [0.8163937330245972], [0.8133734464645386], [0.8103508353233337], [0.807325541973114], [0.8042975068092346], [0.8012670278549194], [0.7982343435287476], [0.7951992750167847], [0.792161226272583], [0.789121150970459], [0.7860788702964783], [0.7830342054367065], [0.779987096786499], [0.7769379615783691], [0.7738867998123169], [0.7708333134651184], [0.7677778601646423], [0.7647204399108887], [0.7616610527038574], [0.7585999369621277], [0.7555368542671204], [0.7524722814559937], [0.7494058609008789], [0.7463376522064209], [0.7432684898376465], [0.7401973605155945], [0.737125039100647], [0.7340513467788696], [0.7309765815734863], [0.7279003858566284], [0.7248234748840332], [0.7217452526092529], [0.7186661958694458], [0.7155863642692566], [0.7125058770179749], [0.709424614906311]]\n"
     ]
    }
   ],
   "source": [
    "# Print predictions for the next 90 days\n",
    "print(prediction_next90_days)\n",
    "\n",
    "# Get the last date from the current index\n",
    "last_date = df.index.max()\n",
    "\n",
    "# Create a list of indices starting from the next date for 90 days\n",
    "future_dates = pd.date_range(start=last_date + pd.DateOffset(days=1), periods=90, freq='D')\n",
    "\n",
    "# Convert predictions back to original scale\n",
    "prediction_next90_days = scaler.inverse_transform(prediction_next90_days).reshape(-1)\n",
    "y_pred = scaler.inverse_transform(y_pred)\n",
    "train_data = scaler.inverse_transform(train_data)\n",
    "test_data = scaler.inverse_transform(test_data)"
   ]
  },
  {
   "cell_type": "markdown",
   "id": "bfea920b-2912-4cbc-9530-8250a82aadef",
   "metadata": {},
   "source": [
    "## Visualization"
   ]
  },
  {
   "cell_type": "code",
   "execution_count": 13,
   "id": "9514ab45-9348-4679-9095-ccf7487c25b2",
   "metadata": {},
   "outputs": [
    {
     "data": {
      "image/png": "[encoded data removed]",
      "text/plain": [
       "<Figure size 1600x500 with 1 Axes>"
      ]
     },
     "metadata": {},
     "output_type": "display_data"
    }
   ],
   "source": [
    "# Plotting\n",
    "plt.figure(figsize=(16, 5))\n",
    "\n",
    "plt.plot(df.index[:train_size], train_data, label='Train')\n",
    "plt.plot(df.index[train_size:], test_data, label='Test')\n",
    "plt.plot(df.index[train_size:], y_pred, label='PredictTest')\n",
    "plt.plot(future_dates, prediction_next90_days, label='Next90days')\n",
    "\n",
    "plt.xlabel('Date')\n",
    "plt.ylabel('Close Value')\n",
    "plt.title(f\"AbbVie Closing Price Data from {df.index[0].strftime('%Y-%m-%d')} to {future_dates[-1].strftime('%Y-%m-%d')}\")\n",
    "plt.legend()\n",
    "plt.grid()\n",
    "plt.savefig('Image/LSTM_64_90days_ABBV.png')\n",
    "plt.show()"
   ]
  },
  {
   "cell_type": "code",
   "execution_count": null,
   "id": "0aef3390-370a-48fb-82ab-55896b9015fe",
   "metadata": {},
   "outputs": [],
   "source": []
  }
 ],
 "metadata": {
  "kernelspec": {
   "display_name": "Python 3 (ipykernel)",
   "language": "python",
   "name": "python3"
  },
  "language_info": {
   "codemirror_mode": {
    "name": "ipython",
    "version": 3
   },
   "file_extension": ".py",
   "mimetype": "text/x-python",
   "name": "python",
   "nbconvert_exporter": "python",
   "pygments_lexer": "ipython3",
   "version": "3.11.5"
  }
 },
 "nbformat": 4,
 "nbformat_minor": 5
}
