{
 "cells": [
  {
   "cell_type": "markdown",
   "id": "35220b11-31db-4eeb-995d-293eb4e84592",
   "metadata": {},
   "source": [
    "## Thêm thư viện"
   ]
  },
  {
   "cell_type": "code",
   "execution_count": 1,
   "id": "f2701e5e-f6d3-4f42-a81c-14bbf285c4ba",
   "metadata": {},
   "outputs": [
    {
     "name": "stdout",
     "output_type": "stream",
     "text": [
      "WARNING:tensorflow:From D:\\Anaconda\\Anaconda3\\Lib\\site-packages\\keras\\src\\losses.py:2976: The name tf.losses.sparse_softmax_cross_entropy is deprecated. Please use tf.compat.v1.losses.sparse_softmax_cross_entropy instead.\n",
      "\n"
     ]
    }
   ],
   "source": [
    "import numpy as np\n",
    "import pandas as pd\n",
    "import matplotlib.pyplot as plt\n",
    "from keras.models import Sequential\n",
    "from keras.layers import Dense, LSTM, Dropout\n",
    "from keras.callbacks import EarlyStopping\n",
    "from sklearn.preprocessing import MinMaxScaler\n",
    "from sklearn.metrics import mean_squared_error, mean_absolute_percentage_error, mean_squared_log_error\n"
   ]
  },
  {
   "cell_type": "markdown",
   "id": "93023385-798c-4fea-b649-345e166bfea1",
   "metadata": {},
   "source": [
    "## Tiền xử lý"
   ]
  },
  {
   "cell_type": "markdown",
   "id": "92fe2483-5193-49f3-97d7-d9c168b87f62",
   "metadata": {},
   "source": [
    "### read data"
   ]
  },
  {
   "cell_type": "code",
   "execution_count": 2,
   "id": "f020aaa0-259f-42ee-8046-16b17e96752c",
   "metadata": {},
   "outputs": [
    {
     "data": {
      "text/html": [
       "<div>\n",
       "<style scoped>\n",
       "    .dataframe tbody tr th:only-of-type {\n",
       "        vertical-align: middle;\n",
       "    }\n",
       "\n",
       "    .dataframe tbody tr th {\n",
       "        vertical-align: top;\n",
       "    }\n",
       "\n",
       "    .dataframe thead th {\n",
       "        text-align: right;\n",
       "    }\n",
       "</style>\n",
       "<table border=\"1\" class=\"dataframe\">\n",
       "  <thead>\n",
       "    <tr style=\"text-align: right;\">\n",
       "      <th></th>\n",
       "      <th>Date</th>\n",
       "      <th>Open</th>\n",
       "      <th>High</th>\n",
       "      <th>Low</th>\n",
       "      <th>Close</th>\n",
       "      <th>Adj Close</th>\n",
       "      <th>Volume</th>\n",
       "    </tr>\n",
       "  </thead>\n",
       "  <tbody>\n",
       "    <tr>\n",
       "      <th>0</th>\n",
       "      <td>2019-03-01</td>\n",
       "      <td>41.375713</td>\n",
       "      <td>41.546490</td>\n",
       "      <td>41.072105</td>\n",
       "      <td>41.138519</td>\n",
       "      <td>33.767422</td>\n",
       "      <td>26667781</td>\n",
       "    </tr>\n",
       "    <tr>\n",
       "      <th>1</th>\n",
       "      <td>2019-03-04</td>\n",
       "      <td>41.214420</td>\n",
       "      <td>41.356735</td>\n",
       "      <td>40.683113</td>\n",
       "      <td>40.863377</td>\n",
       "      <td>33.541576</td>\n",
       "      <td>22805820</td>\n",
       "    </tr>\n",
       "    <tr>\n",
       "      <th>2</th>\n",
       "      <td>2019-03-05</td>\n",
       "      <td>40.882355</td>\n",
       "      <td>41.034157</td>\n",
       "      <td>40.654648</td>\n",
       "      <td>40.692600</td>\n",
       "      <td>33.401398</td>\n",
       "      <td>26529812</td>\n",
       "    </tr>\n",
       "    <tr>\n",
       "      <th>3</th>\n",
       "      <td>2019-03-06</td>\n",
       "      <td>40.626186</td>\n",
       "      <td>40.673622</td>\n",
       "      <td>39.487667</td>\n",
       "      <td>39.715370</td>\n",
       "      <td>32.599270</td>\n",
       "      <td>22410359</td>\n",
       "    </tr>\n",
       "    <tr>\n",
       "      <th>4</th>\n",
       "      <td>2019-03-07</td>\n",
       "      <td>39.715370</td>\n",
       "      <td>39.743832</td>\n",
       "      <td>39.136623</td>\n",
       "      <td>39.269451</td>\n",
       "      <td>32.233242</td>\n",
       "      <td>29046132</td>\n",
       "    </tr>\n",
       "    <tr>\n",
       "      <th>...</th>\n",
       "      <td>...</td>\n",
       "      <td>...</td>\n",
       "      <td>...</td>\n",
       "      <td>...</td>\n",
       "      <td>...</td>\n",
       "      <td>...</td>\n",
       "      <td>...</td>\n",
       "    </tr>\n",
       "    <tr>\n",
       "      <th>1254</th>\n",
       "      <td>2024-02-23</td>\n",
       "      <td>27.750000</td>\n",
       "      <td>28.090000</td>\n",
       "      <td>27.690001</td>\n",
       "      <td>27.760000</td>\n",
       "      <td>27.760000</td>\n",
       "      <td>33182600</td>\n",
       "    </tr>\n",
       "    <tr>\n",
       "      <th>1255</th>\n",
       "      <td>2024-02-26</td>\n",
       "      <td>27.670000</td>\n",
       "      <td>27.670000</td>\n",
       "      <td>27.070000</td>\n",
       "      <td>27.180000</td>\n",
       "      <td>27.180000</td>\n",
       "      <td>45685500</td>\n",
       "    </tr>\n",
       "    <tr>\n",
       "      <th>1256</th>\n",
       "      <td>2024-02-27</td>\n",
       "      <td>27.120001</td>\n",
       "      <td>27.200001</td>\n",
       "      <td>26.809999</td>\n",
       "      <td>26.889999</td>\n",
       "      <td>26.889999</td>\n",
       "      <td>38598400</td>\n",
       "    </tr>\n",
       "    <tr>\n",
       "      <th>1257</th>\n",
       "      <td>2024-02-28</td>\n",
       "      <td>26.959999</td>\n",
       "      <td>27.240000</td>\n",
       "      <td>26.820000</td>\n",
       "      <td>27.040001</td>\n",
       "      <td>27.040001</td>\n",
       "      <td>31010200</td>\n",
       "    </tr>\n",
       "    <tr>\n",
       "      <th>1258</th>\n",
       "      <td>2024-02-29</td>\n",
       "      <td>27.070000</td>\n",
       "      <td>27.190001</td>\n",
       "      <td>26.549999</td>\n",
       "      <td>26.559999</td>\n",
       "      <td>26.559999</td>\n",
       "      <td>54643200</td>\n",
       "    </tr>\n",
       "  </tbody>\n",
       "</table>\n",
       "<p>1259 rows × 7 columns</p>\n",
       "</div>"
      ],
      "text/plain": [
       "            Date       Open       High        Low      Close  Adj Close  \\\n",
       "0     2019-03-01  41.375713  41.546490  41.072105  41.138519  33.767422   \n",
       "1     2019-03-04  41.214420  41.356735  40.683113  40.863377  33.541576   \n",
       "2     2019-03-05  40.882355  41.034157  40.654648  40.692600  33.401398   \n",
       "3     2019-03-06  40.626186  40.673622  39.487667  39.715370  32.599270   \n",
       "4     2019-03-07  39.715370  39.743832  39.136623  39.269451  32.233242   \n",
       "...          ...        ...        ...        ...        ...        ...   \n",
       "1254  2024-02-23  27.750000  28.090000  27.690001  27.760000  27.760000   \n",
       "1255  2024-02-26  27.670000  27.670000  27.070000  27.180000  27.180000   \n",
       "1256  2024-02-27  27.120001  27.200001  26.809999  26.889999  26.889999   \n",
       "1257  2024-02-28  26.959999  27.240000  26.820000  27.040001  27.040001   \n",
       "1258  2024-02-29  27.070000  27.190001  26.549999  26.559999  26.559999   \n",
       "\n",
       "        Volume  \n",
       "0     26667781  \n",
       "1     22805820  \n",
       "2     26529812  \n",
       "3     22410359  \n",
       "4     29046132  \n",
       "...        ...  \n",
       "1254  33182600  \n",
       "1255  45685500  \n",
       "1256  38598400  \n",
       "1257  31010200  \n",
       "1258  54643200  \n",
       "\n",
       "[1259 rows x 7 columns]"
      ]
     },
     "execution_count": 2,
     "metadata": {},
     "output_type": "execute_result"
    }
   ],
   "source": [
    "# Load the data\n",
    "df = pd.read_csv('PFE-Pfizer.csv')\n",
    "df"
   ]
  },
  {
   "cell_type": "markdown",
   "id": "db66e55e-d672-46aa-a806-e64e10c41d84",
   "metadata": {},
   "source": [
    "### Reset index"
   ]
  },
  {
   "cell_type": "code",
   "execution_count": 3,
   "id": "ab598c86-6639-47b2-8fe5-85376d67302d",
   "metadata": {},
   "outputs": [],
   "source": [
    "# Convert the 'Date' column to datetime format\n",
    "df['Date'] = pd.to_datetime(df['Date'])\n",
    "\n",
    "# Set the 'Date' column as the index value\n",
    "df = df.set_index(pd.DatetimeIndex(df['Date'].values))\n",
    "\n",
    "# Create new dataframe with Date and Close\n",
    "df_close = pd.DataFrame(df, columns=['Close'])"
   ]
  },
  {
   "cell_type": "markdown",
   "id": "0ab504a3-ac2f-40ca-b6a2-fe20ad1c384b",
   "metadata": {},
   "source": [
    "### Data normalization"
   ]
  },
  {
   "cell_type": "code",
   "execution_count": 4,
   "id": "3ffd8e05-1a3f-4656-bf0b-8cd76f8242d2",
   "metadata": {},
   "outputs": [],
   "source": [
    "# Scale the data\n",
    "scaler = MinMaxScaler(feature_range=(0, 1))\n",
    "df_close = scaler.fit_transform(np.array(df_close).reshape(-1, 1))"
   ]
  },
  {
   "cell_type": "markdown",
   "id": "4984257b-5c2f-4174-8cb9-10f1c21168b3",
   "metadata": {},
   "source": [
    "### Data splitting"
   ]
  },
  {
   "cell_type": "code",
   "execution_count": 5,
   "id": "00c81cbe-91b4-41da-bacd-60ba26466d66",
   "metadata": {},
   "outputs": [],
   "source": [
    "# Split the data into training and test sets\n",
    "train_size = int(len(df_close) * 0.8)\n",
    "test_size = len(df_close) - train_size\n",
    "\n",
    "train_data = df_close[:train_size]\n",
    "test_data = df_close[train_size:]"
   ]
  },
  {
   "cell_type": "code",
   "execution_count": 6,
   "id": "d7447af0-ad15-4848-a420-1d1f1ae9b04c",
   "metadata": {},
   "outputs": [],
   "source": [
    "# Create dataset\n",
    "def create_dataset(dataset, time_step=1):\n",
    "    dataX, dataY = [], []\n",
    "    for i in range(len(dataset) - time_step):\n",
    "        a = dataset[i:(i + time_step), 0]\n",
    "        dataX.append(a)\n",
    "        dataY.append(dataset[i + time_step, 0])\n",
    "    return np.array(dataX), np.array(dataY)\n",
    "\t\n",
    "time_step = 100\n",
    "\n",
    "# Get lost data for test\n",
    "train_last_windowsize = train_data[-time_step:]\n",
    "test_data_extended = np.concatenate((train_last_windowsize, test_data), axis=0)\n",
    "\n",
    "X_train, y_train = create_dataset(train_data, time_step)\n",
    "X_test, y_test = create_dataset(test_data_extended, time_step)\n",
    "\n",
    "# Reshape input to be [samples, time steps, features] which is required for LSTM\n",
    "X_train = X_train.reshape(X_train.shape[0], X_train.shape[1], 1)\n",
    "X_test = X_test.reshape(X_test.shape[0], X_test.shape[1], 1)"
   ]
  },
  {
   "cell_type": "markdown",
   "id": "340b354a-d844-4dae-8a92-904e0626ab54",
   "metadata": {},
   "source": [
    "### Model training and testing"
   ]
  },
  {
   "cell_type": "code",
   "execution_count": 7,
   "id": "d749f34c-1c17-4e9f-893d-d8d90dc4603a",
   "metadata": {},
   "outputs": [
    {
     "name": "stdout",
     "output_type": "stream",
     "text": [
      "WARNING:tensorflow:From D:\\Anaconda\\Anaconda3\\Lib\\site-packages\\keras\\src\\backend.py:873: The name tf.get_default_graph is deprecated. Please use tf.compat.v1.get_default_graph instead.\n",
      "\n",
      "WARNING:tensorflow:From D:\\Anaconda\\Anaconda3\\Lib\\site-packages\\keras\\src\\optimizers\\__init__.py:309: The name tf.train.Optimizer is deprecated. Please use tf.compat.v1.train.Optimizer instead.\n",
      "\n"
     ]
    }
   ],
   "source": [
    "# Define the LSTM model\n",
    "model = Sequential()\n",
    "model.add(LSTM(64, return_sequences=True, input_shape=(time_step, 1)))\n",
    "model.add(LSTM(64, return_sequences=False))\n",
    "model.add(Dropout(0.2))\n",
    "model.add(Dense(1, activation='relu'))\n",
    "model.compile(loss='mean_squared_error', optimizer='adam')"
   ]
  },
  {
   "cell_type": "code",
   "execution_count": 8,
   "id": "a4797e98-543e-4e83-aeb2-13245bdf3b09",
   "metadata": {},
   "outputs": [
    {
     "name": "stdout",
     "output_type": "stream",
     "text": [
      "Epoch 1/100\n",
      "WARNING:tensorflow:From D:\\Anaconda\\Anaconda3\\Lib\\site-packages\\keras\\src\\utils\\tf_utils.py:492: The name tf.ragged.RaggedTensorValue is deprecated. Please use tf.compat.v1.ragged.RaggedTensorValue instead.\n",
      "\n",
      "15/15 [==============================] - 30s 137ms/step - loss: 0.0602\n",
      "Epoch 2/100\n",
      "15/15 [==============================] - 2s 136ms/step - loss: 0.0121\n",
      "Epoch 3/100\n",
      "15/15 [==============================] - 2s 131ms/step - loss: 0.0061\n",
      "Epoch 4/100\n",
      "15/15 [==============================] - 2s 143ms/step - loss: 0.0045\n",
      "Epoch 5/100\n",
      "15/15 [==============================] - 2s 135ms/step - loss: 0.0047\n",
      "Epoch 6/100\n",
      "15/15 [==============================] - 3s 177ms/step - loss: 0.0043\n",
      "Epoch 7/100\n",
      "15/15 [==============================] - 3s 180ms/step - loss: 0.0042\n",
      "Epoch 8/100\n",
      "15/15 [==============================] - 3s 182ms/step - loss: 0.0043\n",
      "Epoch 9/100\n",
      "15/15 [==============================] - 2s 160ms/step - loss: 0.0041\n",
      "Epoch 10/100\n",
      "15/15 [==============================] - 2s 152ms/step - loss: 0.0037\n",
      "Epoch 11/100\n",
      "15/15 [==============================] - 2s 139ms/step - loss: 0.0032\n",
      "Epoch 12/100\n",
      "15/15 [==============================] - 2s 140ms/step - loss: 0.0038\n",
      "Epoch 13/100\n",
      "15/15 [==============================] - 2s 133ms/step - loss: 0.0042\n",
      "Epoch 14/100\n",
      "15/15 [==============================] - 2s 125ms/step - loss: 0.0033\n",
      "Epoch 15/100\n",
      "15/15 [==============================] - 2s 169ms/step - loss: 0.0032\n",
      "Epoch 16/100\n",
      "15/15 [==============================] - 2s 130ms/step - loss: 0.0031\n",
      "Epoch 17/100\n",
      "15/15 [==============================] - 2s 127ms/step - loss: 0.0030\n",
      "Epoch 18/100\n",
      "15/15 [==============================] - 2s 131ms/step - loss: 0.0031\n",
      "Epoch 19/100\n",
      "15/15 [==============================] - 2s 142ms/step - loss: 0.0033\n",
      "Epoch 20/100\n",
      "15/15 [==============================] - 2s 130ms/step - loss: 0.0030\n",
      "Epoch 21/100\n",
      "15/15 [==============================] - 2s 110ms/step - loss: 0.0029\n",
      "Epoch 22/100\n",
      "15/15 [==============================] - 2s 121ms/step - loss: 0.0028\n",
      "Epoch 23/100\n",
      "15/15 [==============================] - 2s 123ms/step - loss: 0.0030\n",
      "Epoch 24/100\n",
      "15/15 [==============================] - 2s 123ms/step - loss: 0.0028\n",
      "Epoch 25/100\n",
      "15/15 [==============================] - 2s 123ms/step - loss: 0.0028\n",
      "Epoch 26/100\n",
      "15/15 [==============================] - 2s 132ms/step - loss: 0.0026\n",
      "Epoch 27/100\n",
      "15/15 [==============================] - 2s 116ms/step - loss: 0.0025\n",
      "Epoch 28/100\n",
      "15/15 [==============================] - 2s 114ms/step - loss: 0.0025\n",
      "Epoch 29/100\n",
      "15/15 [==============================] - 2s 112ms/step - loss: 0.0029\n",
      "Epoch 30/100\n",
      "15/15 [==============================] - 2s 125ms/step - loss: 0.0027\n",
      "Epoch 31/100\n",
      "15/15 [==============================] - 2s 122ms/step - loss: 0.0028\n",
      "Epoch 32/100\n",
      "15/15 [==============================] - 2s 143ms/step - loss: 0.0022\n",
      "Epoch 33/100\n",
      "15/15 [==============================] - 2s 131ms/step - loss: 0.0023\n",
      "Epoch 34/100\n",
      "15/15 [==============================] - 2s 143ms/step - loss: 0.0023\n",
      "Epoch 35/100\n",
      "15/15 [==============================] - 2s 127ms/step - loss: 0.0023\n",
      "Epoch 36/100\n",
      "15/15 [==============================] - 2s 120ms/step - loss: 0.0023\n",
      "Epoch 37/100\n",
      "15/15 [==============================] - 2s 119ms/step - loss: 0.0022\n",
      "Epoch 38/100\n",
      "15/15 [==============================] - 2s 113ms/step - loss: 0.0022\n",
      "Epoch 39/100\n",
      "15/15 [==============================] - 2s 111ms/step - loss: 0.0026\n",
      "Epoch 40/100\n",
      "15/15 [==============================] - 2s 118ms/step - loss: 0.0023\n",
      "Epoch 41/100\n",
      "15/15 [==============================] - 2s 123ms/step - loss: 0.0023\n",
      "Epoch 42/100\n",
      "15/15 [==============================] - 2s 123ms/step - loss: 0.0020\n",
      "Epoch 43/100\n",
      "15/15 [==============================] - 2s 128ms/step - loss: 0.0021\n",
      "Epoch 44/100\n",
      "15/15 [==============================] - 2s 122ms/step - loss: 0.0020\n",
      "Epoch 45/100\n",
      "15/15 [==============================] - 2s 117ms/step - loss: 0.0019\n",
      "Epoch 46/100\n",
      "15/15 [==============================] - 2s 108ms/step - loss: 0.0021\n",
      "Epoch 47/100\n",
      "15/15 [==============================] - 2s 115ms/step - loss: 0.0021\n",
      "Epoch 48/100\n",
      "15/15 [==============================] - 2s 111ms/step - loss: 0.0023\n",
      "Epoch 49/100\n",
      "15/15 [==============================] - 2s 116ms/step - loss: 0.0025\n",
      "Epoch 50/100\n",
      "15/15 [==============================] - 2s 129ms/step - loss: 0.0020\n",
      "Epoch 51/100\n",
      "15/15 [==============================] - 2s 119ms/step - loss: 0.0024\n",
      "Epoch 52/100\n",
      "15/15 [==============================] - 2s 129ms/step - loss: 0.0019\n",
      "Epoch 53/100\n",
      "15/15 [==============================] - 2s 116ms/step - loss: 0.0019\n",
      "Epoch 54/100\n",
      "15/15 [==============================] - 2s 104ms/step - loss: 0.0021\n",
      "Epoch 55/100\n",
      "15/15 [==============================] - 2s 103ms/step - loss: 0.0018\n",
      "Epoch 56/100\n",
      "15/15 [==============================] - 2s 104ms/step - loss: 0.0018\n",
      "Epoch 57/100\n",
      "15/15 [==============================] - 2s 109ms/step - loss: 0.0017\n",
      "Epoch 58/100\n",
      "15/15 [==============================] - 2s 111ms/step - loss: 0.0018\n",
      "Epoch 59/100\n",
      "15/15 [==============================] - 2s 113ms/step - loss: 0.0020\n",
      "Epoch 60/100\n",
      "15/15 [==============================] - 2s 124ms/step - loss: 0.0019\n",
      "Epoch 61/100\n",
      "15/15 [==============================] - 2s 112ms/step - loss: 0.0018\n",
      "Epoch 62/100\n",
      "15/15 [==============================] - 2s 109ms/step - loss: 0.0020\n",
      "Epoch 63/100\n",
      "15/15 [==============================] - 2s 104ms/step - loss: 0.0017\n",
      "Epoch 64/100\n",
      "15/15 [==============================] - 2s 125ms/step - loss: 0.0018\n",
      "Epoch 65/100\n",
      "15/15 [==============================] - 2s 131ms/step - loss: 0.0018\n",
      "Epoch 66/100\n",
      "15/15 [==============================] - 2s 131ms/step - loss: 0.0017\n",
      "Epoch 67/100\n",
      "15/15 [==============================] - 2s 136ms/step - loss: 0.0018\n",
      "Epoch 68/100\n",
      "15/15 [==============================] - 2s 112ms/step - loss: 0.0020\n",
      "Epoch 69/100\n",
      "15/15 [==============================] - 2s 125ms/step - loss: 0.0017\n",
      "Epoch 70/100\n",
      "15/15 [==============================] - 2s 99ms/step - loss: 0.0018\n",
      "Epoch 71/100\n",
      "15/15 [==============================] - 2s 126ms/step - loss: 0.0017\n",
      "Epoch 72/100\n",
      "15/15 [==============================] - 2s 146ms/step - loss: 0.0015\n",
      "Epoch 73/100\n",
      "15/15 [==============================] - 2s 162ms/step - loss: 0.0016\n",
      "Epoch 74/100\n",
      "15/15 [==============================] - 2s 159ms/step - loss: 0.0017\n",
      "Epoch 75/100\n",
      "15/15 [==============================] - 2s 156ms/step - loss: 0.0020\n",
      "Epoch 76/100\n",
      "15/15 [==============================] - 2s 113ms/step - loss: 0.0017\n",
      "Epoch 77/100\n",
      "15/15 [==============================] - 2s 128ms/step - loss: 0.0016\n",
      "Epoch 78/100\n",
      "15/15 [==============================] - 2s 161ms/step - loss: 0.0017\n",
      "Epoch 79/100\n",
      "15/15 [==============================] - 2s 164ms/step - loss: 0.0016\n",
      "Epoch 80/100\n",
      "15/15 [==============================] - 2s 158ms/step - loss: 0.0016\n",
      "Epoch 81/100\n",
      "15/15 [==============================] - 2s 142ms/step - loss: 0.0015\n",
      "Epoch 82/100\n",
      "15/15 [==============================] - 2s 160ms/step - loss: 0.0017\n"
     ]
    },
    {
     "data": {
      "text/plain": [
       "<keras.src.callbacks.History at 0x1c66e368550>"
      ]
     },
     "execution_count": 8,
     "metadata": {},
     "output_type": "execute_result"
    }
   ],
   "source": [
    "# Using early stopping to prevent overfitting\n",
    "earlystop = EarlyStopping(monitor='loss', patience=10, restore_best_weights=True)\n",
    "\n",
    "# Train the LSTM model\n",
    "model.fit(X_train, y_train, epochs=100, batch_size=64, verbose=1, callbacks=earlystop)"
   ]
  },
  {
   "cell_type": "markdown",
   "id": "2ccf8949-2979-4c84-92df-d50aa692a225",
   "metadata": {},
   "source": [
    "### Testing process"
   ]
  },
  {
   "cell_type": "code",
   "execution_count": 9,
   "id": "6fc7483d-b74d-4d52-8ae5-6bb9cf98718c",
   "metadata": {},
   "outputs": [
    {
     "name": "stdout",
     "output_type": "stream",
     "text": [
      "8/8 [==============================] - 2s 42ms/step\n"
     ]
    }
   ],
   "source": [
    "# Predict\n",
    "y_pred = model.predict(X_test)"
   ]
  },
  {
   "cell_type": "markdown",
   "id": "856e8b0a-e6f9-40a5-a1c9-4a4c70cecf19",
   "metadata": {},
   "source": [
    "### Evaluate model"
   ]
  },
  {
   "cell_type": "code",
   "execution_count": 10,
   "id": "33bc835d-68c2-45ad-8831-ffde8e88a039",
   "metadata": {},
   "outputs": [
    {
     "name": "stdout",
     "output_type": "stream",
     "text": [
      "MAPE on Test dataset: 1120912697766.7593\n",
      "RMSE on Test dataset: 0.020270743484222423\n",
      "MSLE on Test dataset: 0.0002830828011586643\n"
     ]
    }
   ],
   "source": [
    "# Evaluate the accuracy of the test set\n",
    "test_mape = mean_absolute_percentage_error(y_test, y_pred)\n",
    "test_mse = mean_squared_error(y_test, y_pred)\n",
    "test_rmse = np.sqrt(test_mse)\n",
    "test_msle = mean_squared_log_error(y_test, y_pred)\n",
    "\n",
    "print(f\"MAPE on Test dataset: {test_mape}\")\n",
    "print(f\"RMSE on Test dataset: {test_rmse}\")\n",
    "print(f\"MSLE on Test dataset: {test_msle}\")"
   ]
  },
  {
   "cell_type": "markdown",
   "id": "1ae4bc2a-6276-4ba7-b6fb-bfb5f410bfa2",
   "metadata": {},
   "source": [
    "## Predicting the next 90 days"
   ]
  },
  {
   "cell_type": "markdown",
   "id": "1482c74e-bb68-47db-a099-53bace49b9f5",
   "metadata": {},
   "source": [
    "### Preparing the prediction data"
   ]
  },
  {
   "cell_type": "code",
   "execution_count": 11,
   "id": "70292321-092c-419a-b19b-d098565c765b",
   "metadata": {},
   "outputs": [
    {
     "name": "stdout",
     "output_type": "stream",
     "text": [
      "[[0.03182573243975639], [0.02935604378581047], [0.028583187609910965], [0.02873404696583748], [0.02940184623003006], [0.030370697379112244], [0.031523484736680984], [0.0327940434217453], [0.034142572432756424], [0.03554327413439751], [0.036978140473365784], [0.03843387961387634], [0.03990039974451065], [0.04136989265680313], [0.04283642768859863], [0.04429559037089348], [0.04574417322874069], [0.04717998951673508], [0.048601653426885605], [0.05000841245055199], [0.05139997974038124], [0.052776433527469635], [0.05413807928562164], [0.05548539757728577], [0.05681896209716797], [0.0581393837928772], [0.059447288513183594], [0.06074328348040581], [0.0620279498398304], [0.06330181658267975], [0.06456538289785385], [0.06581906974315643], [0.06706327944993973], [0.06829833984375], [0.06952457129955292], [0.07074222713708878], [0.07195155322551727], [0.07315274327993393], [0.07434599101543427], [0.07553145289421082], [0.07670927047729492], [0.07787958532571793], [0.07904250174760818], [0.08019813895225525], [0.08134658634662628], [0.08248795568943024], [0.08362232893705368], [0.08474978804588318], [0.0858704075217247], [0.08698427677154541], [0.08809146285057068], [0.08919201791286469], [0.09028604626655579], [0.09137359261512756], [0.09245473146438599], [0.09352950751781464], [0.09459800273180008], [0.0956602618098259], [0.09671635925769806], [0.09776632487773895], [0.09881024062633514], [0.09984815120697021], [0.10088011622428894], [0.1019061729311943], [0.10292638838291168], [0.10394080728292465], [0.1049494743347168], [0.10595244914293289], [0.10694977641105652], [0.10794148594141006], [0.1089276671409607], [0.1099083423614502], [0.11088354140520096], [0.11185333132743835], [0.11281774193048477], [0.11377684026956558], [0.11473064124584198], [0.11567920446395874], [0.11662257462739944], [0.11756078898906708], [0.11849389970302582], [0.11942192167043686], [0.12034492194652557], [0.12126293778419495], [0.12217598408460617], [0.12308411300182343], [0.12398740649223328], [0.12488582730293274], [0.12577947974205017], [0.12666833400726318]]\n"
     ]
    }
   ],
   "source": [
    "# Predict the next 90 days\n",
    "x_input = test_data[-time_step:].reshape(1, -1)\n",
    "temp_input = list(x_input[0])\n",
    "prediction_next90_days = []\n",
    "\n",
    "for i in range(90):\n",
    "    if len(temp_input) > time_step:\n",
    "        x_input = np.array(temp_input[-time_step:])\n",
    "        x_input = x_input.reshape((1, time_step, 1))\n",
    "        y_hat = model.predict(x_input, verbose=0)\n",
    "        temp_input.extend(y_hat[0].tolist())\n",
    "        temp_input = temp_input[1:]\n",
    "        prediction_next90_days.extend(y_hat.tolist())\n",
    "    else:\n",
    "        x_input = x_input.reshape((1, time_step, 1))\n",
    "        y_hat = model.predict(x_input, verbose=0)\n",
    "        temp_input.extend(y_hat[0].tolist())\n",
    "        prediction_next90_days.extend(y_hat.tolist())\n",
    "\n",
    "# Print predictions for the next 90 days\n",
    "print(prediction_next90_days)"
   ]
  },
  {
   "cell_type": "markdown",
   "id": "9669f475-1266-406a-a7ba-4b060661e5da",
   "metadata": {},
   "source": [
    "### Preparing the forecast date index"
   ]
  },
  {
   "cell_type": "code",
   "execution_count": 12,
   "id": "b7cc97a5-822b-4775-ac56-7b0ea6711611",
   "metadata": {},
   "outputs": [
    {
     "name": "stdout",
     "output_type": "stream",
     "text": [
      "[[0.03182573243975639], [0.02935604378581047], [0.028583187609910965], [0.02873404696583748], [0.02940184623003006], [0.030370697379112244], [0.031523484736680984], [0.0327940434217453], [0.034142572432756424], [0.03554327413439751], [0.036978140473365784], [0.03843387961387634], [0.03990039974451065], [0.04136989265680313], [0.04283642768859863], [0.04429559037089348], [0.04574417322874069], [0.04717998951673508], [0.048601653426885605], [0.05000841245055199], [0.05139997974038124], [0.052776433527469635], [0.05413807928562164], [0.05548539757728577], [0.05681896209716797], [0.0581393837928772], [0.059447288513183594], [0.06074328348040581], [0.0620279498398304], [0.06330181658267975], [0.06456538289785385], [0.06581906974315643], [0.06706327944993973], [0.06829833984375], [0.06952457129955292], [0.07074222713708878], [0.07195155322551727], [0.07315274327993393], [0.07434599101543427], [0.07553145289421082], [0.07670927047729492], [0.07787958532571793], [0.07904250174760818], [0.08019813895225525], [0.08134658634662628], [0.08248795568943024], [0.08362232893705368], [0.08474978804588318], [0.0858704075217247], [0.08698427677154541], [0.08809146285057068], [0.08919201791286469], [0.09028604626655579], [0.09137359261512756], [0.09245473146438599], [0.09352950751781464], [0.09459800273180008], [0.0956602618098259], [0.09671635925769806], [0.09776632487773895], [0.09881024062633514], [0.09984815120697021], [0.10088011622428894], [0.1019061729311943], [0.10292638838291168], [0.10394080728292465], [0.1049494743347168], [0.10595244914293289], [0.10694977641105652], [0.10794148594141006], [0.1089276671409607], [0.1099083423614502], [0.11088354140520096], [0.11185333132743835], [0.11281774193048477], [0.11377684026956558], [0.11473064124584198], [0.11567920446395874], [0.11662257462739944], [0.11756078898906708], [0.11849389970302582], [0.11942192167043686], [0.12034492194652557], [0.12126293778419495], [0.12217598408460617], [0.12308411300182343], [0.12398740649223328], [0.12488582730293274], [0.12577947974205017], [0.12666833400726318]]\n"
     ]
    }
   ],
   "source": [
    "# Print predictions for the next 90 days\n",
    "print(prediction_next90_days)\n",
    "\n",
    "# Get the last date from the current index\n",
    "last_date = df.index.max()\n",
    "\n",
    "# Create a list of indices starting from the next date for 90 days\n",
    "future_dates = pd.date_range(start=last_date + pd.DateOffset(days=1), periods=90, freq='D')\n",
    "\n",
    "# Convert predictions back to original scale\n",
    "prediction_next90_days = scaler.inverse_transform(prediction_next90_days).reshape(-1)\n",
    "y_pred = scaler.inverse_transform(y_pred)\n",
    "train_data = scaler.inverse_transform(train_data)\n",
    "test_data = scaler.inverse_transform(test_data)"
   ]
  },
  {
   "cell_type": "markdown",
   "id": "bfea920b-2912-4cbc-9530-8250a82aadef",
   "metadata": {},
   "source": [
    "## Visualization"
   ]
  },
  {
   "cell_type": "code",
   "execution_count": 13,
   "id": "9514ab45-9348-4679-9095-ccf7487c25b2",
   "metadata": {},
   "outputs": [
    {
     "data": {
      "image/png": "[encoded data removed]",
      "text/plain": [
       "<Figure size 1600x500 with 1 Axes>"
      ]
     },
     "metadata": {},
     "output_type": "display_data"
    }
   ],
   "source": [
    "# Plotting\n",
    "plt.figure(figsize=(16, 5))\n",
    "\n",
    "plt.plot(df.index[:train_size], train_data, label='Train')\n",
    "plt.plot(df.index[train_size:], test_data, label='Test')\n",
    "plt.plot(df.index[train_size:], y_pred, label='PredictTest')\n",
    "plt.plot(future_dates, prediction_next90_days, label='Next90days')\n",
    "\n",
    "plt.xlabel('Date')\n",
    "plt.ylabel('Close Value')\n",
    "plt.title(f\"Pfizer Closing Price Data from {df.index[0].strftime('%Y-%m-%d')} to {future_dates[-1].strftime('%Y-%m-%d')}\")\n",
    "plt.legend()\n",
    "plt.grid()\n",
    "plt.savefig('Image/LSTM_82_90days_PFE.png')\n",
    "plt.show()"
   ]
  },
  {
   "cell_type": "code",
   "execution_count": null,
   "id": "0aef3390-370a-48fb-82ab-55896b9015fe",
   "metadata": {},
   "outputs": [],
   "source": []
  }
 ],
 "metadata": {
  "kernelspec": {
   "display_name": "Python 3 (ipykernel)",
   "language": "python",
   "name": "python3"
  },
  "language_info": {
   "codemirror_mode": {
    "name": "ipython",
    "version": 3
   },
   "file_extension": ".py",
   "mimetype": "text/x-python",
   "name": "python",
   "nbconvert_exporter": "python",
   "pygments_lexer": "ipython3",
   "version": "3.11.5"
  }
 },
 "nbformat": 4,
 "nbformat_minor": 5
}
