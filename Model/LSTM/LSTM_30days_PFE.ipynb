{
 "cells": [
  {
   "cell_type": "markdown",
   "id": "35220b11-31db-4eeb-995d-293eb4e84592",
   "metadata": {},
   "source": [
    "## Thêm thư viện"
   ]
  },
  {
   "cell_type": "code",
   "execution_count": 1,
   "id": "f2701e5e-f6d3-4f42-a81c-14bbf285c4ba",
   "metadata": {},
   "outputs": [
    {
     "name": "stdout",
     "output_type": "stream",
     "text": [
      "WARNING:tensorflow:From D:\\Anaconda\\Anaconda3\\Lib\\site-packages\\keras\\src\\losses.py:2976: The name tf.losses.sparse_softmax_cross_entropy is deprecated. Please use tf.compat.v1.losses.sparse_softmax_cross_entropy instead.\n",
      "\n"
     ]
    }
   ],
   "source": [
    "import numpy as np\n",
    "import pandas as pd\n",
    "import matplotlib.pyplot as plt\n",
    "from keras.models import Sequential\n",
    "from keras.layers import Dense, LSTM, Dropout\n",
    "from keras.callbacks import EarlyStopping\n",
    "from sklearn.preprocessing import MinMaxScaler\n",
    "from sklearn.metrics import mean_squared_error, mean_absolute_percentage_error, mean_squared_log_error"
   ]
  },
  {
   "cell_type": "markdown",
   "id": "93023385-798c-4fea-b649-345e166bfea1",
   "metadata": {},
   "source": [
    "## Tiền xử lý"
   ]
  },
  {
   "cell_type": "markdown",
   "id": "92fe2483-5193-49f3-97d7-d9c168b87f62",
   "metadata": {},
   "source": [
    "### read data"
   ]
  },
  {
   "cell_type": "code",
   "execution_count": 2,
   "id": "f020aaa0-259f-42ee-8046-16b17e96752c",
   "metadata": {},
   "outputs": [
    {
     "data": {
      "text/html": [
       "<div>\n",
       "<style scoped>\n",
       "    .dataframe tbody tr th:only-of-type {\n",
       "        vertical-align: middle;\n",
       "    }\n",
       "\n",
       "    .dataframe tbody tr th {\n",
       "        vertical-align: top;\n",
       "    }\n",
       "\n",
       "    .dataframe thead th {\n",
       "        text-align: right;\n",
       "    }\n",
       "</style>\n",
       "<table border=\"1\" class=\"dataframe\">\n",
       "  <thead>\n",
       "    <tr style=\"text-align: right;\">\n",
       "      <th></th>\n",
       "      <th>Date</th>\n",
       "      <th>Open</th>\n",
       "      <th>High</th>\n",
       "      <th>Low</th>\n",
       "      <th>Close</th>\n",
       "      <th>Adj Close</th>\n",
       "      <th>Volume</th>\n",
       "    </tr>\n",
       "  </thead>\n",
       "  <tbody>\n",
       "    <tr>\n",
       "      <th>0</th>\n",
       "      <td>2019-03-01</td>\n",
       "      <td>41.375713</td>\n",
       "      <td>41.546490</td>\n",
       "      <td>41.072105</td>\n",
       "      <td>41.138519</td>\n",
       "      <td>33.767422</td>\n",
       "      <td>26667781</td>\n",
       "    </tr>\n",
       "    <tr>\n",
       "      <th>1</th>\n",
       "      <td>2019-03-04</td>\n",
       "      <td>41.214420</td>\n",
       "      <td>41.356735</td>\n",
       "      <td>40.683113</td>\n",
       "      <td>40.863377</td>\n",
       "      <td>33.541576</td>\n",
       "      <td>22805820</td>\n",
       "    </tr>\n",
       "    <tr>\n",
       "      <th>2</th>\n",
       "      <td>2019-03-05</td>\n",
       "      <td>40.882355</td>\n",
       "      <td>41.034157</td>\n",
       "      <td>40.654648</td>\n",
       "      <td>40.692600</td>\n",
       "      <td>33.401398</td>\n",
       "      <td>26529812</td>\n",
       "    </tr>\n",
       "    <tr>\n",
       "      <th>3</th>\n",
       "      <td>2019-03-06</td>\n",
       "      <td>40.626186</td>\n",
       "      <td>40.673622</td>\n",
       "      <td>39.487667</td>\n",
       "      <td>39.715370</td>\n",
       "      <td>32.599270</td>\n",
       "      <td>22410359</td>\n",
       "    </tr>\n",
       "    <tr>\n",
       "      <th>4</th>\n",
       "      <td>2019-03-07</td>\n",
       "      <td>39.715370</td>\n",
       "      <td>39.743832</td>\n",
       "      <td>39.136623</td>\n",
       "      <td>39.269451</td>\n",
       "      <td>32.233242</td>\n",
       "      <td>29046132</td>\n",
       "    </tr>\n",
       "    <tr>\n",
       "      <th>...</th>\n",
       "      <td>...</td>\n",
       "      <td>...</td>\n",
       "      <td>...</td>\n",
       "      <td>...</td>\n",
       "      <td>...</td>\n",
       "      <td>...</td>\n",
       "      <td>...</td>\n",
       "    </tr>\n",
       "    <tr>\n",
       "      <th>1254</th>\n",
       "      <td>2024-02-23</td>\n",
       "      <td>27.750000</td>\n",
       "      <td>28.090000</td>\n",
       "      <td>27.690001</td>\n",
       "      <td>27.760000</td>\n",
       "      <td>27.760000</td>\n",
       "      <td>33182600</td>\n",
       "    </tr>\n",
       "    <tr>\n",
       "      <th>1255</th>\n",
       "      <td>2024-02-26</td>\n",
       "      <td>27.670000</td>\n",
       "      <td>27.670000</td>\n",
       "      <td>27.070000</td>\n",
       "      <td>27.180000</td>\n",
       "      <td>27.180000</td>\n",
       "      <td>45685500</td>\n",
       "    </tr>\n",
       "    <tr>\n",
       "      <th>1256</th>\n",
       "      <td>2024-02-27</td>\n",
       "      <td>27.120001</td>\n",
       "      <td>27.200001</td>\n",
       "      <td>26.809999</td>\n",
       "      <td>26.889999</td>\n",
       "      <td>26.889999</td>\n",
       "      <td>38598400</td>\n",
       "    </tr>\n",
       "    <tr>\n",
       "      <th>1257</th>\n",
       "      <td>2024-02-28</td>\n",
       "      <td>26.959999</td>\n",
       "      <td>27.240000</td>\n",
       "      <td>26.820000</td>\n",
       "      <td>27.040001</td>\n",
       "      <td>27.040001</td>\n",
       "      <td>31010200</td>\n",
       "    </tr>\n",
       "    <tr>\n",
       "      <th>1258</th>\n",
       "      <td>2024-02-29</td>\n",
       "      <td>27.070000</td>\n",
       "      <td>27.190001</td>\n",
       "      <td>26.549999</td>\n",
       "      <td>26.559999</td>\n",
       "      <td>26.559999</td>\n",
       "      <td>54643200</td>\n",
       "    </tr>\n",
       "  </tbody>\n",
       "</table>\n",
       "<p>1259 rows × 7 columns</p>\n",
       "</div>"
      ],
      "text/plain": [
       "            Date       Open       High        Low      Close  Adj Close  \\\n",
       "0     2019-03-01  41.375713  41.546490  41.072105  41.138519  33.767422   \n",
       "1     2019-03-04  41.214420  41.356735  40.683113  40.863377  33.541576   \n",
       "2     2019-03-05  40.882355  41.034157  40.654648  40.692600  33.401398   \n",
       "3     2019-03-06  40.626186  40.673622  39.487667  39.715370  32.599270   \n",
       "4     2019-03-07  39.715370  39.743832  39.136623  39.269451  32.233242   \n",
       "...          ...        ...        ...        ...        ...        ...   \n",
       "1254  2024-02-23  27.750000  28.090000  27.690001  27.760000  27.760000   \n",
       "1255  2024-02-26  27.670000  27.670000  27.070000  27.180000  27.180000   \n",
       "1256  2024-02-27  27.120001  27.200001  26.809999  26.889999  26.889999   \n",
       "1257  2024-02-28  26.959999  27.240000  26.820000  27.040001  27.040001   \n",
       "1258  2024-02-29  27.070000  27.190001  26.549999  26.559999  26.559999   \n",
       "\n",
       "        Volume  \n",
       "0     26667781  \n",
       "1     22805820  \n",
       "2     26529812  \n",
       "3     22410359  \n",
       "4     29046132  \n",
       "...        ...  \n",
       "1254  33182600  \n",
       "1255  45685500  \n",
       "1256  38598400  \n",
       "1257  31010200  \n",
       "1258  54643200  \n",
       "\n",
       "[1259 rows x 7 columns]"
      ]
     },
     "execution_count": 2,
     "metadata": {},
     "output_type": "execute_result"
    }
   ],
   "source": [
    "# Load the data\n",
    "df = pd.read_csv('PFE-Pfizer.csv')\n",
    "df"
   ]
  },
  {
   "cell_type": "markdown",
   "id": "db66e55e-d672-46aa-a806-e64e10c41d84",
   "metadata": {},
   "source": [
    "### Reset index"
   ]
  },
  {
   "cell_type": "code",
   "execution_count": 3,
   "id": "ab598c86-6639-47b2-8fe5-85376d67302d",
   "metadata": {},
   "outputs": [],
   "source": [
    "# Convert the 'Date' column to datetime format\n",
    "df['Date'] = pd.to_datetime(df['Date'])\n",
    "\n",
    "# Set the 'Date' column as the index value\n",
    "df = df.set_index(pd.DatetimeIndex(df['Date'].values))\n",
    "\n",
    "# Create new dataframe with Date and Close\n",
    "df_close = pd.DataFrame(df, columns=['Close'])"
   ]
  },
  {
   "cell_type": "markdown",
   "id": "0ab504a3-ac2f-40ca-b6a2-fe20ad1c384b",
   "metadata": {},
   "source": [
    "### Data normalization"
   ]
  },
  {
   "cell_type": "code",
   "execution_count": 4,
   "id": "3ffd8e05-1a3f-4656-bf0b-8cd76f8242d2",
   "metadata": {},
   "outputs": [],
   "source": [
    "# Scale the data\n",
    "scaler = MinMaxScaler(feature_range=(0, 1))\n",
    "df_close = scaler.fit_transform(np.array(df_close).reshape(-1, 1))"
   ]
  },
  {
   "cell_type": "markdown",
   "id": "4984257b-5c2f-4174-8cb9-10f1c21168b3",
   "metadata": {},
   "source": [
    "### Data splitting"
   ]
  },
  {
   "cell_type": "code",
   "execution_count": 5,
   "id": "00c81cbe-91b4-41da-bacd-60ba26466d66",
   "metadata": {},
   "outputs": [],
   "source": [
    "# Split the data into training and test sets\n",
    "train_size = int(len(df_close) * 0.8)\n",
    "test_size = len(df_close) - train_size\n",
    "train_data = df_close[:train_size]\n",
    "test_data = df_close[train_size:]"
   ]
  },
  {
   "cell_type": "code",
   "execution_count": 6,
   "id": "d7447af0-ad15-4848-a420-1d1f1ae9b04c",
   "metadata": {},
   "outputs": [],
   "source": [
    "# Create dataset\n",
    "def create_dataset(dataset, time_step=1):\n",
    "    dataX, dataY = [], []\n",
    "    for i in range(len(dataset) - time_step):\n",
    "        a = dataset[i:(i + time_step), 0]\n",
    "        dataX.append(a)\n",
    "        dataY.append(dataset[i + time_step, 0])\n",
    "    return np.array(dataX), np.array(dataY)\n",
    "\n",
    "# Reshape into X=t,t+1,t+2..t+100 and Y=t+100\n",
    "time_step = 100\n",
    "\n",
    "# Get lost data for test\n",
    "train_last_windowsize = train_data[-time_step:]\n",
    "test_data_extended = np.concatenate((train_last_windowsize, test_data), axis=0)\n",
    "\n",
    "X_train, y_train = create_dataset(train_data, time_step)\n",
    "X_test, y_test = create_dataset(test_data_extended, time_step)\n",
    "\n",
    "# Reshape input to be [samples, time steps, features] which is required for LSTM\n",
    "X_train = X_train.reshape(X_train.shape[0], X_train.shape[1], 1)\n",
    "X_test = X_test.reshape(X_test.shape[0], X_test.shape[1], 1)"
   ]
  },
  {
   "cell_type": "markdown",
   "id": "340b354a-d844-4dae-8a92-904e0626ab54",
   "metadata": {},
   "source": [
    "### Model training and testing"
   ]
  },
  {
   "cell_type": "code",
   "execution_count": 7,
   "id": "d749f34c-1c17-4e9f-893d-d8d90dc4603a",
   "metadata": {},
   "outputs": [
    {
     "name": "stdout",
     "output_type": "stream",
     "text": [
      "WARNING:tensorflow:From D:\\Anaconda\\Anaconda3\\Lib\\site-packages\\keras\\src\\backend.py:873: The name tf.get_default_graph is deprecated. Please use tf.compat.v1.get_default_graph instead.\n",
      "\n",
      "WARNING:tensorflow:From D:\\Anaconda\\Anaconda3\\Lib\\site-packages\\keras\\src\\optimizers\\__init__.py:309: The name tf.train.Optimizer is deprecated. Please use tf.compat.v1.train.Optimizer instead.\n",
      "\n"
     ]
    }
   ],
   "source": [
    "# Define the LSTM model\n",
    "model = Sequential()\n",
    "model.add(LSTM(64, return_sequences=True, input_shape=(time_step, 1)))\n",
    "model.add(LSTM(64, return_sequences=False))\n",
    "model.add(Dropout(0.2))\n",
    "model.add(Dense(1, activation='relu'))\n",
    "model.compile(loss='mean_squared_error', optimizer='adam')"
   ]
  },
  {
   "cell_type": "code",
   "execution_count": 8,
   "id": "a4797e98-543e-4e83-aeb2-13245bdf3b09",
   "metadata": {},
   "outputs": [
    {
     "name": "stdout",
     "output_type": "stream",
     "text": [
      "Epoch 1/100\n",
      "WARNING:tensorflow:From D:\\Anaconda\\Anaconda3\\Lib\\site-packages\\keras\\src\\utils\\tf_utils.py:492: The name tf.ragged.RaggedTensorValue is deprecated. Please use tf.compat.v1.ragged.RaggedTensorValue instead.\n",
      "\n",
      "15/15 [==============================] - 7s 91ms/step - loss: 0.0280\n",
      "Epoch 2/100\n",
      "15/15 [==============================] - 1s 76ms/step - loss: 0.0079\n",
      "Epoch 3/100\n",
      "15/15 [==============================] - 1s 91ms/step - loss: 0.0055\n",
      "Epoch 4/100\n",
      "15/15 [==============================] - 2s 115ms/step - loss: 0.0054\n",
      "Epoch 5/100\n",
      "15/15 [==============================] - 2s 104ms/step - loss: 0.0040\n",
      "Epoch 6/100\n",
      "15/15 [==============================] - 2s 121ms/step - loss: 0.0041\n",
      "Epoch 7/100\n",
      "15/15 [==============================] - 2s 106ms/step - loss: 0.0038\n",
      "Epoch 8/100\n",
      "15/15 [==============================] - 1s 88ms/step - loss: 0.0039\n",
      "Epoch 9/100\n",
      "15/15 [==============================] - 1s 88ms/step - loss: 0.0035\n",
      "Epoch 10/100\n",
      "15/15 [==============================] - 1s 87ms/step - loss: 0.0033\n",
      "Epoch 11/100\n",
      "15/15 [==============================] - 1s 84ms/step - loss: 0.0036\n",
      "Epoch 12/100\n",
      "15/15 [==============================] - 1s 80ms/step - loss: 0.0035\n",
      "Epoch 13/100\n",
      "15/15 [==============================] - 1s 77ms/step - loss: 0.0034\n",
      "Epoch 14/100\n",
      "15/15 [==============================] - 1s 83ms/step - loss: 0.0032\n",
      "Epoch 15/100\n",
      "15/15 [==============================] - 1s 98ms/step - loss: 0.0030\n",
      "Epoch 16/100\n",
      "15/15 [==============================] - 1s 89ms/step - loss: 0.0029\n",
      "Epoch 17/100\n",
      "15/15 [==============================] - 1s 87ms/step - loss: 0.0028\n",
      "Epoch 18/100\n",
      "15/15 [==============================] - 1s 84ms/step - loss: 0.0026\n",
      "Epoch 19/100\n",
      "15/15 [==============================] - 2s 119ms/step - loss: 0.0025\n",
      "Epoch 20/100\n",
      "15/15 [==============================] - 2s 135ms/step - loss: 0.0026\n",
      "Epoch 21/100\n",
      "15/15 [==============================] - 2s 120ms/step - loss: 0.0027\n",
      "Epoch 22/100\n",
      "15/15 [==============================] - 2s 118ms/step - loss: 0.0024\n",
      "Epoch 23/100\n",
      "15/15 [==============================] - 2s 111ms/step - loss: 0.0029\n",
      "Epoch 24/100\n",
      "15/15 [==============================] - 2s 103ms/step - loss: 0.0025\n",
      "Epoch 25/100\n",
      "15/15 [==============================] - 2s 106ms/step - loss: 0.0023\n",
      "Epoch 26/100\n",
      "15/15 [==============================] - 2s 113ms/step - loss: 0.0024\n",
      "Epoch 27/100\n",
      "15/15 [==============================] - 2s 121ms/step - loss: 0.0025\n",
      "Epoch 28/100\n",
      "15/15 [==============================] - 2s 119ms/step - loss: 0.0025\n",
      "Epoch 29/100\n",
      "15/15 [==============================] - 2s 124ms/step - loss: 0.0025\n",
      "Epoch 30/100\n",
      "15/15 [==============================] - 2s 122ms/step - loss: 0.0024\n",
      "Epoch 31/100\n",
      "15/15 [==============================] - 2s 120ms/step - loss: 0.0022\n",
      "Epoch 32/100\n",
      "15/15 [==============================] - 2s 111ms/step - loss: 0.0023\n",
      "Epoch 33/100\n",
      "15/15 [==============================] - 2s 111ms/step - loss: 0.0023\n",
      "Epoch 34/100\n",
      "15/15 [==============================] - 2s 109ms/step - loss: 0.0025\n",
      "Epoch 35/100\n",
      "15/15 [==============================] - 2s 102ms/step - loss: 0.0023\n",
      "Epoch 36/100\n",
      "15/15 [==============================] - 1s 95ms/step - loss: 0.0021\n",
      "Epoch 37/100\n",
      "15/15 [==============================] - 1s 96ms/step - loss: 0.0021\n",
      "Epoch 38/100\n",
      "15/15 [==============================] - 1s 79ms/step - loss: 0.0018\n",
      "Epoch 39/100\n",
      "15/15 [==============================] - 1s 86ms/step - loss: 0.0021\n",
      "Epoch 40/100\n",
      "15/15 [==============================] - 2s 103ms/step - loss: 0.0020\n",
      "Epoch 41/100\n",
      "15/15 [==============================] - 1s 83ms/step - loss: 0.0020\n",
      "Epoch 42/100\n",
      "15/15 [==============================] - 1s 84ms/step - loss: 0.0020\n",
      "Epoch 43/100\n",
      "15/15 [==============================] - 1s 87ms/step - loss: 0.0020\n",
      "Epoch 44/100\n",
      "15/15 [==============================] - 1s 93ms/step - loss: 0.0022\n",
      "Epoch 45/100\n",
      "15/15 [==============================] - 2s 102ms/step - loss: 0.0020\n",
      "Epoch 46/100\n",
      "15/15 [==============================] - 2s 106ms/step - loss: 0.0019\n",
      "Epoch 47/100\n",
      "15/15 [==============================] - 2s 107ms/step - loss: 0.0018\n",
      "Epoch 48/100\n",
      "15/15 [==============================] - 2s 113ms/step - loss: 0.0017\n",
      "Epoch 49/100\n",
      "15/15 [==============================] - 2s 101ms/step - loss: 0.0019\n",
      "Epoch 50/100\n",
      "15/15 [==============================] - 1s 96ms/step - loss: 0.0021\n",
      "Epoch 51/100\n",
      "15/15 [==============================] - 2s 109ms/step - loss: 0.0018\n",
      "Epoch 52/100\n",
      "15/15 [==============================] - 1s 81ms/step - loss: 0.0019\n",
      "Epoch 53/100\n",
      "15/15 [==============================] - 1s 86ms/step - loss: 0.0019\n",
      "Epoch 54/100\n",
      "15/15 [==============================] - 2s 105ms/step - loss: 0.0018\n",
      "Epoch 55/100\n",
      "15/15 [==============================] - 2s 109ms/step - loss: 0.0019\n",
      "Epoch 56/100\n",
      "15/15 [==============================] - 1s 83ms/step - loss: 0.0019\n",
      "Epoch 57/100\n",
      "15/15 [==============================] - 1s 82ms/step - loss: 0.0024\n",
      "Epoch 58/100\n",
      "15/15 [==============================] - 1s 76ms/step - loss: 0.0019\n"
     ]
    },
    {
     "data": {
      "text/plain": [
       "<keras.src.callbacks.History at 0x17ec27839d0>"
      ]
     },
     "execution_count": 8,
     "metadata": {},
     "output_type": "execute_result"
    }
   ],
   "source": [
    "# Using early stopping to prevent overfitting\n",
    "earlystop = EarlyStopping(monitor='loss', patience=10, restore_best_weights=True)\n",
    "\n",
    "# Train the LSTM model\n",
    "model.fit(X_train, y_train, epochs=100, batch_size=64, verbose=1, callbacks=earlystop)"
   ]
  },
  {
   "cell_type": "markdown",
   "id": "2ccf8949-2979-4c84-92df-d50aa692a225",
   "metadata": {},
   "source": [
    "### Testing process"
   ]
  },
  {
   "cell_type": "code",
   "execution_count": 9,
   "id": "6fc7483d-b74d-4d52-8ae5-6bb9cf98718c",
   "metadata": {},
   "outputs": [
    {
     "name": "stdout",
     "output_type": "stream",
     "text": [
      "8/8 [==============================] - 1s 20ms/step\n"
     ]
    }
   ],
   "source": [
    "# Predict\n",
    "y_pred = model.predict(X_test)"
   ]
  },
  {
   "cell_type": "markdown",
   "id": "856e8b0a-e6f9-40a5-a1c9-4a4c70cecf19",
   "metadata": {},
   "source": [
    "### Evaluate model"
   ]
  },
  {
   "cell_type": "code",
   "execution_count": 10,
   "id": "33bc835d-68c2-45ad-8831-ffde8e88a039",
   "metadata": {},
   "outputs": [
    {
     "name": "stdout",
     "output_type": "stream",
     "text": [
      "MAPE on Test dataset: 1168191691369.8127\n",
      "RMSE on Test dataset: 0.0211054008974139\n",
      "MSLE on Test dataset: 0.00030561720057255504\n"
     ]
    }
   ],
   "source": [
    "# Evaluate the accuracy of the test set\n",
    "test_mape = mean_absolute_percentage_error(y_test, y_pred)\n",
    "test_mse = mean_squared_error(y_test, y_pred)\n",
    "test_rmse = np.sqrt(test_mse)\n",
    "test_msle = mean_squared_log_error(y_test, y_pred)\n",
    "\n",
    "print(f\"MAPE on Test dataset: {test_mape}\")\n",
    "print(f\"RMSE on Test dataset: {test_rmse}\")\n",
    "print(f\"MSLE on Test dataset: {test_msle}\") \n"
   ]
  },
  {
   "cell_type": "markdown",
   "id": "1ae4bc2a-6276-4ba7-b6fb-bfb5f410bfa2",
   "metadata": {},
   "source": [
    "## Predicting the next 30 days"
   ]
  },
  {
   "cell_type": "markdown",
   "id": "1482c74e-bb68-47db-a099-53bace49b9f5",
   "metadata": {},
   "source": [
    "### Preparing the prediction data"
   ]
  },
  {
   "cell_type": "code",
   "execution_count": 11,
   "id": "70292321-092c-419a-b19b-d098565c765b",
   "metadata": {},
   "outputs": [
    {
     "name": "stdout",
     "output_type": "stream",
     "text": [
      "[[0.03267268091440201], [0.030291814357042313], [0.02929648384451866], [0.02909466065466404], [0.02935074083507061], [0.029873697087168694], [0.0305537898093462], [0.0313270278275013], [0.03215525671839714], [0.033015064895153046], [0.03389160335063934], [0.03477519750595093], [0.035659343004226685], [0.036539673805236816], [0.037413254380226135], [0.03827815502882004], [0.03913320600986481], [0.039977796375751495], [0.0408116951584816], [0.04163499176502228], [0.042447954416275024], [0.04325100779533386], [0.044044654816389084], [0.044829435646533966], [0.04560592398047447], [0.04637465626001358], [0.04713616520166397], [0.047890953719615936], [0.048639461398124695], [0.04938210919499397]]\n"
     ]
    }
   ],
   "source": [
    "# Predict the next 30 days\n",
    "x_input = test_data[-time_step:].reshape(1, -1)\n",
    "temp_input = list(x_input[0])\n",
    "prediction_next30_days = []\n",
    "\n",
    "for i in range(30):\n",
    "    if len(temp_input) > time_step:\n",
    "        x_input = np.array(temp_input[-time_step:])\n",
    "        x_input = x_input.reshape((1, time_step, 1))\n",
    "        y_hat = model.predict(x_input, verbose=0)\n",
    "        temp_input.extend(y_hat[0].tolist())\n",
    "        temp_input = temp_input[1:]\n",
    "        prediction_next30_days.extend(y_hat.tolist())\n",
    "    else:\n",
    "        x_input = x_input.reshape((1, time_step, 1))\n",
    "        y_hat = model.predict(x_input, verbose=0)\n",
    "        temp_input.extend(y_hat[0].tolist())\n",
    "        prediction_next30_days.extend(y_hat.tolist())\n",
    "\n",
    "# Print predictions for the next 30 days\n",
    "print(prediction_next30_days)"
   ]
  },
  {
   "cell_type": "markdown",
   "id": "9669f475-1266-406a-a7ba-4b060661e5da",
   "metadata": {},
   "source": [
    "### Preparing the forecast date index"
   ]
  },
  {
   "cell_type": "code",
   "execution_count": 12,
   "id": "b7cc97a5-822b-4775-ac56-7b0ea6711611",
   "metadata": {},
   "outputs": [],
   "source": [
    "# Get the last date from the current index\n",
    "last_date = df.index.max()\n",
    "\n",
    "# Create a list of indices starting from the next date for 30 days\n",
    "future_dates = pd.date_range(start=last_date + pd.DateOffset(days=1), periods=30, freq='D')\n",
    "\n",
    "# Convert to normal values from 0, 1\n",
    "prediction_next30_days = scaler.inverse_transform(prediction_next30_days).reshape(-1)\n",
    "\n",
    "# Convert predictions back to original scale\n",
    "y_pred = scaler.inverse_transform(y_pred)\n",
    "train_data = scaler.inverse_transform(train_data)\n",
    "test_data = scaler.inverse_transform(test_data)"
   ]
  },
  {
   "cell_type": "markdown",
   "id": "bfea920b-2912-4cbc-9530-8250a82aadef",
   "metadata": {},
   "source": [
    "## Visualization"
   ]
  },
  {
   "cell_type": "code",
   "execution_count": 13,
   "id": "9514ab45-9348-4679-9095-ccf7487c25b2",
   "metadata": {},
   "outputs": [
    {
     "data": {
      "image/png": "[encoded data removed]",
      "text/plain": [
       "<Figure size 1600x500 with 1 Axes>"
      ]
     },
     "metadata": {},
     "output_type": "display_data"
    }
   ],
   "source": [
    "plt.figure(figsize=(16, 5))\n",
    "\n",
    "plt.plot(df.index[:train_size], train_data)\n",
    "plt.plot(df.index[train_size:], test_data)\n",
    "plt.plot(df.index[train_size:], y_pred)\n",
    "plt.plot(future_dates, prediction_next30_days)\n",
    "\n",
    "plt.xlabel('Date')\n",
    "plt.ylabel('Close Value')\n",
    "plt.title('Catalent Closing Price Data from 2019-01-02 to 2023-07-12')\n",
    "plt.legend(['Train', 'Test', 'PredictTest', 'Next30days'])\n",
    "plt.grid()\n",
    "plt.savefig('Image/LSTM_PFE_30.png')\n",
    "plt.show()"
   ]
  },
  {
   "cell_type": "code",
   "execution_count": null,
   "id": "0aef3390-370a-48fb-82ab-55896b9015fe",
   "metadata": {},
   "outputs": [],
   "source": []
  }
 ],
 "metadata": {
  "kernelspec": {
   "display_name": "Python 3 (ipykernel)",
   "language": "python",
   "name": "python3"
  },
  "language_info": {
   "codemirror_mode": {
    "name": "ipython",
    "version": 3
   },
   "file_extension": ".py",
   "mimetype": "text/x-python",
   "name": "python",
   "nbconvert_exporter": "python",
   "pygments_lexer": "ipython3",
   "version": "3.11.5"
  }
 },
 "nbformat": 4,
 "nbformat_minor": 5
}
