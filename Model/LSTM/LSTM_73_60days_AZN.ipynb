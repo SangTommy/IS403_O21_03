{
 "cells": [
  {
   "cell_type": "markdown",
   "id": "35220b11-31db-4eeb-995d-293eb4e84592",
   "metadata": {},
   "source": [
    "## Thêm thư viện"
   ]
  },
  {
   "cell_type": "code",
   "execution_count": 1,
   "id": "f2701e5e-f6d3-4f42-a81c-14bbf285c4ba",
   "metadata": {},
   "outputs": [],
   "source": [
    "import numpy as np\n",
    "import pandas as pd\n",
    "import matplotlib.pyplot as plt\n",
    "from keras.models import Sequential\n",
    "from keras.layers import Dense, LSTM, Dropout\n",
    "from keras.callbacks import EarlyStopping\n",
    "from sklearn.preprocessing import MinMaxScaler\n",
    "from sklearn.metrics import mean_squared_error, mean_absolute_percentage_error, mean_squared_log_error\n"
   ]
  },
  {
   "cell_type": "markdown",
   "id": "93023385-798c-4fea-b649-345e166bfea1",
   "metadata": {},
   "source": [
    "## Tiền xử lý"
   ]
  },
  {
   "cell_type": "markdown",
   "id": "92fe2483-5193-49f3-97d7-d9c168b87f62",
   "metadata": {},
   "source": [
    "### read data"
   ]
  },
  {
   "cell_type": "code",
   "execution_count": 2,
   "id": "f020aaa0-259f-42ee-8046-16b17e96752c",
   "metadata": {},
   "outputs": [
    {
     "data": {
      "text/html": [
       "<div>\n",
       "<style scoped>\n",
       "    .dataframe tbody tr th:only-of-type {\n",
       "        vertical-align: middle;\n",
       "    }\n",
       "\n",
       "    .dataframe tbody tr th {\n",
       "        vertical-align: top;\n",
       "    }\n",
       "\n",
       "    .dataframe thead th {\n",
       "        text-align: right;\n",
       "    }\n",
       "</style>\n",
       "<table border=\"1\" class=\"dataframe\">\n",
       "  <thead>\n",
       "    <tr style=\"text-align: right;\">\n",
       "      <th></th>\n",
       "      <th>Date</th>\n",
       "      <th>Open</th>\n",
       "      <th>High</th>\n",
       "      <th>Low</th>\n",
       "      <th>Close</th>\n",
       "      <th>Adj Close</th>\n",
       "      <th>Volume</th>\n",
       "    </tr>\n",
       "  </thead>\n",
       "  <tbody>\n",
       "    <tr>\n",
       "      <th>0</th>\n",
       "      <td>2019-03-01</td>\n",
       "      <td>41.610001</td>\n",
       "      <td>41.759998</td>\n",
       "      <td>41.480000</td>\n",
       "      <td>41.759998</td>\n",
       "      <td>36.845531</td>\n",
       "      <td>4590000</td>\n",
       "    </tr>\n",
       "    <tr>\n",
       "      <th>1</th>\n",
       "      <td>2019-03-04</td>\n",
       "      <td>41.730000</td>\n",
       "      <td>41.810001</td>\n",
       "      <td>41.389999</td>\n",
       "      <td>41.689999</td>\n",
       "      <td>36.783772</td>\n",
       "      <td>3948200</td>\n",
       "    </tr>\n",
       "    <tr>\n",
       "      <th>2</th>\n",
       "      <td>2019-03-05</td>\n",
       "      <td>41.560001</td>\n",
       "      <td>42.610001</td>\n",
       "      <td>41.560001</td>\n",
       "      <td>42.310001</td>\n",
       "      <td>37.330799</td>\n",
       "      <td>5668200</td>\n",
       "    </tr>\n",
       "    <tr>\n",
       "      <th>3</th>\n",
       "      <td>2019-03-06</td>\n",
       "      <td>42.360001</td>\n",
       "      <td>42.389999</td>\n",
       "      <td>41.930000</td>\n",
       "      <td>42.029999</td>\n",
       "      <td>37.083755</td>\n",
       "      <td>2490000</td>\n",
       "    </tr>\n",
       "    <tr>\n",
       "      <th>4</th>\n",
       "      <td>2019-03-07</td>\n",
       "      <td>41.610001</td>\n",
       "      <td>41.770000</td>\n",
       "      <td>41.330002</td>\n",
       "      <td>41.660000</td>\n",
       "      <td>36.757294</td>\n",
       "      <td>5283900</td>\n",
       "    </tr>\n",
       "    <tr>\n",
       "      <th>...</th>\n",
       "      <td>...</td>\n",
       "      <td>...</td>\n",
       "      <td>...</td>\n",
       "      <td>...</td>\n",
       "      <td>...</td>\n",
       "      <td>...</td>\n",
       "      <td>...</td>\n",
       "    </tr>\n",
       "    <tr>\n",
       "      <th>1318</th>\n",
       "      <td>2024-05-24</td>\n",
       "      <td>78.129997</td>\n",
       "      <td>78.889999</td>\n",
       "      <td>78.080002</td>\n",
       "      <td>78.540001</td>\n",
       "      <td>78.540001</td>\n",
       "      <td>3566600</td>\n",
       "    </tr>\n",
       "    <tr>\n",
       "      <th>1319</th>\n",
       "      <td>2024-05-28</td>\n",
       "      <td>77.779999</td>\n",
       "      <td>77.820000</td>\n",
       "      <td>76.489998</td>\n",
       "      <td>76.620003</td>\n",
       "      <td>76.620003</td>\n",
       "      <td>4199000</td>\n",
       "    </tr>\n",
       "    <tr>\n",
       "      <th>1320</th>\n",
       "      <td>2024-05-29</td>\n",
       "      <td>76.129997</td>\n",
       "      <td>76.510002</td>\n",
       "      <td>75.800003</td>\n",
       "      <td>76.080002</td>\n",
       "      <td>76.080002</td>\n",
       "      <td>4653800</td>\n",
       "    </tr>\n",
       "    <tr>\n",
       "      <th>1321</th>\n",
       "      <td>2024-05-30</td>\n",
       "      <td>76.620003</td>\n",
       "      <td>76.980003</td>\n",
       "      <td>76.459999</td>\n",
       "      <td>76.769997</td>\n",
       "      <td>76.769997</td>\n",
       "      <td>3274400</td>\n",
       "    </tr>\n",
       "    <tr>\n",
       "      <th>1322</th>\n",
       "      <td>2024-05-31</td>\n",
       "      <td>77.309998</td>\n",
       "      <td>78.120003</td>\n",
       "      <td>77.089996</td>\n",
       "      <td>78.019997</td>\n",
       "      <td>78.019997</td>\n",
       "      <td>4782800</td>\n",
       "    </tr>\n",
       "  </tbody>\n",
       "</table>\n",
       "<p>1323 rows × 7 columns</p>\n",
       "</div>"
      ],
      "text/plain": [
       "            Date       Open       High        Low      Close  Adj Close  \\\n",
       "0     2019-03-01  41.610001  41.759998  41.480000  41.759998  36.845531   \n",
       "1     2019-03-04  41.730000  41.810001  41.389999  41.689999  36.783772   \n",
       "2     2019-03-05  41.560001  42.610001  41.560001  42.310001  37.330799   \n",
       "3     2019-03-06  42.360001  42.389999  41.930000  42.029999  37.083755   \n",
       "4     2019-03-07  41.610001  41.770000  41.330002  41.660000  36.757294   \n",
       "...          ...        ...        ...        ...        ...        ...   \n",
       "1318  2024-05-24  78.129997  78.889999  78.080002  78.540001  78.540001   \n",
       "1319  2024-05-28  77.779999  77.820000  76.489998  76.620003  76.620003   \n",
       "1320  2024-05-29  76.129997  76.510002  75.800003  76.080002  76.080002   \n",
       "1321  2024-05-30  76.620003  76.980003  76.459999  76.769997  76.769997   \n",
       "1322  2024-05-31  77.309998  78.120003  77.089996  78.019997  78.019997   \n",
       "\n",
       "       Volume  \n",
       "0     4590000  \n",
       "1     3948200  \n",
       "2     5668200  \n",
       "3     2490000  \n",
       "4     5283900  \n",
       "...       ...  \n",
       "1318  3566600  \n",
       "1319  4199000  \n",
       "1320  4653800  \n",
       "1321  3274400  \n",
       "1322  4782800  \n",
       "\n",
       "[1323 rows x 7 columns]"
      ]
     },
     "execution_count": 2,
     "metadata": {},
     "output_type": "execute_result"
    }
   ],
   "source": [
    "# Load the data\n",
    "df = pd.read_csv('AZN-AstraZeneca.csv')\n",
    "df"
   ]
  },
  {
   "cell_type": "markdown",
   "id": "db66e55e-d672-46aa-a806-e64e10c41d84",
   "metadata": {},
   "source": [
    "### Reset index"
   ]
  },
  {
   "cell_type": "code",
   "execution_count": 3,
   "id": "ab598c86-6639-47b2-8fe5-85376d67302d",
   "metadata": {},
   "outputs": [],
   "source": [
    "# Convert the 'Date' column to datetime format\n",
    "df['Date'] = pd.to_datetime(df['Date'])\n",
    "\n",
    "# Set the 'Date' column as the index value\n",
    "df = df.set_index(pd.DatetimeIndex(df['Date'].values))\n",
    "\n",
    "# Create new dataframe with Date and Close\n",
    "df_close = pd.DataFrame(df, columns=['Close'])"
   ]
  },
  {
   "cell_type": "markdown",
   "id": "0ab504a3-ac2f-40ca-b6a2-fe20ad1c384b",
   "metadata": {},
   "source": [
    "### Data normalization"
   ]
  },
  {
   "cell_type": "code",
   "execution_count": 4,
   "id": "3ffd8e05-1a3f-4656-bf0b-8cd76f8242d2",
   "metadata": {},
   "outputs": [],
   "source": [
    "# Scale the data\n",
    "scaler = MinMaxScaler(feature_range=(0, 1))\n",
    "df_close = scaler.fit_transform(np.array(df_close).reshape(-1, 1))"
   ]
  },
  {
   "cell_type": "markdown",
   "id": "4984257b-5c2f-4174-8cb9-10f1c21168b3",
   "metadata": {},
   "source": [
    "### Data splitting"
   ]
  },
  {
   "cell_type": "code",
   "execution_count": 5,
   "id": "00c81cbe-91b4-41da-bacd-60ba26466d66",
   "metadata": {},
   "outputs": [],
   "source": [
    "# Split the data into training and test sets\n",
    "train_size = int(len(df_close) * 0.7)\n",
    "test_size = len(df_close) - train_size\n",
    "\n",
    "train_data = df_close[:train_size]\n",
    "test_data = df_close[train_size:]"
   ]
  },
  {
   "cell_type": "code",
   "execution_count": 6,
   "id": "d7447af0-ad15-4848-a420-1d1f1ae9b04c",
   "metadata": {},
   "outputs": [],
   "source": [
    "# Create dataset\n",
    "def create_dataset(dataset, time_step=1):\n",
    "    dataX, dataY = [], []\n",
    "    for i in range(len(dataset) - time_step):\n",
    "        a = dataset[i:(i + time_step), 0]\n",
    "        dataX.append(a)\n",
    "        dataY.append(dataset[i + time_step, 0])\n",
    "    return np.array(dataX), np.array(dataY)\n",
    "\t\n",
    "time_step = 100\n",
    "\n",
    "# Get lost data for test\n",
    "train_last_windowsize = train_data[-time_step:]\n",
    "test_data_extended = np.concatenate((train_last_windowsize, test_data), axis=0)\n",
    "\n",
    "X_train, y_train = create_dataset(train_data, time_step)\n",
    "X_test, y_test = create_dataset(test_data_extended, time_step)\n",
    "\n",
    "# Reshape input to be [samples, time steps, features] which is required for LSTM\n",
    "X_train = X_train.reshape(X_train.shape[0], X_train.shape[1], 1)\n",
    "X_test = X_test.reshape(X_test.shape[0], X_test.shape[1], 1)"
   ]
  },
  {
   "cell_type": "markdown",
   "id": "340b354a-d844-4dae-8a92-904e0626ab54",
   "metadata": {},
   "source": [
    "### Model training and testing"
   ]
  },
  {
   "cell_type": "code",
   "execution_count": 7,
   "id": "d749f34c-1c17-4e9f-893d-d8d90dc4603a",
   "metadata": {},
   "outputs": [
    {
     "name": "stderr",
     "output_type": "stream",
     "text": [
      "D:\\Anaconda\\Anaconda3\\Lib\\site-packages\\keras\\src\\layers\\rnn\\rnn.py:204: UserWarning: Do not pass an `input_shape`/`input_dim` argument to a layer. When using Sequential models, prefer using an `Input(shape)` object as the first layer in the model instead.\n",
      "  super().__init__(**kwargs)\n"
     ]
    }
   ],
   "source": [
    "# Define the LSTM model\n",
    "model = Sequential()\n",
    "model.add(LSTM(64, return_sequences=True, input_shape=(time_step, 1)))\n",
    "model.add(LSTM(64, return_sequences=False))\n",
    "model.add(Dropout(0.2))\n",
    "model.add(Dense(1, activation='relu'))\n",
    "model.compile(loss='mean_squared_error', optimizer='adam')"
   ]
  },
  {
   "cell_type": "code",
   "execution_count": 8,
   "id": "a4797e98-543e-4e83-aeb2-13245bdf3b09",
   "metadata": {},
   "outputs": [
    {
     "name": "stdout",
     "output_type": "stream",
     "text": [
      "Epoch 1/100\n",
      "\u001b[1m13/13\u001b[0m \u001b[32m━━━━━━━━━━━━━━━━━━━━\u001b[0m\u001b[37m\u001b[0m \u001b[1m33s\u001b[0m 201ms/step - loss: 0.0922\n",
      "Epoch 2/100\n",
      "\u001b[1m13/13\u001b[0m \u001b[32m━━━━━━━━━━━━━━━━━━━━\u001b[0m\u001b[37m\u001b[0m \u001b[1m6s\u001b[0m 269ms/step - loss: 0.0101\n",
      "Epoch 3/100\n",
      "\u001b[1m13/13\u001b[0m \u001b[32m━━━━━━━━━━━━━━━━━━━━\u001b[0m\u001b[37m\u001b[0m \u001b[1m3s\u001b[0m 188ms/step - loss: 0.0057\n",
      "Epoch 4/100\n",
      "\u001b[1m13/13\u001b[0m \u001b[32m━━━━━━━━━━━━━━━━━━━━\u001b[0m\u001b[37m\u001b[0m \u001b[1m3s\u001b[0m 170ms/step - loss: 0.0044\n",
      "Epoch 5/100\n",
      "\u001b[1m13/13\u001b[0m \u001b[32m━━━━━━━━━━━━━━━━━━━━\u001b[0m\u001b[37m\u001b[0m \u001b[1m3s\u001b[0m 181ms/step - loss: 0.0036\n",
      "Epoch 6/100\n",
      "\u001b[1m13/13\u001b[0m \u001b[32m━━━━━━━━━━━━━━━━━━━━\u001b[0m\u001b[37m\u001b[0m \u001b[1m3s\u001b[0m 209ms/step - loss: 0.0032\n",
      "Epoch 7/100\n",
      "\u001b[1m13/13\u001b[0m \u001b[32m━━━━━━━━━━━━━━━━━━━━\u001b[0m\u001b[37m\u001b[0m \u001b[1m3s\u001b[0m 225ms/step - loss: 0.0031\n",
      "Epoch 8/100\n",
      "\u001b[1m13/13\u001b[0m \u001b[32m━━━━━━━━━━━━━━━━━━━━\u001b[0m\u001b[37m\u001b[0m \u001b[1m5s\u001b[0m 200ms/step - loss: 0.0031\n",
      "Epoch 9/100\n",
      "\u001b[1m13/13\u001b[0m \u001b[32m━━━━━━━━━━━━━━━━━━━━\u001b[0m\u001b[37m\u001b[0m \u001b[1m3s\u001b[0m 208ms/step - loss: 0.0031\n",
      "Epoch 10/100\n",
      "\u001b[1m13/13\u001b[0m \u001b[32m━━━━━━━━━━━━━━━━━━━━\u001b[0m\u001b[37m\u001b[0m \u001b[1m3s\u001b[0m 202ms/step - loss: 0.0028\n",
      "Epoch 11/100\n",
      "\u001b[1m13/13\u001b[0m \u001b[32m━━━━━━━━━━━━━━━━━━━━\u001b[0m\u001b[37m\u001b[0m \u001b[1m3s\u001b[0m 194ms/step - loss: 0.0026\n",
      "Epoch 12/100\n",
      "\u001b[1m13/13\u001b[0m \u001b[32m━━━━━━━━━━━━━━━━━━━━\u001b[0m\u001b[37m\u001b[0m \u001b[1m3s\u001b[0m 198ms/step - loss: 0.0029\n",
      "Epoch 13/100\n",
      "\u001b[1m13/13\u001b[0m \u001b[32m━━━━━━━━━━━━━━━━━━━━\u001b[0m\u001b[37m\u001b[0m \u001b[1m3s\u001b[0m 209ms/step - loss: 0.0031\n",
      "Epoch 14/100\n",
      "\u001b[1m13/13\u001b[0m \u001b[32m━━━━━━━━━━━━━━━━━━━━\u001b[0m\u001b[37m\u001b[0m \u001b[1m3s\u001b[0m 230ms/step - loss: 0.0030\n",
      "Epoch 15/100\n",
      "\u001b[1m13/13\u001b[0m \u001b[32m━━━━━━━━━━━━━━━━━━━━\u001b[0m\u001b[37m\u001b[0m \u001b[1m3s\u001b[0m 173ms/step - loss: 0.0025\n",
      "Epoch 16/100\n",
      "\u001b[1m13/13\u001b[0m \u001b[32m━━━━━━━━━━━━━━━━━━━━\u001b[0m\u001b[37m\u001b[0m \u001b[1m3s\u001b[0m 217ms/step - loss: 0.0029\n",
      "Epoch 17/100\n",
      "\u001b[1m13/13\u001b[0m \u001b[32m━━━━━━━━━━━━━━━━━━━━\u001b[0m\u001b[37m\u001b[0m \u001b[1m3s\u001b[0m 184ms/step - loss: 0.0025\n",
      "Epoch 18/100\n",
      "\u001b[1m13/13\u001b[0m \u001b[32m━━━━━━━━━━━━━━━━━━━━\u001b[0m\u001b[37m\u001b[0m \u001b[1m3s\u001b[0m 218ms/step - loss: 0.0030\n",
      "Epoch 19/100\n",
      "\u001b[1m13/13\u001b[0m \u001b[32m━━━━━━━━━━━━━━━━━━━━\u001b[0m\u001b[37m\u001b[0m \u001b[1m4s\u001b[0m 240ms/step - loss: 0.0026\n",
      "Epoch 20/100\n",
      "\u001b[1m13/13\u001b[0m \u001b[32m━━━━━━━━━━━━━━━━━━━━\u001b[0m\u001b[37m\u001b[0m \u001b[1m3s\u001b[0m 188ms/step - loss: 0.0026\n",
      "Epoch 21/100\n",
      "\u001b[1m13/13\u001b[0m \u001b[32m━━━━━━━━━━━━━━━━━━━━\u001b[0m\u001b[37m\u001b[0m \u001b[1m4s\u001b[0m 241ms/step - loss: 0.0027\n",
      "Epoch 22/100\n",
      "\u001b[1m13/13\u001b[0m \u001b[32m━━━━━━━━━━━━━━━━━━━━\u001b[0m\u001b[37m\u001b[0m \u001b[1m3s\u001b[0m 224ms/step - loss: 0.0027\n",
      "Epoch 23/100\n",
      "\u001b[1m13/13\u001b[0m \u001b[32m━━━━━━━━━━━━━━━━━━━━\u001b[0m\u001b[37m\u001b[0m \u001b[1m4s\u001b[0m 231ms/step - loss: 0.0024\n",
      "Epoch 24/100\n",
      "\u001b[1m13/13\u001b[0m \u001b[32m━━━━━━━━━━━━━━━━━━━━\u001b[0m\u001b[37m\u001b[0m \u001b[1m3s\u001b[0m 210ms/step - loss: 0.0025\n",
      "Epoch 25/100\n",
      "\u001b[1m13/13\u001b[0m \u001b[32m━━━━━━━━━━━━━━━━━━━━\u001b[0m\u001b[37m\u001b[0m \u001b[1m4s\u001b[0m 270ms/step - loss: 0.0023\n",
      "Epoch 26/100\n",
      "\u001b[1m13/13\u001b[0m \u001b[32m━━━━━━━━━━━━━━━━━━━━\u001b[0m\u001b[37m\u001b[0m \u001b[1m3s\u001b[0m 235ms/step - loss: 0.0022\n",
      "Epoch 27/100\n",
      "\u001b[1m13/13\u001b[0m \u001b[32m━━━━━━━━━━━━━━━━━━━━\u001b[0m\u001b[37m\u001b[0m \u001b[1m4s\u001b[0m 266ms/step - loss: 0.0023\n",
      "Epoch 28/100\n",
      "\u001b[1m13/13\u001b[0m \u001b[32m━━━━━━━━━━━━━━━━━━━━\u001b[0m\u001b[37m\u001b[0m \u001b[1m5s\u001b[0m 296ms/step - loss: 0.0025\n",
      "Epoch 29/100\n",
      "\u001b[1m13/13\u001b[0m \u001b[32m━━━━━━━━━━━━━━━━━━━━\u001b[0m\u001b[37m\u001b[0m \u001b[1m4s\u001b[0m 209ms/step - loss: 0.0025\n",
      "Epoch 30/100\n",
      "\u001b[1m13/13\u001b[0m \u001b[32m━━━━━━━━━━━━━━━━━━━━\u001b[0m\u001b[37m\u001b[0m \u001b[1m5s\u001b[0m 235ms/step - loss: 0.0023\n",
      "Epoch 31/100\n",
      "\u001b[1m13/13\u001b[0m \u001b[32m━━━━━━━━━━━━━━━━━━━━\u001b[0m\u001b[37m\u001b[0m \u001b[1m4s\u001b[0m 247ms/step - loss: 0.0023\n",
      "Epoch 32/100\n",
      "\u001b[1m13/13\u001b[0m \u001b[32m━━━━━━━━━━━━━━━━━━━━\u001b[0m\u001b[37m\u001b[0m \u001b[1m4s\u001b[0m 239ms/step - loss: 0.0021\n",
      "Epoch 33/100\n",
      "\u001b[1m13/13\u001b[0m \u001b[32m━━━━━━━━━━━━━━━━━━━━\u001b[0m\u001b[37m\u001b[0m \u001b[1m3s\u001b[0m 202ms/step - loss: 0.0022\n",
      "Epoch 34/100\n",
      "\u001b[1m13/13\u001b[0m \u001b[32m━━━━━━━━━━━━━━━━━━━━\u001b[0m\u001b[37m\u001b[0m \u001b[1m5s\u001b[0m 269ms/step - loss: 0.0025\n",
      "Epoch 35/100\n",
      "\u001b[1m13/13\u001b[0m \u001b[32m━━━━━━━━━━━━━━━━━━━━\u001b[0m\u001b[37m\u001b[0m \u001b[1m4s\u001b[0m 192ms/step - loss: 0.0021\n",
      "Epoch 36/100\n",
      "\u001b[1m13/13\u001b[0m \u001b[32m━━━━━━━━━━━━━━━━━━━━\u001b[0m\u001b[37m\u001b[0m \u001b[1m4s\u001b[0m 265ms/step - loss: 0.0022\n",
      "Epoch 37/100\n",
      "\u001b[1m13/13\u001b[0m \u001b[32m━━━━━━━━━━━━━━━━━━━━\u001b[0m\u001b[37m\u001b[0m \u001b[1m5s\u001b[0m 230ms/step - loss: 0.0022\n",
      "Epoch 38/100\n",
      "\u001b[1m13/13\u001b[0m \u001b[32m━━━━━━━━━━━━━━━━━━━━\u001b[0m\u001b[37m\u001b[0m \u001b[1m3s\u001b[0m 192ms/step - loss: 0.0020\n",
      "Epoch 39/100\n",
      "\u001b[1m13/13\u001b[0m \u001b[32m━━━━━━━━━━━━━━━━━━━━\u001b[0m\u001b[37m\u001b[0m \u001b[1m4s\u001b[0m 192ms/step - loss: 0.0021\n",
      "Epoch 40/100\n",
      "\u001b[1m13/13\u001b[0m \u001b[32m━━━━━━━━━━━━━━━━━━━━\u001b[0m\u001b[37m\u001b[0m \u001b[1m4s\u001b[0m 207ms/step - loss: 0.0021\n",
      "Epoch 41/100\n",
      "\u001b[1m13/13\u001b[0m \u001b[32m━━━━━━━━━━━━━━━━━━━━\u001b[0m\u001b[37m\u001b[0m \u001b[1m4s\u001b[0m 228ms/step - loss: 0.0022\n",
      "Epoch 42/100\n",
      "\u001b[1m13/13\u001b[0m \u001b[32m━━━━━━━━━━━━━━━━━━━━\u001b[0m\u001b[37m\u001b[0m \u001b[1m4s\u001b[0m 256ms/step - loss: 0.0023\n",
      "Epoch 43/100\n",
      "\u001b[1m13/13\u001b[0m \u001b[32m━━━━━━━━━━━━━━━━━━━━\u001b[0m\u001b[37m\u001b[0m \u001b[1m4s\u001b[0m 207ms/step - loss: 0.0023\n",
      "Epoch 44/100\n",
      "\u001b[1m13/13\u001b[0m \u001b[32m━━━━━━━━━━━━━━━━━━━━\u001b[0m\u001b[37m\u001b[0m \u001b[1m3s\u001b[0m 170ms/step - loss: 0.0019\n",
      "Epoch 45/100\n",
      "\u001b[1m13/13\u001b[0m \u001b[32m━━━━━━━━━━━━━━━━━━━━\u001b[0m\u001b[37m\u001b[0m \u001b[1m4s\u001b[0m 259ms/step - loss: 0.0020\n",
      "Epoch 46/100\n",
      "\u001b[1m13/13\u001b[0m \u001b[32m━━━━━━━━━━━━━━━━━━━━\u001b[0m\u001b[37m\u001b[0m \u001b[1m3s\u001b[0m 209ms/step - loss: 0.0021\n",
      "Epoch 47/100\n",
      "\u001b[1m13/13\u001b[0m \u001b[32m━━━━━━━━━━━━━━━━━━━━\u001b[0m\u001b[37m\u001b[0m \u001b[1m3s\u001b[0m 193ms/step - loss: 0.0020\n",
      "Epoch 48/100\n",
      "\u001b[1m13/13\u001b[0m \u001b[32m━━━━━━━━━━━━━━━━━━━━\u001b[0m\u001b[37m\u001b[0m \u001b[1m3s\u001b[0m 224ms/step - loss: 0.0021\n",
      "Epoch 49/100\n",
      "\u001b[1m13/13\u001b[0m \u001b[32m━━━━━━━━━━━━━━━━━━━━\u001b[0m\u001b[37m\u001b[0m \u001b[1m3s\u001b[0m 170ms/step - loss: 0.0020\n",
      "Epoch 50/100\n",
      "\u001b[1m13/13\u001b[0m \u001b[32m━━━━━━━━━━━━━━━━━━━━\u001b[0m\u001b[37m\u001b[0m \u001b[1m3s\u001b[0m 188ms/step - loss: 0.0018\n",
      "Epoch 51/100\n",
      "\u001b[1m13/13\u001b[0m \u001b[32m━━━━━━━━━━━━━━━━━━━━\u001b[0m\u001b[37m\u001b[0m \u001b[1m4s\u001b[0m 251ms/step - loss: 0.0019\n",
      "Epoch 52/100\n",
      "\u001b[1m13/13\u001b[0m \u001b[32m━━━━━━━━━━━━━━━━━━━━\u001b[0m\u001b[37m\u001b[0m \u001b[1m3s\u001b[0m 196ms/step - loss: 0.0019\n",
      "Epoch 53/100\n",
      "\u001b[1m13/13\u001b[0m \u001b[32m━━━━━━━━━━━━━━━━━━━━\u001b[0m\u001b[37m\u001b[0m \u001b[1m3s\u001b[0m 190ms/step - loss: 0.0020\n",
      "Epoch 54/100\n",
      "\u001b[1m13/13\u001b[0m \u001b[32m━━━━━━━━━━━━━━━━━━━━\u001b[0m\u001b[37m\u001b[0m \u001b[1m3s\u001b[0m 174ms/step - loss: 0.0018\n",
      "Epoch 55/100\n",
      "\u001b[1m13/13\u001b[0m \u001b[32m━━━━━━━━━━━━━━━━━━━━\u001b[0m\u001b[37m\u001b[0m \u001b[1m3s\u001b[0m 190ms/step - loss: 0.0018\n",
      "Epoch 56/100\n",
      "\u001b[1m13/13\u001b[0m \u001b[32m━━━━━━━━━━━━━━━━━━━━\u001b[0m\u001b[37m\u001b[0m \u001b[1m3s\u001b[0m 190ms/step - loss: 0.0018\n",
      "Epoch 57/100\n",
      "\u001b[1m13/13\u001b[0m \u001b[32m━━━━━━━━━━━━━━━━━━━━\u001b[0m\u001b[37m\u001b[0m \u001b[1m3s\u001b[0m 206ms/step - loss: 0.0015\n",
      "Epoch 58/100\n",
      "\u001b[1m13/13\u001b[0m \u001b[32m━━━━━━━━━━━━━━━━━━━━\u001b[0m\u001b[37m\u001b[0m \u001b[1m3s\u001b[0m 171ms/step - loss: 0.0018\n",
      "Epoch 59/100\n",
      "\u001b[1m13/13\u001b[0m \u001b[32m━━━━━━━━━━━━━━━━━━━━\u001b[0m\u001b[37m\u001b[0m \u001b[1m3s\u001b[0m 172ms/step - loss: 0.0017\n",
      "Epoch 60/100\n",
      "\u001b[1m13/13\u001b[0m \u001b[32m━━━━━━━━━━━━━━━━━━━━\u001b[0m\u001b[37m\u001b[0m \u001b[1m3s\u001b[0m 247ms/step - loss: 0.0018\n",
      "Epoch 61/100\n",
      "\u001b[1m13/13\u001b[0m \u001b[32m━━━━━━━━━━━━━━━━━━━━\u001b[0m\u001b[37m\u001b[0m \u001b[1m3s\u001b[0m 231ms/step - loss: 0.0018\n",
      "Epoch 62/100\n",
      "\u001b[1m13/13\u001b[0m \u001b[32m━━━━━━━━━━━━━━━━━━━━\u001b[0m\u001b[37m\u001b[0m \u001b[1m3s\u001b[0m 187ms/step - loss: 0.0016\n",
      "Epoch 63/100\n",
      "\u001b[1m13/13\u001b[0m \u001b[32m━━━━━━━━━━━━━━━━━━━━\u001b[0m\u001b[37m\u001b[0m \u001b[1m2s\u001b[0m 156ms/step - loss: 0.0018\n",
      "Epoch 64/100\n",
      "\u001b[1m13/13\u001b[0m \u001b[32m━━━━━━━━━━━━━━━━━━━━\u001b[0m\u001b[37m\u001b[0m \u001b[1m4s\u001b[0m 199ms/step - loss: 0.0017\n",
      "Epoch 65/100\n",
      "\u001b[1m13/13\u001b[0m \u001b[32m━━━━━━━━━━━━━━━━━━━━\u001b[0m\u001b[37m\u001b[0m \u001b[1m5s\u001b[0m 240ms/step - loss: 0.0020\n",
      "Epoch 66/100\n",
      "\u001b[1m13/13\u001b[0m \u001b[32m━━━━━━━━━━━━━━━━━━━━\u001b[0m\u001b[37m\u001b[0m \u001b[1m3s\u001b[0m 207ms/step - loss: 0.0017\n",
      "Epoch 67/100\n",
      "\u001b[1m13/13\u001b[0m \u001b[32m━━━━━━━━━━━━━━━━━━━━\u001b[0m\u001b[37m\u001b[0m \u001b[1m3s\u001b[0m 195ms/step - loss: 0.0016\n"
     ]
    },
    {
     "data": {
      "text/plain": [
       "<keras.src.callbacks.history.History at 0x219a9dd0750>"
      ]
     },
     "execution_count": 8,
     "metadata": {},
     "output_type": "execute_result"
    }
   ],
   "source": [
    "# Using early stopping to prevent overfitting\n",
    "earlystop = EarlyStopping(monitor='loss', patience=10, restore_best_weights=True)\n",
    "\n",
    "# Train the LSTM model\n",
    "model.fit(X_train, y_train, epochs=100, batch_size=64, verbose=1, callbacks=earlystop)"
   ]
  },
  {
   "cell_type": "markdown",
   "id": "2ccf8949-2979-4c84-92df-d50aa692a225",
   "metadata": {},
   "source": [
    "### Testing process"
   ]
  },
  {
   "cell_type": "code",
   "execution_count": 9,
   "id": "6fc7483d-b74d-4d52-8ae5-6bb9cf98718c",
   "metadata": {},
   "outputs": [
    {
     "name": "stdout",
     "output_type": "stream",
     "text": [
      "\u001b[1m13/13\u001b[0m \u001b[32m━━━━━━━━━━━━━━━━━━━━\u001b[0m\u001b[37m\u001b[0m \u001b[1m8s\u001b[0m 329ms/step\n"
     ]
    }
   ],
   "source": [
    "# Predict\n",
    "y_pred = model.predict(X_test)"
   ]
  },
  {
   "cell_type": "markdown",
   "id": "856e8b0a-e6f9-40a5-a1c9-4a4c70cecf19",
   "metadata": {},
   "source": [
    "### Evaluate model"
   ]
  },
  {
   "cell_type": "code",
   "execution_count": 10,
   "id": "33bc835d-68c2-45ad-8831-ffde8e88a039",
   "metadata": {},
   "outputs": [
    {
     "name": "stdout",
     "output_type": "stream",
     "text": [
      "MAPE on Test dataset:  0.03109894367557595\n",
      "RMSE on Test dataset:  0.031007900960664393\n",
      "MSLE on Test dataset:  0.00032065124180976094\n",
      "MAE on Test dataset:  0.022518192935931918\n"
     ]
    }
   ],
   "source": [
    "from sklearn.metrics import mean_squared_error, mean_absolute_percentage_error, mean_squared_log_error, mean_absolute_error\n",
    "# Evaluate the accuracy of test\n",
    "\n",
    "test_mape = mean_absolute_percentage_error(y_test, y_pred)\n",
    "test_mse = mean_squared_error(y_test, y_pred)\n",
    "test_rmse = np.sqrt(test_mse)\n",
    "test_mae = mean_absolute_error(y_test, y_pred)\n",
    "test_msle = mean_squared_log_error(y_test, y_pred)\n",
    "\n",
    "\n",
    "print(f\"MAPE on Test dataset: \", test_mape)\n",
    "print(f\"RMSE on Test dataset: \", test_rmse)\n",
    "print(f\"MSLE on Test dataset: \", test_msle)\n",
    "print(f\"MAE on Test dataset: \", test_mae)"
   ]
  },
  {
   "cell_type": "markdown",
   "id": "1ae4bc2a-6276-4ba7-b6fb-bfb5f410bfa2",
   "metadata": {},
   "source": [
    "## Predicting the next 60 days"
   ]
  },
  {
   "cell_type": "markdown",
   "id": "1482c74e-bb68-47db-a099-53bace49b9f5",
   "metadata": {},
   "source": [
    "### Preparing the prediction data"
   ]
  },
  {
   "cell_type": "code",
   "execution_count": 11,
   "id": "70292321-092c-419a-b19b-d098565c765b",
   "metadata": {},
   "outputs": [
    {
     "name": "stdout",
     "output_type": "stream",
     "text": [
      "[[0.9556403160095215], [0.9563979506492615], [0.9582666754722595], [0.9609328508377075], [0.9642257690429688], [0.9680389761924744], [0.9722884297370911], [0.9769002199172974], [0.9818041324615479], [0.9869332313537598], [0.9922254085540771], [0.99762362241745], [1.0030772686004639], [1.0085419416427612], [1.0139801502227783], [1.0193618535995483], [1.0246630907058716], [1.029866099357605], [1.034959077835083], [1.0399354696273804], [1.0447925329208374], [1.0495320558547974], [1.0541586875915527], [1.0586787462234497], [1.0631020069122314], [1.0674378871917725], [1.0716969966888428], [1.0758910179138184], [1.0800302028656006], [1.0841253995895386], [1.0881861448287964], [1.0922214984893799], [1.0962390899658203], [1.1002453565597534], [1.1042462587356567], [1.1082454919815063], [1.1122467517852783], [1.1162519454956055], [1.1202621459960938], [1.124277949333191], [1.1282985210418701], [1.1323227882385254], [1.1363494396209717], [1.1403762102127075], [1.1444005966186523], [1.148419976234436], [1.1524322032928467], [1.156434178352356], [1.1604233980178833], [1.1643977165222168], [1.1683539152145386], [1.1722902059555054], [1.176204800605774], [1.180095911026001], [1.1839617490768433], [1.1878011226654053], [1.191612958908081], [1.1953961849212646], [1.1991503238677979], [1.2028748989105225]]\n"
     ]
    }
   ],
   "source": [
    "# Predict the next 60 days\n",
    "x_input = test_data[-time_step:].reshape(1, -1)\n",
    "temp_input = list(x_input[0])\n",
    "prediction_next60_days = []\n",
    "\n",
    "for i in range(60):\n",
    "    if len(temp_input) > time_step:\n",
    "        x_input = np.array(temp_input[-time_step:])\n",
    "        x_input = x_input.reshape((1, time_step, 1))\n",
    "        y_hat = model.predict(x_input, verbose=0)\n",
    "        temp_input.extend(y_hat[0].tolist())\n",
    "        temp_input = temp_input[1:]\n",
    "        prediction_next60_days.extend(y_hat.tolist())\n",
    "    else:\n",
    "        x_input = x_input.reshape((1, time_step, 1))\n",
    "        y_hat = model.predict(x_input, verbose=0)\n",
    "        temp_input.extend(y_hat[0].tolist())\n",
    "        prediction_next60_days.extend(y_hat.tolist())\n",
    "\n",
    "# Print predictions for the next 60 days\n",
    "print(prediction_next60_days)"
   ]
  },
  {
   "cell_type": "markdown",
   "id": "9669f475-1266-406a-a7ba-4b060661e5da",
   "metadata": {},
   "source": [
    "### Preparing the forecast date index"
   ]
  },
  {
   "cell_type": "code",
   "execution_count": 12,
   "id": "b7cc97a5-822b-4775-ac56-7b0ea6711611",
   "metadata": {},
   "outputs": [
    {
     "name": "stdout",
     "output_type": "stream",
     "text": [
      "[[0.9556403160095215], [0.9563979506492615], [0.9582666754722595], [0.9609328508377075], [0.9642257690429688], [0.9680389761924744], [0.9722884297370911], [0.9769002199172974], [0.9818041324615479], [0.9869332313537598], [0.9922254085540771], [0.99762362241745], [1.0030772686004639], [1.0085419416427612], [1.0139801502227783], [1.0193618535995483], [1.0246630907058716], [1.029866099357605], [1.034959077835083], [1.0399354696273804], [1.0447925329208374], [1.0495320558547974], [1.0541586875915527], [1.0586787462234497], [1.0631020069122314], [1.0674378871917725], [1.0716969966888428], [1.0758910179138184], [1.0800302028656006], [1.0841253995895386], [1.0881861448287964], [1.0922214984893799], [1.0962390899658203], [1.1002453565597534], [1.1042462587356567], [1.1082454919815063], [1.1122467517852783], [1.1162519454956055], [1.1202621459960938], [1.124277949333191], [1.1282985210418701], [1.1323227882385254], [1.1363494396209717], [1.1403762102127075], [1.1444005966186523], [1.148419976234436], [1.1524322032928467], [1.156434178352356], [1.1604233980178833], [1.1643977165222168], [1.1683539152145386], [1.1722902059555054], [1.176204800605774], [1.180095911026001], [1.1839617490768433], [1.1878011226654053], [1.191612958908081], [1.1953961849212646], [1.1991503238677979], [1.2028748989105225]]\n"
     ]
    }
   ],
   "source": [
    "# Print predictions for the next 60 days\n",
    "print(prediction_next60_days)\n",
    "\n",
    "# Get the last date from the current index\n",
    "last_date = df.index.max()\n",
    "\n",
    "# Create a list of indices starting from the next date for 60 days\n",
    "future_dates = pd.date_range(start=last_date + pd.DateOffset(days=1), periods=60, freq='D')\n",
    "\n",
    "# Convert predictions back to original scale\n",
    "prediction_next60_days = scaler.inverse_transform(prediction_next60_days).reshape(-1)\n",
    "y_pred = scaler.inverse_transform(y_pred)\n",
    "train_data = scaler.inverse_transform(train_data)\n",
    "test_data = scaler.inverse_transform(test_data)"
   ]
  },
  {
   "cell_type": "markdown",
   "id": "bfea920b-2912-4cbc-9530-8250a82aadef",
   "metadata": {},
   "source": [
    "## Visualization"
   ]
  },
  {
   "cell_type": "code",
   "execution_count": 13,
   "id": "9514ab45-9348-4679-9095-ccf7487c25b2",
   "metadata": {},
   "outputs": [
    {
     "data": {
      "image/png": "[encoded data removed]",
      "text/plain": [
       "<Figure size 1600x500 with 1 Axes>"
      ]
     },
     "metadata": {},
     "output_type": "display_data"
    }
   ],
   "source": [
    "# Plotting\n",
    "plt.figure(figsize=(16, 5))\n",
    "\n",
    "plt.plot(df.index[:train_size], train_data, label='Train')\n",
    "plt.plot(df.index[train_size:], test_data, label='Test')\n",
    "plt.plot(df.index[train_size:], y_pred, label='PredictTest')\n",
    "plt.plot(future_dates, prediction_next60_days, label='Next60days')\n",
    "\n",
    "plt.xlabel('Date')\n",
    "plt.ylabel('Close Value')\n",
    "plt.title(f\"AstraZeneca Closing Price Data from {df.index[0].strftime('%Y-%m-%d')} to {future_dates[-1].strftime('%Y-%m-%d')}\")\n",
    "plt.legend()\n",
    "plt.grid()\n",
    "plt.savefig('Image/LSTM_73_60days_AZN.png')\n",
    "plt.show()"
   ]
  },
  {
   "cell_type": "code",
   "execution_count": null,
   "id": "0aef3390-370a-48fb-82ab-55896b9015fe",
   "metadata": {},
   "outputs": [],
   "source": []
  }
 ],
 "metadata": {
  "kernelspec": {
   "display_name": "Python 3 (ipykernel)",
   "language": "python",
   "name": "python3"
  },
  "language_info": {
   "codemirror_mode": {
    "name": "ipython",
    "version": 3
   },
   "file_extension": ".py",
   "mimetype": "text/x-python",
   "name": "python",
   "nbconvert_exporter": "python",
   "pygments_lexer": "ipython3",
   "version": "3.11.5"
  }
 },
 "nbformat": 4,
 "nbformat_minor": 5
}
