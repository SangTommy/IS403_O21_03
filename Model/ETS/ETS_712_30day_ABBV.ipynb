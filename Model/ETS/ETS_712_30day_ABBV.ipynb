{
 "cells": [
  {
   "cell_type": "markdown",
   "id": "7845e50e-b327-4874-abde-aa5159334442",
   "metadata": {},
   "source": [
    "## Import Libraries"
   ]
  },
  {
   "cell_type": "code",
   "execution_count": 1,
   "id": "45c22fb5-f867-46bd-9c6d-f2d7926a952a",
   "metadata": {},
   "outputs": [],
   "source": [
    "# Library to support working with data\n",
    "import numpy as np\n",
    "import pandas as pd\n",
    "\n",
    "# Graphing support library\n",
    "import matplotlib.pyplot as plt\n",
    "\n",
    "# Data Normalization Support Library\n",
    "from sklearn.preprocessing import MinMaxScaler\n",
    "\n",
    "# Library to support building Simple Exponential Smoothing models\n",
    "from statsmodels.tsa.holtwinters import SimpleExpSmoothing\n",
    "\n",
    "# Performance metrics calculation support library\n",
    "from sklearn.metrics import mean_squared_error, mean_absolute_percentage_error, mean_squared_log_error"
   ]
  },
  {
   "cell_type": "markdown",
   "id": "4f9785ff-eb16-4b4c-be4a-750e1302e1e1",
   "metadata": {},
   "source": [
    "## Data preprocessing"
   ]
  },
  {
   "cell_type": "markdown",
   "id": "16228716-bb3b-4b39-a57e-ca20520b9dc7",
   "metadata": {},
   "source": [
    "### Read data"
   ]
  },
  {
   "cell_type": "code",
   "execution_count": 2,
   "id": "651cbb95-ad5f-4439-ae11-b661e151b117",
   "metadata": {},
   "outputs": [
    {
     "data": {
      "text/html": [
       "<div>\n",
       "<style scoped>\n",
       "    .dataframe tbody tr th:only-of-type {\n",
       "        vertical-align: middle;\n",
       "    }\n",
       "\n",
       "    .dataframe tbody tr th {\n",
       "        vertical-align: top;\n",
       "    }\n",
       "\n",
       "    .dataframe thead th {\n",
       "        text-align: right;\n",
       "    }\n",
       "</style>\n",
       "<table border=\"1\" class=\"dataframe\">\n",
       "  <thead>\n",
       "    <tr style=\"text-align: right;\">\n",
       "      <th></th>\n",
       "      <th>Date</th>\n",
       "      <th>Open</th>\n",
       "      <th>High</th>\n",
       "      <th>Low</th>\n",
       "      <th>Close</th>\n",
       "      <th>Adj Close</th>\n",
       "      <th>Volume</th>\n",
       "    </tr>\n",
       "  </thead>\n",
       "  <tbody>\n",
       "    <tr>\n",
       "      <th>0</th>\n",
       "      <td>2019-03-01</td>\n",
       "      <td>79.769997</td>\n",
       "      <td>80.849998</td>\n",
       "      <td>79.279999</td>\n",
       "      <td>80.099998</td>\n",
       "      <td>62.999912</td>\n",
       "      <td>8567900</td>\n",
       "    </tr>\n",
       "    <tr>\n",
       "      <th>1</th>\n",
       "      <td>2019-03-04</td>\n",
       "      <td>80.400002</td>\n",
       "      <td>80.730003</td>\n",
       "      <td>79.110001</td>\n",
       "      <td>79.459999</td>\n",
       "      <td>62.496529</td>\n",
       "      <td>5872500</td>\n",
       "    </tr>\n",
       "    <tr>\n",
       "      <th>2</th>\n",
       "      <td>2019-03-05</td>\n",
       "      <td>79.379997</td>\n",
       "      <td>79.900002</td>\n",
       "      <td>78.720001</td>\n",
       "      <td>78.910004</td>\n",
       "      <td>62.063969</td>\n",
       "      <td>5933100</td>\n",
       "    </tr>\n",
       "    <tr>\n",
       "      <th>3</th>\n",
       "      <td>2019-03-06</td>\n",
       "      <td>79.129997</td>\n",
       "      <td>79.129997</td>\n",
       "      <td>77.559998</td>\n",
       "      <td>78.089996</td>\n",
       "      <td>61.419025</td>\n",
       "      <td>5293200</td>\n",
       "    </tr>\n",
       "    <tr>\n",
       "      <th>4</th>\n",
       "      <td>2019-03-07</td>\n",
       "      <td>77.769997</td>\n",
       "      <td>79.120003</td>\n",
       "      <td>77.440002</td>\n",
       "      <td>78.239998</td>\n",
       "      <td>61.537003</td>\n",
       "      <td>6642500</td>\n",
       "    </tr>\n",
       "    <tr>\n",
       "      <th>...</th>\n",
       "      <td>...</td>\n",
       "      <td>...</td>\n",
       "      <td>...</td>\n",
       "      <td>...</td>\n",
       "      <td>...</td>\n",
       "      <td>...</td>\n",
       "      <td>...</td>\n",
       "    </tr>\n",
       "    <tr>\n",
       "      <th>1254</th>\n",
       "      <td>2024-02-23</td>\n",
       "      <td>177.259995</td>\n",
       "      <td>178.910004</td>\n",
       "      <td>177.009995</td>\n",
       "      <td>178.089996</td>\n",
       "      <td>176.442200</td>\n",
       "      <td>3941800</td>\n",
       "    </tr>\n",
       "    <tr>\n",
       "      <th>1255</th>\n",
       "      <td>2024-02-26</td>\n",
       "      <td>178.839996</td>\n",
       "      <td>179.789993</td>\n",
       "      <td>178.000000</td>\n",
       "      <td>178.809998</td>\n",
       "      <td>177.155533</td>\n",
       "      <td>4327400</td>\n",
       "    </tr>\n",
       "    <tr>\n",
       "      <th>1256</th>\n",
       "      <td>2024-02-27</td>\n",
       "      <td>178.770004</td>\n",
       "      <td>179.529999</td>\n",
       "      <td>176.979996</td>\n",
       "      <td>178.990005</td>\n",
       "      <td>177.333878</td>\n",
       "      <td>3888500</td>\n",
       "    </tr>\n",
       "    <tr>\n",
       "      <th>1257</th>\n",
       "      <td>2024-02-28</td>\n",
       "      <td>179.850006</td>\n",
       "      <td>179.889999</td>\n",
       "      <td>176.889999</td>\n",
       "      <td>178.000000</td>\n",
       "      <td>176.353043</td>\n",
       "      <td>4331300</td>\n",
       "    </tr>\n",
       "    <tr>\n",
       "      <th>1258</th>\n",
       "      <td>2024-02-29</td>\n",
       "      <td>177.869995</td>\n",
       "      <td>178.020004</td>\n",
       "      <td>175.389999</td>\n",
       "      <td>176.050003</td>\n",
       "      <td>174.421082</td>\n",
       "      <td>7485700</td>\n",
       "    </tr>\n",
       "  </tbody>\n",
       "</table>\n",
       "<p>1259 rows × 7 columns</p>\n",
       "</div>"
      ],
      "text/plain": [
       "            Date        Open        High         Low       Close   Adj Close  \\\n",
       "0     2019-03-01   79.769997   80.849998   79.279999   80.099998   62.999912   \n",
       "1     2019-03-04   80.400002   80.730003   79.110001   79.459999   62.496529   \n",
       "2     2019-03-05   79.379997   79.900002   78.720001   78.910004   62.063969   \n",
       "3     2019-03-06   79.129997   79.129997   77.559998   78.089996   61.419025   \n",
       "4     2019-03-07   77.769997   79.120003   77.440002   78.239998   61.537003   \n",
       "...          ...         ...         ...         ...         ...         ...   \n",
       "1254  2024-02-23  177.259995  178.910004  177.009995  178.089996  176.442200   \n",
       "1255  2024-02-26  178.839996  179.789993  178.000000  178.809998  177.155533   \n",
       "1256  2024-02-27  178.770004  179.529999  176.979996  178.990005  177.333878   \n",
       "1257  2024-02-28  179.850006  179.889999  176.889999  178.000000  176.353043   \n",
       "1258  2024-02-29  177.869995  178.020004  175.389999  176.050003  174.421082   \n",
       "\n",
       "       Volume  \n",
       "0     8567900  \n",
       "1     5872500  \n",
       "2     5933100  \n",
       "3     5293200  \n",
       "4     6642500  \n",
       "...       ...  \n",
       "1254  3941800  \n",
       "1255  4327400  \n",
       "1256  3888500  \n",
       "1257  4331300  \n",
       "1258  7485700  \n",
       "\n",
       "[1259 rows x 7 columns]"
      ]
     },
     "execution_count": 2,
     "metadata": {},
     "output_type": "execute_result"
    }
   ],
   "source": [
    "df = pd.read_csv('ABBV-AbbVie.csv')\n",
    "df"
   ]
  },
  {
   "cell_type": "markdown",
   "id": "60da47cb-35d2-4acd-9523-8d8fd3e62430",
   "metadata": {},
   "source": [
    "### Reset index"
   ]
  },
  {
   "cell_type": "code",
   "execution_count": 3,
   "id": "4f2a2d4b-8608-481e-9754-82b85813d034",
   "metadata": {},
   "outputs": [],
   "source": [
    "# Convert the 'Date' column to datetime format\n",
    "df['Date'] = pd.to_datetime(df['Date'])\n",
    "\n",
    "# Set the 'Date' column as the index value\n",
    "df.set_index('Date', inplace=True)"
   ]
  },
  {
   "cell_type": "code",
   "execution_count": 4,
   "id": "6f8a87f1-87ce-4e26-a68c-6289c24f6b36",
   "metadata": {},
   "outputs": [],
   "source": [
    "# Select column 'Close'\n",
    "df_Close = df[['Close']]"
   ]
  },
  {
   "cell_type": "markdown",
   "id": "4e54cf7d-829e-4b9e-8c74-43e2524a67bb",
   "metadata": {},
   "source": [
    "### Data normalization"
   ]
  },
  {
   "cell_type": "code",
   "execution_count": 5,
   "id": "fcbd7eb3-c3af-4997-a27b-0b3a5cb1fdd6",
   "metadata": {},
   "outputs": [],
   "source": [
    "# Min-max normalization\n",
    "scaler = MinMaxScaler(feature_range=(0, 1))\n",
    "data_scaled = scaler.fit_transform(np.array(df_Close))"
   ]
  },
  {
   "cell_type": "markdown",
   "id": "4e499327-fb7a-4410-92b0-ef4ed15cd2d6",
   "metadata": {},
   "source": [
    "### Data splitting"
   ]
  },
  {
   "cell_type": "code",
   "execution_count": 6,
   "id": "1db466a5-57d1-4170-b857-6d8212c1641a",
   "metadata": {},
   "outputs": [],
   "source": [
    "# Split the data into training, validation and test dataset in a ratio of 7:1:2\n",
    "train_size = int(0.7 * len(data_scaled))\n",
    "val_size = int(0.1 * len(data_scaled))\n",
    "test_size = len(data_scaled) - train_size - val_size\n",
    "\n",
    "train_data = data_scaled[: train_size]\n",
    "val_data = data_scaled[train_size : train_size + val_size]\n",
    "test_data = data_scaled[train_size + val_size :]"
   ]
  },
  {
   "cell_type": "markdown",
   "id": "af9f703b-fd55-465e-ad4b-8e9a5cc27699",
   "metadata": {},
   "source": [
    "## Model training and testing"
   ]
  },
  {
   "cell_type": "code",
   "execution_count": 7,
   "id": "5fbb2fef-7c7c-4119-9777-5bcf53347d43",
   "metadata": {},
   "outputs": [],
   "source": [
    "best_alpha = None\n",
    "best_mse = float('inf')\n",
    "best_rmse = None\n",
    "best_mape = None\n",
    "best_msle = None\n",
    "best_y_pred_val = None"
   ]
  },
  {
   "cell_type": "markdown",
   "id": "b9fb349a-2072-47b2-b78c-5d15cf14c0be",
   "metadata": {},
   "source": [
    "### Training process"
   ]
  },
  {
   "cell_type": "code",
   "execution_count": 8,
   "id": "e7cad92e-aeb8-40ea-a346-7f9a2d1d02c8",
   "metadata": {},
   "outputs": [],
   "source": [
    "for alpha in np.arange(0.1, 1, 0.1):\n",
    "    alpha = round(alpha, 1)\n",
    "    history = train_data.copy()  # Use a copy of the training data\n",
    "    y_pred_val = []\n",
    "\n",
    "    for i in val_data:\n",
    "        model = SimpleExpSmoothing(history)\n",
    "        model_fit = model.fit(smoothing_level=alpha, optimized=False)  # Suppress EstimationWarnings\n",
    "        prediction = model_fit.forecast()\n",
    "        y_pred_val.append(prediction[0])\n",
    "        history = np.append(history, i)\n",
    "\n",
    "    val_data_temp = val_data\n",
    "    val_data_temp = scaler.inverse_transform(val_data_temp)\n",
    "    y_pred_val = scaler.inverse_transform(np.array([y_pred_val]).reshape(-1, 1))\n",
    "\n",
    "    mape = mean_absolute_percentage_error(val_data_temp, y_pred_val)\n",
    "    mse = mean_squared_error(val_data_temp, y_pred_val)\n",
    "    rmse = np.sqrt(mse)\n",
    "    msle = mean_squared_log_error(val_data_temp, y_pred_val)\n",
    "\n",
    "    if mse < best_mse:\n",
    "        best_alpha = alpha\n",
    "        best_mse = mse\n",
    "        best_rmse = rmse\n",
    "        best_mape = mape\n",
    "        best_msle = msle\n",
    "        best_y_pred_val = y_pred_val"
   ]
  },
  {
   "cell_type": "code",
   "execution_count": 9,
   "id": "fc39a9d4-2e44-424f-800e-1174ebd0429e",
   "metadata": {},
   "outputs": [
    {
     "name": "stdout",
     "output_type": "stream",
     "text": [
      "Best alpha:  0.9\n"
     ]
    }
   ],
   "source": [
    "print(f\"Best alpha: \", best_alpha)"
   ]
  },
  {
   "cell_type": "code",
   "execution_count": 10,
   "id": "e75bdebe-160c-4b57-aaba-d6f219c513b3",
   "metadata": {},
   "outputs": [
    {
     "name": "stdout",
     "output_type": "stream",
     "text": [
      "MAPE on Validate dataset:  0.010766639949129438\n",
      "RMSE on Validate dataset:  2.1017422052509773\n",
      "MSLE on Validate dataset:  0.00020051029345584902\n"
     ]
    }
   ],
   "source": [
    "print(f\"MAPE on Validate dataset: \", best_mape)\n",
    "print(f\"RMSE on Validate dataset: \", best_rmse)\n",
    "print(f\"MSLE on Validate dataset: \", best_msle)"
   ]
  },
  {
   "cell_type": "markdown",
   "id": "3b363dc4-19fe-4f9f-9bbd-ed12fe700d15",
   "metadata": {},
   "source": [
    "### Testing process"
   ]
  },
  {
   "cell_type": "code",
   "execution_count": 11,
   "id": "a36bfc04-3881-49a1-9d3e-0ad015e31d40",
   "metadata": {},
   "outputs": [],
   "source": [
    "y_pred = []\n",
    "\n",
    "for i in test_data:\n",
    "    model = SimpleExpSmoothing(history)\n",
    "    model_fit = model.fit(smoothing_level=best_alpha, optimized=False)  # Suppress EstimationWarnings\n",
    "    prediction = model_fit.forecast()\n",
    "    y_pred.append(prediction[0])\n",
    "    history = np.append(history, i)\n"
   ]
  },
  {
   "cell_type": "code",
   "execution_count": 12,
   "id": "d74cdee1-576e-4c9b-a380-117c1cffdad2",
   "metadata": {},
   "outputs": [
    {
     "name": "stdout",
     "output_type": "stream",
     "text": [
      "MAPE on Test dataset:  0.00845101433123905\n",
      "RMSE on Test dataset:  1.8171412247906338\n",
      "MSLE on Test dataset:  0.00014522298150648728\n"
     ]
    }
   ],
   "source": [
    "# Evaluate the accuracy of test\n",
    "test_data = scaler.inverse_transform(test_data)\n",
    "y_pred = scaler.inverse_transform(np.array([y_pred]).reshape(-1, 1))\n",
    "\n",
    "test_mape = mean_absolute_percentage_error(test_data, y_pred)\n",
    "test_mse = mean_squared_error(test_data, y_pred)\n",
    "test_rmse = np.sqrt(test_mse)\n",
    "test_msle = mean_squared_log_error(test_data, y_pred)\n",
    "\n",
    "print(f\"MAPE on Test dataset: \", test_mape)\n",
    "print(f\"RMSE on Test dataset: \", test_rmse)\n",
    "print(f\"MSLE on Test dataset: \", test_msle)"
   ]
  },
  {
   "cell_type": "markdown",
   "id": "3be0cdca-55d9-4a20-8e4c-f2567fe68025",
   "metadata": {},
   "source": [
    "## Predicting the next 30 days"
   ]
  },
  {
   "cell_type": "markdown",
   "id": "d15995de-be8a-4614-8d5e-8f40237d11e3",
   "metadata": {},
   "source": [
    "### Preparing the forecast date index"
   ]
  },
  {
   "cell_type": "code",
   "execution_count": 13,
   "id": "b9a48ca4-31a3-4913-b485-eeddb9803f6e",
   "metadata": {},
   "outputs": [],
   "source": [
    "# Get the last date from the current index\n",
    "last_date = df.index[-1]\n",
    "\n",
    "# Add one day to the last date\n",
    "next_date = last_date + pd.DateOffset(days=1)\n",
    "\n",
    "# Create a list of indices starting from the next date for 30 days\n",
    "index_next_30_days = pd.date_range(start=next_date, periods=30).tolist()"
   ]
  },
  {
   "cell_type": "markdown",
   "id": "059ddd3f-a8d5-4dbb-84d5-cb11fa159965",
   "metadata": {},
   "source": [
    "### Prediction process"
   ]
  },
  {
   "cell_type": "code",
   "execution_count": 14,
   "id": "705a1654-403f-40a2-a491-7057d411ba52",
   "metadata": {},
   "outputs": [
    {
     "name": "stdout",
     "output_type": "stream",
     "text": [
      "Predicted closing prices for the next 30 days:\n",
      "[176.25463581 176.25463581 176.25463581 176.25463581 176.25463581\n",
      " 176.25463581 176.25463581 176.25463581 176.25463581 176.25463581\n",
      " 176.25463581 176.25463581 176.25463581 176.25463581 176.25463581\n",
      " 176.25463581 176.25463581 176.25463581 176.25463581 176.25463581\n",
      " 176.25463581 176.25463581 176.25463581 176.25463581 176.25463581\n",
      " 176.25463581 176.25463581 176.25463581 176.25463581 176.25463581]\n"
     ]
    }
   ],
   "source": [
    "# Predict the closing prices for the next 30 days\n",
    "y_next_30_days = []\n",
    "\n",
    "for i in range(30):\n",
    "  model = SimpleExpSmoothing(history)\n",
    "  model_fit = model.fit(smoothing_level = best_alpha, optimized=False)\n",
    "  prediction = model_fit.forecast()\n",
    "  y_next_30_days.append(prediction[0])\n",
    "  history = np.append(history, prediction[0])\n",
    "\n",
    "# Print the predicted closing prices for the next 30 days\n",
    "y_next_30_days = scaler.inverse_transform(np.array([y_next_30_days]).reshape(-1, 1))\n",
    "print('Predicted closing prices for the next 30 days:')\n",
    "print(y_next_30_days.flatten())"
   ]
  },
  {
   "cell_type": "code",
   "execution_count": 15,
   "id": "dd97a24d-1541-4efb-94ff-a520e48cfd0b",
   "metadata": {},
   "outputs": [
    {
     "data": {
      "image/png": "[encoded data removed]",
      "text/plain": [
       "<Figure size 1400x500 with 1 Axes>"
      ]
     },
     "metadata": {},
     "output_type": "display_data"
    }
   ],
   "source": [
    "# Drawing\n",
    "plt.figure(figsize=(14, 5))\n",
    "\n",
    "plt.plot(df.index[:train_size], scaler.inverse_transform(np.array([train_data]).reshape(-1, 1)).flatten())\n",
    "\n",
    "plt.plot(df.index[train_size : train_size + val_size], scaler.inverse_transform(np.array([val_data]).reshape(-1, 1)).flatten())\n",
    "\n",
    "plt.plot(df.index[train_size : train_size + val_size], best_y_pred_val)\n",
    "\n",
    "plt.plot(df.index[train_size + val_size :], test_data)\n",
    "\n",
    "plt.plot(df.index[train_size + val_size :], y_pred)\n",
    "\n",
    "plt.plot(index_next_30_days, y_next_30_days)\n",
    "\n",
    "plt.legend(['Train', 'Validate', 'PredictValidate', 'Test', 'PredictTest', 'Next30Day'])\n",
    "\n",
    "plt.grid()\n",
    "plt.title(f\"Catalent Closing Price Data from {df.index[0].strftime('%Y-%m-%d')} to {index_next_30_days[-1].strftime('%Y-%m-%d')}\")\n",
    "plt.xlabel(\"Date\")\n",
    "plt.ylabel(\"Close value\")\n",
    "plt.savefig('image/ETS_712_30day_ABBV.png')\n",
    "plt.show()"
   ]
  },
  {
   "cell_type": "code",
   "execution_count": null,
   "id": "71e243c0-02fa-47df-9317-0210d33e2731",
   "metadata": {},
   "outputs": [],
   "source": []
  }
 ],
 "metadata": {
  "kernelspec": {
   "display_name": "Python 3 (ipykernel)",
   "language": "python",
   "name": "python3"
  },
  "language_info": {
   "codemirror_mode": {
    "name": "ipython",
    "version": 3
   },
   "file_extension": ".py",
   "mimetype": "text/x-python",
   "name": "python",
   "nbconvert_exporter": "python",
   "pygments_lexer": "ipython3",
   "version": "3.11.5"
  }
 },
 "nbformat": 4,
 "nbformat_minor": 5
}
