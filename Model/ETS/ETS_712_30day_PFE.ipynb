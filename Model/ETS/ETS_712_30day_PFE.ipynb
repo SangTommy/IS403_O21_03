{
 "cells": [
  {
   "cell_type": "markdown",
   "id": "7845e50e-b327-4874-abde-aa5159334442",
   "metadata": {},
   "source": [
    "## Import Libraries"
   ]
  },
  {
   "cell_type": "code",
   "execution_count": 1,
   "id": "45c22fb5-f867-46bd-9c6d-f2d7926a952a",
   "metadata": {},
   "outputs": [],
   "source": [
    "# Library to support working with data\n",
    "import numpy as np\n",
    "import pandas as pd\n",
    "\n",
    "# Graphing support library\n",
    "import matplotlib.pyplot as plt\n",
    "\n",
    "# Data Normalization Support Library\n",
    "from sklearn.preprocessing import MinMaxScaler\n",
    "\n",
    "# Library to support building Simple Exponential Smoothing models\n",
    "from statsmodels.tsa.holtwinters import SimpleExpSmoothing\n",
    "\n",
    "# Performance metrics calculation support library\n",
    "from sklearn.metrics import mean_squared_error, mean_absolute_percentage_error, mean_squared_log_error"
   ]
  },
  {
   "cell_type": "markdown",
   "id": "4f9785ff-eb16-4b4c-be4a-750e1302e1e1",
   "metadata": {},
   "source": [
    "## Data preprocessing"
   ]
  },
  {
   "cell_type": "markdown",
   "id": "16228716-bb3b-4b39-a57e-ca20520b9dc7",
   "metadata": {},
   "source": [
    "### Read data"
   ]
  },
  {
   "cell_type": "code",
   "execution_count": 2,
   "id": "651cbb95-ad5f-4439-ae11-b661e151b117",
   "metadata": {},
   "outputs": [
    {
     "data": {
      "text/html": [
       "<div>\n",
       "<style scoped>\n",
       "    .dataframe tbody tr th:only-of-type {\n",
       "        vertical-align: middle;\n",
       "    }\n",
       "\n",
       "    .dataframe tbody tr th {\n",
       "        vertical-align: top;\n",
       "    }\n",
       "\n",
       "    .dataframe thead th {\n",
       "        text-align: right;\n",
       "    }\n",
       "</style>\n",
       "<table border=\"1\" class=\"dataframe\">\n",
       "  <thead>\n",
       "    <tr style=\"text-align: right;\">\n",
       "      <th></th>\n",
       "      <th>Date</th>\n",
       "      <th>Open</th>\n",
       "      <th>High</th>\n",
       "      <th>Low</th>\n",
       "      <th>Close</th>\n",
       "      <th>Adj Close</th>\n",
       "      <th>Volume</th>\n",
       "    </tr>\n",
       "  </thead>\n",
       "  <tbody>\n",
       "    <tr>\n",
       "      <th>0</th>\n",
       "      <td>2019-03-01</td>\n",
       "      <td>41.375713</td>\n",
       "      <td>41.546490</td>\n",
       "      <td>41.072105</td>\n",
       "      <td>41.138519</td>\n",
       "      <td>33.767422</td>\n",
       "      <td>26667781</td>\n",
       "    </tr>\n",
       "    <tr>\n",
       "      <th>1</th>\n",
       "      <td>2019-03-04</td>\n",
       "      <td>41.214420</td>\n",
       "      <td>41.356735</td>\n",
       "      <td>40.683113</td>\n",
       "      <td>40.863377</td>\n",
       "      <td>33.541576</td>\n",
       "      <td>22805820</td>\n",
       "    </tr>\n",
       "    <tr>\n",
       "      <th>2</th>\n",
       "      <td>2019-03-05</td>\n",
       "      <td>40.882355</td>\n",
       "      <td>41.034157</td>\n",
       "      <td>40.654648</td>\n",
       "      <td>40.692600</td>\n",
       "      <td>33.401398</td>\n",
       "      <td>26529812</td>\n",
       "    </tr>\n",
       "    <tr>\n",
       "      <th>3</th>\n",
       "      <td>2019-03-06</td>\n",
       "      <td>40.626186</td>\n",
       "      <td>40.673622</td>\n",
       "      <td>39.487667</td>\n",
       "      <td>39.715370</td>\n",
       "      <td>32.599270</td>\n",
       "      <td>22410359</td>\n",
       "    </tr>\n",
       "    <tr>\n",
       "      <th>4</th>\n",
       "      <td>2019-03-07</td>\n",
       "      <td>39.715370</td>\n",
       "      <td>39.743832</td>\n",
       "      <td>39.136623</td>\n",
       "      <td>39.269451</td>\n",
       "      <td>32.233242</td>\n",
       "      <td>29046132</td>\n",
       "    </tr>\n",
       "    <tr>\n",
       "      <th>...</th>\n",
       "      <td>...</td>\n",
       "      <td>...</td>\n",
       "      <td>...</td>\n",
       "      <td>...</td>\n",
       "      <td>...</td>\n",
       "      <td>...</td>\n",
       "      <td>...</td>\n",
       "    </tr>\n",
       "    <tr>\n",
       "      <th>1254</th>\n",
       "      <td>2024-02-23</td>\n",
       "      <td>27.750000</td>\n",
       "      <td>28.090000</td>\n",
       "      <td>27.690001</td>\n",
       "      <td>27.760000</td>\n",
       "      <td>27.760000</td>\n",
       "      <td>33182600</td>\n",
       "    </tr>\n",
       "    <tr>\n",
       "      <th>1255</th>\n",
       "      <td>2024-02-26</td>\n",
       "      <td>27.670000</td>\n",
       "      <td>27.670000</td>\n",
       "      <td>27.070000</td>\n",
       "      <td>27.180000</td>\n",
       "      <td>27.180000</td>\n",
       "      <td>45685500</td>\n",
       "    </tr>\n",
       "    <tr>\n",
       "      <th>1256</th>\n",
       "      <td>2024-02-27</td>\n",
       "      <td>27.120001</td>\n",
       "      <td>27.200001</td>\n",
       "      <td>26.809999</td>\n",
       "      <td>26.889999</td>\n",
       "      <td>26.889999</td>\n",
       "      <td>38598400</td>\n",
       "    </tr>\n",
       "    <tr>\n",
       "      <th>1257</th>\n",
       "      <td>2024-02-28</td>\n",
       "      <td>26.959999</td>\n",
       "      <td>27.240000</td>\n",
       "      <td>26.820000</td>\n",
       "      <td>27.040001</td>\n",
       "      <td>27.040001</td>\n",
       "      <td>31010200</td>\n",
       "    </tr>\n",
       "    <tr>\n",
       "      <th>1258</th>\n",
       "      <td>2024-02-29</td>\n",
       "      <td>27.070000</td>\n",
       "      <td>27.190001</td>\n",
       "      <td>26.549999</td>\n",
       "      <td>26.559999</td>\n",
       "      <td>26.559999</td>\n",
       "      <td>54643200</td>\n",
       "    </tr>\n",
       "  </tbody>\n",
       "</table>\n",
       "<p>1259 rows × 7 columns</p>\n",
       "</div>"
      ],
      "text/plain": [
       "            Date       Open       High        Low      Close  Adj Close  \\\n",
       "0     2019-03-01  41.375713  41.546490  41.072105  41.138519  33.767422   \n",
       "1     2019-03-04  41.214420  41.356735  40.683113  40.863377  33.541576   \n",
       "2     2019-03-05  40.882355  41.034157  40.654648  40.692600  33.401398   \n",
       "3     2019-03-06  40.626186  40.673622  39.487667  39.715370  32.599270   \n",
       "4     2019-03-07  39.715370  39.743832  39.136623  39.269451  32.233242   \n",
       "...          ...        ...        ...        ...        ...        ...   \n",
       "1254  2024-02-23  27.750000  28.090000  27.690001  27.760000  27.760000   \n",
       "1255  2024-02-26  27.670000  27.670000  27.070000  27.180000  27.180000   \n",
       "1256  2024-02-27  27.120001  27.200001  26.809999  26.889999  26.889999   \n",
       "1257  2024-02-28  26.959999  27.240000  26.820000  27.040001  27.040001   \n",
       "1258  2024-02-29  27.070000  27.190001  26.549999  26.559999  26.559999   \n",
       "\n",
       "        Volume  \n",
       "0     26667781  \n",
       "1     22805820  \n",
       "2     26529812  \n",
       "3     22410359  \n",
       "4     29046132  \n",
       "...        ...  \n",
       "1254  33182600  \n",
       "1255  45685500  \n",
       "1256  38598400  \n",
       "1257  31010200  \n",
       "1258  54643200  \n",
       "\n",
       "[1259 rows x 7 columns]"
      ]
     },
     "execution_count": 2,
     "metadata": {},
     "output_type": "execute_result"
    }
   ],
   "source": [
    "df = pd.read_csv('PFE-Pfizer.csv')\n",
    "df"
   ]
  },
  {
   "cell_type": "markdown",
   "id": "60da47cb-35d2-4acd-9523-8d8fd3e62430",
   "metadata": {},
   "source": [
    "### Reset index"
   ]
  },
  {
   "cell_type": "code",
   "execution_count": 3,
   "id": "4f2a2d4b-8608-481e-9754-82b85813d034",
   "metadata": {},
   "outputs": [],
   "source": [
    "# Convert the 'Date' column to datetime format\n",
    "df['Date'] = pd.to_datetime(df['Date'])\n",
    "\n",
    "# Set the 'Date' column as the index value\n",
    "df.set_index('Date', inplace=True)"
   ]
  },
  {
   "cell_type": "code",
   "execution_count": 4,
   "id": "6f8a87f1-87ce-4e26-a68c-6289c24f6b36",
   "metadata": {},
   "outputs": [],
   "source": [
    "# Select column 'Close'\n",
    "df_Close = df[['Close']]"
   ]
  },
  {
   "cell_type": "markdown",
   "id": "4e54cf7d-829e-4b9e-8c74-43e2524a67bb",
   "metadata": {},
   "source": [
    "### Data normalization"
   ]
  },
  {
   "cell_type": "code",
   "execution_count": 5,
   "id": "fcbd7eb3-c3af-4997-a27b-0b3a5cb1fdd6",
   "metadata": {},
   "outputs": [],
   "source": [
    "# Min-max normalization\n",
    "scaler = MinMaxScaler(feature_range=(0, 1))\n",
    "data_scaled = scaler.fit_transform(np.array(df_Close))"
   ]
  },
  {
   "cell_type": "markdown",
   "id": "4e499327-fb7a-4410-92b0-ef4ed15cd2d6",
   "metadata": {},
   "source": [
    "### Data splitting"
   ]
  },
  {
   "cell_type": "code",
   "execution_count": 6,
   "id": "1db466a5-57d1-4170-b857-6d8212c1641a",
   "metadata": {},
   "outputs": [],
   "source": [
    "# Split the data into training, validation and test dataset in a ratio of 7:1:2\n",
    "train_size = int(0.7 * len(data_scaled))\n",
    "val_size = int(0.1 * len(data_scaled))\n",
    "test_size = len(data_scaled) - train_size - val_size\n",
    "\n",
    "train_data = data_scaled[: train_size]\n",
    "val_data = data_scaled[train_size : train_size + val_size]\n",
    "test_data = data_scaled[train_size + val_size :]"
   ]
  },
  {
   "cell_type": "markdown",
   "id": "af9f703b-fd55-465e-ad4b-8e9a5cc27699",
   "metadata": {},
   "source": [
    "## Model training and testing"
   ]
  },
  {
   "cell_type": "code",
   "execution_count": 7,
   "id": "5fbb2fef-7c7c-4119-9777-5bcf53347d43",
   "metadata": {},
   "outputs": [],
   "source": [
    "best_alpha = None\n",
    "best_mse = float('inf')\n",
    "best_rmse = None\n",
    "best_mape = None\n",
    "best_msle = None\n",
    "best_y_pred_val = None"
   ]
  },
  {
   "cell_type": "markdown",
   "id": "b9fb349a-2072-47b2-b78c-5d15cf14c0be",
   "metadata": {},
   "source": [
    "### Training process"
   ]
  },
  {
   "cell_type": "code",
   "execution_count": 8,
   "id": "e7cad92e-aeb8-40ea-a346-7f9a2d1d02c8",
   "metadata": {},
   "outputs": [],
   "source": [
    "for alpha in np.arange(0.1, 1, 0.1):\n",
    "    alpha = round(alpha, 1)\n",
    "    history = train_data.copy()  # Use a copy of the training data\n",
    "    y_pred_val = []\n",
    "\n",
    "    for i in val_data:\n",
    "        model = SimpleExpSmoothing(history)\n",
    "        model_fit = model.fit(smoothing_level=alpha, optimized=False)  # Suppress EstimationWarnings\n",
    "        prediction = model_fit.forecast()\n",
    "        y_pred_val.append(prediction[0])\n",
    "        history = np.append(history, i)\n",
    "\n",
    "    val_data_temp = val_data\n",
    "    val_data_temp = scaler.inverse_transform(val_data_temp)\n",
    "    y_pred_val = scaler.inverse_transform(np.array([y_pred_val]).reshape(-1, 1))\n",
    "\n",
    "    mape = mean_absolute_percentage_error(val_data_temp, y_pred_val)\n",
    "    mse = mean_squared_error(val_data_temp, y_pred_val)\n",
    "    rmse = np.sqrt(mse)\n",
    "    msle = mean_squared_log_error(val_data_temp, y_pred_val)\n",
    "\n",
    "    if mse < best_mse:\n",
    "        best_alpha = alpha\n",
    "        best_mse = mse\n",
    "        best_rmse = rmse\n",
    "        best_mape = mape\n",
    "        best_msle = msle\n",
    "        best_y_pred_val = y_pred_val"
   ]
  },
  {
   "cell_type": "code",
   "execution_count": 9,
   "id": "fc39a9d4-2e44-424f-800e-1174ebd0429e",
   "metadata": {},
   "outputs": [
    {
     "name": "stdout",
     "output_type": "stream",
     "text": [
      "Best alpha:  0.9\n"
     ]
    }
   ],
   "source": [
    "print(f\"Best alpha: \", best_alpha)"
   ]
  },
  {
   "cell_type": "code",
   "execution_count": 10,
   "id": "e75bdebe-160c-4b57-aaba-d6f219c513b3",
   "metadata": {},
   "outputs": [
    {
     "name": "stdout",
     "output_type": "stream",
     "text": [
      "MAPE on Validate dataset:  0.011967490379440084\n",
      "RMSE on Validate dataset:  0.7379352977977132\n",
      "MSLE on Validate dataset:  0.00023298623372848274\n"
     ]
    }
   ],
   "source": [
    "print(f\"MAPE on Validate dataset: \", best_mape)\n",
    "print(f\"RMSE on Validate dataset: \", best_rmse)\n",
    "print(f\"MSLE on Validate dataset: \", best_msle)"
   ]
  },
  {
   "cell_type": "markdown",
   "id": "3b363dc4-19fe-4f9f-9bbd-ed12fe700d15",
   "metadata": {},
   "source": [
    "### Testing process"
   ]
  },
  {
   "cell_type": "code",
   "execution_count": 11,
   "id": "a36bfc04-3881-49a1-9d3e-0ad015e31d40",
   "metadata": {},
   "outputs": [],
   "source": [
    "y_pred = []\n",
    "\n",
    "for i in test_data:\n",
    "    model = SimpleExpSmoothing(history)\n",
    "    model_fit = model.fit(smoothing_level=best_alpha, optimized=False)  # Suppress EstimationWarnings\n",
    "    prediction = model_fit.forecast()\n",
    "    y_pred.append(prediction[0])\n",
    "    history = np.append(history, i)\n"
   ]
  },
  {
   "cell_type": "code",
   "execution_count": 12,
   "id": "d74cdee1-576e-4c9b-a380-117c1cffdad2",
   "metadata": {},
   "outputs": [
    {
     "name": "stdout",
     "output_type": "stream",
     "text": [
      "MAPE on Test dataset:  0.010839726201531175\n",
      "RMSE on Test dataset:  0.49039955296006144\n",
      "MSLE on Test dataset:  0.0002058835633479386\n"
     ]
    }
   ],
   "source": [
    "# Evaluate the accuracy of test\n",
    "test_data = scaler.inverse_transform(test_data)\n",
    "y_pred = scaler.inverse_transform(np.array([y_pred]).reshape(-1, 1))\n",
    "\n",
    "test_mape = mean_absolute_percentage_error(test_data, y_pred)\n",
    "test_mse = mean_squared_error(test_data, y_pred)\n",
    "test_rmse = np.sqrt(test_mse)\n",
    "test_msle = mean_squared_log_error(test_data, y_pred)\n",
    "\n",
    "print(f\"MAPE on Test dataset: \", test_mape)\n",
    "print(f\"RMSE on Test dataset: \", test_rmse)\n",
    "print(f\"MSLE on Test dataset: \", test_msle)"
   ]
  },
  {
   "cell_type": "markdown",
   "id": "3be0cdca-55d9-4a20-8e4c-f2567fe68025",
   "metadata": {},
   "source": [
    "## Predicting the next 30 days"
   ]
  },
  {
   "cell_type": "markdown",
   "id": "d15995de-be8a-4614-8d5e-8f40237d11e3",
   "metadata": {},
   "source": [
    "### Preparing the forecast date index"
   ]
  },
  {
   "cell_type": "code",
   "execution_count": 13,
   "id": "b9a48ca4-31a3-4913-b485-eeddb9803f6e",
   "metadata": {},
   "outputs": [],
   "source": [
    "# Get the last date from the current index\n",
    "last_date = df.index[-1]\n",
    "\n",
    "# Add one day to the last date\n",
    "next_date = last_date + pd.DateOffset(days=1)\n",
    "\n",
    "# Create a list of indices starting from the next date for 30 days\n",
    "index_next_30_days = pd.date_range(start=next_date, periods=30).tolist()"
   ]
  },
  {
   "cell_type": "markdown",
   "id": "059ddd3f-a8d5-4dbb-84d5-cb11fa159965",
   "metadata": {},
   "source": [
    "### Prediction process"
   ]
  },
  {
   "cell_type": "code",
   "execution_count": 14,
   "id": "705a1654-403f-40a2-a491-7057d411ba52",
   "metadata": {},
   "outputs": [
    {
     "name": "stdout",
     "output_type": "stream",
     "text": [
      "Predicted closing prices for the next 30 days:\n",
      "[26.60684519 26.60684519 26.60684519 26.60684519 26.60684519 26.60684519\n",
      " 26.60684519 26.60684519 26.60684519 26.60684519 26.60684519 26.60684519\n",
      " 26.60684519 26.60684519 26.60684519 26.60684519 26.60684519 26.60684519\n",
      " 26.60684519 26.60684519 26.60684519 26.60684519 26.60684519 26.60684519\n",
      " 26.60684519 26.60684519 26.60684519 26.60684519 26.60684519 26.60684519]\n"
     ]
    }
   ],
   "source": [
    "# Predict the closing prices for the next 30 days\n",
    "y_next_30_days = []\n",
    "\n",
    "for i in range(30):\n",
    "  model = SimpleExpSmoothing(history)\n",
    "  model_fit = model.fit(smoothing_level = best_alpha, optimized=False)\n",
    "  prediction = model_fit.forecast()\n",
    "  y_next_30_days.append(prediction[0])\n",
    "  history = np.append(history, prediction[0])\n",
    "\n",
    "# Print the predicted closing prices for the next 30 days\n",
    "y_next_30_days = scaler.inverse_transform(np.array([y_next_30_days]).reshape(-1, 1))\n",
    "print('Predicted closing prices for the next 30 days:')\n",
    "print(y_next_30_days.flatten())"
   ]
  },
  {
   "cell_type": "code",
   "execution_count": 15,
   "id": "dd97a24d-1541-4efb-94ff-a520e48cfd0b",
   "metadata": {},
   "outputs": [
    {
     "data": {
      "image/png": "[encoded data removed]",
      "text/plain": [
       "<Figure size 1400x500 with 1 Axes>"
      ]
     },
     "metadata": {},
     "output_type": "display_data"
    }
   ],
   "source": [
    "# Drawing\n",
    "plt.figure(figsize=(14, 5))\n",
    "\n",
    "plt.plot(df.index[:train_size], scaler.inverse_transform(np.array([train_data]).reshape(-1, 1)).flatten())\n",
    "\n",
    "plt.plot(df.index[train_size : train_size + val_size], scaler.inverse_transform(np.array([val_data]).reshape(-1, 1)).flatten())\n",
    "\n",
    "plt.plot(df.index[train_size : train_size + val_size], best_y_pred_val)\n",
    "\n",
    "plt.plot(df.index[train_size + val_size :], test_data)\n",
    "\n",
    "plt.plot(df.index[train_size + val_size :], y_pred)\n",
    "\n",
    "plt.plot(index_next_30_days, y_next_30_days)\n",
    "\n",
    "plt.legend(['Train', 'Validate', 'PredictValidate', 'Test', 'PredictTest', 'Next30Day'])\n",
    "\n",
    "plt.grid()\n",
    "plt.title(f\"Catalent Closing Price Data from {df.index[0].strftime('%Y-%m-%d')} to {index_next_30_days[-1].strftime('%Y-%m-%d')}\")\n",
    "plt.xlabel(\"Date\")\n",
    "plt.ylabel(\"Close value\")\n",
    "plt.savefig('image/ETS_712_30day_PFE.png')\n",
    "plt.show()"
   ]
  },
  {
   "cell_type": "code",
   "execution_count": null,
   "id": "71e243c0-02fa-47df-9317-0210d33e2731",
   "metadata": {},
   "outputs": [],
   "source": []
  }
 ],
 "metadata": {
  "kernelspec": {
   "display_name": "Python 3 (ipykernel)",
   "language": "python",
   "name": "python3"
  },
  "language_info": {
   "codemirror_mode": {
    "name": "ipython",
    "version": 3
   },
   "file_extension": ".py",
   "mimetype": "text/x-python",
   "name": "python",
   "nbconvert_exporter": "python",
   "pygments_lexer": "ipython3",
   "version": "3.11.5"
  }
 },
 "nbformat": 4,
 "nbformat_minor": 5
}
